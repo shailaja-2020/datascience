{
  "nbformat": 4,
  "nbformat_minor": 0,
  "metadata": {
    "kernelspec": {
      "display_name": "Python 3",
      "language": "python",
      "name": "python3"
    },
    "language_info": {
      "codemirror_mode": {
        "name": "ipython",
        "version": 3
      },
      "file_extension": ".py",
      "mimetype": "text/x-python",
      "name": "python",
      "nbconvert_exporter": "python",
      "pygments_lexer": "ipython3",
      "version": "3.8.5"
    },
    "colab": {
      "name": "cnn -gas turbine Back Propagation.ipynb",
      "provenance": [],
      "collapsed_sections": []
    }
  },
  "cells": [
    {
      "cell_type": "code",
      "metadata": {
        "id": "80FFfpXijHEn"
      },
      "source": [
        "# Create your first MLP in Keras\n",
        "from keras.models import Sequential\n",
        "from keras.layers import Dense\n",
        "from keras.optimizers import Adam\n",
        "\n"
      ],
      "execution_count": null,
      "outputs": []
    },
    {
      "cell_type": "code",
      "metadata": {
        "id": "y2C4BlF_jHEn"
      },
      "source": [
        "import numpy as np"
      ],
      "execution_count": null,
      "outputs": []
    },
    {
      "cell_type": "code",
      "metadata": {
        "colab": {
          "resources": {
            "http://localhost:8080/nbextensions/google.colab/files.js": {
              "data": "Ly8gQ29weXJpZ2h0IDIwMTcgR29vZ2xlIExMQwovLwovLyBMaWNlbnNlZCB1bmRlciB0aGUgQXBhY2hlIExpY2Vuc2UsIFZlcnNpb24gMi4wICh0aGUgIkxpY2Vuc2UiKTsKLy8geW91IG1heSBub3QgdXNlIHRoaXMgZmlsZSBleGNlcHQgaW4gY29tcGxpYW5jZSB3aXRoIHRoZSBMaWNlbnNlLgovLyBZb3UgbWF5IG9idGFpbiBhIGNvcHkgb2YgdGhlIExpY2Vuc2UgYXQKLy8KLy8gICAgICBodHRwOi8vd3d3LmFwYWNoZS5vcmcvbGljZW5zZXMvTElDRU5TRS0yLjAKLy8KLy8gVW5sZXNzIHJlcXVpcmVkIGJ5IGFwcGxpY2FibGUgbGF3IG9yIGFncmVlZCB0byBpbiB3cml0aW5nLCBzb2Z0d2FyZQovLyBkaXN0cmlidXRlZCB1bmRlciB0aGUgTGljZW5zZSBpcyBkaXN0cmlidXRlZCBvbiBhbiAiQVMgSVMiIEJBU0lTLAovLyBXSVRIT1VUIFdBUlJBTlRJRVMgT1IgQ09ORElUSU9OUyBPRiBBTlkgS0lORCwgZWl0aGVyIGV4cHJlc3Mgb3IgaW1wbGllZC4KLy8gU2VlIHRoZSBMaWNlbnNlIGZvciB0aGUgc3BlY2lmaWMgbGFuZ3VhZ2UgZ292ZXJuaW5nIHBlcm1pc3Npb25zIGFuZAovLyBsaW1pdGF0aW9ucyB1bmRlciB0aGUgTGljZW5zZS4KCi8qKgogKiBAZmlsZW92ZXJ2aWV3IEhlbHBlcnMgZm9yIGdvb2dsZS5jb2xhYiBQeXRob24gbW9kdWxlLgogKi8KKGZ1bmN0aW9uKHNjb3BlKSB7CmZ1bmN0aW9uIHNwYW4odGV4dCwgc3R5bGVBdHRyaWJ1dGVzID0ge30pIHsKICBjb25zdCBlbGVtZW50ID0gZG9jdW1lbnQuY3JlYXRlRWxlbWVudCgnc3BhbicpOwogIGVsZW1lbnQudGV4dENvbnRlbnQgPSB0ZXh0OwogIGZvciAoY29uc3Qga2V5IG9mIE9iamVjdC5rZXlzKHN0eWxlQXR0cmlidXRlcykpIHsKICAgIGVsZW1lbnQuc3R5bGVba2V5XSA9IHN0eWxlQXR0cmlidXRlc1trZXldOwogIH0KICByZXR1cm4gZWxlbWVudDsKfQoKLy8gTWF4IG51bWJlciBvZiBieXRlcyB3aGljaCB3aWxsIGJlIHVwbG9hZGVkIGF0IGEgdGltZS4KY29uc3QgTUFYX1BBWUxPQURfU0laRSA9IDEwMCAqIDEwMjQ7CgpmdW5jdGlvbiBfdXBsb2FkRmlsZXMoaW5wdXRJZCwgb3V0cHV0SWQpIHsKICBjb25zdCBzdGVwcyA9IHVwbG9hZEZpbGVzU3RlcChpbnB1dElkLCBvdXRwdXRJZCk7CiAgY29uc3Qgb3V0cHV0RWxlbWVudCA9IGRvY3VtZW50LmdldEVsZW1lbnRCeUlkKG91dHB1dElkKTsKICAvLyBDYWNoZSBzdGVwcyBvbiB0aGUgb3V0cHV0RWxlbWVudCB0byBtYWtlIGl0IGF2YWlsYWJsZSBmb3IgdGhlIG5leHQgY2FsbAogIC8vIHRvIHVwbG9hZEZpbGVzQ29udGludWUgZnJvbSBQeXRob24uCiAgb3V0cHV0RWxlbWVudC5zdGVwcyA9IHN0ZXBzOwoKICByZXR1cm4gX3VwbG9hZEZpbGVzQ29udGludWUob3V0cHV0SWQpOwp9CgovLyBUaGlzIGlzIHJvdWdobHkgYW4gYXN5bmMgZ2VuZXJhdG9yIChub3Qgc3VwcG9ydGVkIGluIHRoZSBicm93c2VyIHlldCksCi8vIHdoZXJlIHRoZXJlIGFyZSBtdWx0aXBsZSBhc3luY2hyb25vdXMgc3RlcHMgYW5kIHRoZSBQeXRob24gc2lkZSBpcyBnb2luZwovLyB0byBwb2xsIGZvciBjb21wbGV0aW9uIG9mIGVhY2ggc3RlcC4KLy8gVGhpcyB1c2VzIGEgUHJvbWlzZSB0byBibG9jayB0aGUgcHl0aG9uIHNpZGUgb24gY29tcGxldGlvbiBvZiBlYWNoIHN0ZXAsCi8vIHRoZW4gcGFzc2VzIHRoZSByZXN1bHQgb2YgdGhlIHByZXZpb3VzIHN0ZXAgYXMgdGhlIGlucHV0IHRvIHRoZSBuZXh0IHN0ZXAuCmZ1bmN0aW9uIF91cGxvYWRGaWxlc0NvbnRpbnVlKG91dHB1dElkKSB7CiAgY29uc3Qgb3V0cHV0RWxlbWVudCA9IGRvY3VtZW50LmdldEVsZW1lbnRCeUlkKG91dHB1dElkKTsKICBjb25zdCBzdGVwcyA9IG91dHB1dEVsZW1lbnQuc3RlcHM7CgogIGNvbnN0IG5leHQgPSBzdGVwcy5uZXh0KG91dHB1dEVsZW1lbnQubGFzdFByb21pc2VWYWx1ZSk7CiAgcmV0dXJuIFByb21pc2UucmVzb2x2ZShuZXh0LnZhbHVlLnByb21pc2UpLnRoZW4oKHZhbHVlKSA9PiB7CiAgICAvLyBDYWNoZSB0aGUgbGFzdCBwcm9taXNlIHZhbHVlIHRvIG1ha2UgaXQgYXZhaWxhYmxlIHRvIHRoZSBuZXh0CiAgICAvLyBzdGVwIG9mIHRoZSBnZW5lcmF0b3IuCiAgICBvdXRwdXRFbGVtZW50Lmxhc3RQcm9taXNlVmFsdWUgPSB2YWx1ZTsKICAgIHJldHVybiBuZXh0LnZhbHVlLnJlc3BvbnNlOwogIH0pOwp9CgovKioKICogR2VuZXJhdG9yIGZ1bmN0aW9uIHdoaWNoIGlzIGNhbGxlZCBiZXR3ZWVuIGVhY2ggYXN5bmMgc3RlcCBvZiB0aGUgdXBsb2FkCiAqIHByb2Nlc3MuCiAqIEBwYXJhbSB7c3RyaW5nfSBpbnB1dElkIEVsZW1lbnQgSUQgb2YgdGhlIGlucHV0IGZpbGUgcGlja2VyIGVsZW1lbnQuCiAqIEBwYXJhbSB7c3RyaW5nfSBvdXRwdXRJZCBFbGVtZW50IElEIG9mIHRoZSBvdXRwdXQgZGlzcGxheS4KICogQHJldHVybiB7IUl0ZXJhYmxlPCFPYmplY3Q+fSBJdGVyYWJsZSBvZiBuZXh0IHN0ZXBzLgogKi8KZnVuY3Rpb24qIHVwbG9hZEZpbGVzU3RlcChpbnB1dElkLCBvdXRwdXRJZCkgewogIGNvbnN0IGlucHV0RWxlbWVudCA9IGRvY3VtZW50LmdldEVsZW1lbnRCeUlkKGlucHV0SWQpOwogIGlucHV0RWxlbWVudC5kaXNhYmxlZCA9IGZhbHNlOwoKICBjb25zdCBvdXRwdXRFbGVtZW50ID0gZG9jdW1lbnQuZ2V0RWxlbWVudEJ5SWQob3V0cHV0SWQpOwogIG91dHB1dEVsZW1lbnQuaW5uZXJIVE1MID0gJyc7CgogIGNvbnN0IHBpY2tlZFByb21pc2UgPSBuZXcgUHJvbWlzZSgocmVzb2x2ZSkgPT4gewogICAgaW5wdXRFbGVtZW50LmFkZEV2ZW50TGlzdGVuZXIoJ2NoYW5nZScsIChlKSA9PiB7CiAgICAgIHJlc29sdmUoZS50YXJnZXQuZmlsZXMpOwogICAgfSk7CiAgfSk7CgogIGNvbnN0IGNhbmNlbCA9IGRvY3VtZW50LmNyZWF0ZUVsZW1lbnQoJ2J1dHRvbicpOwogIGlucHV0RWxlbWVudC5wYXJlbnRFbGVtZW50LmFwcGVuZENoaWxkKGNhbmNlbCk7CiAgY2FuY2VsLnRleHRDb250ZW50ID0gJ0NhbmNlbCB1cGxvYWQnOwogIGNvbnN0IGNhbmNlbFByb21pc2UgPSBuZXcgUHJvbWlzZSgocmVzb2x2ZSkgPT4gewogICAgY2FuY2VsLm9uY2xpY2sgPSAoKSA9PiB7CiAgICAgIHJlc29sdmUobnVsbCk7CiAgICB9OwogIH0pOwoKICAvLyBXYWl0IGZvciB0aGUgdXNlciB0byBwaWNrIHRoZSBmaWxlcy4KICBjb25zdCBmaWxlcyA9IHlpZWxkIHsKICAgIHByb21pc2U6IFByb21pc2UucmFjZShbcGlja2VkUHJvbWlzZSwgY2FuY2VsUHJvbWlzZV0pLAogICAgcmVzcG9uc2U6IHsKICAgICAgYWN0aW9uOiAnc3RhcnRpbmcnLAogICAgfQogIH07CgogIGNhbmNlbC5yZW1vdmUoKTsKCiAgLy8gRGlzYWJsZSB0aGUgaW5wdXQgZWxlbWVudCBzaW5jZSBmdXJ0aGVyIHBpY2tzIGFyZSBub3QgYWxsb3dlZC4KICBpbnB1dEVsZW1lbnQuZGlzYWJsZWQgPSB0cnVlOwoKICBpZiAoIWZpbGVzKSB7CiAgICByZXR1cm4gewogICAgICByZXNwb25zZTogewogICAgICAgIGFjdGlvbjogJ2NvbXBsZXRlJywKICAgICAgfQogICAgfTsKICB9CgogIGZvciAoY29uc3QgZmlsZSBvZiBmaWxlcykgewogICAgY29uc3QgbGkgPSBkb2N1bWVudC5jcmVhdGVFbGVtZW50KCdsaScpOwogICAgbGkuYXBwZW5kKHNwYW4oZmlsZS5uYW1lLCB7Zm9udFdlaWdodDogJ2JvbGQnfSkpOwogICAgbGkuYXBwZW5kKHNwYW4oCiAgICAgICAgYCgke2ZpbGUudHlwZSB8fCAnbi9hJ30pIC0gJHtmaWxlLnNpemV9IGJ5dGVzLCBgICsKICAgICAgICBgbGFzdCBtb2RpZmllZDogJHsKICAgICAgICAgICAgZmlsZS5sYXN0TW9kaWZpZWREYXRlID8gZmlsZS5sYXN0TW9kaWZpZWREYXRlLnRvTG9jYWxlRGF0ZVN0cmluZygpIDoKICAgICAgICAgICAgICAgICAgICAgICAgICAgICAgICAgICAgJ24vYSd9IC0gYCkpOwogICAgY29uc3QgcGVyY2VudCA9IHNwYW4oJzAlIGRvbmUnKTsKICAgIGxpLmFwcGVuZENoaWxkKHBlcmNlbnQpOwoKICAgIG91dHB1dEVsZW1lbnQuYXBwZW5kQ2hpbGQobGkpOwoKICAgIGNvbnN0IGZpbGVEYXRhUHJvbWlzZSA9IG5ldyBQcm9taXNlKChyZXNvbHZlKSA9PiB7CiAgICAgIGNvbnN0IHJlYWRlciA9IG5ldyBGaWxlUmVhZGVyKCk7CiAgICAgIHJlYWRlci5vbmxvYWQgPSAoZSkgPT4gewogICAgICAgIHJlc29sdmUoZS50YXJnZXQucmVzdWx0KTsKICAgICAgfTsKICAgICAgcmVhZGVyLnJlYWRBc0FycmF5QnVmZmVyKGZpbGUpOwogICAgfSk7CiAgICAvLyBXYWl0IGZvciB0aGUgZGF0YSB0byBiZSByZWFkeS4KICAgIGxldCBmaWxlRGF0YSA9IHlpZWxkIHsKICAgICAgcHJvbWlzZTogZmlsZURhdGFQcm9taXNlLAogICAgICByZXNwb25zZTogewogICAgICAgIGFjdGlvbjogJ2NvbnRpbnVlJywKICAgICAgfQogICAgfTsKCiAgICAvLyBVc2UgYSBjaHVua2VkIHNlbmRpbmcgdG8gYXZvaWQgbWVzc2FnZSBzaXplIGxpbWl0cy4gU2VlIGIvNjIxMTU2NjAuCiAgICBsZXQgcG9zaXRpb24gPSAwOwogICAgd2hpbGUgKHBvc2l0aW9uIDwgZmlsZURhdGEuYnl0ZUxlbmd0aCkgewogICAgICBjb25zdCBsZW5ndGggPSBNYXRoLm1pbihmaWxlRGF0YS5ieXRlTGVuZ3RoIC0gcG9zaXRpb24sIE1BWF9QQVlMT0FEX1NJWkUpOwogICAgICBjb25zdCBjaHVuayA9IG5ldyBVaW50OEFycmF5KGZpbGVEYXRhLCBwb3NpdGlvbiwgbGVuZ3RoKTsKICAgICAgcG9zaXRpb24gKz0gbGVuZ3RoOwoKICAgICAgY29uc3QgYmFzZTY0ID0gYnRvYShTdHJpbmcuZnJvbUNoYXJDb2RlLmFwcGx5KG51bGwsIGNodW5rKSk7CiAgICAgIHlpZWxkIHsKICAgICAgICByZXNwb25zZTogewogICAgICAgICAgYWN0aW9uOiAnYXBwZW5kJywKICAgICAgICAgIGZpbGU6IGZpbGUubmFtZSwKICAgICAgICAgIGRhdGE6IGJhc2U2NCwKICAgICAgICB9LAogICAgICB9OwogICAgICBwZXJjZW50LnRleHRDb250ZW50ID0KICAgICAgICAgIGAke01hdGgucm91bmQoKHBvc2l0aW9uIC8gZmlsZURhdGEuYnl0ZUxlbmd0aCkgKiAxMDApfSUgZG9uZWA7CiAgICB9CiAgfQoKICAvLyBBbGwgZG9uZS4KICB5aWVsZCB7CiAgICByZXNwb25zZTogewogICAgICBhY3Rpb246ICdjb21wbGV0ZScsCiAgICB9CiAgfTsKfQoKc2NvcGUuZ29vZ2xlID0gc2NvcGUuZ29vZ2xlIHx8IHt9OwpzY29wZS5nb29nbGUuY29sYWIgPSBzY29wZS5nb29nbGUuY29sYWIgfHwge307CnNjb3BlLmdvb2dsZS5jb2xhYi5fZmlsZXMgPSB7CiAgX3VwbG9hZEZpbGVzLAogIF91cGxvYWRGaWxlc0NvbnRpbnVlLAp9Owp9KShzZWxmKTsK",
              "ok": true,
              "headers": [
                [
                  "content-type",
                  "application/javascript"
                ]
              ],
              "status": 200,
              "status_text": ""
            }
          },
          "base_uri": "https://localhost:8080/",
          "height": 73
        },
        "id": "sHxG2wugkKD3",
        "outputId": "10cc57d2-587b-476f-91a6-95690edf8f1b"
      },
      "source": [
        "from google.colab  import files\n",
        "uploaded = files.upload()"
      ],
      "execution_count": null,
      "outputs": [
        {
          "output_type": "display_data",
          "data": {
            "text/html": [
              "\n",
              "     <input type=\"file\" id=\"files-807b2541-8d43-4865-b4bb-a6c33a6f5061\" name=\"files[]\" multiple disabled\n",
              "        style=\"border:none\" />\n",
              "     <output id=\"result-807b2541-8d43-4865-b4bb-a6c33a6f5061\">\n",
              "      Upload widget is only available when the cell has been executed in the\n",
              "      current browser session. Please rerun this cell to enable.\n",
              "      </output>\n",
              "      <script src=\"/nbextensions/google.colab/files.js\"></script> "
            ],
            "text/plain": [
              "<IPython.core.display.HTML object>"
            ]
          },
          "metadata": {
            "tags": []
          }
        },
        {
          "output_type": "stream",
          "text": [
            "Saving gas_turbines.csv to gas_turbines (3).csv\n"
          ],
          "name": "stdout"
        }
      ]
    },
    {
      "cell_type": "code",
      "metadata": {
        "id": "dpCwUhP2jjXH"
      },
      "source": [
        "import pandas as pd\n",
        "import io\n",
        "  \n",
        "gas_turb = pd.read_csv(io.BytesIO(uploaded[\"gas_turbines.csv\"]))\n",
        "\n"
      ],
      "execution_count": null,
      "outputs": []
    },
    {
      "cell_type": "code",
      "metadata": {
        "colab": {
          "base_uri": "https://localhost:8080/",
          "height": 399
        },
        "id": "3De0PY41uPUN",
        "outputId": "b091d879-6a28-49fe-aaf0-9a8588b2cd3b"
      },
      "source": [
        "gas_turb"
      ],
      "execution_count": null,
      "outputs": [
        {
          "output_type": "execute_result",
          "data": {
            "text/html": [
              "<div>\n",
              "<style scoped>\n",
              "    .dataframe tbody tr th:only-of-type {\n",
              "        vertical-align: middle;\n",
              "    }\n",
              "\n",
              "    .dataframe tbody tr th {\n",
              "        vertical-align: top;\n",
              "    }\n",
              "\n",
              "    .dataframe thead th {\n",
              "        text-align: right;\n",
              "    }\n",
              "</style>\n",
              "<table border=\"1\" class=\"dataframe\">\n",
              "  <thead>\n",
              "    <tr style=\"text-align: right;\">\n",
              "      <th></th>\n",
              "      <th>AT</th>\n",
              "      <th>AP</th>\n",
              "      <th>AH</th>\n",
              "      <th>AFDP</th>\n",
              "      <th>GTEP</th>\n",
              "      <th>TIT</th>\n",
              "      <th>TAT</th>\n",
              "      <th>TEY</th>\n",
              "      <th>CDP</th>\n",
              "      <th>CO</th>\n",
              "      <th>NOX</th>\n",
              "    </tr>\n",
              "  </thead>\n",
              "  <tbody>\n",
              "    <tr>\n",
              "      <th>0</th>\n",
              "      <td>6.8594</td>\n",
              "      <td>1007.9</td>\n",
              "      <td>96.799</td>\n",
              "      <td>3.5000</td>\n",
              "      <td>19.663</td>\n",
              "      <td>1059.2</td>\n",
              "      <td>550.00</td>\n",
              "      <td>114.70</td>\n",
              "      <td>10.605</td>\n",
              "      <td>3.1547</td>\n",
              "      <td>82.722</td>\n",
              "    </tr>\n",
              "    <tr>\n",
              "      <th>1</th>\n",
              "      <td>6.7850</td>\n",
              "      <td>1008.4</td>\n",
              "      <td>97.118</td>\n",
              "      <td>3.4998</td>\n",
              "      <td>19.728</td>\n",
              "      <td>1059.3</td>\n",
              "      <td>550.00</td>\n",
              "      <td>114.72</td>\n",
              "      <td>10.598</td>\n",
              "      <td>3.2363</td>\n",
              "      <td>82.776</td>\n",
              "    </tr>\n",
              "    <tr>\n",
              "      <th>2</th>\n",
              "      <td>6.8977</td>\n",
              "      <td>1008.8</td>\n",
              "      <td>95.939</td>\n",
              "      <td>3.4824</td>\n",
              "      <td>19.779</td>\n",
              "      <td>1059.4</td>\n",
              "      <td>549.87</td>\n",
              "      <td>114.71</td>\n",
              "      <td>10.601</td>\n",
              "      <td>3.2012</td>\n",
              "      <td>82.468</td>\n",
              "    </tr>\n",
              "    <tr>\n",
              "      <th>3</th>\n",
              "      <td>7.0569</td>\n",
              "      <td>1009.2</td>\n",
              "      <td>95.249</td>\n",
              "      <td>3.4805</td>\n",
              "      <td>19.792</td>\n",
              "      <td>1059.6</td>\n",
              "      <td>549.99</td>\n",
              "      <td>114.72</td>\n",
              "      <td>10.606</td>\n",
              "      <td>3.1923</td>\n",
              "      <td>82.670</td>\n",
              "    </tr>\n",
              "    <tr>\n",
              "      <th>4</th>\n",
              "      <td>7.3978</td>\n",
              "      <td>1009.7</td>\n",
              "      <td>95.150</td>\n",
              "      <td>3.4976</td>\n",
              "      <td>19.765</td>\n",
              "      <td>1059.7</td>\n",
              "      <td>549.98</td>\n",
              "      <td>114.72</td>\n",
              "      <td>10.612</td>\n",
              "      <td>3.2484</td>\n",
              "      <td>82.311</td>\n",
              "    </tr>\n",
              "    <tr>\n",
              "      <th>...</th>\n",
              "      <td>...</td>\n",
              "      <td>...</td>\n",
              "      <td>...</td>\n",
              "      <td>...</td>\n",
              "      <td>...</td>\n",
              "      <td>...</td>\n",
              "      <td>...</td>\n",
              "      <td>...</td>\n",
              "      <td>...</td>\n",
              "      <td>...</td>\n",
              "      <td>...</td>\n",
              "    </tr>\n",
              "    <tr>\n",
              "      <th>15034</th>\n",
              "      <td>9.0301</td>\n",
              "      <td>1005.6</td>\n",
              "      <td>98.460</td>\n",
              "      <td>3.5421</td>\n",
              "      <td>19.164</td>\n",
              "      <td>1049.7</td>\n",
              "      <td>546.21</td>\n",
              "      <td>111.61</td>\n",
              "      <td>10.400</td>\n",
              "      <td>4.5186</td>\n",
              "      <td>79.559</td>\n",
              "    </tr>\n",
              "    <tr>\n",
              "      <th>15035</th>\n",
              "      <td>7.8879</td>\n",
              "      <td>1005.9</td>\n",
              "      <td>99.093</td>\n",
              "      <td>3.5059</td>\n",
              "      <td>19.414</td>\n",
              "      <td>1046.3</td>\n",
              "      <td>543.22</td>\n",
              "      <td>111.78</td>\n",
              "      <td>10.433</td>\n",
              "      <td>4.8470</td>\n",
              "      <td>79.917</td>\n",
              "    </tr>\n",
              "    <tr>\n",
              "      <th>15036</th>\n",
              "      <td>7.2647</td>\n",
              "      <td>1006.3</td>\n",
              "      <td>99.496</td>\n",
              "      <td>3.4770</td>\n",
              "      <td>19.530</td>\n",
              "      <td>1037.7</td>\n",
              "      <td>537.32</td>\n",
              "      <td>110.19</td>\n",
              "      <td>10.483</td>\n",
              "      <td>7.9632</td>\n",
              "      <td>90.912</td>\n",
              "    </tr>\n",
              "    <tr>\n",
              "      <th>15037</th>\n",
              "      <td>7.0060</td>\n",
              "      <td>1006.8</td>\n",
              "      <td>99.008</td>\n",
              "      <td>3.4486</td>\n",
              "      <td>19.377</td>\n",
              "      <td>1043.2</td>\n",
              "      <td>541.24</td>\n",
              "      <td>110.74</td>\n",
              "      <td>10.533</td>\n",
              "      <td>6.2494</td>\n",
              "      <td>93.227</td>\n",
              "    </tr>\n",
              "    <tr>\n",
              "      <th>15038</th>\n",
              "      <td>6.9279</td>\n",
              "      <td>1007.2</td>\n",
              "      <td>97.533</td>\n",
              "      <td>3.4275</td>\n",
              "      <td>19.306</td>\n",
              "      <td>1049.9</td>\n",
              "      <td>545.85</td>\n",
              "      <td>111.58</td>\n",
              "      <td>10.583</td>\n",
              "      <td>4.9816</td>\n",
              "      <td>92.498</td>\n",
              "    </tr>\n",
              "  </tbody>\n",
              "</table>\n",
              "<p>15039 rows × 11 columns</p>\n",
              "</div>"
            ],
            "text/plain": [
              "           AT      AP      AH    AFDP  ...     TEY     CDP      CO     NOX\n",
              "0      6.8594  1007.9  96.799  3.5000  ...  114.70  10.605  3.1547  82.722\n",
              "1      6.7850  1008.4  97.118  3.4998  ...  114.72  10.598  3.2363  82.776\n",
              "2      6.8977  1008.8  95.939  3.4824  ...  114.71  10.601  3.2012  82.468\n",
              "3      7.0569  1009.2  95.249  3.4805  ...  114.72  10.606  3.1923  82.670\n",
              "4      7.3978  1009.7  95.150  3.4976  ...  114.72  10.612  3.2484  82.311\n",
              "...       ...     ...     ...     ...  ...     ...     ...     ...     ...\n",
              "15034  9.0301  1005.6  98.460  3.5421  ...  111.61  10.400  4.5186  79.559\n",
              "15035  7.8879  1005.9  99.093  3.5059  ...  111.78  10.433  4.8470  79.917\n",
              "15036  7.2647  1006.3  99.496  3.4770  ...  110.19  10.483  7.9632  90.912\n",
              "15037  7.0060  1006.8  99.008  3.4486  ...  110.74  10.533  6.2494  93.227\n",
              "15038  6.9279  1007.2  97.533  3.4275  ...  111.58  10.583  4.9816  92.498\n",
              "\n",
              "[15039 rows x 11 columns]"
            ]
          },
          "metadata": {
            "tags": []
          },
          "execution_count": 110
        }
      ]
    },
    {
      "cell_type": "code",
      "metadata": {
        "colab": {
          "base_uri": "https://localhost:8080/",
          "height": 610
        },
        "id": "6F7EFlz8q_wB",
        "outputId": "43c0b5a0-db17-40eb-d791-84e45b1dbb76"
      },
      "source": [
        "import seaborn as sns\n",
        "plt.rcParams['figure.figsize']=(10,10)\n",
        "sns.boxplot(data=gas_turb)"
      ],
      "execution_count": null,
      "outputs": [
        {
          "output_type": "execute_result",
          "data": {
            "text/plain": [
              "<matplotlib.axes._subplots.AxesSubplot at 0x7fa6961e2b90>"
            ]
          },
          "metadata": {
            "tags": []
          },
          "execution_count": 111
        },
        {
          "output_type": "display_data",
          "data": {
            "image/png": "[encoded data removed]",
            "text/plain": [
              "<Figure size 720x720 with 1 Axes>"
            ]
          },
          "metadata": {
            "tags": [],
            "needs_background": "light"
          }
        }
      ]
    },
    {
      "cell_type": "code",
      "metadata": {
        "colab": {
          "base_uri": "https://localhost:8080/",
          "height": 681
        },
        "id": "lJtntZlojOOP",
        "outputId": "c02e644d-89bc-481c-fe22-fd18c513ff22"
      },
      "source": [
        "import matplotlib.pyplot as plt\n",
        "\n",
        "plt.hist(gas_turb[\"TEY\"])"
      ],
      "execution_count": null,
      "outputs": [
        {
          "output_type": "execute_result",
          "data": {
            "text/plain": [
              "(array([ 247., 2671.,  474.,  528., 7145.,  462.,  989., 1215., 1160.,\n",
              "         148.]),\n",
              " array([100.17 , 107.614, 115.058, 122.502, 129.946, 137.39 , 144.834,\n",
              "        152.278, 159.722, 167.166, 174.61 ]),\n",
              " <a list of 10 Patch objects>)"
            ]
          },
          "metadata": {
            "tags": []
          },
          "execution_count": 113
        },
        {
          "output_type": "display_data",
          "data": {
            "image/png": "[encoded data removed]",
            "text/plain": [
              "<Figure size 720x720 with 1 Axes>"
            ]
          },
          "metadata": {
            "tags": [],
            "needs_background": "light"
          }
        }
      ]
    },
    {
      "cell_type": "code",
      "metadata": {
        "id": "NuQWQe0gkJzn"
      },
      "source": [
        "\n",
        "gas_turb[\"class\"]=np.where(gas_turb[\"TEY\"]<130, 0, 1)"
      ],
      "execution_count": null,
      "outputs": []
    },
    {
      "cell_type": "code",
      "metadata": {
        "colab": {
          "base_uri": "https://localhost:8080/",
          "height": 399
        },
        "id": "V9GQVzeSmpAE",
        "outputId": "a23fe5d7-1301-442c-ba01-b1f036c9418d"
      },
      "source": [
        "gas_turb"
      ],
      "execution_count": null,
      "outputs": [
        {
          "output_type": "execute_result",
          "data": {
            "text/html": [
              "<div>\n",
              "<style scoped>\n",
              "    .dataframe tbody tr th:only-of-type {\n",
              "        vertical-align: middle;\n",
              "    }\n",
              "\n",
              "    .dataframe tbody tr th {\n",
              "        vertical-align: top;\n",
              "    }\n",
              "\n",
              "    .dataframe thead th {\n",
              "        text-align: right;\n",
              "    }\n",
              "</style>\n",
              "<table border=\"1\" class=\"dataframe\">\n",
              "  <thead>\n",
              "    <tr style=\"text-align: right;\">\n",
              "      <th></th>\n",
              "      <th>AT</th>\n",
              "      <th>AP</th>\n",
              "      <th>AH</th>\n",
              "      <th>AFDP</th>\n",
              "      <th>GTEP</th>\n",
              "      <th>TIT</th>\n",
              "      <th>TAT</th>\n",
              "      <th>TEY</th>\n",
              "      <th>CDP</th>\n",
              "      <th>CO</th>\n",
              "      <th>NOX</th>\n",
              "      <th>class</th>\n",
              "    </tr>\n",
              "  </thead>\n",
              "  <tbody>\n",
              "    <tr>\n",
              "      <th>0</th>\n",
              "      <td>6.8594</td>\n",
              "      <td>1007.9</td>\n",
              "      <td>96.799</td>\n",
              "      <td>3.5000</td>\n",
              "      <td>19.663</td>\n",
              "      <td>1059.2</td>\n",
              "      <td>550.00</td>\n",
              "      <td>114.70</td>\n",
              "      <td>10.605</td>\n",
              "      <td>3.1547</td>\n",
              "      <td>82.722</td>\n",
              "      <td>0</td>\n",
              "    </tr>\n",
              "    <tr>\n",
              "      <th>1</th>\n",
              "      <td>6.7850</td>\n",
              "      <td>1008.4</td>\n",
              "      <td>97.118</td>\n",
              "      <td>3.4998</td>\n",
              "      <td>19.728</td>\n",
              "      <td>1059.3</td>\n",
              "      <td>550.00</td>\n",
              "      <td>114.72</td>\n",
              "      <td>10.598</td>\n",
              "      <td>3.2363</td>\n",
              "      <td>82.776</td>\n",
              "      <td>0</td>\n",
              "    </tr>\n",
              "    <tr>\n",
              "      <th>2</th>\n",
              "      <td>6.8977</td>\n",
              "      <td>1008.8</td>\n",
              "      <td>95.939</td>\n",
              "      <td>3.4824</td>\n",
              "      <td>19.779</td>\n",
              "      <td>1059.4</td>\n",
              "      <td>549.87</td>\n",
              "      <td>114.71</td>\n",
              "      <td>10.601</td>\n",
              "      <td>3.2012</td>\n",
              "      <td>82.468</td>\n",
              "      <td>0</td>\n",
              "    </tr>\n",
              "    <tr>\n",
              "      <th>3</th>\n",
              "      <td>7.0569</td>\n",
              "      <td>1009.2</td>\n",
              "      <td>95.249</td>\n",
              "      <td>3.4805</td>\n",
              "      <td>19.792</td>\n",
              "      <td>1059.6</td>\n",
              "      <td>549.99</td>\n",
              "      <td>114.72</td>\n",
              "      <td>10.606</td>\n",
              "      <td>3.1923</td>\n",
              "      <td>82.670</td>\n",
              "      <td>0</td>\n",
              "    </tr>\n",
              "    <tr>\n",
              "      <th>4</th>\n",
              "      <td>7.3978</td>\n",
              "      <td>1009.7</td>\n",
              "      <td>95.150</td>\n",
              "      <td>3.4976</td>\n",
              "      <td>19.765</td>\n",
              "      <td>1059.7</td>\n",
              "      <td>549.98</td>\n",
              "      <td>114.72</td>\n",
              "      <td>10.612</td>\n",
              "      <td>3.2484</td>\n",
              "      <td>82.311</td>\n",
              "      <td>0</td>\n",
              "    </tr>\n",
              "    <tr>\n",
              "      <th>...</th>\n",
              "      <td>...</td>\n",
              "      <td>...</td>\n",
              "      <td>...</td>\n",
              "      <td>...</td>\n",
              "      <td>...</td>\n",
              "      <td>...</td>\n",
              "      <td>...</td>\n",
              "      <td>...</td>\n",
              "      <td>...</td>\n",
              "      <td>...</td>\n",
              "      <td>...</td>\n",
              "      <td>...</td>\n",
              "    </tr>\n",
              "    <tr>\n",
              "      <th>15034</th>\n",
              "      <td>9.0301</td>\n",
              "      <td>1005.6</td>\n",
              "      <td>98.460</td>\n",
              "      <td>3.5421</td>\n",
              "      <td>19.164</td>\n",
              "      <td>1049.7</td>\n",
              "      <td>546.21</td>\n",
              "      <td>111.61</td>\n",
              "      <td>10.400</td>\n",
              "      <td>4.5186</td>\n",
              "      <td>79.559</td>\n",
              "      <td>0</td>\n",
              "    </tr>\n",
              "    <tr>\n",
              "      <th>15035</th>\n",
              "      <td>7.8879</td>\n",
              "      <td>1005.9</td>\n",
              "      <td>99.093</td>\n",
              "      <td>3.5059</td>\n",
              "      <td>19.414</td>\n",
              "      <td>1046.3</td>\n",
              "      <td>543.22</td>\n",
              "      <td>111.78</td>\n",
              "      <td>10.433</td>\n",
              "      <td>4.8470</td>\n",
              "      <td>79.917</td>\n",
              "      <td>0</td>\n",
              "    </tr>\n",
              "    <tr>\n",
              "      <th>15036</th>\n",
              "      <td>7.2647</td>\n",
              "      <td>1006.3</td>\n",
              "      <td>99.496</td>\n",
              "      <td>3.4770</td>\n",
              "      <td>19.530</td>\n",
              "      <td>1037.7</td>\n",
              "      <td>537.32</td>\n",
              "      <td>110.19</td>\n",
              "      <td>10.483</td>\n",
              "      <td>7.9632</td>\n",
              "      <td>90.912</td>\n",
              "      <td>0</td>\n",
              "    </tr>\n",
              "    <tr>\n",
              "      <th>15037</th>\n",
              "      <td>7.0060</td>\n",
              "      <td>1006.8</td>\n",
              "      <td>99.008</td>\n",
              "      <td>3.4486</td>\n",
              "      <td>19.377</td>\n",
              "      <td>1043.2</td>\n",
              "      <td>541.24</td>\n",
              "      <td>110.74</td>\n",
              "      <td>10.533</td>\n",
              "      <td>6.2494</td>\n",
              "      <td>93.227</td>\n",
              "      <td>0</td>\n",
              "    </tr>\n",
              "    <tr>\n",
              "      <th>15038</th>\n",
              "      <td>6.9279</td>\n",
              "      <td>1007.2</td>\n",
              "      <td>97.533</td>\n",
              "      <td>3.4275</td>\n",
              "      <td>19.306</td>\n",
              "      <td>1049.9</td>\n",
              "      <td>545.85</td>\n",
              "      <td>111.58</td>\n",
              "      <td>10.583</td>\n",
              "      <td>4.9816</td>\n",
              "      <td>92.498</td>\n",
              "      <td>0</td>\n",
              "    </tr>\n",
              "  </tbody>\n",
              "</table>\n",
              "<p>15039 rows × 12 columns</p>\n",
              "</div>"
            ],
            "text/plain": [
              "           AT      AP      AH    AFDP  ...     CDP      CO     NOX  class\n",
              "0      6.8594  1007.9  96.799  3.5000  ...  10.605  3.1547  82.722      0\n",
              "1      6.7850  1008.4  97.118  3.4998  ...  10.598  3.2363  82.776      0\n",
              "2      6.8977  1008.8  95.939  3.4824  ...  10.601  3.2012  82.468      0\n",
              "3      7.0569  1009.2  95.249  3.4805  ...  10.606  3.1923  82.670      0\n",
              "4      7.3978  1009.7  95.150  3.4976  ...  10.612  3.2484  82.311      0\n",
              "...       ...     ...     ...     ...  ...     ...     ...     ...    ...\n",
              "15034  9.0301  1005.6  98.460  3.5421  ...  10.400  4.5186  79.559      0\n",
              "15035  7.8879  1005.9  99.093  3.5059  ...  10.433  4.8470  79.917      0\n",
              "15036  7.2647  1006.3  99.496  3.4770  ...  10.483  7.9632  90.912      0\n",
              "15037  7.0060  1006.8  99.008  3.4486  ...  10.533  6.2494  93.227      0\n",
              "15038  6.9279  1007.2  97.533  3.4275  ...  10.583  4.9816  92.498      0\n",
              "\n",
              "[15039 rows x 12 columns]"
            ]
          },
          "metadata": {
            "tags": []
          },
          "execution_count": 115
        }
      ]
    },
    {
      "cell_type": "code",
      "metadata": {
        "id": "26rAkEfcLL5r"
      },
      "source": [
        "from numpy import asarray\n",
        "from sklearn.datasets import make_regression\n",
        "from keras.models import Sequential\n",
        "from keras.layers import Dense\n",
        "from sklearn import preprocessing\n",
        "\n",
        "\n",
        "# get the model\n",
        "def get_model(n_inputs, n_outputs):\n",
        "  model = Sequential()\n",
        "  model.add(Dense(20, input_dim=n_inputs, kernel_initializer='he_uniform', activation='relu'))\n",
        "  model.add(Dense(n_outputs, kernel_initializer='he_uniform'))\n",
        "  model.compile(loss='mae', optimizer='adam',metrics=['accuracy'])\n",
        "  return model\n",
        "\n",
        "# load dataset\n",
        "X =gas_turb.iloc[:,:7]\n",
        "y =gas_turb.iloc[:,11:]\n",
        "n_inputs, n_outputs = X.shape[1], y.shape[1]\n",
        "# get model\n",
        "model = get_model(7, 1)\n",
        "# fit the model on all data\n",
        "\n"
      ],
      "execution_count": null,
      "outputs": []
    },
    {
      "cell_type": "code",
      "metadata": {
        "colab": {
          "base_uri": "https://localhost:8080/"
        },
        "id": "K0_PL9Qf09rC",
        "outputId": "4acc92d7-eef0-44d1-ea68-15068951b9a0"
      },
      "source": [
        "\n",
        "trainhist=model.fit(X, y, validation_split=0.33,epochs=150, batch_size=10,verbose=1)"
      ],
      "execution_count": null,
      "outputs": [
        {
          "output_type": "stream",
          "text": [
            "Epoch 1/150\n",
            "1008/1008 [==============================] - 2s 2ms/step - loss: 130.6107 - accuracy: 0.4277 - val_loss: 10.3576 - val_accuracy: 0.4592\n",
            "Epoch 2/150\n",
            "1008/1008 [==============================] - 2s 2ms/step - loss: 9.9569 - accuracy: 0.4258 - val_loss: 10.2112 - val_accuracy: 0.5738\n",
            "Epoch 3/150\n",
            "1008/1008 [==============================] - 2s 2ms/step - loss: 6.7591 - accuracy: 0.4006 - val_loss: 4.5783 - val_accuracy: 0.3232\n",
            "Epoch 4/150\n",
            "1008/1008 [==============================] - 2s 2ms/step - loss: 4.8445 - accuracy: 0.3943 - val_loss: 3.0673 - val_accuracy: 0.3635\n",
            "Epoch 5/150\n",
            "1008/1008 [==============================] - 2s 2ms/step - loss: 3.0914 - accuracy: 0.3991 - val_loss: 1.7552 - val_accuracy: 0.4427\n",
            "Epoch 6/150\n",
            "1008/1008 [==============================] - 2s 2ms/step - loss: 2.0474 - accuracy: 0.4705 - val_loss: 0.7503 - val_accuracy: 0.4562\n",
            "Epoch 7/150\n",
            "1008/1008 [==============================] - 2s 2ms/step - loss: 1.2256 - accuracy: 0.5480 - val_loss: 0.6637 - val_accuracy: 0.5144\n",
            "Epoch 8/150\n",
            "1008/1008 [==============================] - 2s 2ms/step - loss: 1.0755 - accuracy: 0.6024 - val_loss: 0.3900 - val_accuracy: 0.7576\n",
            "Epoch 9/150\n",
            "1008/1008 [==============================] - 2s 2ms/step - loss: 1.1628 - accuracy: 0.6077 - val_loss: 0.3309 - val_accuracy: 0.7989\n",
            "Epoch 10/150\n",
            "1008/1008 [==============================] - 2s 2ms/step - loss: 1.0158 - accuracy: 0.6446 - val_loss: 2.4500 - val_accuracy: 0.6746\n",
            "Epoch 11/150\n",
            "1008/1008 [==============================] - 2s 2ms/step - loss: 1.5510 - accuracy: 0.5692 - val_loss: 0.3838 - val_accuracy: 0.8211\n",
            "Epoch 12/150\n",
            "1008/1008 [==============================] - 2s 2ms/step - loss: 1.7211 - accuracy: 0.5406 - val_loss: 0.6251 - val_accuracy: 0.7070\n",
            "Epoch 13/150\n",
            "1008/1008 [==============================] - 2s 2ms/step - loss: 1.1094 - accuracy: 0.6162 - val_loss: 0.9821 - val_accuracy: 0.3270\n",
            "Epoch 14/150\n",
            "1008/1008 [==============================] - 2s 2ms/step - loss: 0.9597 - accuracy: 0.6273 - val_loss: 0.2927 - val_accuracy: 0.8624\n",
            "Epoch 15/150\n",
            "1008/1008 [==============================] - 2s 2ms/step - loss: 0.9972 - accuracy: 0.6169 - val_loss: 2.7129 - val_accuracy: 0.3254\n",
            "Epoch 16/150\n",
            "1008/1008 [==============================] - 2s 2ms/step - loss: 1.5130 - accuracy: 0.5812 - val_loss: 1.4367 - val_accuracy: 0.6746\n",
            "Epoch 17/150\n",
            "1008/1008 [==============================] - 2s 2ms/step - loss: 1.3537 - accuracy: 0.6118 - val_loss: 3.4380 - val_accuracy: 0.3254\n",
            "Epoch 18/150\n",
            "1008/1008 [==============================] - 2s 2ms/step - loss: 1.3104 - accuracy: 0.5793 - val_loss: 1.5706 - val_accuracy: 0.6746\n",
            "Epoch 19/150\n",
            "1008/1008 [==============================] - 2s 2ms/step - loss: 1.0713 - accuracy: 0.5857 - val_loss: 1.2402 - val_accuracy: 0.3254\n",
            "Epoch 20/150\n",
            "1008/1008 [==============================] - 2s 2ms/step - loss: 1.0995 - accuracy: 0.5864 - val_loss: 2.1316 - val_accuracy: 0.6746\n",
            "Epoch 21/150\n",
            "1008/1008 [==============================] - 2s 2ms/step - loss: 0.8391 - accuracy: 0.6346 - val_loss: 0.1887 - val_accuracy: 0.9724\n",
            "Epoch 22/150\n",
            "1008/1008 [==============================] - 2s 2ms/step - loss: 0.9762 - accuracy: 0.6175 - val_loss: 0.5483 - val_accuracy: 0.7242\n",
            "Epoch 23/150\n",
            "1008/1008 [==============================] - 2s 2ms/step - loss: 1.4061 - accuracy: 0.5796 - val_loss: 2.5955 - val_accuracy: 0.3254\n",
            "Epoch 24/150\n",
            "1008/1008 [==============================] - 2s 2ms/step - loss: 0.9961 - accuracy: 0.6169 - val_loss: 1.1979 - val_accuracy: 0.6746\n",
            "Epoch 25/150\n",
            "1008/1008 [==============================] - 2s 2ms/step - loss: 0.7704 - accuracy: 0.6504 - val_loss: 1.7402 - val_accuracy: 0.6746\n",
            "Epoch 26/150\n",
            "1008/1008 [==============================] - 2s 2ms/step - loss: 1.0960 - accuracy: 0.5876 - val_loss: 1.6266 - val_accuracy: 0.6746\n",
            "Epoch 27/150\n",
            "1008/1008 [==============================] - 2s 2ms/step - loss: 1.1612 - accuracy: 0.5941 - val_loss: 0.8935 - val_accuracy: 0.6822\n",
            "Epoch 28/150\n",
            "1008/1008 [==============================] - 2s 2ms/step - loss: 1.1601 - accuracy: 0.6052 - val_loss: 1.3413 - val_accuracy: 0.6746\n",
            "Epoch 29/150\n",
            "1008/1008 [==============================] - 2s 2ms/step - loss: 0.9506 - accuracy: 0.6252 - val_loss: 1.4796 - val_accuracy: 0.6746\n",
            "Epoch 30/150\n",
            "1008/1008 [==============================] - 2s 2ms/step - loss: 1.3763 - accuracy: 0.5833 - val_loss: 0.7897 - val_accuracy: 0.3554\n",
            "Epoch 31/150\n",
            "1008/1008 [==============================] - 2s 2ms/step - loss: 1.2675 - accuracy: 0.5990 - val_loss: 1.1280 - val_accuracy: 0.3260\n",
            "Epoch 32/150\n",
            "1008/1008 [==============================] - 2s 2ms/step - loss: 1.0065 - accuracy: 0.5829 - val_loss: 0.2099 - val_accuracy: 0.9531\n",
            "Epoch 33/150\n",
            "1008/1008 [==============================] - 2s 2ms/step - loss: 1.5794 - accuracy: 0.5390 - val_loss: 1.7256 - val_accuracy: 0.6746\n",
            "Epoch 34/150\n",
            "1008/1008 [==============================] - 2s 2ms/step - loss: 1.1721 - accuracy: 0.5904 - val_loss: 0.2110 - val_accuracy: 0.9422\n",
            "Epoch 35/150\n",
            "1008/1008 [==============================] - 2s 2ms/step - loss: 0.9050 - accuracy: 0.6156 - val_loss: 0.4339 - val_accuracy: 0.7876\n",
            "Epoch 36/150\n",
            "1008/1008 [==============================] - 2s 2ms/step - loss: 0.9803 - accuracy: 0.6424 - val_loss: 1.5974 - val_accuracy: 0.3254\n",
            "Epoch 37/150\n",
            "1008/1008 [==============================] - 2s 2ms/step - loss: 0.8893 - accuracy: 0.6255 - val_loss: 1.2945 - val_accuracy: 0.6746\n",
            "Epoch 38/150\n",
            "1008/1008 [==============================] - 2s 2ms/step - loss: 1.2103 - accuracy: 0.5927 - val_loss: 2.8461 - val_accuracy: 0.6746\n",
            "Epoch 39/150\n",
            "1008/1008 [==============================] - 2s 2ms/step - loss: 0.8879 - accuracy: 0.6197 - val_loss: 0.3590 - val_accuracy: 0.8624\n",
            "Epoch 40/150\n",
            "1008/1008 [==============================] - 2s 2ms/step - loss: 0.9247 - accuracy: 0.6293 - val_loss: 0.6423 - val_accuracy: 0.7082\n",
            "Epoch 41/150\n",
            "1008/1008 [==============================] - 2s 2ms/step - loss: 0.8953 - accuracy: 0.5925 - val_loss: 0.5590 - val_accuracy: 0.4237\n",
            "Epoch 42/150\n",
            "1008/1008 [==============================] - 2s 2ms/step - loss: 1.0679 - accuracy: 0.6081 - val_loss: 0.8599 - val_accuracy: 0.6746\n",
            "Epoch 43/150\n",
            "1008/1008 [==============================] - 2s 2ms/step - loss: 0.8962 - accuracy: 0.5887 - val_loss: 0.3084 - val_accuracy: 0.8950\n",
            "Epoch 44/150\n",
            "1008/1008 [==============================] - 2s 2ms/step - loss: 0.7452 - accuracy: 0.6685 - val_loss: 3.0038 - val_accuracy: 0.3254\n",
            "Epoch 45/150\n",
            "1008/1008 [==============================] - 2s 2ms/step - loss: 0.7411 - accuracy: 0.6622 - val_loss: 0.8432 - val_accuracy: 0.3464\n",
            "Epoch 46/150\n",
            "1008/1008 [==============================] - 2s 2ms/step - loss: 0.8406 - accuracy: 0.6347 - val_loss: 0.8884 - val_accuracy: 0.3427\n",
            "Epoch 47/150\n",
            "1008/1008 [==============================] - 2s 2ms/step - loss: 0.8402 - accuracy: 0.6119 - val_loss: 0.8632 - val_accuracy: 0.3411\n",
            "Epoch 48/150\n",
            "1008/1008 [==============================] - 2s 2ms/step - loss: 0.8135 - accuracy: 0.6281 - val_loss: 1.0028 - val_accuracy: 0.6750\n",
            "Epoch 49/150\n",
            "1008/1008 [==============================] - 2s 2ms/step - loss: 0.8281 - accuracy: 0.6754 - val_loss: 0.4829 - val_accuracy: 0.7165\n",
            "Epoch 50/150\n",
            "1008/1008 [==============================] - 2s 2ms/step - loss: 0.8748 - accuracy: 0.6122 - val_loss: 0.9119 - val_accuracy: 0.6754\n",
            "Epoch 51/150\n",
            "1008/1008 [==============================] - 2s 2ms/step - loss: 0.7900 - accuracy: 0.6173 - val_loss: 1.1109 - val_accuracy: 0.6746\n",
            "Epoch 52/150\n",
            "1008/1008 [==============================] - 2s 2ms/step - loss: 0.7624 - accuracy: 0.6519 - val_loss: 0.9450 - val_accuracy: 0.3266\n",
            "Epoch 53/150\n",
            "1008/1008 [==============================] - 2s 2ms/step - loss: 0.8416 - accuracy: 0.6298 - val_loss: 0.1954 - val_accuracy: 0.9496\n",
            "Epoch 54/150\n",
            "1008/1008 [==============================] - 2s 2ms/step - loss: 0.9434 - accuracy: 0.6315 - val_loss: 0.9198 - val_accuracy: 0.3302\n",
            "Epoch 55/150\n",
            "1008/1008 [==============================] - 2s 2ms/step - loss: 0.8427 - accuracy: 0.6165 - val_loss: 0.2074 - val_accuracy: 0.9569\n",
            "Epoch 56/150\n",
            "1008/1008 [==============================] - 2s 2ms/step - loss: 0.7302 - accuracy: 0.6456 - val_loss: 0.9226 - val_accuracy: 0.6790\n",
            "Epoch 57/150\n",
            "1008/1008 [==============================] - 2s 2ms/step - loss: 0.7616 - accuracy: 0.6581 - val_loss: 0.2134 - val_accuracy: 0.9796\n",
            "Epoch 58/150\n",
            "1008/1008 [==============================] - 2s 2ms/step - loss: 0.7845 - accuracy: 0.6461 - val_loss: 1.6835 - val_accuracy: 0.3254\n",
            "Epoch 59/150\n",
            "1008/1008 [==============================] - 2s 2ms/step - loss: 0.6637 - accuracy: 0.6854 - val_loss: 2.0471 - val_accuracy: 0.3254\n",
            "Epoch 60/150\n",
            "1008/1008 [==============================] - 2s 2ms/step - loss: 0.8461 - accuracy: 0.6461 - val_loss: 1.0962 - val_accuracy: 0.3256\n",
            "Epoch 61/150\n",
            "1008/1008 [==============================] - 2s 2ms/step - loss: 0.7241 - accuracy: 0.6543 - val_loss: 0.3412 - val_accuracy: 0.7677\n",
            "Epoch 62/150\n",
            "1008/1008 [==============================] - 2s 2ms/step - loss: 0.7343 - accuracy: 0.6681 - val_loss: 0.8255 - val_accuracy: 0.6758\n",
            "Epoch 63/150\n",
            "1008/1008 [==============================] - 2s 2ms/step - loss: 0.8302 - accuracy: 0.6541 - val_loss: 1.2763 - val_accuracy: 0.6746\n",
            "Epoch 64/150\n",
            "1008/1008 [==============================] - 2s 2ms/step - loss: 0.8232 - accuracy: 0.6269 - val_loss: 1.2607 - val_accuracy: 0.3254\n",
            "Epoch 65/150\n",
            "1008/1008 [==============================] - 2s 2ms/step - loss: 0.8440 - accuracy: 0.6501 - val_loss: 1.3051 - val_accuracy: 0.3254\n",
            "Epoch 66/150\n",
            "1008/1008 [==============================] - 2s 2ms/step - loss: 0.8098 - accuracy: 0.6367 - val_loss: 0.5760 - val_accuracy: 0.4245\n",
            "Epoch 67/150\n",
            "1008/1008 [==============================] - 2s 2ms/step - loss: 0.6591 - accuracy: 0.7103 - val_loss: 1.3251 - val_accuracy: 0.6746\n",
            "Epoch 68/150\n",
            "1008/1008 [==============================] - 2s 2ms/step - loss: 0.8010 - accuracy: 0.6641 - val_loss: 1.0118 - val_accuracy: 0.3258\n",
            "Epoch 69/150\n",
            "1008/1008 [==============================] - 2s 2ms/step - loss: 0.9333 - accuracy: 0.6161 - val_loss: 0.9468 - val_accuracy: 0.3308\n",
            "Epoch 70/150\n",
            "1008/1008 [==============================] - 2s 2ms/step - loss: 0.6852 - accuracy: 0.7001 - val_loss: 0.3632 - val_accuracy: 0.7737\n",
            "Epoch 71/150\n",
            "1008/1008 [==============================] - 2s 2ms/step - loss: 0.7636 - accuracy: 0.6791 - val_loss: 0.3901 - val_accuracy: 0.7852\n",
            "Epoch 72/150\n",
            "1008/1008 [==============================] - 2s 2ms/step - loss: 0.7032 - accuracy: 0.6638 - val_loss: 0.2012 - val_accuracy: 0.9766\n",
            "Epoch 73/150\n",
            "1008/1008 [==============================] - 2s 2ms/step - loss: 0.7536 - accuracy: 0.6716 - val_loss: 0.2453 - val_accuracy: 0.9301\n",
            "Epoch 74/150\n",
            "1008/1008 [==============================] - 2s 2ms/step - loss: 0.6026 - accuracy: 0.7136 - val_loss: 0.7028 - val_accuracy: 0.3718\n",
            "Epoch 75/150\n",
            "1008/1008 [==============================] - 2s 2ms/step - loss: 0.7513 - accuracy: 0.6724 - val_loss: 0.4806 - val_accuracy: 0.7344\n",
            "Epoch 76/150\n",
            "1008/1008 [==============================] - 2s 2ms/step - loss: 0.7089 - accuracy: 0.6611 - val_loss: 0.3966 - val_accuracy: 0.7111\n",
            "Epoch 77/150\n",
            "1008/1008 [==============================] - 2s 2ms/step - loss: 0.5544 - accuracy: 0.7025 - val_loss: 1.3913 - val_accuracy: 0.6746\n",
            "Epoch 78/150\n",
            "1008/1008 [==============================] - 2s 2ms/step - loss: 0.5810 - accuracy: 0.7289 - val_loss: 1.4047 - val_accuracy: 0.3254\n",
            "Epoch 79/150\n",
            "1008/1008 [==============================] - 2s 2ms/step - loss: 0.8065 - accuracy: 0.6388 - val_loss: 0.4145 - val_accuracy: 0.6347\n",
            "Epoch 80/150\n",
            "1008/1008 [==============================] - 2s 2ms/step - loss: 0.6553 - accuracy: 0.6879 - val_loss: 0.4382 - val_accuracy: 0.7419\n",
            "Epoch 81/150\n",
            "1008/1008 [==============================] - 2s 2ms/step - loss: 0.6513 - accuracy: 0.6850 - val_loss: 0.8242 - val_accuracy: 0.6861\n",
            "Epoch 82/150\n",
            "1008/1008 [==============================] - 2s 2ms/step - loss: 0.6324 - accuracy: 0.6990 - val_loss: 0.3202 - val_accuracy: 0.8664\n",
            "Epoch 83/150\n",
            "1008/1008 [==============================] - 2s 2ms/step - loss: 0.8666 - accuracy: 0.6382 - val_loss: 1.3474 - val_accuracy: 0.3254\n",
            "Epoch 84/150\n",
            "1008/1008 [==============================] - 2s 2ms/step - loss: 0.6460 - accuracy: 0.6844 - val_loss: 0.8592 - val_accuracy: 0.3385\n",
            "Epoch 85/150\n",
            "1008/1008 [==============================] - 2s 2ms/step - loss: 0.7020 - accuracy: 0.6741 - val_loss: 0.2727 - val_accuracy: 0.9331\n",
            "Epoch 86/150\n",
            "1008/1008 [==============================] - 2s 2ms/step - loss: 0.6018 - accuracy: 0.7166 - val_loss: 0.8966 - val_accuracy: 0.6816\n",
            "Epoch 87/150\n",
            "1008/1008 [==============================] - 2s 2ms/step - loss: 0.8789 - accuracy: 0.6541 - val_loss: 1.1901 - val_accuracy: 0.6758\n",
            "Epoch 88/150\n",
            "1008/1008 [==============================] - 2s 2ms/step - loss: 0.5530 - accuracy: 0.7234 - val_loss: 0.7324 - val_accuracy: 0.6887\n",
            "Epoch 89/150\n",
            "1008/1008 [==============================] - 2s 2ms/step - loss: 0.6426 - accuracy: 0.6989 - val_loss: 0.4510 - val_accuracy: 0.6113\n",
            "Epoch 90/150\n",
            "1008/1008 [==============================] - 2s 2ms/step - loss: 0.6164 - accuracy: 0.7053 - val_loss: 0.4251 - val_accuracy: 0.6607\n",
            "Epoch 91/150\n",
            "1008/1008 [==============================] - 2s 2ms/step - loss: 0.6422 - accuracy: 0.6859 - val_loss: 1.8753 - val_accuracy: 0.6746\n",
            "Epoch 92/150\n",
            "1008/1008 [==============================] - 2s 2ms/step - loss: 0.9180 - accuracy: 0.6576 - val_loss: 0.6754 - val_accuracy: 0.7002\n",
            "Epoch 93/150\n",
            "1008/1008 [==============================] - 2s 2ms/step - loss: 0.5718 - accuracy: 0.7130 - val_loss: 2.1652 - val_accuracy: 0.3254\n",
            "Epoch 94/150\n",
            "1008/1008 [==============================] - 2s 2ms/step - loss: 0.6045 - accuracy: 0.7069 - val_loss: 1.1361 - val_accuracy: 0.3254\n",
            "Epoch 95/150\n",
            "1008/1008 [==============================] - 2s 2ms/step - loss: 0.6172 - accuracy: 0.7163 - val_loss: 1.1980 - val_accuracy: 0.6750\n",
            "Epoch 96/150\n",
            "1008/1008 [==============================] - 2s 2ms/step - loss: 0.6672 - accuracy: 0.6958 - val_loss: 0.1969 - val_accuracy: 0.9801\n",
            "Epoch 97/150\n",
            "1008/1008 [==============================] - 2s 2ms/step - loss: 0.5399 - accuracy: 0.7436 - val_loss: 0.7068 - val_accuracy: 0.3718\n",
            "Epoch 98/150\n",
            "1008/1008 [==============================] - 2s 2ms/step - loss: 0.5559 - accuracy: 0.7137 - val_loss: 0.1693 - val_accuracy: 0.9575\n",
            "Epoch 99/150\n",
            "1008/1008 [==============================] - 2s 2ms/step - loss: 0.5084 - accuracy: 0.7498 - val_loss: 0.6113 - val_accuracy: 0.3895\n",
            "Epoch 100/150\n",
            "1008/1008 [==============================] - 2s 2ms/step - loss: 0.5920 - accuracy: 0.7054 - val_loss: 0.9488 - val_accuracy: 0.3256\n",
            "Epoch 101/150\n",
            "1008/1008 [==============================] - 2s 2ms/step - loss: 0.6898 - accuracy: 0.6789 - val_loss: 0.1916 - val_accuracy: 0.9456\n",
            "Epoch 102/150\n",
            "1008/1008 [==============================] - 2s 2ms/step - loss: 0.6049 - accuracy: 0.7297 - val_loss: 2.1535 - val_accuracy: 0.6746\n",
            "Epoch 103/150\n",
            "1008/1008 [==============================] - 2s 2ms/step - loss: 0.6635 - accuracy: 0.7082 - val_loss: 0.5157 - val_accuracy: 0.5511\n",
            "Epoch 104/150\n",
            "1008/1008 [==============================] - 2s 2ms/step - loss: 0.5465 - accuracy: 0.7184 - val_loss: 1.3594 - val_accuracy: 0.6758\n",
            "Epoch 105/150\n",
            "1008/1008 [==============================] - 2s 2ms/step - loss: 0.5657 - accuracy: 0.7253 - val_loss: 1.2557 - val_accuracy: 0.6758\n",
            "Epoch 106/150\n",
            "1008/1008 [==============================] - 2s 2ms/step - loss: 0.6327 - accuracy: 0.7041 - val_loss: 0.2177 - val_accuracy: 0.9728\n",
            "Epoch 107/150\n",
            "1008/1008 [==============================] - 2s 2ms/step - loss: 0.6004 - accuracy: 0.7051 - val_loss: 0.5911 - val_accuracy: 0.3826\n",
            "Epoch 108/150\n",
            "1008/1008 [==============================] - 2s 2ms/step - loss: 0.6245 - accuracy: 0.7007 - val_loss: 2.2459 - val_accuracy: 0.3254\n",
            "Epoch 109/150\n",
            "1008/1008 [==============================] - 2s 2ms/step - loss: 0.6363 - accuracy: 0.7087 - val_loss: 0.7469 - val_accuracy: 0.6863\n",
            "Epoch 110/150\n",
            "1008/1008 [==============================] - 2s 2ms/step - loss: 0.6254 - accuracy: 0.6923 - val_loss: 0.1833 - val_accuracy: 0.9526\n",
            "Epoch 111/150\n",
            "1008/1008 [==============================] - 2s 2ms/step - loss: 0.7924 - accuracy: 0.6727 - val_loss: 0.8484 - val_accuracy: 0.6861\n",
            "Epoch 112/150\n",
            "1008/1008 [==============================] - 2s 2ms/step - loss: 0.5696 - accuracy: 0.7096 - val_loss: 0.2497 - val_accuracy: 0.9508\n",
            "Epoch 113/150\n",
            "1008/1008 [==============================] - 2s 2ms/step - loss: 0.5620 - accuracy: 0.7377 - val_loss: 0.9098 - val_accuracy: 0.3278\n",
            "Epoch 114/150\n",
            "1008/1008 [==============================] - 2s 2ms/step - loss: 0.5351 - accuracy: 0.7549 - val_loss: 0.4121 - val_accuracy: 0.7173\n",
            "Epoch 115/150\n",
            "1008/1008 [==============================] - 2s 2ms/step - loss: 0.5358 - accuracy: 0.7307 - val_loss: 1.1895 - val_accuracy: 0.6764\n",
            "Epoch 116/150\n",
            "1008/1008 [==============================] - 2s 2ms/step - loss: 0.5303 - accuracy: 0.7272 - val_loss: 0.3047 - val_accuracy: 0.9103\n",
            "Epoch 117/150\n",
            "1008/1008 [==============================] - 2s 2ms/step - loss: 0.5197 - accuracy: 0.7299 - val_loss: 0.9355 - val_accuracy: 0.6857\n",
            "Epoch 118/150\n",
            "1008/1008 [==============================] - 2s 2ms/step - loss: 0.4865 - accuracy: 0.7538 - val_loss: 1.3377 - val_accuracy: 0.3254\n",
            "Epoch 119/150\n",
            "1008/1008 [==============================] - 2s 2ms/step - loss: 0.5320 - accuracy: 0.7279 - val_loss: 0.3657 - val_accuracy: 0.8338\n",
            "Epoch 120/150\n",
            "1008/1008 [==============================] - 2s 2ms/step - loss: 0.6005 - accuracy: 0.7004 - val_loss: 0.6745 - val_accuracy: 0.3808\n",
            "Epoch 121/150\n",
            "1008/1008 [==============================] - 2s 2ms/step - loss: 0.4980 - accuracy: 0.7729 - val_loss: 0.2419 - val_accuracy: 0.9244\n",
            "Epoch 122/150\n",
            "1008/1008 [==============================] - 2s 2ms/step - loss: 0.6167 - accuracy: 0.6967 - val_loss: 0.5016 - val_accuracy: 0.5011\n",
            "Epoch 123/150\n",
            "1008/1008 [==============================] - 2s 2ms/step - loss: 0.5467 - accuracy: 0.7034 - val_loss: 1.4551 - val_accuracy: 0.6764\n",
            "Epoch 124/150\n",
            "1008/1008 [==============================] - 2s 2ms/step - loss: 0.5657 - accuracy: 0.7465 - val_loss: 0.6546 - val_accuracy: 0.7026\n",
            "Epoch 125/150\n",
            "1008/1008 [==============================] - 2s 2ms/step - loss: 0.5483 - accuracy: 0.7135 - val_loss: 0.2761 - val_accuracy: 0.9037\n",
            "Epoch 126/150\n",
            "1008/1008 [==============================] - 2s 2ms/step - loss: 0.6363 - accuracy: 0.7067 - val_loss: 0.4026 - val_accuracy: 0.7902\n",
            "Epoch 127/150\n",
            "1008/1008 [==============================] - 2s 2ms/step - loss: 0.6892 - accuracy: 0.6691 - val_loss: 0.4657 - val_accuracy: 0.7604\n",
            "Epoch 128/150\n",
            "1008/1008 [==============================] - 2s 2ms/step - loss: 0.5582 - accuracy: 0.7214 - val_loss: 2.0752 - val_accuracy: 0.6754\n",
            "Epoch 129/150\n",
            "1008/1008 [==============================] - 2s 2ms/step - loss: 0.4794 - accuracy: 0.7829 - val_loss: 0.3189 - val_accuracy: 0.8755\n",
            "Epoch 130/150\n",
            "1008/1008 [==============================] - 2s 2ms/step - loss: 0.5214 - accuracy: 0.7363 - val_loss: 0.2755 - val_accuracy: 0.9331\n",
            "Epoch 131/150\n",
            "1008/1008 [==============================] - 2s 2ms/step - loss: 0.5556 - accuracy: 0.7194 - val_loss: 0.5246 - val_accuracy: 0.7225\n",
            "Epoch 132/150\n",
            "1008/1008 [==============================] - 2s 2ms/step - loss: 0.5767 - accuracy: 0.7379 - val_loss: 0.4037 - val_accuracy: 0.7679\n",
            "Epoch 133/150\n",
            "1008/1008 [==============================] - 2s 2ms/step - loss: 0.4364 - accuracy: 0.7905 - val_loss: 0.8854 - val_accuracy: 0.3288\n",
            "Epoch 134/150\n",
            "1008/1008 [==============================] - 2s 2ms/step - loss: 0.5778 - accuracy: 0.6987 - val_loss: 0.3422 - val_accuracy: 0.8360\n",
            "Epoch 135/150\n",
            "1008/1008 [==============================] - 2s 2ms/step - loss: 0.5186 - accuracy: 0.7427 - val_loss: 0.5358 - val_accuracy: 0.5128\n",
            "Epoch 136/150\n",
            "1008/1008 [==============================] - 2s 2ms/step - loss: 0.4833 - accuracy: 0.7722 - val_loss: 0.6418 - val_accuracy: 0.3770\n",
            "Epoch 137/150\n",
            "1008/1008 [==============================] - 2s 2ms/step - loss: 0.5736 - accuracy: 0.6940 - val_loss: 0.7308 - val_accuracy: 0.6957\n",
            "Epoch 138/150\n",
            "1008/1008 [==============================] - 2s 2ms/step - loss: 0.4685 - accuracy: 0.7738 - val_loss: 0.7344 - val_accuracy: 0.6953\n",
            "Epoch 139/150\n",
            "1008/1008 [==============================] - 2s 2ms/step - loss: 0.4845 - accuracy: 0.7609 - val_loss: 0.3155 - val_accuracy: 0.8862\n",
            "Epoch 140/150\n",
            "1008/1008 [==============================] - 2s 2ms/step - loss: 0.5093 - accuracy: 0.7434 - val_loss: 0.3918 - val_accuracy: 0.8102\n",
            "Epoch 141/150\n",
            "1008/1008 [==============================] - 2s 2ms/step - loss: 0.4618 - accuracy: 0.7553 - val_loss: 1.4423 - val_accuracy: 0.6758\n",
            "Epoch 142/150\n",
            "1008/1008 [==============================] - 2s 2ms/step - loss: 0.5585 - accuracy: 0.7357 - val_loss: 0.4258 - val_accuracy: 0.7497\n",
            "Epoch 143/150\n",
            "1008/1008 [==============================] - 2s 2ms/step - loss: 0.5297 - accuracy: 0.7250 - val_loss: 0.3181 - val_accuracy: 0.8438\n",
            "Epoch 144/150\n",
            "1008/1008 [==============================] - 2s 2ms/step - loss: 0.4625 - accuracy: 0.7707 - val_loss: 0.8227 - val_accuracy: 0.6865\n",
            "Epoch 145/150\n",
            "1008/1008 [==============================] - 2s 2ms/step - loss: 0.5285 - accuracy: 0.7456 - val_loss: 0.5154 - val_accuracy: 0.4445\n",
            "Epoch 146/150\n",
            "1008/1008 [==============================] - 2s 2ms/step - loss: 0.4334 - accuracy: 0.7913 - val_loss: 0.6704 - val_accuracy: 0.6968\n",
            "Epoch 147/150\n",
            "1008/1008 [==============================] - 2s 2ms/step - loss: 0.5594 - accuracy: 0.7405 - val_loss: 0.2184 - val_accuracy: 0.9317\n",
            "Epoch 148/150\n",
            "1008/1008 [==============================] - 2s 2ms/step - loss: 0.5424 - accuracy: 0.7436 - val_loss: 0.5028 - val_accuracy: 0.7292\n",
            "Epoch 149/150\n",
            "1008/1008 [==============================] - 2s 2ms/step - loss: 0.4462 - accuracy: 0.7836 - val_loss: 0.4642 - val_accuracy: 0.7328\n",
            "Epoch 150/150\n",
            "1008/1008 [==============================] - 2s 2ms/step - loss: 0.5296 - accuracy: 0.7358 - val_loss: 0.2496 - val_accuracy: 0.9136\n"
          ],
          "name": "stdout"
        }
      ]
    },
    {
      "cell_type": "code",
      "metadata": {
        "colab": {
          "base_uri": "https://localhost:8080/"
        },
        "id": "bXc-aQLzDPC2",
        "outputId": "cc8ba2ae-6d95-483a-9c99-79aa1bb2c3fa"
      },
      "source": [
        "# evaluate the model\n",
        "scores = model.evaluate(X, y)\n",
        "print(\"%s: %.2f%%\" % (model.metrics_names[1], scores[1]*100))"
      ],
      "execution_count": null,
      "outputs": [
        {
          "output_type": "stream",
          "text": [
            "470/470 [==============================] - 0s 976us/step - loss: 0.2073 - accuracy: 0.9363\n",
            "accuracy: 93.63%\n"
          ],
          "name": "stdout"
        }
      ]
    },
    {
      "cell_type": "code",
      "metadata": {
        "colab": {
          "base_uri": "https://localhost:8080/"
        },
        "id": "gws7nqFl1F5Z",
        "outputId": "f276b8e4-0072-4120-fb8f-d2b6b854b464"
      },
      "source": [
        " #Visualize training history\n",
        "\n",
        "# list all data in history\n",
        "model.history.history.keys()\n"
      ],
      "execution_count": null,
      "outputs": [
        {
          "output_type": "execute_result",
          "data": {
            "text/plain": [
              "dict_keys([])"
            ]
          },
          "metadata": {
            "tags": []
          },
          "execution_count": 120
        }
      ]
    },
    {
      "cell_type": "code",
      "metadata": {
        "id": "umYEeiy010kU"
      },
      "source": [
        "import matplotlib.pyplot as plt"
      ],
      "execution_count": null,
      "outputs": []
    },
    {
      "cell_type": "code",
      "metadata": {
        "colab": {
          "base_uri": "https://localhost:8080/",
          "height": 1000
        },
        "id": "jKapAMsH1-UV",
        "outputId": "43b1676d-4b45-414e-8c3e-1dd3763b3205"
      },
      "source": [
        "# summarize history for accuracy\n",
        "plt.plot(trainhist.history['accuracy'])\n",
        "plt.plot(trainhist.history['val_accuracy'])\n",
        "plt.title('model accuracy')\n",
        "plt.ylabel('accuracy')\n",
        "plt.xlabel('epoch')\n",
        "plt.legend(['train', 'test'], loc='upper left')\n",
        "plt.show()\n",
        "# summarize history for loss\n",
        "plt.plot(trainhist.history['loss'])\n",
        "plt.plot(trainhist.history['val_loss'])\n",
        "plt.title('model loss')\n",
        "plt.ylabel('loss')\n",
        "plt.xlabel('epoch')\n",
        "plt.legend(['train','test'], loc='upper left')\n",
        "plt.show()"
      ],
      "execution_count": null,
      "outputs": [
        {
          "output_type": "display_data",
          "data": {
            "image/png": "[encoded data removed]",
            "text/plain": [
              "<Figure size 720x720 with 1 Axes>"
            ]
          },
          "metadata": {
            "tags": [],
            "needs_background": "light"
          }
        },
        {
          "output_type": "display_data",
          "data": {
            "image/png": "[encoded data removed]",
            "text/plain": [
              "<Figure size 720x720 with 1 Axes>"
            ]
          },
          "metadata": {
            "tags": [],
            "needs_background": "light"
          }
        }
      ]
    },
    {
      "cell_type": "markdown",
      "metadata": {
        "id": "SrAa1dyN33z_"
      },
      "source": [
        "#Hypertuning the nueral network"
      ]
    },
    {
      "cell_type": "code",
      "metadata": {
        "id": "V4YQLlC73qgA"
      },
      "source": [
        "# Importing the necessary packages\n",
        "import pandas as pd\n",
        "import numpy as np\n",
        "import keras\n",
        "from sklearn.preprocessing import StandardScaler"
      ],
      "execution_count": null,
      "outputs": []
    },
    {
      "cell_type": "code",
      "metadata": {
        "id": "QcMFhBMq4TJO"
      },
      "source": [
        "Xh =gas_turb.iloc[:,:7]\n",
        "yh =gas_turb.iloc[:,11:]"
      ],
      "execution_count": null,
      "outputs": []
    },
    {
      "cell_type": "code",
      "metadata": {
        "id": "LjPsouvK4sAB"
      },
      "source": [
        "from sklearn.preprocessing import StandardScaler"
      ],
      "execution_count": null,
      "outputs": []
    },
    {
      "cell_type": "code",
      "metadata": {
        "id": "LfiB7vuJ4iSp"
      },
      "source": [
        "# Standardization\n",
        "a = StandardScaler()\n",
        "a.fit(Xh)\n",
        "X_standardized = a.transform(Xh)"
      ],
      "execution_count": null,
      "outputs": []
    },
    {
      "cell_type": "markdown",
      "metadata": {
        "id": "eNhnApfx4648"
      },
      "source": [
        "#Tuning of Hyperparameters :- Batch Size and Epochs"
      ]
    },
    {
      "cell_type": "code",
      "metadata": {
        "id": "A2K1OUtt5DWw"
      },
      "source": [
        "# Importing the necessary packages\n",
        "from sklearn.model_selection import GridSearchCV, KFold\n",
        "from keras.models import Sequential\n",
        "from keras.layers import Dense\n",
        "from keras.wrappers.scikit_learn import KerasClassifier\n",
        "from keras.optimizers import Adam"
      ],
      "execution_count": null,
      "outputs": []
    },
    {
      "cell_type": "code",
      "metadata": {
        "id": "cD_pg6gF5L8F"
      },
      "source": [
        "# create model\n",
        "def create_model():\n",
        "    model = Sequential()\n",
        "    model.add(Dense(12, input_dim=7,kernel_initializer='uniform', activation='relu'))\n",
        "    model.add(Dense(8,kernel_initializer='uniform', activation='relu'))\n",
        "    model.add(Dense(1,kernel_initializer='uniform', activation='sigmoid'))\n",
        "    \n",
        "    adam=Adam(lr=0.01)\n",
        "    model.compile(loss='binary_crossentropy', optimizer=adam, metrics=['accuracy'])\n",
        "    return model"
      ],
      "execution_count": null,
      "outputs": []
    },
    {
      "cell_type": "code",
      "metadata": {
        "colab": {
          "base_uri": "https://localhost:8080/"
        },
        "id": "gxFD-pri5cgX",
        "outputId": "632c1515-4c74-473a-baae-44f3f6281011"
      },
      "source": [
        "# Create the model\n",
        "model = KerasClassifier(build_fn = create_model,verbose = 0)\n",
        "# Define the grid search parameters\n",
        "batch_size = [10,20,40]\n",
        "epochs = [10,20,50]\n",
        "# Make a dictionary of the grid search parameters\n",
        "param_grid = dict(batch_size = batch_size,epochs = epochs)\n",
        "# Build and fit the GridSearchCV\n",
        "grid = GridSearchCV(estimator = model,param_grid = param_grid,cv = KFold(),verbose = 10)\n",
        "grid_result =grid.fit(X_standardized,yh)"
      ],
      "execution_count": null,
      "outputs": [
        {
          "output_type": "stream",
          "text": [
            "Fitting 5 folds for each of 9 candidates, totalling 45 fits\n",
            "[CV] batch_size=10, epochs=10 ........................................\n"
          ],
          "name": "stdout"
        },
        {
          "output_type": "stream",
          "text": [
            "[Parallel(n_jobs=1)]: Using backend SequentialBackend with 1 concurrent workers.\n"
          ],
          "name": "stderr"
        },
        {
          "output_type": "stream",
          "text": [
            "[CV] ............ batch_size=10, epochs=10, score=0.993, total=  12.8s\n",
            "[CV] batch_size=10, epochs=10 ........................................\n"
          ],
          "name": "stdout"
        },
        {
          "output_type": "stream",
          "text": [
            "[Parallel(n_jobs=1)]: Done   1 out of   1 | elapsed:   12.8s remaining:    0.0s\n"
          ],
          "name": "stderr"
        },
        {
          "output_type": "stream",
          "text": [
            "[CV] ............ batch_size=10, epochs=10, score=0.998, total=  12.4s\n",
            "[CV] batch_size=10, epochs=10 ........................................\n"
          ],
          "name": "stdout"
        },
        {
          "output_type": "stream",
          "text": [
            "[Parallel(n_jobs=1)]: Done   2 out of   2 | elapsed:   25.2s remaining:    0.0s\n"
          ],
          "name": "stderr"
        },
        {
          "output_type": "stream",
          "text": [
            "[CV] ............ batch_size=10, epochs=10, score=0.994, total=  12.4s\n",
            "[CV] batch_size=10, epochs=10 ........................................\n"
          ],
          "name": "stdout"
        },
        {
          "output_type": "stream",
          "text": [
            "[Parallel(n_jobs=1)]: Done   3 out of   3 | elapsed:   37.6s remaining:    0.0s\n"
          ],
          "name": "stderr"
        },
        {
          "output_type": "stream",
          "text": [
            "[CV] ............ batch_size=10, epochs=10, score=0.998, total=  12.4s\n",
            "[CV] batch_size=10, epochs=10 ........................................\n"
          ],
          "name": "stdout"
        },
        {
          "output_type": "stream",
          "text": [
            "[Parallel(n_jobs=1)]: Done   4 out of   4 | elapsed:   50.1s remaining:    0.0s\n"
          ],
          "name": "stderr"
        },
        {
          "output_type": "stream",
          "text": [
            "[CV] ............ batch_size=10, epochs=10, score=0.997, total=  12.4s\n",
            "[CV] batch_size=10, epochs=20 ........................................\n"
          ],
          "name": "stdout"
        },
        {
          "output_type": "stream",
          "text": [
            "[Parallel(n_jobs=1)]: Done   5 out of   5 | elapsed:  1.0min remaining:    0.0s\n"
          ],
          "name": "stderr"
        },
        {
          "output_type": "stream",
          "text": [
            "[CV] ............ batch_size=10, epochs=20, score=0.995, total=  23.8s\n",
            "[CV] batch_size=10, epochs=20 ........................................\n"
          ],
          "name": "stdout"
        },
        {
          "output_type": "stream",
          "text": [
            "[Parallel(n_jobs=1)]: Done   6 out of   6 | elapsed:  1.4min remaining:    0.0s\n"
          ],
          "name": "stderr"
        },
        {
          "output_type": "stream",
          "text": [
            "[CV] ............ batch_size=10, epochs=20, score=0.998, total=  23.6s\n",
            "[CV] batch_size=10, epochs=20 ........................................\n"
          ],
          "name": "stdout"
        },
        {
          "output_type": "stream",
          "text": [
            "[Parallel(n_jobs=1)]: Done   7 out of   7 | elapsed:  1.8min remaining:    0.0s\n"
          ],
          "name": "stderr"
        },
        {
          "output_type": "stream",
          "text": [
            "[CV] ............ batch_size=10, epochs=20, score=0.997, total=  23.6s\n",
            "[CV] batch_size=10, epochs=20 ........................................\n"
          ],
          "name": "stdout"
        },
        {
          "output_type": "stream",
          "text": [
            "[Parallel(n_jobs=1)]: Done   8 out of   8 | elapsed:  2.2min remaining:    0.0s\n"
          ],
          "name": "stderr"
        },
        {
          "output_type": "stream",
          "text": [
            "[CV] ............ batch_size=10, epochs=20, score=0.998, total=  23.5s\n",
            "[CV] batch_size=10, epochs=20 ........................................\n"
          ],
          "name": "stdout"
        },
        {
          "output_type": "stream",
          "text": [
            "[Parallel(n_jobs=1)]: Done   9 out of   9 | elapsed:  2.6min remaining:    0.0s\n"
          ],
          "name": "stderr"
        },
        {
          "output_type": "stream",
          "text": [
            "[CV] ............ batch_size=10, epochs=20, score=0.993, total=  23.7s\n",
            "[CV] batch_size=10, epochs=50 ........................................\n",
            "[CV] ............ batch_size=10, epochs=50, score=0.996, total=  57.3s\n",
            "[CV] batch_size=10, epochs=50 ........................................\n",
            "[CV] ............ batch_size=10, epochs=50, score=0.999, total=  58.3s\n",
            "[CV] batch_size=10, epochs=50 ........................................\n",
            "[CV] ............ batch_size=10, epochs=50, score=0.996, total=  59.9s\n",
            "[CV] batch_size=10, epochs=50 ........................................\n",
            "[CV] ............ batch_size=10, epochs=50, score=0.997, total=  59.4s\n",
            "[CV] batch_size=10, epochs=50 ........................................\n",
            "[CV] ............ batch_size=10, epochs=50, score=0.998, total=  59.8s\n",
            "[CV] batch_size=20, epochs=10 ........................................\n",
            "[CV] ............ batch_size=20, epochs=10, score=0.997, total=   6.6s\n",
            "[CV] batch_size=20, epochs=10 ........................................\n",
            "[CV] ............ batch_size=20, epochs=10, score=0.999, total=   6.5s\n",
            "[CV] batch_size=20, epochs=10 ........................................\n",
            "[CV] ............ batch_size=20, epochs=10, score=0.996, total=   6.6s\n",
            "[CV] batch_size=20, epochs=10 ........................................\n",
            "[CV] ............ batch_size=20, epochs=10, score=0.996, total=   6.7s\n",
            "[CV] batch_size=20, epochs=10 ........................................\n",
            "[CV] ............ batch_size=20, epochs=10, score=0.994, total=   6.6s\n",
            "[CV] batch_size=20, epochs=20 ........................................\n",
            "[CV] ............ batch_size=20, epochs=20, score=0.992, total=  13.0s\n",
            "[CV] batch_size=20, epochs=20 ........................................\n",
            "[CV] ............ batch_size=20, epochs=20, score=0.999, total=  13.0s\n",
            "[CV] batch_size=20, epochs=20 ........................................\n",
            "[CV] ............ batch_size=20, epochs=20, score=0.998, total=  13.0s\n",
            "[CV] batch_size=20, epochs=20 ........................................\n",
            "[CV] ............ batch_size=20, epochs=20, score=0.997, total=  13.5s\n",
            "[CV] batch_size=20, epochs=20 ........................................\n",
            "[CV] ............ batch_size=20, epochs=20, score=0.996, total=  13.3s\n",
            "[CV] batch_size=20, epochs=50 ........................................\n",
            "[CV] ............ batch_size=20, epochs=50, score=0.995, total=  32.8s\n",
            "[CV] batch_size=20, epochs=50 ........................................\n",
            "[CV] ............ batch_size=20, epochs=50, score=0.998, total=  31.6s\n",
            "[CV] batch_size=20, epochs=50 ........................................\n",
            "[CV] ............ batch_size=20, epochs=50, score=0.996, total=  31.2s\n",
            "[CV] batch_size=20, epochs=50 ........................................\n",
            "[CV] ............ batch_size=20, epochs=50, score=0.998, total=  30.1s\n",
            "[CV] batch_size=20, epochs=50 ........................................\n",
            "[CV] ............ batch_size=20, epochs=50, score=0.995, total=  30.2s\n",
            "[CV] batch_size=40, epochs=10 ........................................\n",
            "[CV] ............ batch_size=40, epochs=10, score=0.997, total=   3.7s\n",
            "[CV] batch_size=40, epochs=10 ........................................\n",
            "[CV] ............ batch_size=40, epochs=10, score=0.999, total=   3.7s\n",
            "[CV] batch_size=40, epochs=10 ........................................\n",
            "[CV] ............ batch_size=40, epochs=10, score=0.996, total=   3.6s\n",
            "[CV] batch_size=40, epochs=10 ........................................\n",
            "[CV] ............ batch_size=40, epochs=10, score=0.997, total=   3.6s\n",
            "[CV] batch_size=40, epochs=10 ........................................\n",
            "[CV] ............ batch_size=40, epochs=10, score=0.996, total=   4.1s\n",
            "[CV] batch_size=40, epochs=20 ........................................\n",
            "[CV] ............ batch_size=40, epochs=20, score=0.996, total=   6.7s\n",
            "[CV] batch_size=40, epochs=20 ........................................\n",
            "[CV] ............ batch_size=40, epochs=20, score=0.999, total=   6.7s\n",
            "[CV] batch_size=40, epochs=20 ........................................\n",
            "[CV] ............ batch_size=40, epochs=20, score=0.998, total=   6.8s\n",
            "[CV] batch_size=40, epochs=20 ........................................\n",
            "[CV] ............ batch_size=40, epochs=20, score=0.998, total=   6.5s\n",
            "[CV] batch_size=40, epochs=20 ........................................\n",
            "[CV] ............ batch_size=40, epochs=20, score=0.997, total=   6.6s\n",
            "[CV] batch_size=40, epochs=50 ........................................\n",
            "[CV] ............ batch_size=40, epochs=50, score=0.996, total=  15.4s\n",
            "[CV] batch_size=40, epochs=50 ........................................\n",
            "[CV] ............ batch_size=40, epochs=50, score=0.998, total=  15.5s\n",
            "[CV] batch_size=40, epochs=50 ........................................\n",
            "[CV] ............ batch_size=40, epochs=50, score=0.997, total=  15.6s\n",
            "[CV] batch_size=40, epochs=50 ........................................\n",
            "[CV] ............ batch_size=40, epochs=50, score=0.998, total=  15.6s\n",
            "[CV] batch_size=40, epochs=50 ........................................\n",
            "[CV] ............ batch_size=40, epochs=50, score=0.995, total=  15.2s\n"
          ],
          "name": "stdout"
        },
        {
          "output_type": "stream",
          "text": [
            "[Parallel(n_jobs=1)]: Done  45 out of  45 | elapsed: 14.3min finished\n"
          ],
          "name": "stderr"
        }
      ]
    },
    {
      "cell_type": "code",
      "metadata": {
        "colab": {
          "base_uri": "https://localhost:8080/"
        },
        "id": "2H7KV75rquzA",
        "outputId": "d9d029a4-2362-475b-85d7-71b271c088c7"
      },
      "source": [
        "# Summarize the results\n",
        "print('Best : {}, using {}'.format(grid_result.best_score_,grid_result.best_params_))\n",
        "means = grid_result.cv_results_['mean_test_score']\n",
        "stds = grid_result.cv_results_['std_test_score']\n",
        "params = grid_result.cv_results_['params']\n",
        "for mean, stdev, param in zip(means, stds, params):\n",
        "  print('{},{} with: {}'.format(mean, stdev, param))"
      ],
      "execution_count": null,
      "outputs": [
        {
          "output_type": "stream",
          "text": [
            "Best : 0.9977391839027405, using {'batch_size': 40, 'epochs': 20}\n",
            "0.9961434483528138,0.00206642413780941 with: {'batch_size': 10, 'epochs': 10}\n",
            "0.9961431622505188,0.0017922106088152164 with: {'batch_size': 10, 'epochs': 20}\n",
            "0.9972737789154053,0.0010595949608615866 with: {'batch_size': 10, 'epochs': 50}\n",
            "0.9966751575469971,0.0016427070251023314 with: {'batch_size': 20, 'epochs': 10}\n",
            "0.9963428497314453,0.002322382509027068 with: {'batch_size': 20, 'epochs': 20}\n",
            "0.9962762355804443,0.0015077871142873118 with: {'batch_size': 20, 'epochs': 50}\n",
            "0.9968747138977051,0.0013399815884099096 with: {'batch_size': 40, 'epochs': 10}\n",
            "0.9977391839027405,0.0009727160104413448 with: {'batch_size': 40, 'epochs': 20}\n",
            "0.9968081593513489,0.0012373831123624495 with: {'batch_size': 40, 'epochs': 50}\n"
          ],
          "name": "stdout"
        }
      ]
    },
    {
      "cell_type": "markdown",
      "metadata": {
        "id": "uvYpTu5F4heM"
      },
      "source": [
        "Tuning of Hyperparameters:- Learning rate and Drop out rate"
      ]
    },
    {
      "cell_type": "code",
      "metadata": {
        "colab": {
          "base_uri": "https://localhost:8080/"
        },
        "id": "UhK6Hcxl4lAh",
        "outputId": "878c25c3-077a-4e08-d4de-467518c4fe1d"
      },
      "source": [
        "from keras.layers import Dropout\n",
        "\n",
        "# Defining the model\n",
        "\n",
        "def create_model(learning_rate,dropout_rate):\n",
        "    model = Sequential()\n",
        "    model.add(Dense(8,input_dim = 7,kernel_initializer = 'normal',activation = 'relu'))\n",
        "    model.add(Dropout(dropout_rate))\n",
        "    model.add(Dense(4,input_dim =7 ,kernel_initializer = 'normal',activation = 'relu'))\n",
        "    model.add(Dropout(dropout_rate))\n",
        "    model.add(Dense(1,activation = 'sigmoid'))\n",
        "    \n",
        "    adam = Adam(lr = learning_rate)\n",
        "    model.compile(loss = 'binary_crossentropy',optimizer = adam,metrics = ['accuracy'])\n",
        "    return model\n",
        "\n",
        "# Create the model\n",
        "\n",
        "model = KerasClassifier(build_fn = create_model,verbose = 0,batch_size = 40,epochs = 10)\n",
        "\n",
        "# Define the grid search parameters\n",
        "\n",
        "learning_rate = [0.001,0.01]\n",
        "dropout_rate = [0.0,0.1]\n",
        "\n",
        "# Make a dictionary of the grid search parameters\n",
        "\n",
        "param_grids = dict(learning_rate = learning_rate,dropout_rate = dropout_rate)\n",
        "\n",
        "# Build and fit the GridSearchCV\n",
        "\n",
        "grid = GridSearchCV(estimator = model,param_grid = param_grids,cv = KFold(),verbose = 10)\n",
        "grid_result = grid.fit(X_standardized,yh)\n"
      ],
      "execution_count": null,
      "outputs": [
        {
          "output_type": "stream",
          "text": [
            "Fitting 5 folds for each of 4 candidates, totalling 20 fits\n",
            "[CV] dropout_rate=0.0, learning_rate=0.001 ...........................\n"
          ],
          "name": "stdout"
        },
        {
          "output_type": "stream",
          "text": [
            "[Parallel(n_jobs=1)]: Using backend SequentialBackend with 1 concurrent workers.\n"
          ],
          "name": "stderr"
        },
        {
          "output_type": "stream",
          "text": [
            "[CV]  dropout_rate=0.0, learning_rate=0.001, score=0.996, total=   4.1s\n",
            "[CV] dropout_rate=0.0, learning_rate=0.001 ...........................\n"
          ],
          "name": "stdout"
        },
        {
          "output_type": "stream",
          "text": [
            "[Parallel(n_jobs=1)]: Done   1 out of   1 | elapsed:    4.1s remaining:    0.0s\n"
          ],
          "name": "stderr"
        },
        {
          "output_type": "stream",
          "text": [
            "[CV]  dropout_rate=0.0, learning_rate=0.001, score=0.998, total=   3.4s\n",
            "[CV] dropout_rate=0.0, learning_rate=0.001 ...........................\n"
          ],
          "name": "stdout"
        },
        {
          "output_type": "stream",
          "text": [
            "[Parallel(n_jobs=1)]: Done   2 out of   2 | elapsed:    7.5s remaining:    0.0s\n"
          ],
          "name": "stderr"
        },
        {
          "output_type": "stream",
          "text": [
            "[CV]  dropout_rate=0.0, learning_rate=0.001, score=0.998, total=   3.5s\n",
            "[CV] dropout_rate=0.0, learning_rate=0.001 ...........................\n"
          ],
          "name": "stdout"
        },
        {
          "output_type": "stream",
          "text": [
            "[Parallel(n_jobs=1)]: Done   3 out of   3 | elapsed:   11.0s remaining:    0.0s\n"
          ],
          "name": "stderr"
        },
        {
          "output_type": "stream",
          "text": [
            "[CV]  dropout_rate=0.0, learning_rate=0.001, score=0.997, total=   3.5s\n",
            "[CV] dropout_rate=0.0, learning_rate=0.001 ...........................\n"
          ],
          "name": "stdout"
        },
        {
          "output_type": "stream",
          "text": [
            "[Parallel(n_jobs=1)]: Done   4 out of   4 | elapsed:   14.5s remaining:    0.0s\n"
          ],
          "name": "stderr"
        },
        {
          "output_type": "stream",
          "text": [
            "[CV]  dropout_rate=0.0, learning_rate=0.001, score=0.996, total=   3.5s\n",
            "[CV] dropout_rate=0.0, learning_rate=0.01 ............................\n"
          ],
          "name": "stdout"
        },
        {
          "output_type": "stream",
          "text": [
            "[Parallel(n_jobs=1)]: Done   5 out of   5 | elapsed:   18.0s remaining:    0.0s\n"
          ],
          "name": "stderr"
        },
        {
          "output_type": "stream",
          "text": [
            "[CV]  dropout_rate=0.0, learning_rate=0.01, score=0.996, total=   3.4s\n",
            "[CV] dropout_rate=0.0, learning_rate=0.01 ............................\n"
          ],
          "name": "stdout"
        },
        {
          "output_type": "stream",
          "text": [
            "[Parallel(n_jobs=1)]: Done   6 out of   6 | elapsed:   21.5s remaining:    0.0s\n"
          ],
          "name": "stderr"
        },
        {
          "output_type": "stream",
          "text": [
            "[CV]  dropout_rate=0.0, learning_rate=0.01, score=0.997, total=   3.5s\n",
            "[CV] dropout_rate=0.0, learning_rate=0.01 ............................\n"
          ],
          "name": "stdout"
        },
        {
          "output_type": "stream",
          "text": [
            "[Parallel(n_jobs=1)]: Done   7 out of   7 | elapsed:   25.0s remaining:    0.0s\n"
          ],
          "name": "stderr"
        },
        {
          "output_type": "stream",
          "text": [
            "[CV]  dropout_rate=0.0, learning_rate=0.01, score=0.997, total=   3.6s\n",
            "[CV] dropout_rate=0.0, learning_rate=0.01 ............................\n"
          ],
          "name": "stdout"
        },
        {
          "output_type": "stream",
          "text": [
            "[Parallel(n_jobs=1)]: Done   8 out of   8 | elapsed:   28.6s remaining:    0.0s\n"
          ],
          "name": "stderr"
        },
        {
          "output_type": "stream",
          "text": [
            "[CV]  dropout_rate=0.0, learning_rate=0.01, score=0.995, total=   3.6s\n",
            "[CV] dropout_rate=0.0, learning_rate=0.01 ............................\n"
          ],
          "name": "stdout"
        },
        {
          "output_type": "stream",
          "text": [
            "[Parallel(n_jobs=1)]: Done   9 out of   9 | elapsed:   32.2s remaining:    0.0s\n"
          ],
          "name": "stderr"
        },
        {
          "output_type": "stream",
          "text": [
            "[CV]  dropout_rate=0.0, learning_rate=0.01, score=0.994, total=   3.5s\n",
            "[CV] dropout_rate=0.1, learning_rate=0.001 ...........................\n",
            "[CV]  dropout_rate=0.1, learning_rate=0.001, score=0.997, total=   3.9s\n",
            "[CV] dropout_rate=0.1, learning_rate=0.001 ...........................\n",
            "[CV]  dropout_rate=0.1, learning_rate=0.001, score=0.999, total=   3.4s\n",
            "[CV] dropout_rate=0.1, learning_rate=0.001 ...........................\n",
            "[CV]  dropout_rate=0.1, learning_rate=0.001, score=0.998, total=   3.4s\n",
            "[CV] dropout_rate=0.1, learning_rate=0.001 ...........................\n",
            "[CV]  dropout_rate=0.1, learning_rate=0.001, score=0.997, total=   3.4s\n",
            "[CV] dropout_rate=0.1, learning_rate=0.001 ...........................\n",
            "[CV]  dropout_rate=0.1, learning_rate=0.001, score=0.996, total=   3.4s\n",
            "[CV] dropout_rate=0.1, learning_rate=0.01 ............................\n",
            "[CV]  dropout_rate=0.1, learning_rate=0.01, score=0.996, total=   3.5s\n",
            "[CV] dropout_rate=0.1, learning_rate=0.01 ............................\n",
            "[CV]  dropout_rate=0.1, learning_rate=0.01, score=0.998, total=   3.4s\n",
            "[CV] dropout_rate=0.1, learning_rate=0.01 ............................\n",
            "[CV]  dropout_rate=0.1, learning_rate=0.01, score=0.998, total=   3.4s\n",
            "[CV] dropout_rate=0.1, learning_rate=0.01 ............................\n",
            "[CV]  dropout_rate=0.1, learning_rate=0.01, score=0.997, total=   3.4s\n",
            "[CV] dropout_rate=0.1, learning_rate=0.01 ............................\n",
            "[CV]  dropout_rate=0.1, learning_rate=0.01, score=0.995, total=   3.8s\n"
          ],
          "name": "stdout"
        },
        {
          "output_type": "stream",
          "text": [
            "[Parallel(n_jobs=1)]: Done  20 out of  20 | elapsed:  1.2min finished\n"
          ],
          "name": "stderr"
        }
      ]
    },
    {
      "cell_type": "code",
      "metadata": {
        "colab": {
          "base_uri": "https://localhost:8080/"
        },
        "id": "_wh2vUuW5V49",
        "outputId": "0096bc40-b8f7-4167-8488-be0da2521ffa"
      },
      "source": [
        "# Summarize the results\n",
        "print('Best : {}, using {}'.format(grid_result.best_score_,grid_result.best_params_))\n",
        "means = grid_result.cv_results_['mean_test_score']\n",
        "stds = grid_result.cv_results_['std_test_score']\n",
        "params = grid_result.cv_results_['params']\n",
        "for mean, stdev, param in zip(means, stds, params):\n",
        "  print('{},{} with: {}'.format(mean, stdev, param))"
      ],
      "execution_count": null,
      "outputs": [
        {
          "output_type": "stream",
          "text": [
            "Best : 0.9972071766853332, using {'dropout_rate': 0.1, 'learning_rate': 0.001}\n",
            "0.9971406936645508,0.0009774944150352097 with: {'dropout_rate': 0.0, 'learning_rate': 0.001}\n",
            "0.9960102677345276,0.0010518939022685085 with: {'dropout_rate': 0.0, 'learning_rate': 0.01}\n",
            "0.9972071766853332,0.0009071490208533425 with: {'dropout_rate': 0.1, 'learning_rate': 0.001}\n",
            "0.9969411492347717,0.0011973447916521311 with: {'dropout_rate': 0.1, 'learning_rate': 0.01}\n"
          ],
          "name": "stdout"
        }
      ]
    },
    {
      "cell_type": "markdown",
      "metadata": {
        "id": "Xs-F0A7f5ama"
      },
      "source": [
        "Tuning of Hyperparameters:- Activation Function and Kernel Initializer"
      ]
    },
    {
      "cell_type": "code",
      "metadata": {
        "colab": {
          "base_uri": "https://localhost:8080/"
        },
        "id": "KDyDHF9K5dbl",
        "outputId": "b70fe746-5475-490c-8a54-a1cf5cbc2fa3"
      },
      "source": [
        "# Defining the model\n",
        "\n",
        "def create_model(activation_function,init):\n",
        "    model = Sequential()\n",
        "    model.add(Dense(8,input_dim = 7,kernel_initializer = init,activation = activation_function))\n",
        "    model.add(Dropout(0.1))\n",
        "    model.add(Dense(4,input_dim = 7,kernel_initializer = init,activation = activation_function))\n",
        "    model.add(Dropout(0.1))\n",
        "    model.add(Dense(1,activation = 'sigmoid'))\n",
        "    \n",
        "    adam = Adam(lr = 0.001)\n",
        "    model.compile(loss = 'binary_crossentropy',optimizer = adam,metrics = ['accuracy'])\n",
        "    return model\n",
        "\n",
        "# Create the model\n",
        "\n",
        "model = KerasClassifier(build_fn = create_model,verbose = 0,batch_size = 40,epochs = 10)\n",
        "\n",
        "# Define the grid search parameters\n",
        "activation_function = ['softmax','relu','tanh','linear']\n",
        "init = ['uniform','normal','zero']\n",
        "\n",
        "# Make a dictionary of the grid search parameters\n",
        "param_grids = dict(activation_function = activation_function,init = init)\n",
        "\n",
        "# Build and fit the GridSearchCV\n",
        "\n",
        "grid = GridSearchCV(estimator = model,param_grid = param_grids,cv = KFold(),verbose = 10)\n",
        "grid_result = grid.fit(X_standardized,yh)\n"
      ],
      "execution_count": null,
      "outputs": [
        {
          "output_type": "stream",
          "text": [
            "Fitting 5 folds for each of 12 candidates, totalling 60 fits\n",
            "[CV] activation_function=softmax, init=uniform .......................\n"
          ],
          "name": "stdout"
        },
        {
          "output_type": "stream",
          "text": [
            "[Parallel(n_jobs=1)]: Using backend SequentialBackend with 1 concurrent workers.\n"
          ],
          "name": "stderr"
        },
        {
          "output_type": "stream",
          "text": [
            "[CV]  activation_function=softmax, init=uniform, score=0.994, total=   3.6s\n",
            "[CV] activation_function=softmax, init=uniform .......................\n"
          ],
          "name": "stdout"
        },
        {
          "output_type": "stream",
          "text": [
            "[Parallel(n_jobs=1)]: Done   1 out of   1 | elapsed:    3.6s remaining:    0.0s\n"
          ],
          "name": "stderr"
        },
        {
          "output_type": "stream",
          "text": [
            "[CV]  activation_function=softmax, init=uniform, score=0.995, total=   3.6s\n",
            "[CV] activation_function=softmax, init=uniform .......................\n"
          ],
          "name": "stdout"
        },
        {
          "output_type": "stream",
          "text": [
            "[Parallel(n_jobs=1)]: Done   2 out of   2 | elapsed:    7.2s remaining:    0.0s\n"
          ],
          "name": "stderr"
        },
        {
          "output_type": "stream",
          "text": [
            "[CV]  activation_function=softmax, init=uniform, score=0.997, total=   3.5s\n",
            "[CV] activation_function=softmax, init=uniform .......................\n"
          ],
          "name": "stdout"
        },
        {
          "output_type": "stream",
          "text": [
            "[Parallel(n_jobs=1)]: Done   3 out of   3 | elapsed:   10.7s remaining:    0.0s\n"
          ],
          "name": "stderr"
        },
        {
          "output_type": "stream",
          "text": [
            "[CV]  activation_function=softmax, init=uniform, score=0.996, total=   3.5s\n",
            "[CV] activation_function=softmax, init=uniform .......................\n"
          ],
          "name": "stdout"
        },
        {
          "output_type": "stream",
          "text": [
            "[Parallel(n_jobs=1)]: Done   4 out of   4 | elapsed:   14.2s remaining:    0.0s\n"
          ],
          "name": "stderr"
        },
        {
          "output_type": "stream",
          "text": [
            "[CV]  activation_function=softmax, init=uniform, score=0.995, total=   3.5s\n",
            "[CV] activation_function=softmax, init=normal ........................\n"
          ],
          "name": "stdout"
        },
        {
          "output_type": "stream",
          "text": [
            "[Parallel(n_jobs=1)]: Done   5 out of   5 | elapsed:   17.7s remaining:    0.0s\n"
          ],
          "name": "stderr"
        },
        {
          "output_type": "stream",
          "text": [
            "[CV]  activation_function=softmax, init=normal, score=0.990, total=   3.5s\n",
            "[CV] activation_function=softmax, init=normal ........................\n"
          ],
          "name": "stdout"
        },
        {
          "output_type": "stream",
          "text": [
            "[Parallel(n_jobs=1)]: Done   6 out of   6 | elapsed:   21.2s remaining:    0.0s\n"
          ],
          "name": "stderr"
        },
        {
          "output_type": "stream",
          "text": [
            "[CV]  activation_function=softmax, init=normal, score=0.996, total=   3.6s\n",
            "[CV] activation_function=softmax, init=normal ........................\n"
          ],
          "name": "stdout"
        },
        {
          "output_type": "stream",
          "text": [
            "[Parallel(n_jobs=1)]: Done   7 out of   7 | elapsed:   24.8s remaining:    0.0s\n"
          ],
          "name": "stderr"
        },
        {
          "output_type": "stream",
          "text": [
            "[CV]  activation_function=softmax, init=normal, score=0.997, total=   3.5s\n",
            "[CV] activation_function=softmax, init=normal ........................\n"
          ],
          "name": "stdout"
        },
        {
          "output_type": "stream",
          "text": [
            "[Parallel(n_jobs=1)]: Done   8 out of   8 | elapsed:   28.3s remaining:    0.0s\n"
          ],
          "name": "stderr"
        },
        {
          "output_type": "stream",
          "text": [
            "[CV]  activation_function=softmax, init=normal, score=0.996, total=   3.9s\n",
            "[CV] activation_function=softmax, init=normal ........................\n"
          ],
          "name": "stdout"
        },
        {
          "output_type": "stream",
          "text": [
            "[Parallel(n_jobs=1)]: Done   9 out of   9 | elapsed:   32.2s remaining:    0.0s\n"
          ],
          "name": "stderr"
        },
        {
          "output_type": "stream",
          "text": [
            "[CV]  activation_function=softmax, init=normal, score=0.994, total=   3.5s\n",
            "[CV] activation_function=softmax, init=zero ..........................\n",
            "[CV]  activation_function=softmax, init=zero, score=0.994, total=   3.5s\n",
            "[CV] activation_function=softmax, init=zero ..........................\n",
            "[CV]  activation_function=softmax, init=zero, score=0.996, total=   3.6s\n",
            "[CV] activation_function=softmax, init=zero ..........................\n",
            "[CV]  activation_function=softmax, init=zero, score=0.997, total=   3.6s\n",
            "[CV] activation_function=softmax, init=zero ..........................\n",
            "[CV]  activation_function=softmax, init=zero, score=0.996, total=   3.5s\n",
            "[CV] activation_function=softmax, init=zero ..........................\n",
            "[CV]  activation_function=softmax, init=zero, score=0.994, total=   3.5s\n",
            "[CV] activation_function=relu, init=uniform ..........................\n",
            "[CV]  activation_function=relu, init=uniform, score=0.996, total=   3.5s\n",
            "[CV] activation_function=relu, init=uniform ..........................\n",
            "[CV]  activation_function=relu, init=uniform, score=0.999, total=   3.5s\n",
            "[CV] activation_function=relu, init=uniform ..........................\n",
            "[CV]  activation_function=relu, init=uniform, score=0.997, total=   3.4s\n",
            "[CV] activation_function=relu, init=uniform ..........................\n",
            "[CV]  activation_function=relu, init=uniform, score=0.997, total=   3.8s\n",
            "[CV] activation_function=relu, init=uniform ..........................\n",
            "[CV]  activation_function=relu, init=uniform, score=0.996, total=   3.4s\n",
            "[CV] activation_function=relu, init=normal ...........................\n",
            "[CV]  activation_function=relu, init=normal, score=0.996, total=   3.4s\n",
            "[CV] activation_function=relu, init=normal ...........................\n",
            "[CV]  activation_function=relu, init=normal, score=0.998, total=   3.4s\n",
            "[CV] activation_function=relu, init=normal ...........................\n",
            "[CV]  activation_function=relu, init=normal, score=0.998, total=   3.4s\n",
            "[CV] activation_function=relu, init=normal ...........................\n",
            "[CV]  activation_function=relu, init=normal, score=0.997, total=   3.5s\n",
            "[CV] activation_function=relu, init=normal ...........................\n",
            "[CV]  activation_function=relu, init=normal, score=0.996, total=   3.5s\n",
            "[CV] activation_function=relu, init=zero .............................\n",
            "[CV] . activation_function=relu, init=zero, score=0.711, total=   3.4s\n",
            "[CV] activation_function=relu, init=zero .............................\n",
            "[CV] . activation_function=relu, init=zero, score=0.757, total=   3.4s\n",
            "[CV] activation_function=relu, init=zero .............................\n",
            "[CV] . activation_function=relu, init=zero, score=0.829, total=   3.5s\n",
            "[CV] activation_function=relu, init=zero .............................\n",
            "[CV] . activation_function=relu, init=zero, score=0.751, total=   3.8s\n",
            "[CV] activation_function=relu, init=zero .............................\n",
            "[CV] . activation_function=relu, init=zero, score=0.647, total=   3.4s\n",
            "[CV] activation_function=tanh, init=uniform ..........................\n",
            "[CV]  activation_function=tanh, init=uniform, score=0.997, total=   3.3s\n",
            "[CV] activation_function=tanh, init=uniform ..........................\n",
            "[CV]  activation_function=tanh, init=uniform, score=0.999, total=   3.4s\n",
            "[CV] activation_function=tanh, init=uniform ..........................\n",
            "[CV]  activation_function=tanh, init=uniform, score=0.998, total=   3.4s\n",
            "[CV] activation_function=tanh, init=uniform ..........................\n",
            "[CV]  activation_function=tanh, init=uniform, score=0.998, total=   3.4s\n",
            "[CV] activation_function=tanh, init=uniform ..........................\n",
            "[CV]  activation_function=tanh, init=uniform, score=0.996, total=   3.4s\n",
            "[CV] activation_function=tanh, init=normal ...........................\n",
            "[CV]  activation_function=tanh, init=normal, score=0.997, total=   3.4s\n",
            "[CV] activation_function=tanh, init=normal ...........................\n",
            "[CV]  activation_function=tanh, init=normal, score=0.999, total=   3.4s\n",
            "[CV] activation_function=tanh, init=normal ...........................\n",
            "[CV]  activation_function=tanh, init=normal, score=0.999, total=   3.7s\n",
            "[CV] activation_function=tanh, init=normal ...........................\n",
            "[CV]  activation_function=tanh, init=normal, score=0.998, total=   3.4s\n",
            "[CV] activation_function=tanh, init=normal ...........................\n",
            "[CV]  activation_function=tanh, init=normal, score=0.996, total=   3.4s\n",
            "[CV] activation_function=tanh, init=zero .............................\n",
            "[CV] . activation_function=tanh, init=zero, score=0.711, total=   3.3s\n",
            "[CV] activation_function=tanh, init=zero .............................\n",
            "[CV] . activation_function=tanh, init=zero, score=0.757, total=   3.3s\n",
            "[CV] activation_function=tanh, init=zero .............................\n",
            "[CV] . activation_function=tanh, init=zero, score=0.829, total=   3.4s\n",
            "[CV] activation_function=tanh, init=zero .............................\n",
            "[CV] . activation_function=tanh, init=zero, score=0.751, total=   3.3s\n",
            "[CV] activation_function=tanh, init=zero .............................\n",
            "[CV] . activation_function=tanh, init=zero, score=0.647, total=   3.4s\n",
            "[CV] activation_function=linear, init=uniform ........................\n",
            "[CV]  activation_function=linear, init=uniform, score=0.997, total=   3.4s\n",
            "[CV] activation_function=linear, init=uniform ........................\n",
            "[CV]  activation_function=linear, init=uniform, score=0.999, total=   3.4s\n",
            "[CV] activation_function=linear, init=uniform ........................\n",
            "[CV]  activation_function=linear, init=uniform, score=0.997, total=   3.8s\n",
            "[CV] activation_function=linear, init=uniform ........................\n",
            "[CV]  activation_function=linear, init=uniform, score=0.997, total=   3.4s\n",
            "[CV] activation_function=linear, init=uniform ........................\n",
            "[CV]  activation_function=linear, init=uniform, score=0.996, total=   3.4s\n",
            "[CV] activation_function=linear, init=normal .........................\n",
            "[CV]  activation_function=linear, init=normal, score=0.997, total=   3.4s\n",
            "[CV] activation_function=linear, init=normal .........................\n",
            "[CV]  activation_function=linear, init=normal, score=0.999, total=   3.4s\n",
            "[CV] activation_function=linear, init=normal .........................\n",
            "[CV]  activation_function=linear, init=normal, score=0.998, total=   3.3s\n",
            "[CV] activation_function=linear, init=normal .........................\n",
            "[CV]  activation_function=linear, init=normal, score=0.997, total=   3.4s\n",
            "[CV] activation_function=linear, init=normal .........................\n",
            "[CV]  activation_function=linear, init=normal, score=0.996, total=   3.4s\n",
            "[CV] activation_function=linear, init=zero ...........................\n",
            "[CV]  activation_function=linear, init=zero, score=0.711, total=   3.3s\n",
            "[CV] activation_function=linear, init=zero ...........................\n",
            "[CV]  activation_function=linear, init=zero, score=0.757, total=   3.3s\n",
            "[CV] activation_function=linear, init=zero ...........................\n",
            "[CV]  activation_function=linear, init=zero, score=0.829, total=   3.3s\n",
            "[CV] activation_function=linear, init=zero ...........................\n",
            "[CV]  activation_function=linear, init=zero, score=0.751, total=   3.8s\n",
            "[CV] activation_function=linear, init=zero ...........................\n",
            "[CV]  activation_function=linear, init=zero, score=0.647, total=   3.4s\n"
          ],
          "name": "stdout"
        },
        {
          "output_type": "stream",
          "text": [
            "[Parallel(n_jobs=1)]: Done  60 out of  60 | elapsed:  3.5min finished\n"
          ],
          "name": "stderr"
        }
      ]
    },
    {
      "cell_type": "code",
      "metadata": {
        "colab": {
          "base_uri": "https://localhost:8080/"
        },
        "id": "RVXmEOVJ40qj",
        "outputId": "963875c2-4474-4e57-b9f4-01216656c98c"
      },
      "source": [
        "# Summarize the results\n",
        "print('Best : {}, using {}'.format(grid_result.best_score_,grid_result.best_params_))\n",
        "means = grid_result.cv_results_['mean_test_score']\n",
        "stds = grid_result.cv_results_['std_test_score']\n",
        "params = grid_result.cv_results_['params']\n",
        "for mean, stdev, param in zip(means, stds, params):\n",
        "  print('{},{} with: {}'.format(mean, stdev, param))"
      ],
      "execution_count": null,
      "outputs": [
        {
          "output_type": "stream",
          "text": [
            "Best : 0.9975396037101746, using {'activation_function': 'tanh', 'init': 'normal'}\n",
            "0.9955449104309082,0.0012368243708372887 with: {'activation_function': 'softmax', 'init': 'uniform'}\n",
            "0.9946139812469482,0.0026795332835841167 with: {'activation_function': 'softmax', 'init': 'normal'}\n",
            "0.9952788591384888,0.0012513896725874472 with: {'activation_function': 'softmax', 'init': 'zero'}\n",
            "0.9971407294273377,0.0009310553099329507 with: {'activation_function': 'relu', 'init': 'uniform'}\n",
            "0.9970741868019104,0.0008518096302247438 with: {'activation_function': 'relu', 'init': 'normal'}\n",
            "0.7390058159828186,0.05940332234183723 with: {'activation_function': 'relu', 'init': 'zero'}\n",
            "0.9974731087684632,0.0011823645736258948 with: {'activation_function': 'tanh', 'init': 'uniform'}\n",
            "0.9975396037101746,0.0012371985508930674 with: {'activation_function': 'tanh', 'init': 'normal'}\n",
            "0.7390058159828186,0.05940332234183723 with: {'activation_function': 'tanh', 'init': 'zero'}\n",
            "0.9972071766853332,0.0009998674306711988 with: {'activation_function': 'linear', 'init': 'uniform'}\n",
            "0.997473132610321,0.0012008219888675921 with: {'activation_function': 'linear', 'init': 'normal'}\n",
            "0.7390058159828186,0.05940332234183723 with: {'activation_function': 'linear', 'init': 'zero'}\n"
          ],
          "name": "stdout"
        }
      ]
    },
    {
      "cell_type": "markdown",
      "metadata": {
        "id": "9nNzKOjz7kXj"
      },
      "source": [
        "Tuning of Hyperparameter :-Number of Neurons in activation layer"
      ]
    },
    {
      "cell_type": "code",
      "metadata": {
        "colab": {
          "base_uri": "https://localhost:8080/"
        },
        "id": "8JTGm4pn7h6Z",
        "outputId": "191083fe-8de0-492e-d44a-48a477983c2a"
      },
      "source": [
        "# Defining the model\n",
        "\n",
        "def create_model(neuron1,neuron2):\n",
        "    model = Sequential()\n",
        "    model.add(Dense(neuron1,input_dim = 7,kernel_initializer = 'uniform',activation = 'tanh'))\n",
        "    model.add(Dropout(0.1))\n",
        "    model.add(Dense(neuron2,input_dim = neuron1,kernel_initializer = 'uniform',activation = 'tanh'))\n",
        "    model.add(Dropout(0.1))\n",
        "    model.add(Dense(1,activation = 'tanh'))\n",
        "    \n",
        "    adam = Adam(lr = 0.001)\n",
        "    model.compile(loss = 'binary_crossentropy',optimizer = adam,metrics = ['accuracy'])\n",
        "    return model\n",
        "\n",
        "# Create the model\n",
        "\n",
        "model = KerasClassifier(build_fn = create_model,verbose = 0,batch_size = 40,epochs = 10)\n",
        "\n",
        "# Define the grid search parameters\n",
        "\n",
        "neuron1 = [4,8,16]\n",
        "neuron2 = [2,4,8]\n",
        "\n",
        "# Make a dictionary of the grid search parameters\n",
        "\n",
        "param_grids = dict(neuron1 = neuron1,neuron2 = neuron2)\n",
        "\n",
        "# Build and fit the GridSearchCV\n",
        "\n",
        "grid = GridSearchCV(estimator = model,param_grid = param_grids,cv = KFold(),verbose = 10)\n",
        "grid_result = grid.fit(X_standardized,yh)\n"
      ],
      "execution_count": null,
      "outputs": [
        {
          "output_type": "stream",
          "text": [
            "Fitting 5 folds for each of 9 candidates, totalling 45 fits\n",
            "[CV] neuron1=4, neuron2=2 ............................................\n"
          ],
          "name": "stdout"
        },
        {
          "output_type": "stream",
          "text": [
            "[Parallel(n_jobs=1)]: Using backend SequentialBackend with 1 concurrent workers.\n"
          ],
          "name": "stderr"
        },
        {
          "output_type": "stream",
          "text": [
            "[CV] ................ neuron1=4, neuron2=2, score=0.990, total=   3.5s\n",
            "[CV] neuron1=4, neuron2=2 ............................................\n"
          ],
          "name": "stdout"
        },
        {
          "output_type": "stream",
          "text": [
            "[Parallel(n_jobs=1)]: Done   1 out of   1 | elapsed:    3.5s remaining:    0.0s\n"
          ],
          "name": "stderr"
        },
        {
          "output_type": "stream",
          "text": [
            "[CV] ................ neuron1=4, neuron2=2, score=0.992, total=   3.5s\n",
            "[CV] neuron1=4, neuron2=2 ............................................\n"
          ],
          "name": "stdout"
        },
        {
          "output_type": "stream",
          "text": [
            "[Parallel(n_jobs=1)]: Done   2 out of   2 | elapsed:    7.0s remaining:    0.0s\n"
          ],
          "name": "stderr"
        },
        {
          "output_type": "stream",
          "text": [
            "[CV] ................ neuron1=4, neuron2=2, score=0.986, total=   3.5s\n",
            "[CV] neuron1=4, neuron2=2 ............................................\n"
          ],
          "name": "stdout"
        },
        {
          "output_type": "stream",
          "text": [
            "[Parallel(n_jobs=1)]: Done   3 out of   3 | elapsed:   10.5s remaining:    0.0s\n"
          ],
          "name": "stderr"
        },
        {
          "output_type": "stream",
          "text": [
            "[CV] ................ neuron1=4, neuron2=2, score=0.995, total=   3.5s\n",
            "[CV] neuron1=4, neuron2=2 ............................................\n"
          ],
          "name": "stdout"
        },
        {
          "output_type": "stream",
          "text": [
            "[Parallel(n_jobs=1)]: Done   4 out of   4 | elapsed:   14.0s remaining:    0.0s\n"
          ],
          "name": "stderr"
        },
        {
          "output_type": "stream",
          "text": [
            "[CV] ................ neuron1=4, neuron2=2, score=0.986, total=   3.5s\n",
            "[CV] neuron1=4, neuron2=4 ............................................\n"
          ],
          "name": "stdout"
        },
        {
          "output_type": "stream",
          "text": [
            "[Parallel(n_jobs=1)]: Done   5 out of   5 | elapsed:   17.5s remaining:    0.0s\n"
          ],
          "name": "stderr"
        },
        {
          "output_type": "stream",
          "text": [
            "[CV] ................ neuron1=4, neuron2=4, score=0.993, total=   3.4s\n",
            "[CV] neuron1=4, neuron2=4 ............................................\n"
          ],
          "name": "stdout"
        },
        {
          "output_type": "stream",
          "text": [
            "[Parallel(n_jobs=1)]: Done   6 out of   6 | elapsed:   20.9s remaining:    0.0s\n"
          ],
          "name": "stderr"
        },
        {
          "output_type": "stream",
          "text": [
            "[CV] ................ neuron1=4, neuron2=4, score=0.995, total=   3.4s\n",
            "[CV] neuron1=4, neuron2=4 ............................................\n"
          ],
          "name": "stdout"
        },
        {
          "output_type": "stream",
          "text": [
            "[Parallel(n_jobs=1)]: Done   7 out of   7 | elapsed:   24.3s remaining:    0.0s\n"
          ],
          "name": "stderr"
        },
        {
          "output_type": "stream",
          "text": [
            "[CV] ................ neuron1=4, neuron2=4, score=0.997, total=   3.8s\n",
            "[CV] neuron1=4, neuron2=4 ............................................\n"
          ],
          "name": "stdout"
        },
        {
          "output_type": "stream",
          "text": [
            "[Parallel(n_jobs=1)]: Done   8 out of   8 | elapsed:   28.1s remaining:    0.0s\n"
          ],
          "name": "stderr"
        },
        {
          "output_type": "stream",
          "text": [
            "[CV] ................ neuron1=4, neuron2=4, score=0.994, total=   3.4s\n",
            "[CV] neuron1=4, neuron2=4 ............................................\n"
          ],
          "name": "stdout"
        },
        {
          "output_type": "stream",
          "text": [
            "[Parallel(n_jobs=1)]: Done   9 out of   9 | elapsed:   31.6s remaining:    0.0s\n"
          ],
          "name": "stderr"
        },
        {
          "output_type": "stream",
          "text": [
            "[CV] ................ neuron1=4, neuron2=4, score=0.995, total=   3.5s\n",
            "[CV] neuron1=4, neuron2=8 ............................................\n",
            "[CV] ................ neuron1=4, neuron2=8, score=0.995, total=   3.4s\n",
            "[CV] neuron1=4, neuron2=8 ............................................\n",
            "[CV] ................ neuron1=4, neuron2=8, score=0.997, total=   3.4s\n",
            "[CV] neuron1=4, neuron2=8 ............................................\n",
            "[CV] ................ neuron1=4, neuron2=8, score=0.998, total=   3.4s\n",
            "[CV] neuron1=4, neuron2=8 ............................................\n",
            "[CV] ................ neuron1=4, neuron2=8, score=0.997, total=   3.4s\n",
            "[CV] neuron1=4, neuron2=8 ............................................\n",
            "[CV] ................ neuron1=4, neuron2=8, score=0.995, total=   3.4s\n",
            "[CV] neuron1=8, neuron2=2 ............................................\n",
            "[CV] ................ neuron1=8, neuron2=2, score=0.989, total=   3.4s\n",
            "[CV] neuron1=8, neuron2=2 ............................................\n",
            "[CV] ................ neuron1=8, neuron2=2, score=0.991, total=   3.8s\n",
            "[CV] neuron1=8, neuron2=2 ............................................\n",
            "[CV] ................ neuron1=8, neuron2=2, score=0.994, total=   3.4s\n",
            "[CV] neuron1=8, neuron2=2 ............................................\n",
            "[CV] ................ neuron1=8, neuron2=2, score=0.995, total=   3.4s\n",
            "[CV] neuron1=8, neuron2=2 ............................................\n",
            "[CV] ................ neuron1=8, neuron2=2, score=0.984, total=   3.4s\n",
            "[CV] neuron1=8, neuron2=4 ............................................\n",
            "[CV] ................ neuron1=8, neuron2=4, score=0.993, total=   3.5s\n",
            "[CV] neuron1=8, neuron2=4 ............................................\n",
            "[CV] ................ neuron1=8, neuron2=4, score=0.995, total=   3.4s\n",
            "[CV] neuron1=8, neuron2=4 ............................................\n",
            "[CV] ................ neuron1=8, neuron2=4, score=0.992, total=   3.5s\n",
            "[CV] neuron1=8, neuron2=4 ............................................\n",
            "[CV] ................ neuron1=8, neuron2=4, score=0.997, total=   3.4s\n",
            "[CV] neuron1=8, neuron2=4 ............................................\n",
            "[CV] ................ neuron1=8, neuron2=4, score=0.994, total=   3.5s\n",
            "[CV] neuron1=8, neuron2=8 ............................................\n",
            "[CV] ................ neuron1=8, neuron2=8, score=0.995, total=   3.8s\n",
            "[CV] neuron1=8, neuron2=8 ............................................\n",
            "[CV] ................ neuron1=8, neuron2=8, score=0.994, total=   3.5s\n",
            "[CV] neuron1=8, neuron2=8 ............................................\n",
            "[CV] ................ neuron1=8, neuron2=8, score=0.996, total=   3.4s\n",
            "[CV] neuron1=8, neuron2=8 ............................................\n",
            "[CV] ................ neuron1=8, neuron2=8, score=0.997, total=   3.5s\n",
            "[CV] neuron1=8, neuron2=8 ............................................\n",
            "[CV] ................ neuron1=8, neuron2=8, score=0.996, total=   3.4s\n",
            "[CV] neuron1=16, neuron2=2 ...........................................\n",
            "[CV] ............... neuron1=16, neuron2=2, score=0.992, total=   3.4s\n",
            "[CV] neuron1=16, neuron2=2 ...........................................\n",
            "[CV] ............... neuron1=16, neuron2=2, score=0.993, total=   3.5s\n",
            "[CV] neuron1=16, neuron2=2 ...........................................\n",
            "[CV] ............... neuron1=16, neuron2=2, score=0.996, total=   3.5s\n",
            "[CV] neuron1=16, neuron2=2 ...........................................\n",
            "[CV] ............... neuron1=16, neuron2=2, score=0.996, total=   3.4s\n",
            "[CV] neuron1=16, neuron2=2 ...........................................\n",
            "[CV] ............... neuron1=16, neuron2=2, score=0.993, total=   3.4s\n",
            "[CV] neuron1=16, neuron2=4 ...........................................\n",
            "[CV] ............... neuron1=16, neuron2=4, score=0.995, total=   3.9s\n",
            "[CV] neuron1=16, neuron2=4 ...........................................\n",
            "[CV] ............... neuron1=16, neuron2=4, score=0.997, total=   3.4s\n",
            "[CV] neuron1=16, neuron2=4 ...........................................\n",
            "[CV] ............... neuron1=16, neuron2=4, score=0.997, total=   3.5s\n",
            "[CV] neuron1=16, neuron2=4 ...........................................\n",
            "[CV] ............... neuron1=16, neuron2=4, score=0.997, total=   3.4s\n",
            "[CV] neuron1=16, neuron2=4 ...........................................\n",
            "[CV] ............... neuron1=16, neuron2=4, score=0.994, total=   3.4s\n",
            "[CV] neuron1=16, neuron2=8 ...........................................\n",
            "[CV] ............... neuron1=16, neuron2=8, score=0.992, total=   3.4s\n",
            "[CV] neuron1=16, neuron2=8 ...........................................\n",
            "[CV] ............... neuron1=16, neuron2=8, score=0.997, total=   3.5s\n",
            "[CV] neuron1=16, neuron2=8 ...........................................\n",
            "[CV] ............... neuron1=16, neuron2=8, score=0.998, total=   3.5s\n",
            "[CV] neuron1=16, neuron2=8 ...........................................\n",
            "[CV] ............... neuron1=16, neuron2=8, score=0.997, total=   3.4s\n",
            "[CV] neuron1=16, neuron2=8 ...........................................\n",
            "[CV] ............... neuron1=16, neuron2=8, score=0.994, total=   3.8s\n"
          ],
          "name": "stdout"
        },
        {
          "output_type": "stream",
          "text": [
            "[Parallel(n_jobs=1)]: Done  45 out of  45 | elapsed:  2.6min finished\n"
          ],
          "name": "stderr"
        }
      ]
    },
    {
      "cell_type": "code",
      "metadata": {
        "colab": {
          "base_uri": "https://localhost:8080/"
        },
        "id": "UcASqy0A7_le",
        "outputId": "631786be-7c98-439f-d3c7-9b88d7b29d12"
      },
      "source": [
        "# Summarize the results\n",
        "print('Best : {}, using {}'.format(grid_result.best_score_,grid_result.best_params_))\n",
        "means = grid_result.cv_results_['mean_test_score']\n",
        "stds = grid_result.cv_results_['std_test_score']\n",
        "params = grid_result.cv_results_['params']\n",
        "for mean, stdev, param in zip(means, stds, params):\n",
        "  print('{},{} with: {}'.format(mean, stdev, param))"
      ],
      "execution_count": null,
      "outputs": [
        {
          "output_type": "stream",
          "text": [
            "Best : 0.996409273147583, using {'neuron1': 4, 'neuron2': 8}\n",
            "0.9897596836090088,0.003503009476142888 with: {'neuron1': 4, 'neuron2': 2}\n",
            "0.9950129628181458,0.00131307045022848 with: {'neuron1': 4, 'neuron2': 4}\n",
            "0.996409273147583,0.0011008925143488834 with: {'neuron1': 4, 'neuron2': 8}\n",
            "0.9906904578208924,0.003974359975712753 with: {'neuron1': 8, 'neuron2': 2}\n",
            "0.9942815065383911,0.0015650348470861459 with: {'neuron1': 8, 'neuron2': 4}\n",
            "0.9955449342727661,0.0010428079203300643 with: {'neuron1': 8, 'neuron2': 8}\n",
            "0.9941484451293945,0.0018042022534286608 with: {'neuron1': 16, 'neuron2': 2}\n",
            "0.9958107829093933,0.0011052610341465304 with: {'neuron1': 16, 'neuron2': 4}\n",
            "0.9954783082008362,0.002231452419751069 with: {'neuron1': 16, 'neuron2': 8}\n"
          ],
          "name": "stdout"
        }
      ]
    },
    {
      "cell_type": "markdown",
      "metadata": {
        "id": "AnTvNKXj8EG2"
      },
      "source": [
        "#### Training model with optimum values of Hyperparameters"
      ]
    },
    {
      "cell_type": "code",
      "metadata": {
        "colab": {
          "base_uri": "https://localhost:8080/"
        },
        "id": "GNHrlzW38GEj",
        "outputId": "14472373-d6e9-4ba1-dd0f-e2eed6d1a2ad"
      },
      "source": [
        "from sklearn.metrics import classification_report, accuracy_score\n",
        "\n",
        "# Defining the model\n",
        "\n",
        "def create_model():\n",
        "    model = Sequential()\n",
        "    model.add(Dense(8,input_dim = 7,kernel_initializer = 'normal',activation = 'tanh'))\n",
        "    model.add(Dropout(0.1))\n",
        "    model.add(Dense(4,input_dim = 7,kernel_initializer = 'normal',activation = 'tanh'))\n",
        "    model.add(Dropout(0.1))\n",
        "    model.add(Dense(1,activation = 'tanh'))\n",
        "    \n",
        "    adam = Adam(lr = 0.001) #sgd = SGD(lr=learning_rate, momentum=momentum, decay=decay_rate, nesterov=False)\n",
        "    model.compile(loss ='mae',optimizer = adam,metrics = ['accuracy'])\n",
        "    return model\n",
        "\n",
        "# Create the model\n",
        "\n",
        "model = KerasClassifier(build_fn = create_model,verbose = 0,batch_size = 40,epochs = 20)\n",
        "\n",
        "# Fitting the model\n",
        "\n",
        "model.fit(X_standardized,yh)\n",
        "\n",
        "# Predicting using trained model\n",
        "\n",
        "y_predict = model.predict(X_standardized)\n",
        "\n",
        "# Printing the metrics\n",
        "print(accuracy_score(yh,y_predict))"
      ],
      "execution_count": null,
      "outputs": [
        {
          "output_type": "stream",
          "text": [
            "/usr/local/lib/python3.7/dist-packages/tensorflow/python/keras/engine/sequential.py:450: UserWarning: `model.predict_classes()` is deprecated and will be removed after 2021-01-01. Please use instead:* `np.argmax(model.predict(x), axis=-1)`,   if your model does multi-class classification   (e.g. if it uses a `softmax` last-layer activation).* `(model.predict(x) > 0.5).astype(\"int32\")`,   if your model does binary classification   (e.g. if it uses a `sigmoid` last-layer activation).\n",
            "  warnings.warn('`model.predict_classes()` is deprecated and '\n"
          ],
          "name": "stderr"
        },
        {
          "output_type": "stream",
          "text": [
            "0.9340381674313452\n"
          ],
          "name": "stdout"
        }
      ]
    },
    {
      "cell_type": "code",
      "metadata": {
        "id": "Oyd9dVvT9o_2"
      },
      "source": [
        "gas_turb[\"y\"]=yh\n",
        "gas_turb[\"y_pred\"]=y_predict"
      ],
      "execution_count": null,
      "outputs": []
    },
    {
      "cell_type": "code",
      "metadata": {
        "colab": {
          "base_uri": "https://localhost:8080/",
          "height": 399
        },
        "id": "JTiRIKyE-EV2",
        "outputId": "3686931c-744f-4691-ac4e-41292fdfd6c6"
      },
      "source": [
        "gas_turb"
      ],
      "execution_count": null,
      "outputs": [
        {
          "output_type": "execute_result",
          "data": {
            "text/html": [
              "<div>\n",
              "<style scoped>\n",
              "    .dataframe tbody tr th:only-of-type {\n",
              "        vertical-align: middle;\n",
              "    }\n",
              "\n",
              "    .dataframe tbody tr th {\n",
              "        vertical-align: top;\n",
              "    }\n",
              "\n",
              "    .dataframe thead th {\n",
              "        text-align: right;\n",
              "    }\n",
              "</style>\n",
              "<table border=\"1\" class=\"dataframe\">\n",
              "  <thead>\n",
              "    <tr style=\"text-align: right;\">\n",
              "      <th></th>\n",
              "      <th>AT</th>\n",
              "      <th>AP</th>\n",
              "      <th>AH</th>\n",
              "      <th>AFDP</th>\n",
              "      <th>GTEP</th>\n",
              "      <th>TIT</th>\n",
              "      <th>TAT</th>\n",
              "      <th>TEY</th>\n",
              "      <th>CDP</th>\n",
              "      <th>CO</th>\n",
              "      <th>NOX</th>\n",
              "      <th>class</th>\n",
              "      <th>y</th>\n",
              "      <th>y_pred</th>\n",
              "    </tr>\n",
              "  </thead>\n",
              "  <tbody>\n",
              "    <tr>\n",
              "      <th>0</th>\n",
              "      <td>6.8594</td>\n",
              "      <td>1007.9</td>\n",
              "      <td>96.799</td>\n",
              "      <td>3.5000</td>\n",
              "      <td>19.663</td>\n",
              "      <td>1059.2</td>\n",
              "      <td>550.00</td>\n",
              "      <td>114.70</td>\n",
              "      <td>10.605</td>\n",
              "      <td>3.1547</td>\n",
              "      <td>82.722</td>\n",
              "      <td>0</td>\n",
              "      <td>0</td>\n",
              "      <td>0</td>\n",
              "    </tr>\n",
              "    <tr>\n",
              "      <th>1</th>\n",
              "      <td>6.7850</td>\n",
              "      <td>1008.4</td>\n",
              "      <td>97.118</td>\n",
              "      <td>3.4998</td>\n",
              "      <td>19.728</td>\n",
              "      <td>1059.3</td>\n",
              "      <td>550.00</td>\n",
              "      <td>114.72</td>\n",
              "      <td>10.598</td>\n",
              "      <td>3.2363</td>\n",
              "      <td>82.776</td>\n",
              "      <td>0</td>\n",
              "      <td>0</td>\n",
              "      <td>0</td>\n",
              "    </tr>\n",
              "    <tr>\n",
              "      <th>2</th>\n",
              "      <td>6.8977</td>\n",
              "      <td>1008.8</td>\n",
              "      <td>95.939</td>\n",
              "      <td>3.4824</td>\n",
              "      <td>19.779</td>\n",
              "      <td>1059.4</td>\n",
              "      <td>549.87</td>\n",
              "      <td>114.71</td>\n",
              "      <td>10.601</td>\n",
              "      <td>3.2012</td>\n",
              "      <td>82.468</td>\n",
              "      <td>0</td>\n",
              "      <td>0</td>\n",
              "      <td>0</td>\n",
              "    </tr>\n",
              "    <tr>\n",
              "      <th>3</th>\n",
              "      <td>7.0569</td>\n",
              "      <td>1009.2</td>\n",
              "      <td>95.249</td>\n",
              "      <td>3.4805</td>\n",
              "      <td>19.792</td>\n",
              "      <td>1059.6</td>\n",
              "      <td>549.99</td>\n",
              "      <td>114.72</td>\n",
              "      <td>10.606</td>\n",
              "      <td>3.1923</td>\n",
              "      <td>82.670</td>\n",
              "      <td>0</td>\n",
              "      <td>0</td>\n",
              "      <td>0</td>\n",
              "    </tr>\n",
              "    <tr>\n",
              "      <th>4</th>\n",
              "      <td>7.3978</td>\n",
              "      <td>1009.7</td>\n",
              "      <td>95.150</td>\n",
              "      <td>3.4976</td>\n",
              "      <td>19.765</td>\n",
              "      <td>1059.7</td>\n",
              "      <td>549.98</td>\n",
              "      <td>114.72</td>\n",
              "      <td>10.612</td>\n",
              "      <td>3.2484</td>\n",
              "      <td>82.311</td>\n",
              "      <td>0</td>\n",
              "      <td>0</td>\n",
              "      <td>0</td>\n",
              "    </tr>\n",
              "    <tr>\n",
              "      <th>...</th>\n",
              "      <td>...</td>\n",
              "      <td>...</td>\n",
              "      <td>...</td>\n",
              "      <td>...</td>\n",
              "      <td>...</td>\n",
              "      <td>...</td>\n",
              "      <td>...</td>\n",
              "      <td>...</td>\n",
              "      <td>...</td>\n",
              "      <td>...</td>\n",
              "      <td>...</td>\n",
              "      <td>...</td>\n",
              "      <td>...</td>\n",
              "      <td>...</td>\n",
              "    </tr>\n",
              "    <tr>\n",
              "      <th>15034</th>\n",
              "      <td>9.0301</td>\n",
              "      <td>1005.6</td>\n",
              "      <td>98.460</td>\n",
              "      <td>3.5421</td>\n",
              "      <td>19.164</td>\n",
              "      <td>1049.7</td>\n",
              "      <td>546.21</td>\n",
              "      <td>111.61</td>\n",
              "      <td>10.400</td>\n",
              "      <td>4.5186</td>\n",
              "      <td>79.559</td>\n",
              "      <td>0</td>\n",
              "      <td>0</td>\n",
              "      <td>0</td>\n",
              "    </tr>\n",
              "    <tr>\n",
              "      <th>15035</th>\n",
              "      <td>7.8879</td>\n",
              "      <td>1005.9</td>\n",
              "      <td>99.093</td>\n",
              "      <td>3.5059</td>\n",
              "      <td>19.414</td>\n",
              "      <td>1046.3</td>\n",
              "      <td>543.22</td>\n",
              "      <td>111.78</td>\n",
              "      <td>10.433</td>\n",
              "      <td>4.8470</td>\n",
              "      <td>79.917</td>\n",
              "      <td>0</td>\n",
              "      <td>0</td>\n",
              "      <td>0</td>\n",
              "    </tr>\n",
              "    <tr>\n",
              "      <th>15036</th>\n",
              "      <td>7.2647</td>\n",
              "      <td>1006.3</td>\n",
              "      <td>99.496</td>\n",
              "      <td>3.4770</td>\n",
              "      <td>19.530</td>\n",
              "      <td>1037.7</td>\n",
              "      <td>537.32</td>\n",
              "      <td>110.19</td>\n",
              "      <td>10.483</td>\n",
              "      <td>7.9632</td>\n",
              "      <td>90.912</td>\n",
              "      <td>0</td>\n",
              "      <td>0</td>\n",
              "      <td>0</td>\n",
              "    </tr>\n",
              "    <tr>\n",
              "      <th>15037</th>\n",
              "      <td>7.0060</td>\n",
              "      <td>1006.8</td>\n",
              "      <td>99.008</td>\n",
              "      <td>3.4486</td>\n",
              "      <td>19.377</td>\n",
              "      <td>1043.2</td>\n",
              "      <td>541.24</td>\n",
              "      <td>110.74</td>\n",
              "      <td>10.533</td>\n",
              "      <td>6.2494</td>\n",
              "      <td>93.227</td>\n",
              "      <td>0</td>\n",
              "      <td>0</td>\n",
              "      <td>0</td>\n",
              "    </tr>\n",
              "    <tr>\n",
              "      <th>15038</th>\n",
              "      <td>6.9279</td>\n",
              "      <td>1007.2</td>\n",
              "      <td>97.533</td>\n",
              "      <td>3.4275</td>\n",
              "      <td>19.306</td>\n",
              "      <td>1049.9</td>\n",
              "      <td>545.85</td>\n",
              "      <td>111.58</td>\n",
              "      <td>10.583</td>\n",
              "      <td>4.9816</td>\n",
              "      <td>92.498</td>\n",
              "      <td>0</td>\n",
              "      <td>0</td>\n",
              "      <td>0</td>\n",
              "    </tr>\n",
              "  </tbody>\n",
              "</table>\n",
              "<p>15039 rows × 14 columns</p>\n",
              "</div>"
            ],
            "text/plain": [
              "           AT      AP      AH    AFDP    GTEP  ...      CO     NOX  class  y  y_pred\n",
              "0      6.8594  1007.9  96.799  3.5000  19.663  ...  3.1547  82.722      0  0       0\n",
              "1      6.7850  1008.4  97.118  3.4998  19.728  ...  3.2363  82.776      0  0       0\n",
              "2      6.8977  1008.8  95.939  3.4824  19.779  ...  3.2012  82.468      0  0       0\n",
              "3      7.0569  1009.2  95.249  3.4805  19.792  ...  3.1923  82.670      0  0       0\n",
              "4      7.3978  1009.7  95.150  3.4976  19.765  ...  3.2484  82.311      0  0       0\n",
              "...       ...     ...     ...     ...     ...  ...     ...     ...    ... ..     ...\n",
              "15034  9.0301  1005.6  98.460  3.5421  19.164  ...  4.5186  79.559      0  0       0\n",
              "15035  7.8879  1005.9  99.093  3.5059  19.414  ...  4.8470  79.917      0  0       0\n",
              "15036  7.2647  1006.3  99.496  3.4770  19.530  ...  7.9632  90.912      0  0       0\n",
              "15037  7.0060  1006.8  99.008  3.4486  19.377  ...  6.2494  93.227      0  0       0\n",
              "15038  6.9279  1007.2  97.533  3.4275  19.306  ...  4.9816  92.498      0  0       0\n",
              "\n",
              "[15039 rows x 14 columns]"
            ]
          },
          "metadata": {
            "tags": []
          },
          "execution_count": 145
        }
      ]
    }
  ]
}