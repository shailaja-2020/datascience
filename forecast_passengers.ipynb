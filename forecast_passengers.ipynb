{
  "nbformat": 4,
  "nbformat_minor": 0,
  "metadata": {
    "kernelspec": {
      "display_name": "Python 3",
      "language": "python",
      "name": "python3"
    },
    "language_info": {
      "codemirror_mode": {
        "name": "ipython",
        "version": 3
      },
      "file_extension": ".py",
      "mimetype": "text/x-python",
      "name": "python",
      "nbconvert_exporter": "python",
      "pygments_lexer": "ipython3",
      "version": "3.7.4"
    },
    "colab": {
      "name": "forecast passengers.ipynb",
      "provenance": [],
      "collapsed_sections": []
    }
  },
  "cells": [
    {
      "cell_type": "code",
      "metadata": {
        "id": "u2aQvbTwP5P6"
      },
      "source": [
        ""
      ],
      "execution_count": null,
      "outputs": []
    },
    {
      "cell_type": "markdown",
      "metadata": {
        "id": "vas0lrIW8fe8"
      },
      "source": [
        "#### Line plot"
      ]
    },
    {
      "cell_type": "code",
      "metadata": {
        "id": "yHmqrlbd8fe-"
      },
      "source": [
        "# create a line plot\n",
        "from pandas import read_csv\n",
        "from matplotlib import pyplot"
      ],
      "execution_count": null,
      "outputs": []
    },
    {
      "cell_type": "code",
      "metadata": {
        "colab": {
          "resources": {
            "http://localhost:8080/nbextensions/google.colab/files.js": {
              "data": "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",
              "ok": true,
              "headers": [
                [
                  "content-type",
                  "application/javascript"
                ]
              ],
              "status": 200,
              "status_text": ""
            }
          },
          "base_uri": "https://localhost:8080/",
          "height": 74
        },
        "id": "XMon_hEN80BH",
        "outputId": "24760bd9-7389-4c76-d435-8b74567351c5"
      },
      "source": [
        "from google.colab import files\n",
        "uploaded=files.upload()"
      ],
      "execution_count": null,
      "outputs": [
        {
          "output_type": "display_data",
          "data": {
            "text/html": [
              "\n",
              "     <input type=\"file\" id=\"files-b8393939-27fc-4ab7-a674-d1c2d21c99e8\" name=\"files[]\" multiple disabled\n",
              "        style=\"border:none\" />\n",
              "     <output id=\"result-b8393939-27fc-4ab7-a674-d1c2d21c99e8\">\n",
              "      Upload widget is only available when the cell has been executed in the\n",
              "      current browser session. Please rerun this cell to enable.\n",
              "      </output>\n",
              "      <script src=\"/nbextensions/google.colab/files.js\"></script> "
            ],
            "text/plain": [
              "<IPython.core.display.HTML object>"
            ]
          },
          "metadata": {
            "tags": []
          }
        },
        {
          "output_type": "stream",
          "text": [
            "Saving ad.csv to ad (2).csv\n"
          ],
          "name": "stdout"
        }
      ]
    },
    {
      "cell_type": "code",
      "metadata": {
        "id": "VcF0Zxrg8fe-",
        "colab": {
          "base_uri": "https://localhost:8080/",
          "height": 402
        },
        "outputId": "0d51fc0c-ce73-40c3-ecd0-22dd00ae017a"
      },
      "source": [
        "series = read_csv('ad.csv')\n",
        "series\n"
      ],
      "execution_count": null,
      "outputs": [
        {
          "output_type": "execute_result",
          "data": {
            "text/html": [
              "<div>\n",
              "<style scoped>\n",
              "    .dataframe tbody tr th:only-of-type {\n",
              "        vertical-align: middle;\n",
              "    }\n",
              "\n",
              "    .dataframe tbody tr th {\n",
              "        vertical-align: top;\n",
              "    }\n",
              "\n",
              "    .dataframe thead th {\n",
              "        text-align: right;\n",
              "    }\n",
              "</style>\n",
              "<table border=\"1\" class=\"dataframe\">\n",
              "  <thead>\n",
              "    <tr style=\"text-align: right;\">\n",
              "      <th></th>\n",
              "      <th>Month</th>\n",
              "      <th>Passengers</th>\n",
              "    </tr>\n",
              "  </thead>\n",
              "  <tbody>\n",
              "    <tr>\n",
              "      <th>0</th>\n",
              "      <td>Jan-95</td>\n",
              "      <td>112</td>\n",
              "    </tr>\n",
              "    <tr>\n",
              "      <th>1</th>\n",
              "      <td>Feb-95</td>\n",
              "      <td>118</td>\n",
              "    </tr>\n",
              "    <tr>\n",
              "      <th>2</th>\n",
              "      <td>Mar-95</td>\n",
              "      <td>132</td>\n",
              "    </tr>\n",
              "    <tr>\n",
              "      <th>3</th>\n",
              "      <td>Apr-95</td>\n",
              "      <td>129</td>\n",
              "    </tr>\n",
              "    <tr>\n",
              "      <th>4</th>\n",
              "      <td>May-95</td>\n",
              "      <td>121</td>\n",
              "    </tr>\n",
              "    <tr>\n",
              "      <th>...</th>\n",
              "      <td>...</td>\n",
              "      <td>...</td>\n",
              "    </tr>\n",
              "    <tr>\n",
              "      <th>91</th>\n",
              "      <td>Aug-02</td>\n",
              "      <td>405</td>\n",
              "    </tr>\n",
              "    <tr>\n",
              "      <th>92</th>\n",
              "      <td>Sep-02</td>\n",
              "      <td>355</td>\n",
              "    </tr>\n",
              "    <tr>\n",
              "      <th>93</th>\n",
              "      <td>Oct-02</td>\n",
              "      <td>306</td>\n",
              "    </tr>\n",
              "    <tr>\n",
              "      <th>94</th>\n",
              "      <td>Nov-02</td>\n",
              "      <td>271</td>\n",
              "    </tr>\n",
              "    <tr>\n",
              "      <th>95</th>\n",
              "      <td>Dec-02</td>\n",
              "      <td>306</td>\n",
              "    </tr>\n",
              "  </tbody>\n",
              "</table>\n",
              "<p>96 rows × 2 columns</p>\n",
              "</div>"
            ],
            "text/plain": [
              "     Month  Passengers\n",
              "0   Jan-95         112\n",
              "1   Feb-95         118\n",
              "2   Mar-95         132\n",
              "3   Apr-95         129\n",
              "4   May-95         121\n",
              "..     ...         ...\n",
              "91  Aug-02         405\n",
              "92  Sep-02         355\n",
              "93  Oct-02         306\n",
              "94  Nov-02         271\n",
              "95  Dec-02         306\n",
              "\n",
              "[96 rows x 2 columns]"
            ]
          },
          "metadata": {
            "tags": []
          },
          "execution_count": 190
        }
      ]
    },
    {
      "cell_type": "markdown",
      "metadata": {
        "id": "SUkfQy4T8ffB"
      },
      "source": [
        "#### Histogram and Density Plots"
      ]
    },
    {
      "cell_type": "code",
      "metadata": {
        "id": "HezTfwJn8ffB"
      },
      "source": [
        "# create a histogram plot\n",
        "from pandas import read_csv\n",
        "from matplotlib import pyplot"
      ],
      "execution_count": null,
      "outputs": []
    },
    {
      "cell_type": "code",
      "metadata": {
        "id": "cyhPY1XC8ffB",
        "colab": {
          "base_uri": "https://localhost:8080/",
          "height": 281
        },
        "outputId": "0cc11a3a-fca9-4b81-c89d-83d7d872aa45"
      },
      "source": [
        "series1 = read_csv('ad.csv', header=0, index_col=0,parse_dates=True)\n",
        "series1.hist()\n",
        "pyplot.show()"
      ],
      "execution_count": null,
      "outputs": [
        {
          "output_type": "display_data",
          "data": {
            "image/png": "[encoded data removed]",
            "text/plain": [
              "<Figure size 432x288 with 1 Axes>"
            ]
          },
          "metadata": {
            "tags": [],
            "needs_background": "light"
          }
        }
      ]
    },
    {
      "cell_type": "code",
      "metadata": {
        "colab": {
          "base_uri": "https://localhost:8080/"
        },
        "id": "D66S0FW3lybM",
        "outputId": "db7c7e01-3a20-4cef-9449-cc90e094756e"
      },
      "source": [
        "series1.columns"
      ],
      "execution_count": null,
      "outputs": [
        {
          "output_type": "execute_result",
          "data": {
            "text/plain": [
              "Index(['Passengers'], dtype='object')"
            ]
          },
          "metadata": {
            "tags": []
          },
          "execution_count": 10
        }
      ]
    },
    {
      "cell_type": "code",
      "metadata": {
        "id": "FfBMBnDA8ffB",
        "colab": {
          "base_uri": "https://localhost:8080/",
          "height": 265
        },
        "outputId": "b921a7a8-f1da-4d0e-fe4e-a3c0820633c9"
      },
      "source": [
        "# create a density plot\n",
        "from pandas import read_csv\n",
        "from matplotlib import pyplot\n",
        "series1 = read_csv('ad.csv', header=0, index_col=0,parse_dates=True)\n",
        "series1.plot(kind='kde')\n",
        "pyplot.show()"
      ],
      "execution_count": null,
      "outputs": [
        {
          "output_type": "display_data",
          "data": {
            "image/png": "[encoded data removed]",
            "text/plain": [
              "<Figure size 432x288 with 1 Axes>"
            ]
          },
          "metadata": {
            "tags": [],
            "needs_background": "light"
          }
        }
      ]
    },
    {
      "cell_type": "markdown",
      "metadata": {
        "id": "2f9CbKgn8ffD"
      },
      "source": [
        "#### Box and Whisker Plots by Interval"
      ]
    },
    {
      "cell_type": "code",
      "metadata": {
        "id": "y9AC0WMLmfMT"
      },
      "source": [
        "import pandas as pd\n",
        "series[\"Month\"]=pd.to_datetime(series[\"Month\"], format='%b-%y')"
      ],
      "execution_count": null,
      "outputs": []
    },
    {
      "cell_type": "code",
      "metadata": {
        "colab": {
          "base_uri": "https://localhost:8080/"
        },
        "id": "hLmt-ieZH371",
        "outputId": "a241a881-295b-4172-d9b0-e4b9f390719c"
      },
      "source": [
        "series.dtypes"
      ],
      "execution_count": null,
      "outputs": [
        {
          "output_type": "execute_result",
          "data": {
            "text/plain": [
              "Month         datetime64[ns]\n",
              "Passengers             int64\n",
              "dtype: object"
            ]
          },
          "metadata": {
            "tags": []
          },
          "execution_count": 13
        }
      ]
    },
    {
      "cell_type": "code",
      "metadata": {
        "id": "tRjyzXD18ffD"
      },
      "source": [
        "# create a boxplot of yearly data\n",
        "from pandas import read_csv\n",
        "from pandas import DataFrame\n",
        "from pandas import Grouper\n",
        "from matplotlib import pyplot\n",
        "\n",
        "groups = series.groupby(Grouper(key='Month',freq='Y')).mean()\n",
        "years = DataFrame()\n",
        "years=groups"
      ],
      "execution_count": null,
      "outputs": []
    },
    {
      "cell_type": "code",
      "metadata": {
        "colab": {
          "base_uri": "https://localhost:8080/"
        },
        "id": "8Yefu6KK5vmC",
        "outputId": "3eb951e7-1086-4728-b6cb-e5c964877e6b"
      },
      "source": [
        "years.shape"
      ],
      "execution_count": null,
      "outputs": [
        {
          "output_type": "execute_result",
          "data": {
            "text/plain": [
              "(8, 1)"
            ]
          },
          "metadata": {
            "tags": []
          },
          "execution_count": 15
        }
      ]
    },
    {
      "cell_type": "code",
      "metadata": {
        "colab": {
          "base_uri": "https://localhost:8080/",
          "height": 282
        },
        "id": "QondusMlohzY",
        "outputId": "11836188-2d59-44c9-e072-26d022c36ec2"
      },
      "source": [
        "import seaborn as sns\n",
        "sns.boxplot(data=years)"
      ],
      "execution_count": null,
      "outputs": [
        {
          "output_type": "execute_result",
          "data": {
            "text/plain": [
              "<matplotlib.axes._subplots.AxesSubplot at 0x7fb1d1d60f10>"
            ]
          },
          "metadata": {
            "tags": []
          },
          "execution_count": 16
        },
        {
          "output_type": "display_data",
          "data": {
            "image/png": "[encoded data removed]",
            "text/plain": [
              "<Figure size 432x288 with 1 Axes>"
            ]
          },
          "metadata": {
            "tags": [],
            "needs_background": "light"
          }
        }
      ]
    },
    {
      "cell_type": "code",
      "metadata": {
        "colab": {
          "base_uri": "https://localhost:8080/"
        },
        "id": "Fh0YPPHTyVzG",
        "outputId": "34063c63-a9b7-4ef8-b935-328b24e4e8dd"
      },
      "source": [
        "series.columns"
      ],
      "execution_count": null,
      "outputs": [
        {
          "output_type": "execute_result",
          "data": {
            "text/plain": [
              "Index(['Month', 'Passengers'], dtype='object')"
            ]
          },
          "metadata": {
            "tags": []
          },
          "execution_count": 17
        }
      ]
    },
    {
      "cell_type": "markdown",
      "metadata": {
        "id": "Z01gFxeo8ffD"
      },
      "source": [
        "#### Lag plot"
      ]
    },
    {
      "cell_type": "code",
      "metadata": {
        "id": "SuyOTlLe8ffD",
        "colab": {
          "base_uri": "https://localhost:8080/",
          "height": 279
        },
        "outputId": "2436d7e1-d793-473d-f86a-13ed21d52ae7"
      },
      "source": [
        "# create a scatter plot\n",
        "from pandas import read_csv\n",
        "from matplotlib import pyplot\n",
        "from pandas.plotting import lag_plot\n",
        "series1 = read_csv('ad.csv', header=0, index_col=0,parse_dates=True)\n",
        "lag_plot(series1)\n",
        "pyplot.show()"
      ],
      "execution_count": null,
      "outputs": [
        {
          "output_type": "display_data",
          "data": {
            "image/png": "[encoded data removed]",
            "text/plain": [
              "<Figure size 432x288 with 1 Axes>"
            ]
          },
          "metadata": {
            "tags": [],
            "needs_background": "light"
          }
        }
      ]
    },
    {
      "cell_type": "code",
      "metadata": {
        "id": "i1RrXyvO8ffD",
        "colab": {
          "base_uri": "https://localhost:8080/",
          "height": 281
        },
        "outputId": "bbb745ee-0a4e-42bf-8c48-1c8ffa5fc4c9"
      },
      "source": [
        "# create an autocorrelation plot\n",
        "from pandas import read_csv\n",
        "from matplotlib import pyplot\n",
        "from statsmodels.graphics.tsaplots import plot_acf\n",
        "series1 = read_csv('ad.csv', header=0, index_col=0,parse_dates=True)\n",
        "plot_acf(series1,lags=30)\n",
        "pyplot.show()"
      ],
      "execution_count": null,
      "outputs": [
        {
          "output_type": "display_data",
          "data": {
            "image/png": "[encoded data removed]",
            "text/plain": [
              "<Figure size 432x288 with 1 Axes>"
            ]
          },
          "metadata": {
            "tags": [],
            "needs_background": "light"
          }
        }
      ]
    },
    {
      "cell_type": "code",
      "metadata": {
        "colab": {
          "base_uri": "https://localhost:8080/"
        },
        "id": "FQEpdecnMW1x",
        "outputId": "d3bcbac3-5979-4cc4-f99d-75b893f4f1a6"
      },
      "source": [
        "series1.shape"
      ],
      "execution_count": null,
      "outputs": [
        {
          "output_type": "execute_result",
          "data": {
            "text/plain": [
              "(96, 1)"
            ]
          },
          "metadata": {
            "tags": []
          },
          "execution_count": 20
        }
      ]
    },
    {
      "cell_type": "code",
      "metadata": {
        "id": "QRwjAvgD8ffG",
        "colab": {
          "base_uri": "https://localhost:8080/"
        },
        "outputId": "3cc38b03-5b9d-4cd7-dbd8-45c04220719e"
      },
      "source": [
        "upsampled = groups.resample('M').mean()\n",
        "print(upsampled)"
      ],
      "execution_count": null,
      "outputs": [
        {
          "output_type": "stream",
          "text": [
            "            Passengers\n",
            "Month                 \n",
            "1995-12-31  126.666667\n",
            "1996-01-31         NaN\n",
            "1996-02-29         NaN\n",
            "1996-03-31         NaN\n",
            "1996-04-30         NaN\n",
            "...                ...\n",
            "2002-08-31         NaN\n",
            "2002-09-30         NaN\n",
            "2002-10-31         NaN\n",
            "2002-11-30         NaN\n",
            "2002-12-31  328.250000\n",
            "\n",
            "[85 rows x 1 columns]\n"
          ],
          "name": "stdout"
        }
      ]
    },
    {
      "cell_type": "markdown",
      "metadata": {
        "id": "YKPI2qiN7xux"
      },
      "source": [
        "##### interpolate the missing value"
      ]
    },
    {
      "cell_type": "code",
      "metadata": {
        "colab": {
          "base_uri": "https://localhost:8080/",
          "height": 878
        },
        "id": "fQwHdSXyNFiG",
        "outputId": "11a03c7d-aeb1-4d8f-e0cb-20d7151df2ba"
      },
      "source": [
        "interpolated = upsampled.interpolate(method='linear')\n",
        "print(interpolated.head(32))\n",
        "interpolated.plot()\n",
        "pyplot.show()"
      ],
      "execution_count": null,
      "outputs": [
        {
          "output_type": "stream",
          "text": [
            "            Passengers\n",
            "Month                 \n",
            "1995-12-31  126.666667\n",
            "1996-01-31  127.750000\n",
            "1996-02-29  128.833333\n",
            "1996-03-31  129.916667\n",
            "1996-04-30  131.000000\n",
            "1996-05-31  132.083333\n",
            "1996-06-30  133.166667\n",
            "1996-07-31  134.250000\n",
            "1996-08-31  135.333333\n",
            "1996-09-30  136.416667\n",
            "1996-10-31  137.500000\n",
            "1996-11-30  138.583333\n",
            "1996-12-31  139.666667\n",
            "1997-01-31  142.208333\n",
            "1997-02-28  144.750000\n",
            "1997-03-31  147.291667\n",
            "1997-04-30  149.833333\n",
            "1997-05-31  152.375000\n",
            "1997-06-30  154.916667\n",
            "1997-07-31  157.458333\n",
            "1997-08-31  160.000000\n",
            "1997-09-30  162.541667\n",
            "1997-10-31  165.083333\n",
            "1997-11-30  167.625000\n",
            "1997-12-31  170.166667\n",
            "1998-01-31  172.402778\n",
            "1998-02-28  174.638889\n",
            "1998-03-31  176.875000\n",
            "1998-04-30  179.111111\n",
            "1998-05-31  181.347222\n",
            "1998-06-30  183.583333\n",
            "1998-07-31  185.819444\n"
          ],
          "name": "stdout"
        },
        {
          "output_type": "display_data",
          "data": {
            "image/png": "[encoded data removed]",
            "text/plain": [
              "<Figure size 432x288 with 1 Axes>"
            ]
          },
          "metadata": {
            "tags": [],
            "needs_background": "light"
          }
        }
      ]
    },
    {
      "cell_type": "markdown",
      "metadata": {
        "id": "n74zKFj__vWz"
      },
      "source": [
        "#### Downsampling Data"
      ]
    },
    {
      "cell_type": "code",
      "metadata": {
        "colab": {
          "base_uri": "https://localhost:8080/"
        },
        "id": "qmp_oqvk_wxZ",
        "outputId": "e9177cbe-3086-47da-f453-351894df6f54"
      },
      "source": [
        "# downsample to quarterly intervals\n",
        "from pandas import read_csv\n",
        "from pandas import datetime\n",
        "from matplotlib import pyplot"
      ],
      "execution_count": null,
      "outputs": [
        {
          "output_type": "stream",
          "text": [
            "/usr/local/lib/python3.7/dist-packages/ipykernel_launcher.py:3: FutureWarning: The pandas.datetime class is deprecated and will be removed from pandas in a future version. Import from datetime module instead.\n",
            "  This is separate from the ipykernel package so we can avoid doing imports until\n"
          ],
          "name": "stderr"
        }
      ]
    },
    {
      "cell_type": "code",
      "metadata": {
        "id": "twe3Xu-8_5F8"
      },
      "source": [
        "resample = groups.resample('Q')\n",
        "quarterly_mean_sales = resample.mean()"
      ],
      "execution_count": null,
      "outputs": []
    },
    {
      "cell_type": "code",
      "metadata": {
        "colab": {
          "base_uri": "https://localhost:8080/",
          "height": 225
        },
        "id": "eQ537faLAKay",
        "outputId": "de2f7866-2c2c-4d17-812b-3204960a3f91"
      },
      "source": [
        "quarterly_mean_sales.head()"
      ],
      "execution_count": null,
      "outputs": [
        {
          "output_type": "execute_result",
          "data": {
            "text/html": [
              "<div>\n",
              "<style scoped>\n",
              "    .dataframe tbody tr th:only-of-type {\n",
              "        vertical-align: middle;\n",
              "    }\n",
              "\n",
              "    .dataframe tbody tr th {\n",
              "        vertical-align: top;\n",
              "    }\n",
              "\n",
              "    .dataframe thead th {\n",
              "        text-align: right;\n",
              "    }\n",
              "</style>\n",
              "<table border=\"1\" class=\"dataframe\">\n",
              "  <thead>\n",
              "    <tr style=\"text-align: right;\">\n",
              "      <th></th>\n",
              "      <th>Passengers</th>\n",
              "    </tr>\n",
              "    <tr>\n",
              "      <th>Month</th>\n",
              "      <th></th>\n",
              "    </tr>\n",
              "  </thead>\n",
              "  <tbody>\n",
              "    <tr>\n",
              "      <th>1995-12-31</th>\n",
              "      <td>126.666667</td>\n",
              "    </tr>\n",
              "    <tr>\n",
              "      <th>1996-03-31</th>\n",
              "      <td>NaN</td>\n",
              "    </tr>\n",
              "    <tr>\n",
              "      <th>1996-06-30</th>\n",
              "      <td>NaN</td>\n",
              "    </tr>\n",
              "    <tr>\n",
              "      <th>1996-09-30</th>\n",
              "      <td>NaN</td>\n",
              "    </tr>\n",
              "    <tr>\n",
              "      <th>1996-12-31</th>\n",
              "      <td>139.666667</td>\n",
              "    </tr>\n",
              "  </tbody>\n",
              "</table>\n",
              "</div>"
            ],
            "text/plain": [
              "            Passengers\n",
              "Month                 \n",
              "1995-12-31  126.666667\n",
              "1996-03-31         NaN\n",
              "1996-06-30         NaN\n",
              "1996-09-30         NaN\n",
              "1996-12-31  139.666667"
            ]
          },
          "metadata": {
            "tags": []
          },
          "execution_count": 25
        }
      ]
    },
    {
      "cell_type": "markdown",
      "metadata": {
        "id": "-sdH2_njA736"
      },
      "source": [
        "# Tranformations"
      ]
    },
    {
      "cell_type": "code",
      "metadata": {
        "id": "OJH9mrXTA9Jx"
      },
      "source": [
        "# load and plot a time series\n",
        "from pandas import read_csv\n",
        "from matplotlib import pyplot"
      ],
      "execution_count": null,
      "outputs": []
    },
    {
      "cell_type": "code",
      "metadata": {
        "colab": {
          "base_uri": "https://localhost:8080/"
        },
        "id": "dwBadPSdEoxv",
        "outputId": "a734f540-81f0-420e-c59b-579d4633d9f7"
      },
      "source": [
        "series.dtypes"
      ],
      "execution_count": null,
      "outputs": [
        {
          "output_type": "execute_result",
          "data": {
            "text/plain": [
              "Month         datetime64[ns]\n",
              "Passengers             int64\n",
              "dtype: object"
            ]
          },
          "metadata": {
            "tags": []
          },
          "execution_count": 27
        }
      ]
    },
    {
      "cell_type": "code",
      "metadata": {
        "colab": {
          "base_uri": "https://localhost:8080/",
          "height": 282
        },
        "id": "_fCG1S35A4Ag",
        "outputId": "e1a467c2-c073-4028-ded4-a72859686328"
      },
      "source": [
        "# line plot\n",
        "pyplot.subplot()\n",
        "pyplot.plot('Month','Passengers',data=series)\n"
      ],
      "execution_count": null,
      "outputs": [
        {
          "output_type": "execute_result",
          "data": {
            "text/plain": [
              "[<matplotlib.lines.Line2D at 0x7fb1c8a57950>]"
            ]
          },
          "metadata": {
            "tags": []
          },
          "execution_count": 28
        },
        {
          "output_type": "display_data",
          "data": {
            "image/png": "[encoded data removed]",
            "text/plain": [
              "<Figure size 432x288 with 1 Axes>"
            ]
          },
          "metadata": {
            "tags": [],
            "needs_background": "light"
          }
        }
      ]
    },
    {
      "cell_type": "code",
      "metadata": {
        "colab": {
          "base_uri": "https://localhost:8080/",
          "height": 147
        },
        "id": "Am1L65SaFz_v",
        "outputId": "139263cc-e718-498f-c5bb-4f63e7b6d3f4"
      },
      "source": [
        "# histogram\n",
        "pyplot.subplot(212)\n",
        "pyplot.hist('Passengers',data=series)\n",
        "pyplot.show()"
      ],
      "execution_count": null,
      "outputs": [
        {
          "output_type": "display_data",
          "data": {
            "image/png": "[encoded data removed]",
            "text/plain": [
              "<Figure size 432x288 with 1 Axes>"
            ]
          },
          "metadata": {
            "tags": [],
            "needs_background": "light"
          }
        }
      ]
    },
    {
      "cell_type": "markdown",
      "metadata": {
        "id": "1X_olN3OGtmP"
      },
      "source": [
        "#### Square Root Transform"
      ]
    },
    {
      "cell_type": "code",
      "metadata": {
        "id": "xqJ3OH_TGuob"
      },
      "source": [
        "from pandas import read_csv\n",
        "from pandas import DataFrame\n",
        "from numpy import sqrt\n",
        "from matplotlib import pyplot"
      ],
      "execution_count": null,
      "outputs": []
    },
    {
      "cell_type": "code",
      "metadata": {
        "colab": {
          "base_uri": "https://localhost:8080/",
          "height": 402
        },
        "id": "bLCVZn0cIIP-",
        "outputId": "bc3c0ba8-37d8-449e-9ad6-97ea833fda1e"
      },
      "source": [
        "series"
      ],
      "execution_count": null,
      "outputs": [
        {
          "output_type": "execute_result",
          "data": {
            "text/html": [
              "<div>\n",
              "<style scoped>\n",
              "    .dataframe tbody tr th:only-of-type {\n",
              "        vertical-align: middle;\n",
              "    }\n",
              "\n",
              "    .dataframe tbody tr th {\n",
              "        vertical-align: top;\n",
              "    }\n",
              "\n",
              "    .dataframe thead th {\n",
              "        text-align: right;\n",
              "    }\n",
              "</style>\n",
              "<table border=\"1\" class=\"dataframe\">\n",
              "  <thead>\n",
              "    <tr style=\"text-align: right;\">\n",
              "      <th></th>\n",
              "      <th>Month</th>\n",
              "      <th>Passengers</th>\n",
              "    </tr>\n",
              "  </thead>\n",
              "  <tbody>\n",
              "    <tr>\n",
              "      <th>0</th>\n",
              "      <td>1995-01-01</td>\n",
              "      <td>112</td>\n",
              "    </tr>\n",
              "    <tr>\n",
              "      <th>1</th>\n",
              "      <td>1995-02-01</td>\n",
              "      <td>118</td>\n",
              "    </tr>\n",
              "    <tr>\n",
              "      <th>2</th>\n",
              "      <td>1995-03-01</td>\n",
              "      <td>132</td>\n",
              "    </tr>\n",
              "    <tr>\n",
              "      <th>3</th>\n",
              "      <td>1995-04-01</td>\n",
              "      <td>129</td>\n",
              "    </tr>\n",
              "    <tr>\n",
              "      <th>4</th>\n",
              "      <td>1995-05-01</td>\n",
              "      <td>121</td>\n",
              "    </tr>\n",
              "    <tr>\n",
              "      <th>...</th>\n",
              "      <td>...</td>\n",
              "      <td>...</td>\n",
              "    </tr>\n",
              "    <tr>\n",
              "      <th>91</th>\n",
              "      <td>2002-08-01</td>\n",
              "      <td>405</td>\n",
              "    </tr>\n",
              "    <tr>\n",
              "      <th>92</th>\n",
              "      <td>2002-09-01</td>\n",
              "      <td>355</td>\n",
              "    </tr>\n",
              "    <tr>\n",
              "      <th>93</th>\n",
              "      <td>2002-10-01</td>\n",
              "      <td>306</td>\n",
              "    </tr>\n",
              "    <tr>\n",
              "      <th>94</th>\n",
              "      <td>2002-11-01</td>\n",
              "      <td>271</td>\n",
              "    </tr>\n",
              "    <tr>\n",
              "      <th>95</th>\n",
              "      <td>2002-12-01</td>\n",
              "      <td>306</td>\n",
              "    </tr>\n",
              "  </tbody>\n",
              "</table>\n",
              "<p>96 rows × 2 columns</p>\n",
              "</div>"
            ],
            "text/plain": [
              "        Month  Passengers\n",
              "0  1995-01-01         112\n",
              "1  1995-02-01         118\n",
              "2  1995-03-01         132\n",
              "3  1995-04-01         129\n",
              "4  1995-05-01         121\n",
              "..        ...         ...\n",
              "91 2002-08-01         405\n",
              "92 2002-09-01         355\n",
              "93 2002-10-01         306\n",
              "94 2002-11-01         271\n",
              "95 2002-12-01         306\n",
              "\n",
              "[96 rows x 2 columns]"
            ]
          },
          "metadata": {
            "tags": []
          },
          "execution_count": 35
        }
      ]
    },
    {
      "cell_type": "code",
      "metadata": {
        "colab": {
          "base_uri": "https://localhost:8080/",
          "height": 265
        },
        "id": "0kUj64uWK8CY",
        "outputId": "27027279-a777-4c07-8aa4-9e1e89d30720"
      },
      "source": [
        "# line plot\n",
        "pyplot.subplot(211)\n",
        "pyplot.plot(sqrt(series[\"Passengers\"]))\n",
        "# histogram\n",
        "pyplot.subplot(212)\n",
        "pyplot.hist(sqrt(series[\"Passengers\"]))\n",
        "pyplot.show()"
      ],
      "execution_count": null,
      "outputs": [
        {
          "output_type": "display_data",
          "data": {
            "image/png": "[encoded data removed]",
            "text/plain": [
              "<Figure size 432x288 with 2 Axes>"
            ]
          },
          "metadata": {
            "tags": [],
            "needs_background": "light"
          }
        }
      ]
    },
    {
      "cell_type": "markdown",
      "metadata": {
        "id": "s65Ire1-Lk6y"
      },
      "source": [
        "#### Log Transform"
      ]
    },
    {
      "cell_type": "code",
      "metadata": {
        "colab": {
          "base_uri": "https://localhost:8080/",
          "height": 165
        },
        "id": "bUDxE8mXLjGO",
        "outputId": "202e9191-a8d8-4b99-b2d1-d0e541c3bd72"
      },
      "source": [
        "from numpy import log\n",
        "\n",
        "\n",
        "# line plot\n",
        "pyplot.subplot(211)\n",
        "pyplot.plot(log(series['Passengers']))\n",
        "\n"
      ],
      "execution_count": null,
      "outputs": [
        {
          "output_type": "execute_result",
          "data": {
            "text/plain": [
              "[<matplotlib.lines.Line2D at 0x7fb1c3dbfa90>]"
            ]
          },
          "metadata": {
            "tags": []
          },
          "execution_count": 56
        },
        {
          "output_type": "display_data",
          "data": {
            "image/png": "[encoded data removed]",
            "text/plain": [
              "<Figure size 432x288 with 1 Axes>"
            ]
          },
          "metadata": {
            "tags": [],
            "needs_background": "light"
          }
        }
      ]
    },
    {
      "cell_type": "code",
      "metadata": {
        "colab": {
          "base_uri": "https://localhost:8080/",
          "height": 147
        },
        "id": "RWMTi339U2tL",
        "outputId": "c8e3fcf1-3255-44f9-ddad-9cb482d6bc05"
      },
      "source": [
        "pyplot.subplot(212)\n",
        "pyplot.hist(log(series['Passengers']))\n",
        "pyplot.show()"
      ],
      "execution_count": null,
      "outputs": [
        {
          "output_type": "display_data",
          "data": {
            "image/png": "[encoded data removed]",
            "text/plain": [
              "<Figure size 432x288 with 1 Axes>"
            ]
          },
          "metadata": {
            "tags": [],
            "needs_background": "light"
          }
        }
      ]
    },
    {
      "cell_type": "code",
      "metadata": {
        "colab": {
          "base_uri": "https://localhost:8080/",
          "height": 402
        },
        "id": "gVEThur5M2-l",
        "outputId": "8c89bd0d-2d23-4436-d7a4-a32613eb62ec"
      },
      "source": [
        "print(quarterly_mean_sales.head())\n",
        "quarterly_mean_sales.plot()\n",
        "pyplot.show()"
      ],
      "execution_count": null,
      "outputs": [
        {
          "output_type": "stream",
          "text": [
            "            Passengers\n",
            "Month                 \n",
            "1995-12-31  126.666667\n",
            "1996-03-31         NaN\n",
            "1996-06-30         NaN\n",
            "1996-09-30         NaN\n",
            "1996-12-31  139.666667\n"
          ],
          "name": "stdout"
        },
        {
          "output_type": "display_data",
          "data": {
            "image/png": "[encoded data removed]",
            "text/plain": [
              "<Figure size 432x288 with 1 Axes>"
            ]
          },
          "metadata": {
            "tags": [],
            "needs_background": "light"
          }
        }
      ]
    },
    {
      "cell_type": "markdown",
      "metadata": {
        "id": "qYhyDv-rPWNt"
      },
      "source": [
        "Forecasting - Data driven"
      ]
    },
    {
      "cell_type": "code",
      "metadata": {
        "id": "OL6b6gvOPZ0j"
      },
      "source": [
        "import pandas as pd\n",
        "import numpy as np\n",
        "import matplotlib.pyplot as plt\n",
        "import seaborn as sns\n",
        "from statsmodels.tsa.seasonal import seasonal_decompose\n",
        "from statsmodels.tsa.holtwinters import SimpleExpSmoothing # SES\n",
        "from statsmodels.tsa.holtwinters import Holt # Holts Exponential Smoothing\n",
        "from statsmodels.tsa.holtwinters import ExponentialSmoothing "
      ],
      "execution_count": null,
      "outputs": []
    },
    {
      "cell_type": "code",
      "metadata": {
        "colab": {
          "base_uri": "https://localhost:8080/",
          "height": 282
        },
        "id": "pjUrK0XsPhck",
        "outputId": "701dcacf-37ad-42dc-89d6-1c0e6fab9fe4"
      },
      "source": [
        "series.Passengers.plot()"
      ],
      "execution_count": null,
      "outputs": [
        {
          "output_type": "execute_result",
          "data": {
            "text/plain": [
              "<matplotlib.axes._subplots.AxesSubplot at 0x7fb1c3f97bd0>"
            ]
          },
          "metadata": {
            "tags": []
          },
          "execution_count": 60
        },
        {
          "output_type": "display_data",
          "data": {
            "image/png": "[encoded data removed]",
            "text/plain": [
              "<Figure size 432x288 with 1 Axes>"
            ]
          },
          "metadata": {
            "tags": [],
            "needs_background": "light"
          }
        }
      ]
    },
    {
      "cell_type": "markdown",
      "metadata": {
        "id": "Tz7WjDyfPyUn"
      },
      "source": [
        "\n",
        "\n",
        "##Splitting data"
      ]
    },
    {
      "cell_type": "code",
      "metadata": {
        "colab": {
          "base_uri": "https://localhost:8080/"
        },
        "id": "smfwi5CGQEf0",
        "outputId": "47b12b24-c1db-4dcc-9fce-b84aa4933b54"
      },
      "source": [
        "series.shape"
      ],
      "execution_count": null,
      "outputs": [
        {
          "output_type": "execute_result",
          "data": {
            "text/plain": [
              "(96, 2)"
            ]
          },
          "metadata": {
            "tags": []
          },
          "execution_count": 61
        }
      ]
    },
    {
      "cell_type": "code",
      "metadata": {
        "id": "zPb74HTFPr47"
      },
      "source": [
        "Train = series.head(65)\n",
        "Test = series.tail(31)"
      ],
      "execution_count": null,
      "outputs": []
    },
    {
      "cell_type": "markdown",
      "metadata": {
        "id": "eFyKsjEIQTXa"
      },
      "source": [
        "# Moving Average "
      ]
    },
    {
      "cell_type": "code",
      "metadata": {
        "colab": {
          "base_uri": "https://localhost:8080/",
          "height": 282
        },
        "id": "-zxUhlBrPsB6",
        "outputId": "ec84c59c-400b-4348-bda2-5fa06cf9b879"
      },
      "source": [
        "plt.figure(figsize=(12,4))\n",
        "series.Passengers.plot(label=\"org\")\n",
        "for i in range(2,24,6):\n",
        "    series[\"Passengers\"].rolling(i).mean().plot(label=str(i))\n",
        "plt.legend(loc='best')"
      ],
      "execution_count": null,
      "outputs": [
        {
          "output_type": "execute_result",
          "data": {
            "text/plain": [
              "<matplotlib.legend.Legend at 0x7fb1c437ba90>"
            ]
          },
          "metadata": {
            "tags": []
          },
          "execution_count": 63
        },
        {
          "output_type": "display_data",
          "data": {
            "image/png": "[encoded data removed]",
            "text/plain": [
              "<Figure size 864x288 with 1 Axes>"
            ]
          },
          "metadata": {
            "tags": [],
            "needs_background": "light"
          }
        }
      ]
    },
    {
      "cell_type": "markdown",
      "metadata": {
        "id": "0nvfXTc0OiBm"
      },
      "source": [
        "# Time series decomposition plot \n"
      ]
    },
    {
      "cell_type": "code",
      "metadata": {
        "colab": {
          "base_uri": "https://localhost:8080/"
        },
        "id": "fwoHj44XSEJu",
        "outputId": "42856b8b-8ee5-4e4e-f65b-c13bf1fce9cc"
      },
      "source": [
        "series.dtypes"
      ],
      "execution_count": null,
      "outputs": [
        {
          "output_type": "execute_result",
          "data": {
            "text/plain": [
              "Month         datetime64[ns]\n",
              "Passengers             int64\n",
              "dtype: object"
            ]
          },
          "metadata": {
            "tags": []
          },
          "execution_count": 64
        }
      ]
    },
    {
      "cell_type": "code",
      "metadata": {
        "id": "2El4aeuFXVKd"
      },
      "source": [
        "from statsmodels.tsa.seasonal import seasonal_decompose\n"
      ],
      "execution_count": null,
      "outputs": []
    },
    {
      "cell_type": "code",
      "metadata": {
        "id": "SJwGTjS-OiBm",
        "colab": {
          "base_uri": "https://localhost:8080/",
          "height": 297
        },
        "outputId": "c9167745-6c6b-437e-bf9b-8703bb5f436c"
      },
      "source": [
        "decompose_ts_add = seasonal_decompose(series.Passengers,freq = True)\n",
        "decompose_ts_add.plot()\n",
        "plt.show()\n"
      ],
      "execution_count": null,
      "outputs": [
        {
          "output_type": "display_data",
          "data": {
            "image/png": "[encoded data removed]",
            "text/plain": [
              "<Figure size 432x288 with 4 Axes>"
            ]
          },
          "metadata": {
            "tags": [],
            "needs_background": "light"
          }
        }
      ]
    },
    {
      "cell_type": "markdown",
      "metadata": {
        "id": "ko9DSi_0OiBm"
      },
      "source": [
        "# ACF plots and PACF plots\n"
      ]
    },
    {
      "cell_type": "code",
      "metadata": {
        "id": "2_9ngXGwOiBm",
        "colab": {
          "base_uri": "https://localhost:8080/",
          "height": 545
        },
        "outputId": "b03efce3-1053-438f-af62-6162cd90f777"
      },
      "source": [
        "import statsmodels.graphics.tsaplots as tsa_plots\n",
        "tsa_plots.plot_acf(series.Passengers,lags=12)\n",
        "tsa_plots.plot_pacf(series.Passengers,lags=12)\n",
        "plt.show()\n"
      ],
      "execution_count": null,
      "outputs": [
        {
          "output_type": "display_data",
          "data": {
            "image/png": "[encoded data removed]",
            "text/plain": [
              "<Figure size 432x288 with 1 Axes>"
            ]
          },
          "metadata": {
            "tags": [],
            "needs_background": "light"
          }
        },
        {
          "output_type": "display_data",
          "data": {
            "image/png": "[encoded data removed]",
            "text/plain": [
              "<Figure size 432x288 with 1 Axes>"
            ]
          },
          "metadata": {
            "tags": [],
            "needs_background": "light"
          }
        }
      ]
    },
    {
      "cell_type": "markdown",
      "metadata": {
        "id": "zzOBwEB0sOWX"
      },
      "source": [
        "Evaluation Metric MAPE"
      ]
    },
    {
      "cell_type": "code",
      "metadata": {
        "id": "kk4z49MAPsbY"
      },
      "source": [
        "def MAPE(pred,org):\n",
        "    temp = np.abs((pred-org)/org)*100\n",
        "    return np.mean(temp)"
      ],
      "execution_count": null,
      "outputs": []
    },
    {
      "cell_type": "markdown",
      "metadata": {
        "id": "A_dNT5l2sZFX"
      },
      "source": [
        "Simple Exponential Method"
      ]
    },
    {
      "cell_type": "code",
      "metadata": {
        "colab": {
          "base_uri": "https://localhost:8080/"
        },
        "id": "Son9fb89PseH",
        "outputId": "b25f2b75-0c88-4591-f45b-741ae44b1a5b"
      },
      "source": [
        "ses_model = SimpleExpSmoothing(Train[\"Passengers\"]).fit(smoothing_level=0.2)\n",
        "pred_ses = ses_model.predict(start = Test.index[0],end = Test.index[-1])\n",
        "MAPE(pred_ses,Test.Passengers) "
      ],
      "execution_count": null,
      "outputs": [
        {
          "output_type": "execute_result",
          "data": {
            "text/plain": [
              "23.527467087914474"
            ]
          },
          "metadata": {
            "tags": []
          },
          "execution_count": 69
        }
      ]
    },
    {
      "cell_type": "markdown",
      "metadata": {
        "id": "KwkvhffztSEq"
      },
      "source": [
        "### Holt method "
      ]
    },
    {
      "cell_type": "code",
      "metadata": {
        "colab": {
          "base_uri": "https://localhost:8080/"
        },
        "id": "Q2jhNJ9fPsi9",
        "outputId": "6ccd842d-a6f6-40a3-cb62-5854ac03b605"
      },
      "source": [
        "# Holt method \n",
        "hw_model = Holt(Train[\"Passengers\"]).fit(smoothing_level=0.8, smoothing_slope=0.2)\n",
        "pred_hw = hw_model.predict(start = Test.index[0],end = Test.index[-1])\n",
        "MAPE(pred_hw,Test.Passengers) "
      ],
      "execution_count": null,
      "outputs": [
        {
          "output_type": "execute_result",
          "data": {
            "text/plain": [
              "11.233645615577634"
            ]
          },
          "metadata": {
            "tags": []
          },
          "execution_count": 70
        }
      ]
    },
    {
      "cell_type": "markdown",
      "metadata": {
        "id": "iBFVhYn7uYjF"
      },
      "source": [
        "Holts winter exponential smoothing with additive seasonality and additive trend"
      ]
    },
    {
      "cell_type": "code",
      "metadata": {
        "colab": {
          "base_uri": "https://localhost:8080/"
        },
        "id": "YryDPTrCPsl2",
        "outputId": "7fe71aa1-c252-4bc5-adb7-d0a86aaf183d"
      },
      "source": [
        "hwe_model_add_add = ExponentialSmoothing(Train[\"Passengers\"],seasonal=\"add\",trend=\"add\",seasonal_periods=12).fit() #add the trend to the model\n",
        "pred_hwe_add_add = hwe_model_add_add.predict(start = Test.index[0],end = Test.index[-1])\n",
        "MAPE(pred_hwe_add_add,Test.Passengers) "
      ],
      "execution_count": null,
      "outputs": [
        {
          "output_type": "stream",
          "text": [
            "/usr/local/lib/python3.7/dist-packages/statsmodels/tsa/holtwinters.py:712: ConvergenceWarning: Optimization failed to converge. Check mle_retvals.\n",
            "  ConvergenceWarning)\n"
          ],
          "name": "stderr"
        },
        {
          "output_type": "execute_result",
          "data": {
            "text/plain": [
              "10.314537759525916"
            ]
          },
          "metadata": {
            "tags": []
          },
          "execution_count": 71
        }
      ]
    },
    {
      "cell_type": "markdown",
      "metadata": {
        "id": "9mssh69uvIMB"
      },
      "source": [
        "Holts winter exponential smoothing with multiplicative seasonality and additive trend"
      ]
    },
    {
      "cell_type": "code",
      "metadata": {
        "colab": {
          "base_uri": "https://localhost:8080/"
        },
        "id": "VsPLnnkFvGGq",
        "outputId": "9b66c894-114d-421f-aa18-37f8592a8a8d"
      },
      "source": [
        "hwe_model_mul_add = ExponentialSmoothing(Train[\"Passengers\"],seasonal=\"mul\",trend=\"add\",seasonal_periods=12).fit() \n",
        "pred_hwe_mul_add = hwe_model_mul_add.predict(start = Test.index[0],end = Test.index[-1])\n",
        "MAPE(pred_hwe_mul_add,Test.Passengers)"
      ],
      "execution_count": null,
      "outputs": [
        {
          "output_type": "execute_result",
          "data": {
            "text/plain": [
              "11.569752242093626"
            ]
          },
          "metadata": {
            "tags": []
          },
          "execution_count": 72
        }
      ]
    },
    {
      "cell_type": "markdown",
      "metadata": {
        "id": "Cv7h-jPjveTA"
      },
      "source": [
        "## Final Model by combining train and test"
      ]
    },
    {
      "cell_type": "code",
      "metadata": {
        "colab": {
          "base_uri": "https://localhost:8080/"
        },
        "id": "iD4UyNpbvgAG",
        "outputId": "20a6581a-689a-4f56-c38f-8b359202cf08"
      },
      "source": [
        "hwe_model_add_add = ExponentialSmoothing(series[\"Passengers\"],seasonal=\"add\",trend=\"add\",seasonal_periods=12).fit()"
      ],
      "execution_count": null,
      "outputs": [
        {
          "output_type": "stream",
          "text": [
            "/usr/local/lib/python3.7/dist-packages/statsmodels/tsa/holtwinters.py:712: ConvergenceWarning: Optimization failed to converge. Check mle_retvals.\n",
            "  ConvergenceWarning)\n"
          ],
          "name": "stderr"
        }
      ]
    },
    {
      "cell_type": "code",
      "metadata": {
        "colab": {
          "base_uri": "https://localhost:8080/"
        },
        "id": "Iz0ALEfTv6tV",
        "outputId": "374cab28-c1ce-4ad5-f2f4-b4261920b511"
      },
      "source": [
        "hwe_model_add_add.forecast(12)"
      ],
      "execution_count": null,
      "outputs": [
        {
          "output_type": "execute_result",
          "data": {
            "text/plain": [
              "96     320.924021\n",
              "97     313.638039\n",
              "98     352.925020\n",
              "99     350.350301\n",
              "100    356.060923\n",
              "101    408.899129\n",
              "102    446.143114\n",
              "103    433.358026\n",
              "104    382.762460\n",
              "105    336.170254\n",
              "106    303.315050\n",
              "107    349.662471\n",
              "dtype: float64"
            ]
          },
          "metadata": {
            "tags": []
          },
          "execution_count": 74
        }
      ]
    },
    {
      "cell_type": "markdown",
      "metadata": {
        "id": "IVJGWu4LzPkF"
      },
      "source": [
        "Forecasting_Model based methods"
      ]
    },
    {
      "cell_type": "code",
      "metadata": {
        "id": "opODLBLZzOzG"
      },
      "source": [
        "import numpy as np\n",
        "import pandas as pd\n",
        "import matplotlib.pyplot as plt\n",
        "import seaborn as sns"
      ],
      "execution_count": null,
      "outputs": []
    },
    {
      "cell_type": "code",
      "metadata": {
        "colab": {
          "resources": {
            "http://localhost:8080/nbextensions/google.colab/files.js": {
              "data": "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",
              "ok": true,
              "headers": [
                [
                  "content-type",
                  "application/javascript"
                ]
              ],
              "status": 200,
              "status_text": ""
            }
          },
          "base_uri": "https://localhost:8080/",
          "height": 74
        },
        "id": "3vf5EI5H1Xrz",
        "outputId": "4155d1ba-bbb7-40aa-e916-406ac244a247"
      },
      "source": [
        "from google.colab import files\n",
        "uploaded=files.upload()"
      ],
      "execution_count": null,
      "outputs": [
        {
          "output_type": "display_data",
          "data": {
            "text/html": [
              "\n",
              "     <input type=\"file\" id=\"files-e945157c-7b22-41b0-8d25-58a7465a0c27\" name=\"files[]\" multiple disabled\n",
              "        style=\"border:none\" />\n",
              "     <output id=\"result-e945157c-7b22-41b0-8d25-58a7465a0c27\">\n",
              "      Upload widget is only available when the cell has been executed in the\n",
              "      current browser session. Please rerun this cell to enable.\n",
              "      </output>\n",
              "      <script src=\"/nbextensions/google.colab/files.js\"></script> "
            ],
            "text/plain": [
              "<IPython.core.display.HTML object>"
            ]
          },
          "metadata": {
            "tags": []
          }
        },
        {
          "output_type": "stream",
          "text": [
            "Saving ad.csv to ad (1).csv\n"
          ],
          "name": "stdout"
        }
      ]
    },
    {
      "cell_type": "code",
      "metadata": {
        "colab": {
          "base_uri": "https://localhost:8080/",
          "height": 282
        },
        "id": "l_WbaDvx46h9",
        "outputId": "02660c96-ff5a-4060-f269-d81347e70b21"
      },
      "source": [
        "sermod=read_csv('ad.csv')\n",
        "sermod.Passengers.plot()"
      ],
      "execution_count": null,
      "outputs": [
        {
          "output_type": "execute_result",
          "data": {
            "text/plain": [
              "<matplotlib.axes._subplots.AxesSubplot at 0x7fb1c3a48490>"
            ]
          },
          "metadata": {
            "tags": []
          },
          "execution_count": 77
        },
        {
          "output_type": "display_data",
          "data": {
            "image/png": "[encoded data removed]",
            "text/plain": [
              "<Figure size 432x288 with 1 Axes>"
            ]
          },
          "metadata": {
            "tags": [],
            "needs_background": "light"
          }
        }
      ]
    },
    {
      "cell_type": "code",
      "metadata": {
        "colab": {
          "base_uri": "https://localhost:8080/"
        },
        "id": "5KGCrq4Q51cD",
        "outputId": "37e9ae74-526b-4652-a94a-9463e1e59abd"
      },
      "source": [
        "sermod.shape"
      ],
      "execution_count": null,
      "outputs": [
        {
          "output_type": "execute_result",
          "data": {
            "text/plain": [
              "(96, 2)"
            ]
          },
          "metadata": {
            "tags": []
          },
          "execution_count": 78
        }
      ]
    },
    {
      "cell_type": "code",
      "metadata": {
        "id": "oLC3wtqK6e9J"
      },
      "source": [
        "\n",
        "\n",
        "sermod['t'] = sermod.index +1\n"
      ],
      "execution_count": null,
      "outputs": []
    },
    {
      "cell_type": "code",
      "metadata": {
        "colab": {
          "base_uri": "https://localhost:8080/",
          "height": 402
        },
        "id": "KAvDWC8I7ZXf",
        "outputId": "3a15f110-e33f-46df-ecb2-2507a955f74f"
      },
      "source": [
        "sermod"
      ],
      "execution_count": null,
      "outputs": [
        {
          "output_type": "execute_result",
          "data": {
            "text/html": [
              "<div>\n",
              "<style scoped>\n",
              "    .dataframe tbody tr th:only-of-type {\n",
              "        vertical-align: middle;\n",
              "    }\n",
              "\n",
              "    .dataframe tbody tr th {\n",
              "        vertical-align: top;\n",
              "    }\n",
              "\n",
              "    .dataframe thead th {\n",
              "        text-align: right;\n",
              "    }\n",
              "</style>\n",
              "<table border=\"1\" class=\"dataframe\">\n",
              "  <thead>\n",
              "    <tr style=\"text-align: right;\">\n",
              "      <th></th>\n",
              "      <th>Month</th>\n",
              "      <th>Passengers</th>\n",
              "      <th>t</th>\n",
              "    </tr>\n",
              "  </thead>\n",
              "  <tbody>\n",
              "    <tr>\n",
              "      <th>0</th>\n",
              "      <td>Jan-95</td>\n",
              "      <td>112</td>\n",
              "      <td>1</td>\n",
              "    </tr>\n",
              "    <tr>\n",
              "      <th>1</th>\n",
              "      <td>Feb-95</td>\n",
              "      <td>118</td>\n",
              "      <td>2</td>\n",
              "    </tr>\n",
              "    <tr>\n",
              "      <th>2</th>\n",
              "      <td>Mar-95</td>\n",
              "      <td>132</td>\n",
              "      <td>3</td>\n",
              "    </tr>\n",
              "    <tr>\n",
              "      <th>3</th>\n",
              "      <td>Apr-95</td>\n",
              "      <td>129</td>\n",
              "      <td>4</td>\n",
              "    </tr>\n",
              "    <tr>\n",
              "      <th>4</th>\n",
              "      <td>May-95</td>\n",
              "      <td>121</td>\n",
              "      <td>5</td>\n",
              "    </tr>\n",
              "    <tr>\n",
              "      <th>...</th>\n",
              "      <td>...</td>\n",
              "      <td>...</td>\n",
              "      <td>...</td>\n",
              "    </tr>\n",
              "    <tr>\n",
              "      <th>91</th>\n",
              "      <td>Aug-02</td>\n",
              "      <td>405</td>\n",
              "      <td>92</td>\n",
              "    </tr>\n",
              "    <tr>\n",
              "      <th>92</th>\n",
              "      <td>Sep-02</td>\n",
              "      <td>355</td>\n",
              "      <td>93</td>\n",
              "    </tr>\n",
              "    <tr>\n",
              "      <th>93</th>\n",
              "      <td>Oct-02</td>\n",
              "      <td>306</td>\n",
              "      <td>94</td>\n",
              "    </tr>\n",
              "    <tr>\n",
              "      <th>94</th>\n",
              "      <td>Nov-02</td>\n",
              "      <td>271</td>\n",
              "      <td>95</td>\n",
              "    </tr>\n",
              "    <tr>\n",
              "      <th>95</th>\n",
              "      <td>Dec-02</td>\n",
              "      <td>306</td>\n",
              "      <td>96</td>\n",
              "    </tr>\n",
              "  </tbody>\n",
              "</table>\n",
              "<p>96 rows × 3 columns</p>\n",
              "</div>"
            ],
            "text/plain": [
              "     Month  Passengers   t\n",
              "0   Jan-95         112   1\n",
              "1   Feb-95         118   2\n",
              "2   Mar-95         132   3\n",
              "3   Apr-95         129   4\n",
              "4   May-95         121   5\n",
              "..     ...         ...  ..\n",
              "91  Aug-02         405  92\n",
              "92  Sep-02         355  93\n",
              "93  Oct-02         306  94\n",
              "94  Nov-02         271  95\n",
              "95  Dec-02         306  96\n",
              "\n",
              "[96 rows x 3 columns]"
            ]
          },
          "metadata": {
            "tags": []
          },
          "execution_count": 71
        }
      ]
    },
    {
      "cell_type": "code",
      "metadata": {
        "id": "BapAS7Ex_EZA"
      },
      "source": [
        "sermod['log(Passengers)']=np.log(sermod.iloc[:,1])"
      ],
      "execution_count": null,
      "outputs": []
    },
    {
      "cell_type": "code",
      "metadata": {
        "id": "GIIvoQxK_tAT"
      },
      "source": [
        "sermod['t-square']=sermod.iloc[:,2]*sermod.iloc[:,2]"
      ],
      "execution_count": null,
      "outputs": []
    },
    {
      "cell_type": "code",
      "metadata": {
        "colab": {
          "base_uri": "https://localhost:8080/",
          "height": 402
        },
        "id": "ViTPBZGACxsw",
        "outputId": "62f9e071-1ee9-4cdd-da29-aa28898a5aa6"
      },
      "source": [
        "sermod"
      ],
      "execution_count": null,
      "outputs": [
        {
          "output_type": "execute_result",
          "data": {
            "text/html": [
              "<div>\n",
              "<style scoped>\n",
              "    .dataframe tbody tr th:only-of-type {\n",
              "        vertical-align: middle;\n",
              "    }\n",
              "\n",
              "    .dataframe tbody tr th {\n",
              "        vertical-align: top;\n",
              "    }\n",
              "\n",
              "    .dataframe thead th {\n",
              "        text-align: right;\n",
              "    }\n",
              "</style>\n",
              "<table border=\"1\" class=\"dataframe\">\n",
              "  <thead>\n",
              "    <tr style=\"text-align: right;\">\n",
              "      <th></th>\n",
              "      <th>Month</th>\n",
              "      <th>Passengers</th>\n",
              "      <th>t</th>\n",
              "      <th>log(Passengers)</th>\n",
              "      <th>t-square</th>\n",
              "    </tr>\n",
              "  </thead>\n",
              "  <tbody>\n",
              "    <tr>\n",
              "      <th>0</th>\n",
              "      <td>Jan-95</td>\n",
              "      <td>112</td>\n",
              "      <td>1</td>\n",
              "      <td>4.718499</td>\n",
              "      <td>1</td>\n",
              "    </tr>\n",
              "    <tr>\n",
              "      <th>1</th>\n",
              "      <td>Feb-95</td>\n",
              "      <td>118</td>\n",
              "      <td>2</td>\n",
              "      <td>4.770685</td>\n",
              "      <td>4</td>\n",
              "    </tr>\n",
              "    <tr>\n",
              "      <th>2</th>\n",
              "      <td>Mar-95</td>\n",
              "      <td>132</td>\n",
              "      <td>3</td>\n",
              "      <td>4.882802</td>\n",
              "      <td>9</td>\n",
              "    </tr>\n",
              "    <tr>\n",
              "      <th>3</th>\n",
              "      <td>Apr-95</td>\n",
              "      <td>129</td>\n",
              "      <td>4</td>\n",
              "      <td>4.859812</td>\n",
              "      <td>16</td>\n",
              "    </tr>\n",
              "    <tr>\n",
              "      <th>4</th>\n",
              "      <td>May-95</td>\n",
              "      <td>121</td>\n",
              "      <td>5</td>\n",
              "      <td>4.795791</td>\n",
              "      <td>25</td>\n",
              "    </tr>\n",
              "    <tr>\n",
              "      <th>...</th>\n",
              "      <td>...</td>\n",
              "      <td>...</td>\n",
              "      <td>...</td>\n",
              "      <td>...</td>\n",
              "      <td>...</td>\n",
              "    </tr>\n",
              "    <tr>\n",
              "      <th>91</th>\n",
              "      <td>Aug-02</td>\n",
              "      <td>405</td>\n",
              "      <td>92</td>\n",
              "      <td>6.003887</td>\n",
              "      <td>8464</td>\n",
              "    </tr>\n",
              "    <tr>\n",
              "      <th>92</th>\n",
              "      <td>Sep-02</td>\n",
              "      <td>355</td>\n",
              "      <td>93</td>\n",
              "      <td>5.872118</td>\n",
              "      <td>8649</td>\n",
              "    </tr>\n",
              "    <tr>\n",
              "      <th>93</th>\n",
              "      <td>Oct-02</td>\n",
              "      <td>306</td>\n",
              "      <td>94</td>\n",
              "      <td>5.723585</td>\n",
              "      <td>8836</td>\n",
              "    </tr>\n",
              "    <tr>\n",
              "      <th>94</th>\n",
              "      <td>Nov-02</td>\n",
              "      <td>271</td>\n",
              "      <td>95</td>\n",
              "      <td>5.602119</td>\n",
              "      <td>9025</td>\n",
              "    </tr>\n",
              "    <tr>\n",
              "      <th>95</th>\n",
              "      <td>Dec-02</td>\n",
              "      <td>306</td>\n",
              "      <td>96</td>\n",
              "      <td>5.723585</td>\n",
              "      <td>9216</td>\n",
              "    </tr>\n",
              "  </tbody>\n",
              "</table>\n",
              "<p>96 rows × 5 columns</p>\n",
              "</div>"
            ],
            "text/plain": [
              "     Month  Passengers   t  log(Passengers)  t-square\n",
              "0   Jan-95         112   1         4.718499         1\n",
              "1   Feb-95         118   2         4.770685         4\n",
              "2   Mar-95         132   3         4.882802         9\n",
              "3   Apr-95         129   4         4.859812        16\n",
              "4   May-95         121   5         4.795791        25\n",
              "..     ...         ...  ..              ...       ...\n",
              "91  Aug-02         405  92         6.003887      8464\n",
              "92  Sep-02         355  93         5.872118      8649\n",
              "93  Oct-02         306  94         5.723585      8836\n",
              "94  Nov-02         271  95         5.602119      9025\n",
              "95  Dec-02         306  96         5.723585      9216\n",
              "\n",
              "[96 rows x 5 columns]"
            ]
          },
          "metadata": {
            "tags": []
          },
          "execution_count": 82
        }
      ]
    },
    {
      "cell_type": "code",
      "metadata": {
        "id": "5U3DCbo7FkEp"
      },
      "source": [
        "sermod[\"Date\"] = pd.to_datetime(sermod.Month,format=\"%b-%y\")\n",
        "#look for c standard format codes\n",
        "\n",
        "# Extracting Day, weekday name, month name, year from the Date column using \n",
        "# Date functions from pandas \n",
        "\n",
        "sermod[\"month\"] = sermod.Date.dt.strftime(\"%b\") # month extraction\n",
        "sermod[\"year\"] = sermod.Date.dt.strftime(\"%Y\") # year extraction\n",
        "\n"
      ],
      "execution_count": null,
      "outputs": []
    },
    {
      "cell_type": "code",
      "metadata": {
        "colab": {
          "base_uri": "https://localhost:8080/",
          "height": 402
        },
        "id": "34WF3gDGHNeL",
        "outputId": "1108c073-a897-432e-eefd-b5521247b6d7"
      },
      "source": [
        "sermod"
      ],
      "execution_count": null,
      "outputs": [
        {
          "output_type": "execute_result",
          "data": {
            "text/html": [
              "<div>\n",
              "<style scoped>\n",
              "    .dataframe tbody tr th:only-of-type {\n",
              "        vertical-align: middle;\n",
              "    }\n",
              "\n",
              "    .dataframe tbody tr th {\n",
              "        vertical-align: top;\n",
              "    }\n",
              "\n",
              "    .dataframe thead th {\n",
              "        text-align: right;\n",
              "    }\n",
              "</style>\n",
              "<table border=\"1\" class=\"dataframe\">\n",
              "  <thead>\n",
              "    <tr style=\"text-align: right;\">\n",
              "      <th></th>\n",
              "      <th>Month</th>\n",
              "      <th>Passengers</th>\n",
              "      <th>t</th>\n",
              "      <th>log(Passengers)</th>\n",
              "      <th>t-square</th>\n",
              "      <th>Date</th>\n",
              "      <th>month</th>\n",
              "      <th>year</th>\n",
              "    </tr>\n",
              "  </thead>\n",
              "  <tbody>\n",
              "    <tr>\n",
              "      <th>0</th>\n",
              "      <td>Jan-95</td>\n",
              "      <td>112</td>\n",
              "      <td>1</td>\n",
              "      <td>4.718499</td>\n",
              "      <td>1</td>\n",
              "      <td>1995-01-01</td>\n",
              "      <td>Jan</td>\n",
              "      <td>1995</td>\n",
              "    </tr>\n",
              "    <tr>\n",
              "      <th>1</th>\n",
              "      <td>Feb-95</td>\n",
              "      <td>118</td>\n",
              "      <td>2</td>\n",
              "      <td>4.770685</td>\n",
              "      <td>4</td>\n",
              "      <td>1995-02-01</td>\n",
              "      <td>Feb</td>\n",
              "      <td>1995</td>\n",
              "    </tr>\n",
              "    <tr>\n",
              "      <th>2</th>\n",
              "      <td>Mar-95</td>\n",
              "      <td>132</td>\n",
              "      <td>3</td>\n",
              "      <td>4.882802</td>\n",
              "      <td>9</td>\n",
              "      <td>1995-03-01</td>\n",
              "      <td>Mar</td>\n",
              "      <td>1995</td>\n",
              "    </tr>\n",
              "    <tr>\n",
              "      <th>3</th>\n",
              "      <td>Apr-95</td>\n",
              "      <td>129</td>\n",
              "      <td>4</td>\n",
              "      <td>4.859812</td>\n",
              "      <td>16</td>\n",
              "      <td>1995-04-01</td>\n",
              "      <td>Apr</td>\n",
              "      <td>1995</td>\n",
              "    </tr>\n",
              "    <tr>\n",
              "      <th>4</th>\n",
              "      <td>May-95</td>\n",
              "      <td>121</td>\n",
              "      <td>5</td>\n",
              "      <td>4.795791</td>\n",
              "      <td>25</td>\n",
              "      <td>1995-05-01</td>\n",
              "      <td>May</td>\n",
              "      <td>1995</td>\n",
              "    </tr>\n",
              "    <tr>\n",
              "      <th>...</th>\n",
              "      <td>...</td>\n",
              "      <td>...</td>\n",
              "      <td>...</td>\n",
              "      <td>...</td>\n",
              "      <td>...</td>\n",
              "      <td>...</td>\n",
              "      <td>...</td>\n",
              "      <td>...</td>\n",
              "    </tr>\n",
              "    <tr>\n",
              "      <th>91</th>\n",
              "      <td>Aug-02</td>\n",
              "      <td>405</td>\n",
              "      <td>92</td>\n",
              "      <td>6.003887</td>\n",
              "      <td>8464</td>\n",
              "      <td>2002-08-01</td>\n",
              "      <td>Aug</td>\n",
              "      <td>2002</td>\n",
              "    </tr>\n",
              "    <tr>\n",
              "      <th>92</th>\n",
              "      <td>Sep-02</td>\n",
              "      <td>355</td>\n",
              "      <td>93</td>\n",
              "      <td>5.872118</td>\n",
              "      <td>8649</td>\n",
              "      <td>2002-09-01</td>\n",
              "      <td>Sep</td>\n",
              "      <td>2002</td>\n",
              "    </tr>\n",
              "    <tr>\n",
              "      <th>93</th>\n",
              "      <td>Oct-02</td>\n",
              "      <td>306</td>\n",
              "      <td>94</td>\n",
              "      <td>5.723585</td>\n",
              "      <td>8836</td>\n",
              "      <td>2002-10-01</td>\n",
              "      <td>Oct</td>\n",
              "      <td>2002</td>\n",
              "    </tr>\n",
              "    <tr>\n",
              "      <th>94</th>\n",
              "      <td>Nov-02</td>\n",
              "      <td>271</td>\n",
              "      <td>95</td>\n",
              "      <td>5.602119</td>\n",
              "      <td>9025</td>\n",
              "      <td>2002-11-01</td>\n",
              "      <td>Nov</td>\n",
              "      <td>2002</td>\n",
              "    </tr>\n",
              "    <tr>\n",
              "      <th>95</th>\n",
              "      <td>Dec-02</td>\n",
              "      <td>306</td>\n",
              "      <td>96</td>\n",
              "      <td>5.723585</td>\n",
              "      <td>9216</td>\n",
              "      <td>2002-12-01</td>\n",
              "      <td>Dec</td>\n",
              "      <td>2002</td>\n",
              "    </tr>\n",
              "  </tbody>\n",
              "</table>\n",
              "<p>96 rows × 8 columns</p>\n",
              "</div>"
            ],
            "text/plain": [
              "     Month  Passengers   t  log(Passengers)  t-square       Date month  year\n",
              "0   Jan-95         112   1         4.718499         1 1995-01-01   Jan  1995\n",
              "1   Feb-95         118   2         4.770685         4 1995-02-01   Feb  1995\n",
              "2   Mar-95         132   3         4.882802         9 1995-03-01   Mar  1995\n",
              "3   Apr-95         129   4         4.859812        16 1995-04-01   Apr  1995\n",
              "4   May-95         121   5         4.795791        25 1995-05-01   May  1995\n",
              "..     ...         ...  ..              ...       ...        ...   ...   ...\n",
              "91  Aug-02         405  92         6.003887      8464 2002-08-01   Aug  2002\n",
              "92  Sep-02         355  93         5.872118      8649 2002-09-01   Sep  2002\n",
              "93  Oct-02         306  94         5.723585      8836 2002-10-01   Oct  2002\n",
              "94  Nov-02         271  95         5.602119      9025 2002-11-01   Nov  2002\n",
              "95  Dec-02         306  96         5.723585      9216 2002-12-01   Dec  2002\n",
              "\n",
              "[96 rows x 8 columns]"
            ]
          },
          "metadata": {
            "tags": []
          },
          "execution_count": 84
        }
      ]
    },
    {
      "cell_type": "code",
      "metadata": {
        "id": "vnNdzSOFKzyV"
      },
      "source": [
        "enc_data=pd.get_dummies(sermod['month'])"
      ],
      "execution_count": null,
      "outputs": []
    },
    {
      "cell_type": "code",
      "metadata": {
        "colab": {
          "base_uri": "https://localhost:8080/",
          "height": 402
        },
        "id": "Ahkzzh8sOqT-",
        "outputId": "e0002a84-0ae8-41cc-cb76-740c00f07efd"
      },
      "source": [
        "enc_data\n"
      ],
      "execution_count": null,
      "outputs": [
        {
          "output_type": "execute_result",
          "data": {
            "text/html": [
              "<div>\n",
              "<style scoped>\n",
              "    .dataframe tbody tr th:only-of-type {\n",
              "        vertical-align: middle;\n",
              "    }\n",
              "\n",
              "    .dataframe tbody tr th {\n",
              "        vertical-align: top;\n",
              "    }\n",
              "\n",
              "    .dataframe thead th {\n",
              "        text-align: right;\n",
              "    }\n",
              "</style>\n",
              "<table border=\"1\" class=\"dataframe\">\n",
              "  <thead>\n",
              "    <tr style=\"text-align: right;\">\n",
              "      <th></th>\n",
              "      <th>Apr</th>\n",
              "      <th>Aug</th>\n",
              "      <th>Dec</th>\n",
              "      <th>Feb</th>\n",
              "      <th>Jan</th>\n",
              "      <th>Jul</th>\n",
              "      <th>Jun</th>\n",
              "      <th>Mar</th>\n",
              "      <th>May</th>\n",
              "      <th>Nov</th>\n",
              "      <th>Oct</th>\n",
              "      <th>Sep</th>\n",
              "    </tr>\n",
              "  </thead>\n",
              "  <tbody>\n",
              "    <tr>\n",
              "      <th>0</th>\n",
              "      <td>0</td>\n",
              "      <td>0</td>\n",
              "      <td>0</td>\n",
              "      <td>0</td>\n",
              "      <td>1</td>\n",
              "      <td>0</td>\n",
              "      <td>0</td>\n",
              "      <td>0</td>\n",
              "      <td>0</td>\n",
              "      <td>0</td>\n",
              "      <td>0</td>\n",
              "      <td>0</td>\n",
              "    </tr>\n",
              "    <tr>\n",
              "      <th>1</th>\n",
              "      <td>0</td>\n",
              "      <td>0</td>\n",
              "      <td>0</td>\n",
              "      <td>1</td>\n",
              "      <td>0</td>\n",
              "      <td>0</td>\n",
              "      <td>0</td>\n",
              "      <td>0</td>\n",
              "      <td>0</td>\n",
              "      <td>0</td>\n",
              "      <td>0</td>\n",
              "      <td>0</td>\n",
              "    </tr>\n",
              "    <tr>\n",
              "      <th>2</th>\n",
              "      <td>0</td>\n",
              "      <td>0</td>\n",
              "      <td>0</td>\n",
              "      <td>0</td>\n",
              "      <td>0</td>\n",
              "      <td>0</td>\n",
              "      <td>0</td>\n",
              "      <td>1</td>\n",
              "      <td>0</td>\n",
              "      <td>0</td>\n",
              "      <td>0</td>\n",
              "      <td>0</td>\n",
              "    </tr>\n",
              "    <tr>\n",
              "      <th>3</th>\n",
              "      <td>1</td>\n",
              "      <td>0</td>\n",
              "      <td>0</td>\n",
              "      <td>0</td>\n",
              "      <td>0</td>\n",
              "      <td>0</td>\n",
              "      <td>0</td>\n",
              "      <td>0</td>\n",
              "      <td>0</td>\n",
              "      <td>0</td>\n",
              "      <td>0</td>\n",
              "      <td>0</td>\n",
              "    </tr>\n",
              "    <tr>\n",
              "      <th>4</th>\n",
              "      <td>0</td>\n",
              "      <td>0</td>\n",
              "      <td>0</td>\n",
              "      <td>0</td>\n",
              "      <td>0</td>\n",
              "      <td>0</td>\n",
              "      <td>0</td>\n",
              "      <td>0</td>\n",
              "      <td>1</td>\n",
              "      <td>0</td>\n",
              "      <td>0</td>\n",
              "      <td>0</td>\n",
              "    </tr>\n",
              "    <tr>\n",
              "      <th>...</th>\n",
              "      <td>...</td>\n",
              "      <td>...</td>\n",
              "      <td>...</td>\n",
              "      <td>...</td>\n",
              "      <td>...</td>\n",
              "      <td>...</td>\n",
              "      <td>...</td>\n",
              "      <td>...</td>\n",
              "      <td>...</td>\n",
              "      <td>...</td>\n",
              "      <td>...</td>\n",
              "      <td>...</td>\n",
              "    </tr>\n",
              "    <tr>\n",
              "      <th>91</th>\n",
              "      <td>0</td>\n",
              "      <td>1</td>\n",
              "      <td>0</td>\n",
              "      <td>0</td>\n",
              "      <td>0</td>\n",
              "      <td>0</td>\n",
              "      <td>0</td>\n",
              "      <td>0</td>\n",
              "      <td>0</td>\n",
              "      <td>0</td>\n",
              "      <td>0</td>\n",
              "      <td>0</td>\n",
              "    </tr>\n",
              "    <tr>\n",
              "      <th>92</th>\n",
              "      <td>0</td>\n",
              "      <td>0</td>\n",
              "      <td>0</td>\n",
              "      <td>0</td>\n",
              "      <td>0</td>\n",
              "      <td>0</td>\n",
              "      <td>0</td>\n",
              "      <td>0</td>\n",
              "      <td>0</td>\n",
              "      <td>0</td>\n",
              "      <td>0</td>\n",
              "      <td>1</td>\n",
              "    </tr>\n",
              "    <tr>\n",
              "      <th>93</th>\n",
              "      <td>0</td>\n",
              "      <td>0</td>\n",
              "      <td>0</td>\n",
              "      <td>0</td>\n",
              "      <td>0</td>\n",
              "      <td>0</td>\n",
              "      <td>0</td>\n",
              "      <td>0</td>\n",
              "      <td>0</td>\n",
              "      <td>0</td>\n",
              "      <td>1</td>\n",
              "      <td>0</td>\n",
              "    </tr>\n",
              "    <tr>\n",
              "      <th>94</th>\n",
              "      <td>0</td>\n",
              "      <td>0</td>\n",
              "      <td>0</td>\n",
              "      <td>0</td>\n",
              "      <td>0</td>\n",
              "      <td>0</td>\n",
              "      <td>0</td>\n",
              "      <td>0</td>\n",
              "      <td>0</td>\n",
              "      <td>1</td>\n",
              "      <td>0</td>\n",
              "      <td>0</td>\n",
              "    </tr>\n",
              "    <tr>\n",
              "      <th>95</th>\n",
              "      <td>0</td>\n",
              "      <td>0</td>\n",
              "      <td>1</td>\n",
              "      <td>0</td>\n",
              "      <td>0</td>\n",
              "      <td>0</td>\n",
              "      <td>0</td>\n",
              "      <td>0</td>\n",
              "      <td>0</td>\n",
              "      <td>0</td>\n",
              "      <td>0</td>\n",
              "      <td>0</td>\n",
              "    </tr>\n",
              "  </tbody>\n",
              "</table>\n",
              "<p>96 rows × 12 columns</p>\n",
              "</div>"
            ],
            "text/plain": [
              "    Apr  Aug  Dec  Feb  Jan  Jul  Jun  Mar  May  Nov  Oct  Sep\n",
              "0     0    0    0    0    1    0    0    0    0    0    0    0\n",
              "1     0    0    0    1    0    0    0    0    0    0    0    0\n",
              "2     0    0    0    0    0    0    0    1    0    0    0    0\n",
              "3     1    0    0    0    0    0    0    0    0    0    0    0\n",
              "4     0    0    0    0    0    0    0    0    1    0    0    0\n",
              "..  ...  ...  ...  ...  ...  ...  ...  ...  ...  ...  ...  ...\n",
              "91    0    1    0    0    0    0    0    0    0    0    0    0\n",
              "92    0    0    0    0    0    0    0    0    0    0    0    1\n",
              "93    0    0    0    0    0    0    0    0    0    0    1    0\n",
              "94    0    0    0    0    0    0    0    0    0    1    0    0\n",
              "95    0    0    1    0    0    0    0    0    0    0    0    0\n",
              "\n",
              "[96 rows x 12 columns]"
            ]
          },
          "metadata": {
            "tags": []
          },
          "execution_count": 86
        }
      ]
    },
    {
      "cell_type": "code",
      "metadata": {
        "id": "5x5pKSJFO_0M"
      },
      "source": [
        "seriesmodel=sermod.iloc[:,0:].join(enc_data)"
      ],
      "execution_count": null,
      "outputs": []
    },
    {
      "cell_type": "code",
      "metadata": {
        "id": "kaJ7g5RtVwwG"
      },
      "source": [
        ""
      ],
      "execution_count": null,
      "outputs": []
    },
    {
      "cell_type": "code",
      "metadata": {
        "colab": {
          "base_uri": "https://localhost:8080/"
        },
        "id": "pgHZT4tJPcU4",
        "outputId": "dde9b210-e3c6-43b1-aa3a-7c6a37b5e6a5"
      },
      "source": [
        "seriesmodel.shape"
      ],
      "execution_count": null,
      "outputs": [
        {
          "output_type": "execute_result",
          "data": {
            "text/plain": [
              "(96, 20)"
            ]
          },
          "metadata": {
            "tags": []
          },
          "execution_count": 88
        }
      ]
    },
    {
      "cell_type": "code",
      "metadata": {
        "colab": {
          "base_uri": "https://localhost:8080/",
          "height": 514
        },
        "id": "uM4jiZIQQpro",
        "outputId": "257a9bce-6ac6-458c-aaf2-d858fb55f255"
      },
      "source": [
        "plt.figure(figsize=(12,8))\n",
        "heatmap_y_month = pd.pivot_table(data=seriesmodel,values=\"Passengers\",index=\"year\",columns=\"month\",aggfunc=\"mean\",fill_value=0)\n",
        "sns.heatmap(heatmap_y_month,annot=True,fmt=\"g\") #fmt is format of the grid values\n"
      ],
      "execution_count": null,
      "outputs": [
        {
          "output_type": "execute_result",
          "data": {
            "text/plain": [
              "<matplotlib.axes._subplots.AxesSubplot at 0x7fb1c2708750>"
            ]
          },
          "metadata": {
            "tags": []
          },
          "execution_count": 89
        },
        {
          "output_type": "display_data",
          "data": {
            "image/png": "[encoded data removed]",
            "text/plain": [
              "<Figure size 864x576 with 2 Axes>"
            ]
          },
          "metadata": {
            "tags": [],
            "needs_background": "light"
          }
        }
      ]
    },
    {
      "cell_type": "code",
      "metadata": {
        "colab": {
          "base_uri": "https://localhost:8080/",
          "height": 406
        },
        "id": "NMrfb9nTQ31y",
        "outputId": "fd1694f4-6f6f-4386-e52c-2372e99edcc1"
      },
      "source": [
        "# Boxplot for ever\n",
        "plt.figure(figsize=(8,6))\n",
        "plt.subplot(211)\n",
        "sns.boxplot(x=\"month\",y=\"Passengers\",data=seriesmodel)\n",
        "plt.subplot(212)\n",
        "sns.boxplot(x=\"year\",y=\"Passengers\",data=seriesmodel)"
      ],
      "execution_count": null,
      "outputs": [
        {
          "output_type": "execute_result",
          "data": {
            "text/plain": [
              "<matplotlib.axes._subplots.AxesSubplot at 0x7fb1c3d4e550>"
            ]
          },
          "metadata": {
            "tags": []
          },
          "execution_count": 90
        },
        {
          "output_type": "display_data",
          "data": {
            "image/png": "[encoded data removed]",
            "text/plain": [
              "<Figure size 576x432 with 2 Axes>"
            ]
          },
          "metadata": {
            "tags": [],
            "needs_background": "light"
          }
        }
      ]
    },
    {
      "cell_type": "code",
      "metadata": {
        "colab": {
          "base_uri": "https://localhost:8080/",
          "height": 242
        },
        "id": "grj2cfV9RRsz",
        "outputId": "e7b64257-92f2-40b7-c57e-f0d0f3abfea7"
      },
      "source": [
        "plt.figure(figsize=(12,3))\n",
        "sns.lineplot(x=\"year\",y=\"Passengers\",data=seriesmodel)"
      ],
      "execution_count": null,
      "outputs": [
        {
          "output_type": "execute_result",
          "data": {
            "text/plain": [
              "<matplotlib.axes._subplots.AxesSubplot at 0x7fb1c2765790>"
            ]
          },
          "metadata": {
            "tags": []
          },
          "execution_count": 91
        },
        {
          "output_type": "display_data",
          "data": {
            "image/png": "[encoded data removed]",
            "text/plain": [
              "<Figure size 864x216 with 1 Axes>"
            ]
          },
          "metadata": {
            "tags": [],
            "needs_background": "light"
          }
        }
      ]
    },
    {
      "cell_type": "markdown",
      "metadata": {
        "id": "TNBthUBgRgJe"
      },
      "source": [
        "Splitting data"
      ]
    },
    {
      "cell_type": "code",
      "metadata": {
        "id": "iibenn7SRSP8"
      },
      "source": [
        "Train = seriesmodel.head(65)\n",
        "Test = seriesmodel.tail(35)"
      ],
      "execution_count": null,
      "outputs": []
    },
    {
      "cell_type": "code",
      "metadata": {
        "colab": {
          "base_uri": "https://localhost:8080/",
          "height": 606
        },
        "id": "8ThIsNOJiOCj",
        "outputId": "b051996f-6891-4906-85d5-17e4d43b4e7a"
      },
      "source": [
        "Train"
      ],
      "execution_count": null,
      "outputs": [
        {
          "output_type": "execute_result",
          "data": {
            "text/html": [
              "<div>\n",
              "<style scoped>\n",
              "    .dataframe tbody tr th:only-of-type {\n",
              "        vertical-align: middle;\n",
              "    }\n",
              "\n",
              "    .dataframe tbody tr th {\n",
              "        vertical-align: top;\n",
              "    }\n",
              "\n",
              "    .dataframe thead th {\n",
              "        text-align: right;\n",
              "    }\n",
              "</style>\n",
              "<table border=\"1\" class=\"dataframe\">\n",
              "  <thead>\n",
              "    <tr style=\"text-align: right;\">\n",
              "      <th></th>\n",
              "      <th>Month</th>\n",
              "      <th>Passengers</th>\n",
              "      <th>t</th>\n",
              "      <th>log(Passengers)</th>\n",
              "      <th>t-square</th>\n",
              "      <th>Date</th>\n",
              "      <th>month</th>\n",
              "      <th>year</th>\n",
              "      <th>Apr</th>\n",
              "      <th>Aug</th>\n",
              "      <th>Dec</th>\n",
              "      <th>Feb</th>\n",
              "      <th>Jan</th>\n",
              "      <th>Jul</th>\n",
              "      <th>Jun</th>\n",
              "      <th>Mar</th>\n",
              "      <th>May</th>\n",
              "      <th>Nov</th>\n",
              "      <th>Oct</th>\n",
              "      <th>Sep</th>\n",
              "    </tr>\n",
              "  </thead>\n",
              "  <tbody>\n",
              "    <tr>\n",
              "      <th>0</th>\n",
              "      <td>Jan-95</td>\n",
              "      <td>112</td>\n",
              "      <td>1</td>\n",
              "      <td>4.718499</td>\n",
              "      <td>1</td>\n",
              "      <td>1995-01-01</td>\n",
              "      <td>Jan</td>\n",
              "      <td>1995</td>\n",
              "      <td>0</td>\n",
              "      <td>0</td>\n",
              "      <td>0</td>\n",
              "      <td>0</td>\n",
              "      <td>1</td>\n",
              "      <td>0</td>\n",
              "      <td>0</td>\n",
              "      <td>0</td>\n",
              "      <td>0</td>\n",
              "      <td>0</td>\n",
              "      <td>0</td>\n",
              "      <td>0</td>\n",
              "    </tr>\n",
              "    <tr>\n",
              "      <th>1</th>\n",
              "      <td>Feb-95</td>\n",
              "      <td>118</td>\n",
              "      <td>2</td>\n",
              "      <td>4.770685</td>\n",
              "      <td>4</td>\n",
              "      <td>1995-02-01</td>\n",
              "      <td>Feb</td>\n",
              "      <td>1995</td>\n",
              "      <td>0</td>\n",
              "      <td>0</td>\n",
              "      <td>0</td>\n",
              "      <td>1</td>\n",
              "      <td>0</td>\n",
              "      <td>0</td>\n",
              "      <td>0</td>\n",
              "      <td>0</td>\n",
              "      <td>0</td>\n",
              "      <td>0</td>\n",
              "      <td>0</td>\n",
              "      <td>0</td>\n",
              "    </tr>\n",
              "    <tr>\n",
              "      <th>2</th>\n",
              "      <td>Mar-95</td>\n",
              "      <td>132</td>\n",
              "      <td>3</td>\n",
              "      <td>4.882802</td>\n",
              "      <td>9</td>\n",
              "      <td>1995-03-01</td>\n",
              "      <td>Mar</td>\n",
              "      <td>1995</td>\n",
              "      <td>0</td>\n",
              "      <td>0</td>\n",
              "      <td>0</td>\n",
              "      <td>0</td>\n",
              "      <td>0</td>\n",
              "      <td>0</td>\n",
              "      <td>0</td>\n",
              "      <td>1</td>\n",
              "      <td>0</td>\n",
              "      <td>0</td>\n",
              "      <td>0</td>\n",
              "      <td>0</td>\n",
              "    </tr>\n",
              "    <tr>\n",
              "      <th>3</th>\n",
              "      <td>Apr-95</td>\n",
              "      <td>129</td>\n",
              "      <td>4</td>\n",
              "      <td>4.859812</td>\n",
              "      <td>16</td>\n",
              "      <td>1995-04-01</td>\n",
              "      <td>Apr</td>\n",
              "      <td>1995</td>\n",
              "      <td>1</td>\n",
              "      <td>0</td>\n",
              "      <td>0</td>\n",
              "      <td>0</td>\n",
              "      <td>0</td>\n",
              "      <td>0</td>\n",
              "      <td>0</td>\n",
              "      <td>0</td>\n",
              "      <td>0</td>\n",
              "      <td>0</td>\n",
              "      <td>0</td>\n",
              "      <td>0</td>\n",
              "    </tr>\n",
              "    <tr>\n",
              "      <th>4</th>\n",
              "      <td>May-95</td>\n",
              "      <td>121</td>\n",
              "      <td>5</td>\n",
              "      <td>4.795791</td>\n",
              "      <td>25</td>\n",
              "      <td>1995-05-01</td>\n",
              "      <td>May</td>\n",
              "      <td>1995</td>\n",
              "      <td>0</td>\n",
              "      <td>0</td>\n",
              "      <td>0</td>\n",
              "      <td>0</td>\n",
              "      <td>0</td>\n",
              "      <td>0</td>\n",
              "      <td>0</td>\n",
              "      <td>0</td>\n",
              "      <td>1</td>\n",
              "      <td>0</td>\n",
              "      <td>0</td>\n",
              "      <td>0</td>\n",
              "    </tr>\n",
              "    <tr>\n",
              "      <th>...</th>\n",
              "      <td>...</td>\n",
              "      <td>...</td>\n",
              "      <td>...</td>\n",
              "      <td>...</td>\n",
              "      <td>...</td>\n",
              "      <td>...</td>\n",
              "      <td>...</td>\n",
              "      <td>...</td>\n",
              "      <td>...</td>\n",
              "      <td>...</td>\n",
              "      <td>...</td>\n",
              "      <td>...</td>\n",
              "      <td>...</td>\n",
              "      <td>...</td>\n",
              "      <td>...</td>\n",
              "      <td>...</td>\n",
              "      <td>...</td>\n",
              "      <td>...</td>\n",
              "      <td>...</td>\n",
              "      <td>...</td>\n",
              "    </tr>\n",
              "    <tr>\n",
              "      <th>60</th>\n",
              "      <td>Jan-00</td>\n",
              "      <td>204</td>\n",
              "      <td>61</td>\n",
              "      <td>5.318120</td>\n",
              "      <td>3721</td>\n",
              "      <td>2000-01-01</td>\n",
              "      <td>Jan</td>\n",
              "      <td>2000</td>\n",
              "      <td>0</td>\n",
              "      <td>0</td>\n",
              "      <td>0</td>\n",
              "      <td>0</td>\n",
              "      <td>1</td>\n",
              "      <td>0</td>\n",
              "      <td>0</td>\n",
              "      <td>0</td>\n",
              "      <td>0</td>\n",
              "      <td>0</td>\n",
              "      <td>0</td>\n",
              "      <td>0</td>\n",
              "    </tr>\n",
              "    <tr>\n",
              "      <th>61</th>\n",
              "      <td>Feb-00</td>\n",
              "      <td>188</td>\n",
              "      <td>62</td>\n",
              "      <td>5.236442</td>\n",
              "      <td>3844</td>\n",
              "      <td>2000-02-01</td>\n",
              "      <td>Feb</td>\n",
              "      <td>2000</td>\n",
              "      <td>0</td>\n",
              "      <td>0</td>\n",
              "      <td>0</td>\n",
              "      <td>1</td>\n",
              "      <td>0</td>\n",
              "      <td>0</td>\n",
              "      <td>0</td>\n",
              "      <td>0</td>\n",
              "      <td>0</td>\n",
              "      <td>0</td>\n",
              "      <td>0</td>\n",
              "      <td>0</td>\n",
              "    </tr>\n",
              "    <tr>\n",
              "      <th>62</th>\n",
              "      <td>Mar-00</td>\n",
              "      <td>235</td>\n",
              "      <td>63</td>\n",
              "      <td>5.459586</td>\n",
              "      <td>3969</td>\n",
              "      <td>2000-03-01</td>\n",
              "      <td>Mar</td>\n",
              "      <td>2000</td>\n",
              "      <td>0</td>\n",
              "      <td>0</td>\n",
              "      <td>0</td>\n",
              "      <td>0</td>\n",
              "      <td>0</td>\n",
              "      <td>0</td>\n",
              "      <td>0</td>\n",
              "      <td>1</td>\n",
              "      <td>0</td>\n",
              "      <td>0</td>\n",
              "      <td>0</td>\n",
              "      <td>0</td>\n",
              "    </tr>\n",
              "    <tr>\n",
              "      <th>63</th>\n",
              "      <td>Apr-00</td>\n",
              "      <td>227</td>\n",
              "      <td>64</td>\n",
              "      <td>5.424950</td>\n",
              "      <td>4096</td>\n",
              "      <td>2000-04-01</td>\n",
              "      <td>Apr</td>\n",
              "      <td>2000</td>\n",
              "      <td>1</td>\n",
              "      <td>0</td>\n",
              "      <td>0</td>\n",
              "      <td>0</td>\n",
              "      <td>0</td>\n",
              "      <td>0</td>\n",
              "      <td>0</td>\n",
              "      <td>0</td>\n",
              "      <td>0</td>\n",
              "      <td>0</td>\n",
              "      <td>0</td>\n",
              "      <td>0</td>\n",
              "    </tr>\n",
              "    <tr>\n",
              "      <th>64</th>\n",
              "      <td>May-00</td>\n",
              "      <td>234</td>\n",
              "      <td>65</td>\n",
              "      <td>5.455321</td>\n",
              "      <td>4225</td>\n",
              "      <td>2000-05-01</td>\n",
              "      <td>May</td>\n",
              "      <td>2000</td>\n",
              "      <td>0</td>\n",
              "      <td>0</td>\n",
              "      <td>0</td>\n",
              "      <td>0</td>\n",
              "      <td>0</td>\n",
              "      <td>0</td>\n",
              "      <td>0</td>\n",
              "      <td>0</td>\n",
              "      <td>1</td>\n",
              "      <td>0</td>\n",
              "      <td>0</td>\n",
              "      <td>0</td>\n",
              "    </tr>\n",
              "  </tbody>\n",
              "</table>\n",
              "<p>65 rows × 20 columns</p>\n",
              "</div>"
            ],
            "text/plain": [
              "     Month  Passengers   t  log(Passengers)  t-square  ... Mar May Nov  Oct  Sep\n",
              "0   Jan-95         112   1         4.718499         1  ...   0   0   0    0    0\n",
              "1   Feb-95         118   2         4.770685         4  ...   0   0   0    0    0\n",
              "2   Mar-95         132   3         4.882802         9  ...   1   0   0    0    0\n",
              "3   Apr-95         129   4         4.859812        16  ...   0   0   0    0    0\n",
              "4   May-95         121   5         4.795791        25  ...   0   1   0    0    0\n",
              "..     ...         ...  ..              ...       ...  ...  ..  ..  ..  ...  ...\n",
              "60  Jan-00         204  61         5.318120      3721  ...   0   0   0    0    0\n",
              "61  Feb-00         188  62         5.236442      3844  ...   0   0   0    0    0\n",
              "62  Mar-00         235  63         5.459586      3969  ...   1   0   0    0    0\n",
              "63  Apr-00         227  64         5.424950      4096  ...   0   0   0    0    0\n",
              "64  May-00         234  65         5.455321      4225  ...   0   1   0    0    0\n",
              "\n",
              "[65 rows x 20 columns]"
            ]
          },
          "metadata": {
            "tags": []
          },
          "execution_count": 93
        }
      ]
    },
    {
      "cell_type": "code",
      "metadata": {
        "colab": {
          "base_uri": "https://localhost:8080/"
        },
        "id": "AJx8eqHqRSU_",
        "outputId": "fc6d05f7-5939-4f7f-f642-689ccea16c77"
      },
      "source": [
        "#Linear Model\n",
        "import statsmodels.formula.api as smf \n",
        "\n",
        "linear_model = smf.ols('Passengers~t',data=Train).fit()\n",
        "pred_linear =  pd.Series(linear_model.predict(pd.DataFrame(Test['t'])))\n",
        "rmse_linear = np.sqrt(np.mean((np.array(Test['Passengers'])-np.array(pred_linear))**2))\n",
        "rmse_linear"
      ],
      "execution_count": null,
      "outputs": [
        {
          "output_type": "execute_result",
          "data": {
            "text/plain": [
              "48.215057140105166"
            ]
          },
          "metadata": {
            "tags": []
          },
          "execution_count": 94
        }
      ]
    },
    {
      "cell_type": "code",
      "metadata": {
        "colab": {
          "base_uri": "https://localhost:8080/"
        },
        "id": "EQjabDjURSZD",
        "outputId": "8565c589-f3ec-4333-ae9f-748d7e4edaaf"
      },
      "source": [
        "#Exponential\n",
        "\n",
        "Exp = smf.ols('log(Passengers)~t',data=Train).fit()\n",
        "pred_Exp = pd.Series(Exp.predict(pd.DataFrame(Test['t'])))\n",
        "rmse_Exp = np.sqrt(np.mean((np.array(Test['Passengers'])-np.array(np.exp(pred_Exp)))**2))\n",
        "rmse_Exp\n"
      ],
      "execution_count": null,
      "outputs": [
        {
          "output_type": "execute_result",
          "data": {
            "text/plain": [
              "39.961766974369944"
            ]
          },
          "metadata": {
            "tags": []
          },
          "execution_count": 95
        }
      ]
    },
    {
      "cell_type": "code",
      "metadata": {
        "colab": {
          "base_uri": "https://localhost:8080/"
        },
        "id": "wun2-szDRSc7",
        "outputId": "91c1a7eb-0671-4d63-cf37-a5cf6be93f8c"
      },
      "source": [
        "#Quadratic \n",
        "\n",
        "Quad = smf.ols('Passengers~t+t-square',data=Train).fit()\n",
        "pred_Quad = pd.Series(Quad.predict(Test[[\"t\",\"t-square\"]]))\n",
        "rmse_Quad = np.sqrt(np.mean((np.array(Test['Passengers'])-np.array(pred_Quad))**2))\n",
        "rmse_Quad"
      ],
      "execution_count": null,
      "outputs": [
        {
          "output_type": "execute_result",
          "data": {
            "text/plain": [
              "48.215057140105166"
            ]
          },
          "metadata": {
            "tags": []
          },
          "execution_count": 96
        }
      ]
    },
    {
      "cell_type": "code",
      "metadata": {
        "colab": {
          "base_uri": "https://localhost:8080/"
        },
        "id": "sxNRt9NTS9aD",
        "outputId": "80a0720b-f1a7-4d35-dbdc-57fecd4bef71"
      },
      "source": [
        "#Additive seasonality \n",
        "\n",
        "add_sea = smf.ols('Passengers~Jan+Feb+Mar+Apr+May+Jun+Jul+Aug+Sep+Oct+Nov',data=Train).fit()\n",
        "pred_add_sea = pd.Series(add_sea.predict(Test[['Jan','Feb','Mar','Apr','May','Jun','Jul','Aug','Sep','Oct','Nov']]))\n",
        "rmse_add_sea = np.sqrt(np.mean((np.array(Test['Passengers'])-np.array(pred_add_sea))**2))\n",
        "rmse_add_sea"
      ],
      "execution_count": null,
      "outputs": [
        {
          "output_type": "execute_result",
          "data": {
            "text/plain": [
              "118.35299166020533"
            ]
          },
          "metadata": {
            "tags": []
          },
          "execution_count": 97
        }
      ]
    },
    {
      "cell_type": "code",
      "metadata": {
        "colab": {
          "base_uri": "https://localhost:8080/"
        },
        "id": "5c3K9eRiThf8",
        "outputId": "555567ea-1aa9-4768-fb05-ed3851d1c3c2"
      },
      "source": [
        "#Additive Seasonality Quadratic \n",
        "\n",
        "add_sea_Quad = smf.ols('Passengers~t+t-square+Jan+Feb+Mar+Apr+May+Jun+Jul+Aug+Sep+Oct+Nov',data=Train).fit()\n",
        "pred_add_sea_quad = pd.Series(add_sea_Quad.predict(Test[['Jan','Feb','Mar','Apr','May','Jun','Jul','Aug','Sep','Oct','Nov','t','t-square']]))\n",
        "rmse_add_sea_quad = np.sqrt(np.mean((np.array(Test['Passengers'])-np.array(pred_add_sea_quad))**2))\n",
        "rmse_add_sea_quad"
      ],
      "execution_count": null,
      "outputs": [
        {
          "output_type": "execute_result",
          "data": {
            "text/plain": [
              "33.43444606553943"
            ]
          },
          "metadata": {
            "tags": []
          },
          "execution_count": 98
        }
      ]
    },
    {
      "cell_type": "code",
      "metadata": {
        "colab": {
          "base_uri": "https://localhost:8080/"
        },
        "id": "qw5kGFxsS9di",
        "outputId": "c5c86ea0-2af8-4159-cfa2-7ccef077635e"
      },
      "source": [
        "##Multiplicative Seasonality\n",
        "\n",
        "Mul_sea = smf.ols('log(Passengers)~Jan+Feb+Mar+Apr+May+Jun+Jul+Aug+Sep+Oct+Nov',data = Train).fit()\n",
        "pred_Mult_sea = pd.Series(Mul_sea.predict(Test))\n",
        "rmse_Mult_sea = np.sqrt(np.mean((np.array(Test['Passengers'])-np.array(np.exp(pred_Mult_sea)))**2))\n",
        "rmse_Mult_sea"
      ],
      "execution_count": null,
      "outputs": [
        {
          "output_type": "execute_result",
          "data": {
            "text/plain": [
              "122.2416178035053"
            ]
          },
          "metadata": {
            "tags": []
          },
          "execution_count": 99
        }
      ]
    },
    {
      "cell_type": "code",
      "metadata": {
        "colab": {
          "base_uri": "https://localhost:8080/"
        },
        "id": "l5r9IE0zUE5L",
        "outputId": "80224dd8-b5db-498b-e2e1-fa3cbf210aab"
      },
      "source": [
        "#Multiplicative Additive Seasonality \n",
        "\n",
        "Mul_Add_sea = smf.ols('log(Passengers)~t+Jan+Feb+Mar+Apr+May+Jun+Jul+Aug+Sep+Oct+Nov',data = Train).fit()\n",
        "pred_Mult_add_sea = pd.Series(Mul_Add_sea.predict(Test))\n",
        "rmse_Mult_add_sea = np.sqrt(np.mean((np.array(Test['Passengers'])-np.array(np.exp(pred_Mult_add_sea)))**2))\n",
        "rmse_Mult_add_sea "
      ],
      "execution_count": null,
      "outputs": [
        {
          "output_type": "execute_result",
          "data": {
            "text/plain": [
              "13.83993535621583"
            ]
          },
          "metadata": {
            "tags": []
          },
          "execution_count": 184
        }
      ]
    },
    {
      "cell_type": "code",
      "metadata": {
        "id": "DKmj2KeTW6W4"
      },
      "source": [
        "pred=np.exp(pred_Mult_add_sea)"
      ],
      "execution_count": null,
      "outputs": []
    },
    {
      "cell_type": "code",
      "metadata": {
        "colab": {
          "base_uri": "https://localhost:8080/",
          "height": 265
        },
        "id": "gobpUjDoc2AE",
        "outputId": "e02383d0-01f3-4883-f0e9-adc7c5ef9759"
      },
      "source": [
        "# line plot of time series\n",
        "from pandas import read_csv\n",
        "from matplotlib import pyplot\n",
        "pred.plot()\n",
        "Test[\"Passengers\"].plot()\n",
        "pyplot.show()\n"
      ],
      "execution_count": null,
      "outputs": [
        {
          "output_type": "display_data",
          "data": {
            "image/png": "[encoded data removed]",
            "text/plain": [
              "<Figure size 432x288 with 1 Axes>"
            ]
          },
          "metadata": {
            "tags": [],
            "needs_background": "light"
          }
        }
      ]
    },
    {
      "cell_type": "code",
      "metadata": {
        "colab": {
          "base_uri": "https://localhost:8080/",
          "height": 254
        },
        "id": "QsiB7oR6S9gs",
        "outputId": "2a0cba3f-7e7c-4dc0-a8ec-3dcdcb344688"
      },
      "source": [
        "#Compare the results \n",
        "\n",
        "data = {\"MODEL\":pd.Series([\"rmse_linear\",\"rmse_Exp\",\"rmse_Quad\",\"rmse_add_sea\",\"rmse_add_sea_quad\",\"rmse_Mult_sea\",\"rmse_Mult_add_sea\"]),\"RMSE_Values\":pd.Series([rmse_linear,rmse_Exp,rmse_Quad,rmse_add_sea,rmse_add_sea_quad,rmse_Mult_sea,rmse_Mult_add_sea])}\n",
        "table_rmse=pd.DataFrame(data)\n",
        "table_rmse.sort_values(['RMSE_Values'])"
      ],
      "execution_count": null,
      "outputs": [
        {
          "output_type": "execute_result",
          "data": {
            "text/html": [
              "<div>\n",
              "<style scoped>\n",
              "    .dataframe tbody tr th:only-of-type {\n",
              "        vertical-align: middle;\n",
              "    }\n",
              "\n",
              "    .dataframe tbody tr th {\n",
              "        vertical-align: top;\n",
              "    }\n",
              "\n",
              "    .dataframe thead th {\n",
              "        text-align: right;\n",
              "    }\n",
              "</style>\n",
              "<table border=\"1\" class=\"dataframe\">\n",
              "  <thead>\n",
              "    <tr style=\"text-align: right;\">\n",
              "      <th></th>\n",
              "      <th>MODEL</th>\n",
              "      <th>RMSE_Values</th>\n",
              "    </tr>\n",
              "  </thead>\n",
              "  <tbody>\n",
              "    <tr>\n",
              "      <th>6</th>\n",
              "      <td>rmse_Mult_add_sea</td>\n",
              "      <td>13.839935</td>\n",
              "    </tr>\n",
              "    <tr>\n",
              "      <th>4</th>\n",
              "      <td>rmse_add_sea_quad</td>\n",
              "      <td>33.434446</td>\n",
              "    </tr>\n",
              "    <tr>\n",
              "      <th>1</th>\n",
              "      <td>rmse_Exp</td>\n",
              "      <td>39.961767</td>\n",
              "    </tr>\n",
              "    <tr>\n",
              "      <th>0</th>\n",
              "      <td>rmse_linear</td>\n",
              "      <td>48.215057</td>\n",
              "    </tr>\n",
              "    <tr>\n",
              "      <th>2</th>\n",
              "      <td>rmse_Quad</td>\n",
              "      <td>48.215057</td>\n",
              "    </tr>\n",
              "    <tr>\n",
              "      <th>3</th>\n",
              "      <td>rmse_add_sea</td>\n",
              "      <td>118.352992</td>\n",
              "    </tr>\n",
              "    <tr>\n",
              "      <th>5</th>\n",
              "      <td>rmse_Mult_sea</td>\n",
              "      <td>122.241618</td>\n",
              "    </tr>\n",
              "  </tbody>\n",
              "</table>\n",
              "</div>"
            ],
            "text/plain": [
              "               MODEL  RMSE_Values\n",
              "6  rmse_Mult_add_sea    13.839935\n",
              "4  rmse_add_sea_quad    33.434446\n",
              "1           rmse_Exp    39.961767\n",
              "0        rmse_linear    48.215057\n",
              "2          rmse_Quad    48.215057\n",
              "3       rmse_add_sea   118.352992\n",
              "5      rmse_Mult_sea   122.241618"
            ]
          },
          "metadata": {
            "tags": []
          },
          "execution_count": 103
        }
      ]
    },
    {
      "cell_type": "markdown",
      "metadata": {
        "id": "z829NczTUbCN"
      },
      "source": [
        "Predict for new time period"
      ]
    },
    {
      "cell_type": "code",
      "metadata": {
        "colab": {
          "resources": {
            "http://localhost:8080/nbextensions/google.colab/files.js": {
              "data": "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",
              "ok": true,
              "headers": [
                [
                  "content-type",
                  "application/javascript"
                ]
              ],
              "status": 200,
              "status_text": ""
            }
          },
          "base_uri": "https://localhost:8080/",
          "height": 74
        },
        "id": "281NNqAhWiNH",
        "outputId": "2d47312b-bea3-4dba-f5fa-a49a49d35ce5"
      },
      "source": [
        "from google.colab import files\n",
        "up=files.upload()"
      ],
      "execution_count": null,
      "outputs": [
        {
          "output_type": "display_data",
          "data": {
            "text/html": [
              "\n",
              "     <input type=\"file\" id=\"files-32ab3a8d-dbba-4a30-8cce-f513fa9b8fb9\" name=\"files[]\" multiple disabled\n",
              "        style=\"border:none\" />\n",
              "     <output id=\"result-32ab3a8d-dbba-4a30-8cce-f513fa9b8fb9\">\n",
              "      Upload widget is only available when the cell has been executed in the\n",
              "      current browser session. Please rerun this cell to enable.\n",
              "      </output>\n",
              "      <script src=\"/nbextensions/google.colab/files.js\"></script> "
            ],
            "text/plain": [
              "<IPython.core.display.HTML object>"
            ]
          },
          "metadata": {
            "tags": []
          }
        },
        {
          "output_type": "stream",
          "text": [
            "Saving Predict_new.csv to Predict_new.csv\n"
          ],
          "name": "stdout"
        }
      ]
    },
    {
      "cell_type": "code",
      "metadata": {
        "id": "1CG-G068Wn2_"
      },
      "source": [
        "predict_data = pd.read_csv(\"Predict_new.csv\")"
      ],
      "execution_count": null,
      "outputs": []
    },
    {
      "cell_type": "code",
      "metadata": {
        "id": "-OnB2We8S9ji"
      },
      "source": [
        "#Build the model on entire data set\n",
        "model_full = smf.ols('Passengers~t+t-square+Jan+Feb+Mar+Apr+May+Jun+Jul+Aug+Sep+Oct+Nov',data=seriesmodel).fit()"
      ],
      "execution_count": null,
      "outputs": []
    },
    {
      "cell_type": "code",
      "metadata": {
        "colab": {
          "base_uri": "https://localhost:8080/"
        },
        "id": "G4TW-L0_S9pP",
        "outputId": "e7fb4beb-193e-4e0c-8067-af85c721c28a"
      },
      "source": [
        "pred_new  = pd.Series(Mul_Add_sea.predict(predict_data))\n",
        "pred_new"
      ],
      "execution_count": null,
      "outputs": [
        {
          "output_type": "execute_result",
          "data": {
            "text/plain": [
              "0     6.611862\n",
              "1     6.599905\n",
              "2     6.717876\n",
              "3     6.812233\n",
              "4     6.828375\n",
              "5     6.724280\n",
              "6     6.596404\n",
              "7     6.465093\n",
              "8     6.603260\n",
              "9     6.623121\n",
              "10    6.647630\n",
              "11    6.793353\n",
              "dtype: float64"
            ]
          },
          "metadata": {
            "tags": []
          },
          "execution_count": 107
        }
      ]
    },
    {
      "cell_type": "code",
      "metadata": {
        "id": "rpQMFc1JS9ti"
      },
      "source": [
        "pred_new[\"passenger\"]=np.exp(pred_new)"
      ],
      "execution_count": null,
      "outputs": []
    },
    {
      "cell_type": "code",
      "metadata": {
        "colab": {
          "base_uri": "https://localhost:8080/"
        },
        "id": "5oA57ar0S93q",
        "outputId": "eb7ff831-a952-487a-eb68-b5ab2c93785a"
      },
      "source": [
        "pred_new[\"passenger\"]"
      ],
      "execution_count": null,
      "outputs": [
        {
          "output_type": "execute_result",
          "data": {
            "text/plain": [
              "0     743.866862\n",
              "1     735.025420\n",
              "2     827.059097\n",
              "3     908.897852\n",
              "4     923.688589\n",
              "5     832.372401\n",
              "6     732.456554\n",
              "7     642.324343\n",
              "8     737.495144\n",
              "9     752.289528\n",
              "10    770.954984\n",
              "11    891.899015\n",
              "dtype: float64"
            ]
          },
          "metadata": {
            "tags": []
          },
          "execution_count": 109
        }
      ]
    },
    {
      "cell_type": "markdown",
      "metadata": {
        "id": "hbz5LyKlaSUu"
      },
      "source": [
        "Forecasting Model_Arima"
      ]
    },
    {
      "cell_type": "code",
      "metadata": {
        "id": "XghIDE1qaOuT"
      },
      "source": [
        "# Import libraries\n",
        "from pandas import read_csv\n",
        "from matplotlib import pyplot\n",
        "from numpy import sqrt\n",
        "import warnings\n",
        "import itertools\n",
        "import pandas as pd\n",
        "import numpy as np\n",
        "import matplotlib.pyplot as plt\n",
        "import statsmodels.api as sm"
      ],
      "execution_count": null,
      "outputs": []
    },
    {
      "cell_type": "code",
      "metadata": {
        "id": "46jHNZsQkWA6"
      },
      "source": [
        "serarima=read_csv('ad.csv')"
      ],
      "execution_count": null,
      "outputs": []
    },
    {
      "cell_type": "code",
      "metadata": {
        "id": "kbVKb5KkaPUR",
        "colab": {
          "base_uri": "https://localhost:8080/",
          "height": 265
        },
        "outputId": "38b22348-2029-4ccd-a99f-2918db52fea1"
      },
      "source": [
        "# line plot of time series\n",
        "from pandas import read_csv\n",
        "from matplotlib import pyplot\n",
        "serarima.plot()\n",
        "pyplot.show()"
      ],
      "execution_count": null,
      "outputs": [
        {
          "output_type": "display_data",
          "data": {
            "image/png": "[encoded data removed]",
            "text/plain": [
              "<Figure size 432x288 with 1 Axes>"
            ]
          },
          "metadata": {
            "tags": [],
            "needs_background": "light"
          }
        }
      ]
    },
    {
      "cell_type": "code",
      "metadata": {
        "colab": {
          "base_uri": "https://localhost:8080/",
          "height": 316
        },
        "id": "wnOuvTVBaPXw",
        "outputId": "75faed38-159e-4b3e-f47f-26eb36241abe"
      },
      "source": [
        "serarima.hist()"
      ],
      "execution_count": null,
      "outputs": [
        {
          "output_type": "execute_result",
          "data": {
            "text/plain": [
              "array([[<matplotlib.axes._subplots.AxesSubplot object at 0x7fb1c42fb950>]],\n",
              "      dtype=object)"
            ]
          },
          "metadata": {
            "tags": []
          },
          "execution_count": 113
        },
        {
          "output_type": "display_data",
          "data": {
            "image/png": "[encoded data removed]",
            "text/plain": [
              "<Figure size 432x288 with 1 Axes>"
            ]
          },
          "metadata": {
            "tags": [],
            "needs_background": "light"
          }
        }
      ]
    },
    {
      "cell_type": "code",
      "metadata": {
        "colab": {
          "base_uri": "https://localhost:8080/",
          "height": 282
        },
        "id": "8rQ6JzbfaPdv",
        "outputId": "e20c0b0d-1930-4aba-fcb7-9df150683554"
      },
      "source": [
        "serarima.plot(kind='kde')"
      ],
      "execution_count": null,
      "outputs": [
        {
          "output_type": "execute_result",
          "data": {
            "text/plain": [
              "<matplotlib.axes._subplots.AxesSubplot at 0x7fb1c232aed0>"
            ]
          },
          "metadata": {
            "tags": []
          },
          "execution_count": 114
        },
        {
          "output_type": "display_data",
          "data": {
            "image/png": "[encoded data removed]",
            "text/plain": [
              "<Figure size 432x288 with 1 Axes>"
            ]
          },
          "metadata": {
            "tags": [],
            "needs_background": "light"
          }
        }
      ]
    },
    {
      "cell_type": "code",
      "metadata": {
        "id": "u1qDMyDvkuAD"
      },
      "source": [
        "serarima[\"Passengers\"]=serarima[\"Passengers\"].astype(float)\n",
        "serarima[\"Month\"] = pd.to_datetime(serarima.Month,format=\"%b-%y\")\n",
        "arima=serarima[\"Passengers\"]"
      ],
      "execution_count": null,
      "outputs": []
    },
    {
      "cell_type": "code",
      "metadata": {
        "colab": {
          "base_uri": "https://localhost:8080/"
        },
        "id": "cTo3AF1naPhA",
        "outputId": "47a652ad-f0f4-4ce9-bb12-517800325d2f"
      },
      "source": [
        "# separate out a validation dataset\n",
        "split_point = len(arima) - 10\n",
        "dataset, validation = arima[0:split_point], arima[split_point:]\n",
        "print('Dataset %d, Validation %d' % (len(dataset), len(validation)))\n",
        "dataset.to_csv('dataset.csv', header=False)\n",
        "validation.to_csv('validation.csv', header=False)"
      ],
      "execution_count": null,
      "outputs": [
        {
          "output_type": "stream",
          "text": [
            "Dataset 86, Validation 10\n"
          ],
          "name": "stdout"
        }
      ]
    },
    {
      "cell_type": "markdown",
      "metadata": {
        "id": "Wtv0rDGTbe1Y"
      },
      "source": [
        "Persistence/ Base model"
      ]
    },
    {
      "cell_type": "code",
      "metadata": {
        "id": "D3kKgksulv8y"
      },
      "source": [
        "# evaluate a persistence model\n",
        "from pandas import read_csv\n",
        "from sklearn.metrics import mean_squared_error\n",
        "from math import sqrt\n",
        "# load data\n",
        "train = read_csv('dataset.csv', header=None, index_col=0, parse_dates=True, squeeze=True)\n",
        "# prepare data\n",
        "X = train.values\n",
        "X = X.astype('float32')\n",
        "train_size = int(len(X) * 0.50)\n",
        "train, test = X[0:train_size], X[train_size:]"
      ],
      "execution_count": null,
      "outputs": []
    },
    {
      "cell_type": "code",
      "metadata": {
        "id": "uZBppQosmN-Y",
        "colab": {
          "base_uri": "https://localhost:8080/"
        },
        "outputId": "c31ac512-67ea-4c97-c7b1-dba1178f5f80"
      },
      "source": [
        "# walk-forward validation\n",
        "history = [x for x in train]\n",
        "predictions = list()\n",
        "for i in range(len(test)):\n",
        "    yhat = history[-1]\n",
        "    predictions.append(yhat)\n",
        "# observation\n",
        "    obs =test[i]\n",
        "    history.append(obs)\n",
        "    print('>Predicted=%.3f, Expected=%.3f' % (yhat, obs))\n",
        "# report performance\n",
        "rmse = sqrt(mean_squared_error(test, predictions))\n",
        "print('RMSE: %.3f' % rmse)"
      ],
      "execution_count": null,
      "outputs": [
        {
          "output_type": "stream",
          "text": [
            ">Predicted=230.000, Expected=242.000\n",
            ">Predicted=242.000, Expected=209.000\n",
            ">Predicted=209.000, Expected=191.000\n",
            ">Predicted=191.000, Expected=172.000\n",
            ">Predicted=172.000, Expected=194.000\n",
            ">Predicted=194.000, Expected=196.000\n",
            ">Predicted=196.000, Expected=196.000\n",
            ">Predicted=196.000, Expected=236.000\n",
            ">Predicted=236.000, Expected=235.000\n",
            ">Predicted=235.000, Expected=229.000\n",
            ">Predicted=229.000, Expected=243.000\n",
            ">Predicted=243.000, Expected=264.000\n",
            ">Predicted=264.000, Expected=272.000\n",
            ">Predicted=272.000, Expected=237.000\n",
            ">Predicted=237.000, Expected=211.000\n",
            ">Predicted=211.000, Expected=180.000\n",
            ">Predicted=180.000, Expected=201.000\n",
            ">Predicted=201.000, Expected=204.000\n",
            ">Predicted=204.000, Expected=188.000\n",
            ">Predicted=188.000, Expected=235.000\n",
            ">Predicted=235.000, Expected=227.000\n",
            ">Predicted=227.000, Expected=234.000\n",
            ">Predicted=234.000, Expected=264.000\n",
            ">Predicted=264.000, Expected=302.000\n",
            ">Predicted=302.000, Expected=293.000\n",
            ">Predicted=293.000, Expected=259.000\n",
            ">Predicted=259.000, Expected=229.000\n",
            ">Predicted=229.000, Expected=203.000\n",
            ">Predicted=203.000, Expected=229.000\n",
            ">Predicted=229.000, Expected=242.000\n",
            ">Predicted=242.000, Expected=233.000\n",
            ">Predicted=233.000, Expected=267.000\n",
            ">Predicted=267.000, Expected=269.000\n",
            ">Predicted=269.000, Expected=270.000\n",
            ">Predicted=270.000, Expected=315.000\n",
            ">Predicted=315.000, Expected=364.000\n",
            ">Predicted=364.000, Expected=347.000\n",
            ">Predicted=347.000, Expected=312.000\n",
            ">Predicted=312.000, Expected=274.000\n",
            ">Predicted=274.000, Expected=237.000\n",
            ">Predicted=237.000, Expected=278.000\n",
            ">Predicted=278.000, Expected=284.000\n",
            ">Predicted=284.000, Expected=277.000\n",
            "RMSE: 25.698\n"
          ],
          "name": "stdout"
        }
      ]
    },
    {
      "cell_type": "markdown",
      "metadata": {
        "id": "Do1_oy2If1wm"
      },
      "source": [
        "ARIMA Hyperparameters"
      ]
    },
    {
      "cell_type": "code",
      "metadata": {
        "id": "Kbdk5qU0f2vW"
      },
      "source": [
        "# grid search ARIMA parameters for a time series\n",
        "\n",
        "import warnings\n",
        "from pandas import read_csv\n",
        "from statsmodels.tsa.arima_model import ARIMA\n",
        "from sklearn.metrics import mean_squared_error\n",
        "from math import sqrt\n",
        "\n",
        "\n",
        "# evaluate an ARIMA model for a given order (p,d,q) and return RMSE\n",
        "def evaluate_arima_model(X, arima_order):\n",
        "# prepare training dataset\n",
        "    X = X.astype('float32')\n",
        "    train_size = int(len(X) * 0.50)\n",
        "    train, test = X[0:train_size], X[train_size:]\n",
        "    history = [x for x in train]\n",
        "# make predictions\n",
        "    predictions = list()\n",
        "    for t in range(len(test)):\n",
        "        model = ARIMA(history, order=arima_order)\n",
        "# model_fit = model.fit(disp=0)\n",
        "        model_fit = model.fit(disp=0)\n",
        "        yhat = model_fit.forecast()[0]\n",
        "        predictions.append(yhat)\n",
        "        history.append(test[t])\n",
        "# calculate out of sample error\n",
        "    rmse = sqrt(mean_squared_error(test, predictions))\n",
        "    return rmse"
      ],
      "execution_count": null,
      "outputs": []
    },
    {
      "cell_type": "code",
      "metadata": {
        "id": "hnnCCgTwf2zK"
      },
      "source": [
        "# evaluate combinations of p, d and q values for an ARIMA model\n",
        "def evaluate_models(dataset, p_values, d_values, q_values):\n",
        "    dataset = dataset.astype('float32')\n",
        "    best_score, best_cfg = float('inf'), None\n",
        "    for p in p_values:\n",
        "        for d in d_values:\n",
        "            for q in q_values:\n",
        "                order = (p,d,q)\n",
        "                try:\n",
        "                    rmse = evaluate_arima_model(train, order)\n",
        "                    if rmse < best_score:\n",
        "                        best_score, best_cfg = rmse, order\n",
        "                    print('ARIMA%s RMSE=%.3f' % (order,rmse))\n",
        "                except:\n",
        "                    continue\n",
        "    print('Best ARIMA%s RMSE=%.3f' % (best_cfg, best_score))"
      ],
      "execution_count": null,
      "outputs": []
    },
    {
      "cell_type": "code",
      "metadata": {
        "id": "OgGSUDkPf22P"
      },
      "source": [
        "# load dataset\n",
        "train = read_csv('dataset.csv', header=None, index_col=0, parse_dates=True, squeeze=True)\n",
        "# evaluate parameters\n",
        "#p_values = range(0, 5)\n",
        "#d_values = range(0, 5)\n",
        "#q_values = range(0, 5)\n",
        "warnings.filterwarnings(\"ignore\")\n",
        "#evaluate_models(train.values, p_values, d_values, q_values)"
      ],
      "execution_count": null,
      "outputs": []
    },
    {
      "cell_type": "code",
      "metadata": {
        "id": "YPfuxHl5f25S"
      },
      "source": [
        "# save finalized model to file\n",
        "from pandas import read_csv\n",
        "from statsmodels.tsa.arima_model import ARIMA\n",
        "import numpy"
      ],
      "execution_count": null,
      "outputs": []
    },
    {
      "cell_type": "code",
      "metadata": {
        "id": "xgZU9xW9f28e"
      },
      "source": [
        "# load data\n",
        "train = read_csv('ad.csv', header=0, index_col=0, parse_dates=True)\n",
        "# prepare data\n",
        "X = train.values\n",
        "X = X.astype('float32')"
      ],
      "execution_count": null,
      "outputs": []
    },
    {
      "cell_type": "code",
      "metadata": {
        "colab": {
          "base_uri": "https://localhost:8080/",
          "height": 513
        },
        "id": "_8OnCxFkf2_w",
        "outputId": "8e13d4fe-89ea-4e9b-9ea1-644abedbc065"
      },
      "source": [
        "# fit model\n",
        "model = ARIMA(X, order=(3,1,0))\n",
        "model_fit = model.fit()\n",
        "forecast=model_fit.forecast(steps=10)[0]\n",
        "model_fit.plot_predict(1, 79)"
      ],
      "execution_count": null,
      "outputs": [
        {
          "output_type": "execute_result",
          "data": {
            "image/png": "[encoded data removed]",
            "text/plain": [
              "<Figure size 432x288 with 1 Axes>"
            ]
          },
          "metadata": {
            "tags": []
          },
          "execution_count": 150
        },
        {
          "output_type": "display_data",
          "data": {
            "image/png": "[encoded data removed]",
            "text/plain": [
              "<Figure size 432x288 with 1 Axes>"
            ]
          },
          "metadata": {
            "tags": [],
            "needs_background": "light"
          }
        }
      ]
    },
    {
      "cell_type": "code",
      "metadata": {
        "colab": {
          "base_uri": "https://localhost:8080/"
        },
        "id": "Uwo8kuyjf3C6",
        "outputId": "fb4455e3-c739-4425-ffc7-e6d6a6ffbe29"
      },
      "source": [
        "#Error on the test data\n",
        "val=pd.read_csv('validation.csv',header=None)\n",
        "rmse =sqrt(mean_squared_error(val[1], forecast))\n",
        "rmse"
      ],
      "execution_count": null,
      "outputs": [
        {
          "output_type": "execute_result",
          "data": {
            "text/plain": [
              "47.73579334502228"
            ]
          },
          "metadata": {
            "tags": []
          },
          "execution_count": 152
        }
      ]
    },
    {
      "cell_type": "markdown",
      "metadata": {
        "id": "dijrjDnmbWbE"
      },
      "source": [
        "Inference:Data distributio is skewed towards right which means , the mode is less than the median, which is less than the mean.\n",
        "Comparing the root mean square error,the least rmse 13.5 is obtained with Multiplicative_Additive_seasonal forecasting model. \n",
        "\n",
        "\n",
        "\n",
        "\n",
        "\n",
        "![image.png](data:image/png;base64,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)"
      ]
    },
    {
      "cell_type": "markdown",
      "metadata": {
        "id": "y-TZJj-4pYoo"
      },
      "source": [
        ""
      ]
    },
    {
      "cell_type": "code",
      "metadata": {
        "id": "Ifl86ThLcgu4"
      },
      "source": [
        ""
      ],
      "execution_count": null,
      "outputs": []
    }
  ]
}