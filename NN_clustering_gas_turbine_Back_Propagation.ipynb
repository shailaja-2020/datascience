{
  "nbformat": 4,
  "nbformat_minor": 0,
  "metadata": {
    "kernelspec": {
      "display_name": "Python 3",
      "language": "python",
      "name": "python3"
    },
    "language_info": {
      "codemirror_mode": {
        "name": "ipython",
        "version": 3
      },
      "file_extension": ".py",
      "mimetype": "text/x-python",
      "name": "python",
      "nbconvert_exporter": "python",
      "pygments_lexer": "ipython3",
      "version": "3.8.5"
    },
    "colab": {
      "name": "NN clustering -gas turbine Back Propagation.ipynb",
      "provenance": [],
      "collapsed_sections": []
    }
  },
  "cells": [
    {
      "cell_type": "code",
      "metadata": {
        "id": "80FFfpXijHEn"
      },
      "source": [
        "# Create your first MLP in Keras\n",
        "from keras.models import Sequential\n",
        "from keras.layers import Dense\n",
        "from keras.optimizers import Adam\n",
        "\n"
      ],
      "execution_count": null,
      "outputs": []
    },
    {
      "cell_type": "code",
      "metadata": {
        "id": "y2C4BlF_jHEn"
      },
      "source": [
        "import numpy as np"
      ],
      "execution_count": null,
      "outputs": []
    },
    {
      "cell_type": "code",
      "metadata": {
        "colab": {
          "resources": {
            "http://localhost:8080/nbextensions/google.colab/files.js": {
              "data": "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",
              "ok": true,
              "headers": [
                [
                  "content-type",
                  "application/javascript"
                ]
              ],
              "status": 200,
              "status_text": ""
            }
          },
          "base_uri": "https://localhost:8080/",
          "height": 73
        },
        "id": "sHxG2wugkKD3",
        "outputId": "7c424cbb-b615-4a87-901f-65d0f86bd742"
      },
      "source": [
        "from google.colab  import files\n",
        "uploaded = files.upload()"
      ],
      "execution_count": null,
      "outputs": [
        {
          "output_type": "display_data",
          "data": {
            "text/html": [
              "\n",
              "     <input type=\"file\" id=\"files-6dedf736-7c66-4115-8b75-85ec29cccc95\" name=\"files[]\" multiple disabled\n",
              "        style=\"border:none\" />\n",
              "     <output id=\"result-6dedf736-7c66-4115-8b75-85ec29cccc95\">\n",
              "      Upload widget is only available when the cell has been executed in the\n",
              "      current browser session. Please rerun this cell to enable.\n",
              "      </output>\n",
              "      <script src=\"/nbextensions/google.colab/files.js\"></script> "
            ],
            "text/plain": [
              "<IPython.core.display.HTML object>"
            ]
          },
          "metadata": {
            "tags": []
          }
        },
        {
          "output_type": "stream",
          "text": [
            "Saving gas_turbines.csv to gas_turbines.csv\n"
          ],
          "name": "stdout"
        }
      ]
    },
    {
      "cell_type": "code",
      "metadata": {
        "id": "dpCwUhP2jjXH"
      },
      "source": [
        "import pandas as pd\n",
        "import io\n",
        "  \n",
        "gas_turb = pd.read_csv(io.BytesIO(uploaded[\"gas_turbines.csv\"]))\n",
        "\n"
      ],
      "execution_count": null,
      "outputs": []
    },
    {
      "cell_type": "code",
      "metadata": {
        "colab": {
          "base_uri": "https://localhost:8080/",
          "height": 399
        },
        "id": "3De0PY41uPUN",
        "outputId": "e9b84c00-2cd4-446a-a222-c18d3cfc6535"
      },
      "source": [
        "gas_turb"
      ],
      "execution_count": null,
      "outputs": [
        {
          "output_type": "execute_result",
          "data": {
            "text/html": [
              "<div>\n",
              "<style scoped>\n",
              "    .dataframe tbody tr th:only-of-type {\n",
              "        vertical-align: middle;\n",
              "    }\n",
              "\n",
              "    .dataframe tbody tr th {\n",
              "        vertical-align: top;\n",
              "    }\n",
              "\n",
              "    .dataframe thead th {\n",
              "        text-align: right;\n",
              "    }\n",
              "</style>\n",
              "<table border=\"1\" class=\"dataframe\">\n",
              "  <thead>\n",
              "    <tr style=\"text-align: right;\">\n",
              "      <th></th>\n",
              "      <th>AT</th>\n",
              "      <th>AP</th>\n",
              "      <th>AH</th>\n",
              "      <th>AFDP</th>\n",
              "      <th>GTEP</th>\n",
              "      <th>TIT</th>\n",
              "      <th>TAT</th>\n",
              "      <th>TEY</th>\n",
              "      <th>CDP</th>\n",
              "      <th>CO</th>\n",
              "      <th>NOX</th>\n",
              "    </tr>\n",
              "  </thead>\n",
              "  <tbody>\n",
              "    <tr>\n",
              "      <th>0</th>\n",
              "      <td>6.8594</td>\n",
              "      <td>1007.9</td>\n",
              "      <td>96.799</td>\n",
              "      <td>3.5000</td>\n",
              "      <td>19.663</td>\n",
              "      <td>1059.2</td>\n",
              "      <td>550.00</td>\n",
              "      <td>114.70</td>\n",
              "      <td>10.605</td>\n",
              "      <td>3.1547</td>\n",
              "      <td>82.722</td>\n",
              "    </tr>\n",
              "    <tr>\n",
              "      <th>1</th>\n",
              "      <td>6.7850</td>\n",
              "      <td>1008.4</td>\n",
              "      <td>97.118</td>\n",
              "      <td>3.4998</td>\n",
              "      <td>19.728</td>\n",
              "      <td>1059.3</td>\n",
              "      <td>550.00</td>\n",
              "      <td>114.72</td>\n",
              "      <td>10.598</td>\n",
              "      <td>3.2363</td>\n",
              "      <td>82.776</td>\n",
              "    </tr>\n",
              "    <tr>\n",
              "      <th>2</th>\n",
              "      <td>6.8977</td>\n",
              "      <td>1008.8</td>\n",
              "      <td>95.939</td>\n",
              "      <td>3.4824</td>\n",
              "      <td>19.779</td>\n",
              "      <td>1059.4</td>\n",
              "      <td>549.87</td>\n",
              "      <td>114.71</td>\n",
              "      <td>10.601</td>\n",
              "      <td>3.2012</td>\n",
              "      <td>82.468</td>\n",
              "    </tr>\n",
              "    <tr>\n",
              "      <th>3</th>\n",
              "      <td>7.0569</td>\n",
              "      <td>1009.2</td>\n",
              "      <td>95.249</td>\n",
              "      <td>3.4805</td>\n",
              "      <td>19.792</td>\n",
              "      <td>1059.6</td>\n",
              "      <td>549.99</td>\n",
              "      <td>114.72</td>\n",
              "      <td>10.606</td>\n",
              "      <td>3.1923</td>\n",
              "      <td>82.670</td>\n",
              "    </tr>\n",
              "    <tr>\n",
              "      <th>4</th>\n",
              "      <td>7.3978</td>\n",
              "      <td>1009.7</td>\n",
              "      <td>95.150</td>\n",
              "      <td>3.4976</td>\n",
              "      <td>19.765</td>\n",
              "      <td>1059.7</td>\n",
              "      <td>549.98</td>\n",
              "      <td>114.72</td>\n",
              "      <td>10.612</td>\n",
              "      <td>3.2484</td>\n",
              "      <td>82.311</td>\n",
              "    </tr>\n",
              "    <tr>\n",
              "      <th>...</th>\n",
              "      <td>...</td>\n",
              "      <td>...</td>\n",
              "      <td>...</td>\n",
              "      <td>...</td>\n",
              "      <td>...</td>\n",
              "      <td>...</td>\n",
              "      <td>...</td>\n",
              "      <td>...</td>\n",
              "      <td>...</td>\n",
              "      <td>...</td>\n",
              "      <td>...</td>\n",
              "    </tr>\n",
              "    <tr>\n",
              "      <th>15034</th>\n",
              "      <td>9.0301</td>\n",
              "      <td>1005.6</td>\n",
              "      <td>98.460</td>\n",
              "      <td>3.5421</td>\n",
              "      <td>19.164</td>\n",
              "      <td>1049.7</td>\n",
              "      <td>546.21</td>\n",
              "      <td>111.61</td>\n",
              "      <td>10.400</td>\n",
              "      <td>4.5186</td>\n",
              "      <td>79.559</td>\n",
              "    </tr>\n",
              "    <tr>\n",
              "      <th>15035</th>\n",
              "      <td>7.8879</td>\n",
              "      <td>1005.9</td>\n",
              "      <td>99.093</td>\n",
              "      <td>3.5059</td>\n",
              "      <td>19.414</td>\n",
              "      <td>1046.3</td>\n",
              "      <td>543.22</td>\n",
              "      <td>111.78</td>\n",
              "      <td>10.433</td>\n",
              "      <td>4.8470</td>\n",
              "      <td>79.917</td>\n",
              "    </tr>\n",
              "    <tr>\n",
              "      <th>15036</th>\n",
              "      <td>7.2647</td>\n",
              "      <td>1006.3</td>\n",
              "      <td>99.496</td>\n",
              "      <td>3.4770</td>\n",
              "      <td>19.530</td>\n",
              "      <td>1037.7</td>\n",
              "      <td>537.32</td>\n",
              "      <td>110.19</td>\n",
              "      <td>10.483</td>\n",
              "      <td>7.9632</td>\n",
              "      <td>90.912</td>\n",
              "    </tr>\n",
              "    <tr>\n",
              "      <th>15037</th>\n",
              "      <td>7.0060</td>\n",
              "      <td>1006.8</td>\n",
              "      <td>99.008</td>\n",
              "      <td>3.4486</td>\n",
              "      <td>19.377</td>\n",
              "      <td>1043.2</td>\n",
              "      <td>541.24</td>\n",
              "      <td>110.74</td>\n",
              "      <td>10.533</td>\n",
              "      <td>6.2494</td>\n",
              "      <td>93.227</td>\n",
              "    </tr>\n",
              "    <tr>\n",
              "      <th>15038</th>\n",
              "      <td>6.9279</td>\n",
              "      <td>1007.2</td>\n",
              "      <td>97.533</td>\n",
              "      <td>3.4275</td>\n",
              "      <td>19.306</td>\n",
              "      <td>1049.9</td>\n",
              "      <td>545.85</td>\n",
              "      <td>111.58</td>\n",
              "      <td>10.583</td>\n",
              "      <td>4.9816</td>\n",
              "      <td>92.498</td>\n",
              "    </tr>\n",
              "  </tbody>\n",
              "</table>\n",
              "<p>15039 rows × 11 columns</p>\n",
              "</div>"
            ],
            "text/plain": [
              "           AT      AP      AH    AFDP  ...     TEY     CDP      CO     NOX\n",
              "0      6.8594  1007.9  96.799  3.5000  ...  114.70  10.605  3.1547  82.722\n",
              "1      6.7850  1008.4  97.118  3.4998  ...  114.72  10.598  3.2363  82.776\n",
              "2      6.8977  1008.8  95.939  3.4824  ...  114.71  10.601  3.2012  82.468\n",
              "3      7.0569  1009.2  95.249  3.4805  ...  114.72  10.606  3.1923  82.670\n",
              "4      7.3978  1009.7  95.150  3.4976  ...  114.72  10.612  3.2484  82.311\n",
              "...       ...     ...     ...     ...  ...     ...     ...     ...     ...\n",
              "15034  9.0301  1005.6  98.460  3.5421  ...  111.61  10.400  4.5186  79.559\n",
              "15035  7.8879  1005.9  99.093  3.5059  ...  111.78  10.433  4.8470  79.917\n",
              "15036  7.2647  1006.3  99.496  3.4770  ...  110.19  10.483  7.9632  90.912\n",
              "15037  7.0060  1006.8  99.008  3.4486  ...  110.74  10.533  6.2494  93.227\n",
              "15038  6.9279  1007.2  97.533  3.4275  ...  111.58  10.583  4.9816  92.498\n",
              "\n",
              "[15039 rows x 11 columns]"
            ]
          },
          "metadata": {
            "tags": []
          },
          "execution_count": 4
        }
      ]
    },
    {
      "cell_type": "code",
      "metadata": {
        "colab": {
          "base_uri": "https://localhost:8080/",
          "height": 610
        },
        "id": "6F7EFlz8q_wB",
        "outputId": "a7e39e2f-fa0f-4933-e1b8-60d1bf91d184"
      },
      "source": [
        "import matplotlib.pyplot as plt\n",
        "import seaborn as sns\n",
        "plt.rcParams['figure.figsize']=(10,10)\n",
        "sns.boxplot(data=gas_turb)"
      ],
      "execution_count": null,
      "outputs": [
        {
          "output_type": "execute_result",
          "data": {
            "text/plain": [
              "<matplotlib.axes._subplots.AxesSubplot at 0x7f9b85b7c450>"
            ]
          },
          "metadata": {
            "tags": []
          },
          "execution_count": 6
        },
        {
          "output_type": "display_data",
          "data": {
            "image/png": "[encoded data removed]",
            "text/plain": [
              "<Figure size 720x720 with 1 Axes>"
            ]
          },
          "metadata": {
            "tags": [],
            "needs_background": "light"
          }
        }
      ]
    },
    {
      "cell_type": "code",
      "metadata": {
        "colab": {
          "base_uri": "https://localhost:8080/",
          "height": 681
        },
        "id": "lJtntZlojOOP",
        "outputId": "27f2e538-6e6a-492e-e0e8-86acd4f20fbd"
      },
      "source": [
        "import matplotlib.pyplot as plt\n",
        "\n",
        "plt.hist(gas_turb[\"TEY\"])"
      ],
      "execution_count": null,
      "outputs": [
        {
          "output_type": "execute_result",
          "data": {
            "text/plain": [
              "(array([ 247., 2671.,  474.,  528., 7145.,  462.,  989., 1215., 1160.,\n",
              "         148.]),\n",
              " array([100.17 , 107.614, 115.058, 122.502, 129.946, 137.39 , 144.834,\n",
              "        152.278, 159.722, 167.166, 174.61 ]),\n",
              " <a list of 10 Patch objects>)"
            ]
          },
          "metadata": {
            "tags": []
          },
          "execution_count": 7
        },
        {
          "output_type": "display_data",
          "data": {
            "image/png": "[encoded data removed]",
            "text/plain": [
              "<Figure size 720x720 with 1 Axes>"
            ]
          },
          "metadata": {
            "tags": [],
            "needs_background": "light"
          }
        }
      ]
    },
    {
      "cell_type": "markdown",
      "metadata": {
        "id": "NODtXTXbI9t0"
      },
      "source": [
        "# Clustering using K means"
      ]
    },
    {
      "cell_type": "code",
      "metadata": {
        "id": "UjV4r_lxIqEm"
      },
      "source": [
        "import numpy as np\n",
        "import pandas as pd\n",
        "from matplotlib import pyplot as plt\n",
        "from sklearn.cluster import KMeans"
      ],
      "execution_count": null,
      "outputs": []
    },
    {
      "cell_type": "code",
      "metadata": {
        "colab": {
          "base_uri": "https://localhost:8080/",
          "height": 621
        },
        "id": "IHlq6BV2IptY",
        "outputId": "6ceecd1d-5237-4026-8e79-1d23abb4966e"
      },
      "source": [
        "km=gas_turb.iloc[:,6:7]\n",
        "wcss = []\n",
        "for i in range(1, 6):\n",
        "    kmeans = KMeans(n_clusters=i,random_state=0)\n",
        "    kmeans.fit(km)\n",
        "    wcss.append(kmeans.inertia_)\n",
        "    \n",
        "plt.plot(range(1, 6), wcss)\n",
        "plt.title('Elbow Method')\n",
        "plt.xlabel('Number of clusters')\n",
        "plt.ylabel('WCSS')\n",
        "plt.show()"
      ],
      "execution_count": null,
      "outputs": [
        {
          "output_type": "display_data",
          "data": {
            "image/png": "[encoded data removed]",
            "text/plain": [
              "<Figure size 720x720 with 1 Axes>"
            ]
          },
          "metadata": {
            "tags": [],
            "needs_background": "light"
          }
        }
      ]
    },
    {
      "cell_type": "code",
      "metadata": {
        "colab": {
          "base_uri": "https://localhost:8080/"
        },
        "id": "EdtQoIfVIpR4",
        "outputId": "510e8944-a402-4f75-8b8e-5fe49eae5d41"
      },
      "source": [
        "#Build Cluster algorithm\n",
        "from sklearn.cluster import KMeans\n",
        "clusters_new = KMeans(3, random_state=42)\n",
        "clusters_new.fit(km)"
      ],
      "execution_count": null,
      "outputs": [
        {
          "output_type": "execute_result",
          "data": {
            "text/plain": [
              "KMeans(algorithm='auto', copy_x=True, init='k-means++', max_iter=300,\n",
              "       n_clusters=3, n_init=10, n_jobs=None, precompute_distances='auto',\n",
              "       random_state=42, tol=0.0001, verbose=0)"
            ]
          },
          "metadata": {
            "tags": []
          },
          "execution_count": 34
        }
      ]
    },
    {
      "cell_type": "code",
      "metadata": {
        "colab": {
          "base_uri": "https://localhost:8080/"
        },
        "id": "sN0d-ySnIoyI",
        "outputId": "830bdc56-9515-44c5-9f68-834f5ff6e923"
      },
      "source": [
        "clusters_new.labels_"
      ],
      "execution_count": null,
      "outputs": [
        {
          "output_type": "execute_result",
          "data": {
            "text/plain": [
              "array([0, 0, 0, ..., 2, 2, 0], dtype=int32)"
            ]
          },
          "metadata": {
            "tags": []
          },
          "execution_count": 35
        }
      ]
    },
    {
      "cell_type": "code",
      "metadata": {
        "id": "ILEA4k1mKUzx"
      },
      "source": [
        "gas_turb['clusterid_new'] =clusters_new.labels_"
      ],
      "execution_count": null,
      "outputs": []
    },
    {
      "cell_type": "code",
      "metadata": {
        "colab": {
          "base_uri": "https://localhost:8080/",
          "height": 399
        },
        "id": "39MNcBePKVSq",
        "outputId": "535f51d1-987e-403e-9eeb-aca78472e0bf"
      },
      "source": [
        "gas_turb.sort_values(by=[\"TEY\"])"
      ],
      "execution_count": null,
      "outputs": [
        {
          "output_type": "execute_result",
          "data": {
            "text/html": [
              "<div>\n",
              "<style scoped>\n",
              "    .dataframe tbody tr th:only-of-type {\n",
              "        vertical-align: middle;\n",
              "    }\n",
              "\n",
              "    .dataframe tbody tr th {\n",
              "        vertical-align: top;\n",
              "    }\n",
              "\n",
              "    .dataframe thead th {\n",
              "        text-align: right;\n",
              "    }\n",
              "</style>\n",
              "<table border=\"1\" class=\"dataframe\">\n",
              "  <thead>\n",
              "    <tr style=\"text-align: right;\">\n",
              "      <th></th>\n",
              "      <th>AT</th>\n",
              "      <th>AP</th>\n",
              "      <th>AH</th>\n",
              "      <th>AFDP</th>\n",
              "      <th>GTEP</th>\n",
              "      <th>TIT</th>\n",
              "      <th>TAT</th>\n",
              "      <th>TEY</th>\n",
              "      <th>CDP</th>\n",
              "      <th>CO</th>\n",
              "      <th>NOX</th>\n",
              "      <th>clusterid_new</th>\n",
              "    </tr>\n",
              "  </thead>\n",
              "  <tbody>\n",
              "    <tr>\n",
              "      <th>14101</th>\n",
              "      <td>9.8512</td>\n",
              "      <td>1027.6</td>\n",
              "      <td>80.403</td>\n",
              "      <td>3.2687</td>\n",
              "      <td>18.764</td>\n",
              "      <td>1001.3</td>\n",
              "      <td>513.17</td>\n",
              "      <td>100.17</td>\n",
              "      <td>10.389</td>\n",
              "      <td>1.65640</td>\n",
              "      <td>117.890</td>\n",
              "      <td>1</td>\n",
              "    </tr>\n",
              "    <tr>\n",
              "      <th>14100</th>\n",
              "      <td>9.4097</td>\n",
              "      <td>1027.9</td>\n",
              "      <td>82.224</td>\n",
              "      <td>3.3003</td>\n",
              "      <td>18.987</td>\n",
              "      <td>1001.4</td>\n",
              "      <td>512.60</td>\n",
              "      <td>100.32</td>\n",
              "      <td>10.495</td>\n",
              "      <td>23.62900</td>\n",
              "      <td>107.890</td>\n",
              "      <td>1</td>\n",
              "    </tr>\n",
              "    <tr>\n",
              "      <th>14085</th>\n",
              "      <td>9.5927</td>\n",
              "      <td>1028.4</td>\n",
              "      <td>77.007</td>\n",
              "      <td>3.2523</td>\n",
              "      <td>18.897</td>\n",
              "      <td>1000.8</td>\n",
              "      <td>512.45</td>\n",
              "      <td>100.52</td>\n",
              "      <td>10.380</td>\n",
              "      <td>1.91220</td>\n",
              "      <td>118.900</td>\n",
              "      <td>1</td>\n",
              "    </tr>\n",
              "    <tr>\n",
              "      <th>13921</th>\n",
              "      <td>11.5850</td>\n",
              "      <td>1018.2</td>\n",
              "      <td>92.751</td>\n",
              "      <td>3.2518</td>\n",
              "      <td>18.784</td>\n",
              "      <td>1009.5</td>\n",
              "      <td>519.71</td>\n",
              "      <td>100.83</td>\n",
              "      <td>10.253</td>\n",
              "      <td>39.05000</td>\n",
              "      <td>111.780</td>\n",
              "      <td>1</td>\n",
              "    </tr>\n",
              "    <tr>\n",
              "      <th>14086</th>\n",
              "      <td>9.3647</td>\n",
              "      <td>1028.2</td>\n",
              "      <td>81.975</td>\n",
              "      <td>3.2668</td>\n",
              "      <td>18.835</td>\n",
              "      <td>1001.4</td>\n",
              "      <td>512.60</td>\n",
              "      <td>100.96</td>\n",
              "      <td>10.508</td>\n",
              "      <td>1.89390</td>\n",
              "      <td>118.720</td>\n",
              "      <td>1</td>\n",
              "    </tr>\n",
              "    <tr>\n",
              "      <th>...</th>\n",
              "      <td>...</td>\n",
              "      <td>...</td>\n",
              "      <td>...</td>\n",
              "      <td>...</td>\n",
              "      <td>...</td>\n",
              "      <td>...</td>\n",
              "      <td>...</td>\n",
              "      <td>...</td>\n",
              "      <td>...</td>\n",
              "      <td>...</td>\n",
              "      <td>...</td>\n",
              "      <td>...</td>\n",
              "    </tr>\n",
              "    <tr>\n",
              "      <th>906</th>\n",
              "      <td>4.1452</td>\n",
              "      <td>1021.9</td>\n",
              "      <td>82.294</td>\n",
              "      <td>6.3741</td>\n",
              "      <td>37.402</td>\n",
              "      <td>1099.9</td>\n",
              "      <td>513.75</td>\n",
              "      <td>173.43</td>\n",
              "      <td>14.913</td>\n",
              "      <td>0.58314</td>\n",
              "      <td>64.019</td>\n",
              "      <td>1</td>\n",
              "    </tr>\n",
              "    <tr>\n",
              "      <th>337</th>\n",
              "      <td>4.0273</td>\n",
              "      <td>1016.6</td>\n",
              "      <td>87.783</td>\n",
              "      <td>5.9883</td>\n",
              "      <td>36.973</td>\n",
              "      <td>1099.5</td>\n",
              "      <td>513.47</td>\n",
              "      <td>173.92</td>\n",
              "      <td>15.031</td>\n",
              "      <td>1.32170</td>\n",
              "      <td>65.289</td>\n",
              "      <td>1</td>\n",
              "    </tr>\n",
              "    <tr>\n",
              "      <th>338</th>\n",
              "      <td>3.7054</td>\n",
              "      <td>1017.1</td>\n",
              "      <td>85.930</td>\n",
              "      <td>5.9800</td>\n",
              "      <td>37.189</td>\n",
              "      <td>1099.5</td>\n",
              "      <td>513.06</td>\n",
              "      <td>174.25</td>\n",
              "      <td>15.055</td>\n",
              "      <td>1.63530</td>\n",
              "      <td>64.771</td>\n",
              "      <td>1</td>\n",
              "    </tr>\n",
              "    <tr>\n",
              "      <th>340</th>\n",
              "      <td>3.3332</td>\n",
              "      <td>1017.8</td>\n",
              "      <td>82.775</td>\n",
              "      <td>5.8884</td>\n",
              "      <td>36.917</td>\n",
              "      <td>1100.0</td>\n",
              "      <td>513.29</td>\n",
              "      <td>174.40</td>\n",
              "      <td>15.043</td>\n",
              "      <td>1.63710</td>\n",
              "      <td>66.687</td>\n",
              "      <td>1</td>\n",
              "    </tr>\n",
              "    <tr>\n",
              "      <th>339</th>\n",
              "      <td>3.4226</td>\n",
              "      <td>1017.6</td>\n",
              "      <td>85.443</td>\n",
              "      <td>5.9684</td>\n",
              "      <td>37.172</td>\n",
              "      <td>1100.0</td>\n",
              "      <td>513.09</td>\n",
              "      <td>174.61</td>\n",
              "      <td>15.081</td>\n",
              "      <td>1.71470</td>\n",
              "      <td>65.923</td>\n",
              "      <td>1</td>\n",
              "    </tr>\n",
              "  </tbody>\n",
              "</table>\n",
              "<p>15039 rows × 12 columns</p>\n",
              "</div>"
            ],
            "text/plain": [
              "            AT      AP      AH  ...        CO      NOX  clusterid_new\n",
              "14101   9.8512  1027.6  80.403  ...   1.65640  117.890              1\n",
              "14100   9.4097  1027.9  82.224  ...  23.62900  107.890              1\n",
              "14085   9.5927  1028.4  77.007  ...   1.91220  118.900              1\n",
              "13921  11.5850  1018.2  92.751  ...  39.05000  111.780              1\n",
              "14086   9.3647  1028.2  81.975  ...   1.89390  118.720              1\n",
              "...        ...     ...     ...  ...       ...      ...            ...\n",
              "906     4.1452  1021.9  82.294  ...   0.58314   64.019              1\n",
              "337     4.0273  1016.6  87.783  ...   1.32170   65.289              1\n",
              "338     3.7054  1017.1  85.930  ...   1.63530   64.771              1\n",
              "340     3.3332  1017.8  82.775  ...   1.63710   66.687              1\n",
              "339     3.4226  1017.6  85.443  ...   1.71470   65.923              1\n",
              "\n",
              "[15039 rows x 12 columns]"
            ]
          },
          "metadata": {
            "tags": []
          },
          "execution_count": 37
        }
      ]
    },
    {
      "cell_type": "code",
      "metadata": {
        "colab": {
          "base_uri": "https://localhost:8080/",
          "height": 1000
        },
        "id": "49FLfgvSKVsN",
        "outputId": "15121f4b-d2f4-47c7-ffe8-c9159fb0c26b"
      },
      "source": [
        "plt.figure(figsize=(15,35))\n",
        "n=0\n",
        "m=1 \n",
        "for i in enumerate(km.columns):\n",
        "        \n",
        "    plt.subplot(1,1,i[0]+1)\n",
        "    cr=km.columns\n",
        "    sns.scatterplot(x=cr[n],y=cr[m], hue=\"clusterid_new\", \n",
        "    data=km, palette='deep', s=20);\n",
        "    plt.legend(loc='lower right');\n",
        "    plt.legend(loc='lower right');\n",
        "    n=n+1\n",
        "    m=m-1"
      ],
      "execution_count": null,
      "outputs": [
        {
          "output_type": "error",
          "ename": "IndexError",
          "evalue": "ignored",
          "traceback": [
            "\u001b[0;31m---------------------------------------------------------------------------\u001b[0m",
            "\u001b[0;31mIndexError\u001b[0m                                Traceback (most recent call last)",
            "\u001b[0;32m<ipython-input-45-b35174c49365>\u001b[0m in \u001b[0;36m<module>\u001b[0;34m()\u001b[0m\n\u001b[1;32m      6\u001b[0m     \u001b[0mplt\u001b[0m\u001b[0;34m.\u001b[0m\u001b[0msubplot\u001b[0m\u001b[0;34m(\u001b[0m\u001b[0;36m1\u001b[0m\u001b[0;34m,\u001b[0m\u001b[0;36m1\u001b[0m\u001b[0;34m,\u001b[0m\u001b[0mi\u001b[0m\u001b[0;34m[\u001b[0m\u001b[0;36m0\u001b[0m\u001b[0;34m]\u001b[0m\u001b[0;34m+\u001b[0m\u001b[0;36m1\u001b[0m\u001b[0;34m)\u001b[0m\u001b[0;34m\u001b[0m\u001b[0;34m\u001b[0m\u001b[0m\n\u001b[1;32m      7\u001b[0m     \u001b[0mcr\u001b[0m\u001b[0;34m=\u001b[0m\u001b[0mkm\u001b[0m\u001b[0;34m.\u001b[0m\u001b[0mcolumns\u001b[0m\u001b[0;34m\u001b[0m\u001b[0;34m\u001b[0m\u001b[0m\n\u001b[0;32m----> 8\u001b[0;31m     sns.scatterplot(x=cr[n],y=cr[m], hue=\"clusterid_new\", \n\u001b[0m\u001b[1;32m      9\u001b[0m     data=km, palette='deep', s=20);\n\u001b[1;32m     10\u001b[0m     \u001b[0mplt\u001b[0m\u001b[0;34m.\u001b[0m\u001b[0mlegend\u001b[0m\u001b[0;34m(\u001b[0m\u001b[0mloc\u001b[0m\u001b[0;34m=\u001b[0m\u001b[0;34m'lower right'\u001b[0m\u001b[0;34m)\u001b[0m\u001b[0;34m;\u001b[0m\u001b[0;34m\u001b[0m\u001b[0;34m\u001b[0m\u001b[0m\n",
            "\u001b[0;32m/usr/local/lib/python3.7/dist-packages/pandas/core/indexes/base.py\u001b[0m in \u001b[0;36m__getitem__\u001b[0;34m(self, key)\u001b[0m\n\u001b[1;32m   4102\u001b[0m         \u001b[0;32mif\u001b[0m \u001b[0mis_scalar\u001b[0m\u001b[0;34m(\u001b[0m\u001b[0mkey\u001b[0m\u001b[0;34m)\u001b[0m\u001b[0;34m:\u001b[0m\u001b[0;34m\u001b[0m\u001b[0;34m\u001b[0m\u001b[0m\n\u001b[1;32m   4103\u001b[0m             \u001b[0mkey\u001b[0m \u001b[0;34m=\u001b[0m \u001b[0mcom\u001b[0m\u001b[0;34m.\u001b[0m\u001b[0mcast_scalar_indexer\u001b[0m\u001b[0;34m(\u001b[0m\u001b[0mkey\u001b[0m\u001b[0;34m,\u001b[0m \u001b[0mwarn_float\u001b[0m\u001b[0;34m=\u001b[0m\u001b[0;32mTrue\u001b[0m\u001b[0;34m)\u001b[0m\u001b[0;34m\u001b[0m\u001b[0;34m\u001b[0m\u001b[0m\n\u001b[0;32m-> 4104\u001b[0;31m             \u001b[0;32mreturn\u001b[0m \u001b[0mgetitem\u001b[0m\u001b[0;34m(\u001b[0m\u001b[0mkey\u001b[0m\u001b[0;34m)\u001b[0m\u001b[0;34m\u001b[0m\u001b[0;34m\u001b[0m\u001b[0m\n\u001b[0m\u001b[1;32m   4105\u001b[0m \u001b[0;34m\u001b[0m\u001b[0m\n\u001b[1;32m   4106\u001b[0m         \u001b[0;32mif\u001b[0m \u001b[0misinstance\u001b[0m\u001b[0;34m(\u001b[0m\u001b[0mkey\u001b[0m\u001b[0;34m,\u001b[0m \u001b[0mslice\u001b[0m\u001b[0;34m)\u001b[0m\u001b[0;34m:\u001b[0m\u001b[0;34m\u001b[0m\u001b[0;34m\u001b[0m\u001b[0m\n",
            "\u001b[0;31mIndexError\u001b[0m: index 1 is out of bounds for axis 0 with size 1"
          ]
        },
        {
          "output_type": "display_data",
          "data": {
            "image/png": "[encoded data removed]",
            "text/plain": [
              "<Figure size 1080x2520 with 1 Axes>"
            ]
          },
          "metadata": {
            "tags": [],
            "needs_background": "light"
          }
        }
      ]
    },
    {
      "cell_type": "code",
      "metadata": {
        "colab": {
          "base_uri": "https://localhost:8080/",
          "height": 606
        },
        "id": "mblKr76hTv0c",
        "outputId": "fb667f94-fa7d-436a-b2d3-cded8d6ca076"
      },
      "source": [
        "plt.figure(figsize=(10,10))\n",
        "sns.scatterplot(x=gas_turb[\"TAT\"],y=gas_turb[\"TEY\"], hue=\"clusterid_new\", \n",
        "data=gas_turb, palette='deep', s=20);\n",
        "plt.legend(loc='lower right');\n",
        "plt.legend(loc='lower right');\n",
        "  "
      ],
      "execution_count": null,
      "outputs": [
        {
          "output_type": "display_data",
          "data": {
            "image/png": "[encoded data removed]",
            "text/plain": [
              "<Figure size 720x720 with 1 Axes>"
            ]
          },
          "metadata": {
            "tags": [],
            "needs_background": "light"
          }
        }
      ]
    },
    {
      "cell_type": "code",
      "metadata": {
        "id": "EXMraTuVKWFz"
      },
      "source": [
        ""
      ],
      "execution_count": null,
      "outputs": []
    },
    {
      "cell_type": "code",
      "metadata": {
        "colab": {
          "base_uri": "https://localhost:8080/",
          "height": 399
        },
        "id": "V9GQVzeSmpAE",
        "outputId": "7031ce58-5f8c-46c5-d3df-f4949877ff33"
      },
      "source": [
        "gas_turb"
      ],
      "execution_count": null,
      "outputs": [
        {
          "output_type": "execute_result",
          "data": {
            "text/html": [
              "<div>\n",
              "<style scoped>\n",
              "    .dataframe tbody tr th:only-of-type {\n",
              "        vertical-align: middle;\n",
              "    }\n",
              "\n",
              "    .dataframe tbody tr th {\n",
              "        vertical-align: top;\n",
              "    }\n",
              "\n",
              "    .dataframe thead th {\n",
              "        text-align: right;\n",
              "    }\n",
              "</style>\n",
              "<table border=\"1\" class=\"dataframe\">\n",
              "  <thead>\n",
              "    <tr style=\"text-align: right;\">\n",
              "      <th></th>\n",
              "      <th>AT</th>\n",
              "      <th>AP</th>\n",
              "      <th>AH</th>\n",
              "      <th>AFDP</th>\n",
              "      <th>GTEP</th>\n",
              "      <th>TIT</th>\n",
              "      <th>TAT</th>\n",
              "      <th>TEY</th>\n",
              "      <th>CDP</th>\n",
              "      <th>CO</th>\n",
              "      <th>NOX</th>\n",
              "      <th>clusterid_new</th>\n",
              "    </tr>\n",
              "  </thead>\n",
              "  <tbody>\n",
              "    <tr>\n",
              "      <th>0</th>\n",
              "      <td>6.8594</td>\n",
              "      <td>1007.9</td>\n",
              "      <td>96.799</td>\n",
              "      <td>3.5000</td>\n",
              "      <td>19.663</td>\n",
              "      <td>1059.2</td>\n",
              "      <td>550.00</td>\n",
              "      <td>114.70</td>\n",
              "      <td>10.605</td>\n",
              "      <td>3.1547</td>\n",
              "      <td>82.722</td>\n",
              "      <td>0</td>\n",
              "    </tr>\n",
              "    <tr>\n",
              "      <th>1</th>\n",
              "      <td>6.7850</td>\n",
              "      <td>1008.4</td>\n",
              "      <td>97.118</td>\n",
              "      <td>3.4998</td>\n",
              "      <td>19.728</td>\n",
              "      <td>1059.3</td>\n",
              "      <td>550.00</td>\n",
              "      <td>114.72</td>\n",
              "      <td>10.598</td>\n",
              "      <td>3.2363</td>\n",
              "      <td>82.776</td>\n",
              "      <td>0</td>\n",
              "    </tr>\n",
              "    <tr>\n",
              "      <th>2</th>\n",
              "      <td>6.8977</td>\n",
              "      <td>1008.8</td>\n",
              "      <td>95.939</td>\n",
              "      <td>3.4824</td>\n",
              "      <td>19.779</td>\n",
              "      <td>1059.4</td>\n",
              "      <td>549.87</td>\n",
              "      <td>114.71</td>\n",
              "      <td>10.601</td>\n",
              "      <td>3.2012</td>\n",
              "      <td>82.468</td>\n",
              "      <td>0</td>\n",
              "    </tr>\n",
              "    <tr>\n",
              "      <th>3</th>\n",
              "      <td>7.0569</td>\n",
              "      <td>1009.2</td>\n",
              "      <td>95.249</td>\n",
              "      <td>3.4805</td>\n",
              "      <td>19.792</td>\n",
              "      <td>1059.6</td>\n",
              "      <td>549.99</td>\n",
              "      <td>114.72</td>\n",
              "      <td>10.606</td>\n",
              "      <td>3.1923</td>\n",
              "      <td>82.670</td>\n",
              "      <td>0</td>\n",
              "    </tr>\n",
              "    <tr>\n",
              "      <th>4</th>\n",
              "      <td>7.3978</td>\n",
              "      <td>1009.7</td>\n",
              "      <td>95.150</td>\n",
              "      <td>3.4976</td>\n",
              "      <td>19.765</td>\n",
              "      <td>1059.7</td>\n",
              "      <td>549.98</td>\n",
              "      <td>114.72</td>\n",
              "      <td>10.612</td>\n",
              "      <td>3.2484</td>\n",
              "      <td>82.311</td>\n",
              "      <td>0</td>\n",
              "    </tr>\n",
              "    <tr>\n",
              "      <th>...</th>\n",
              "      <td>...</td>\n",
              "      <td>...</td>\n",
              "      <td>...</td>\n",
              "      <td>...</td>\n",
              "      <td>...</td>\n",
              "      <td>...</td>\n",
              "      <td>...</td>\n",
              "      <td>...</td>\n",
              "      <td>...</td>\n",
              "      <td>...</td>\n",
              "      <td>...</td>\n",
              "      <td>...</td>\n",
              "    </tr>\n",
              "    <tr>\n",
              "      <th>15034</th>\n",
              "      <td>9.0301</td>\n",
              "      <td>1005.6</td>\n",
              "      <td>98.460</td>\n",
              "      <td>3.5421</td>\n",
              "      <td>19.164</td>\n",
              "      <td>1049.7</td>\n",
              "      <td>546.21</td>\n",
              "      <td>111.61</td>\n",
              "      <td>10.400</td>\n",
              "      <td>4.5186</td>\n",
              "      <td>79.559</td>\n",
              "      <td>0</td>\n",
              "    </tr>\n",
              "    <tr>\n",
              "      <th>15035</th>\n",
              "      <td>7.8879</td>\n",
              "      <td>1005.9</td>\n",
              "      <td>99.093</td>\n",
              "      <td>3.5059</td>\n",
              "      <td>19.414</td>\n",
              "      <td>1046.3</td>\n",
              "      <td>543.22</td>\n",
              "      <td>111.78</td>\n",
              "      <td>10.433</td>\n",
              "      <td>4.8470</td>\n",
              "      <td>79.917</td>\n",
              "      <td>0</td>\n",
              "    </tr>\n",
              "    <tr>\n",
              "      <th>15036</th>\n",
              "      <td>7.2647</td>\n",
              "      <td>1006.3</td>\n",
              "      <td>99.496</td>\n",
              "      <td>3.4770</td>\n",
              "      <td>19.530</td>\n",
              "      <td>1037.7</td>\n",
              "      <td>537.32</td>\n",
              "      <td>110.19</td>\n",
              "      <td>10.483</td>\n",
              "      <td>7.9632</td>\n",
              "      <td>90.912</td>\n",
              "      <td>0</td>\n",
              "    </tr>\n",
              "    <tr>\n",
              "      <th>15037</th>\n",
              "      <td>7.0060</td>\n",
              "      <td>1006.8</td>\n",
              "      <td>99.008</td>\n",
              "      <td>3.4486</td>\n",
              "      <td>19.377</td>\n",
              "      <td>1043.2</td>\n",
              "      <td>541.24</td>\n",
              "      <td>110.74</td>\n",
              "      <td>10.533</td>\n",
              "      <td>6.2494</td>\n",
              "      <td>93.227</td>\n",
              "      <td>0</td>\n",
              "    </tr>\n",
              "    <tr>\n",
              "      <th>15038</th>\n",
              "      <td>6.9279</td>\n",
              "      <td>1007.2</td>\n",
              "      <td>97.533</td>\n",
              "      <td>3.4275</td>\n",
              "      <td>19.306</td>\n",
              "      <td>1049.9</td>\n",
              "      <td>545.85</td>\n",
              "      <td>111.58</td>\n",
              "      <td>10.583</td>\n",
              "      <td>4.9816</td>\n",
              "      <td>92.498</td>\n",
              "      <td>0</td>\n",
              "    </tr>\n",
              "  </tbody>\n",
              "</table>\n",
              "<p>15039 rows × 12 columns</p>\n",
              "</div>"
            ],
            "text/plain": [
              "           AT      AP      AH    AFDP  ...     CDP      CO     NOX  clusterid_new\n",
              "0      6.8594  1007.9  96.799  3.5000  ...  10.605  3.1547  82.722              0\n",
              "1      6.7850  1008.4  97.118  3.4998  ...  10.598  3.2363  82.776              0\n",
              "2      6.8977  1008.8  95.939  3.4824  ...  10.601  3.2012  82.468              0\n",
              "3      7.0569  1009.2  95.249  3.4805  ...  10.606  3.1923  82.670              0\n",
              "4      7.3978  1009.7  95.150  3.4976  ...  10.612  3.2484  82.311              0\n",
              "...       ...     ...     ...     ...  ...     ...     ...     ...            ...\n",
              "15034  9.0301  1005.6  98.460  3.5421  ...  10.400  4.5186  79.559              0\n",
              "15035  7.8879  1005.9  99.093  3.5059  ...  10.433  4.8470  79.917              0\n",
              "15036  7.2647  1006.3  99.496  3.4770  ...  10.483  7.9632  90.912              0\n",
              "15037  7.0060  1006.8  99.008  3.4486  ...  10.533  6.2494  93.227              0\n",
              "15038  6.9279  1007.2  97.533  3.4275  ...  10.583  4.9816  92.498              0\n",
              "\n",
              "[15039 rows x 12 columns]"
            ]
          },
          "metadata": {
            "tags": []
          },
          "execution_count": 29
        }
      ]
    },
    {
      "cell_type": "code",
      "metadata": {
        "id": "26rAkEfcLL5r"
      },
      "source": [
        "from numpy import asarray\n",
        "from sklearn.datasets import make_regression\n",
        "from keras.models import Sequential\n",
        "from keras.layers import Dense\n",
        "from sklearn import preprocessing\n",
        "\n",
        "\n",
        "# get the model\n",
        "def get_model(n_inputs, n_outputs):\n",
        "  model = Sequential()\n",
        "  model.add(Dense(20, input_dim=n_inputs, kernel_initializer='he_uniform', activation='relu'))\n",
        "  model.add(Dense(n_outputs, kernel_initializer='he_uniform'))\n",
        "  model.compile(loss='mae', optimizer='adam',metrics=['accuracy'])\n",
        "  return model\n",
        "\n",
        "# load dataset\n",
        "X =gas_turb.iloc[:,:7]\n",
        "y =gas_turb.iloc[:,11:]\n",
        "n_inputs, n_outputs = X.shape[1], y.shape[1]\n",
        "# get model\n",
        "model = get_model(7, 1)\n",
        "# fit the model on all data\n",
        "\n"
      ],
      "execution_count": null,
      "outputs": []
    },
    {
      "cell_type": "code",
      "metadata": {
        "colab": {
          "base_uri": "https://localhost:8080/"
        },
        "id": "K0_PL9Qf09rC",
        "outputId": "7f7ca097-0fcd-4d39-9d95-7c6091b41dda"
      },
      "source": [
        "\n",
        "trainhist=model.fit(X, y, validation_split=0.33,epochs=150, batch_size=10,verbose=1)"
      ],
      "execution_count": null,
      "outputs": [
        {
          "output_type": "stream",
          "text": [
            "Epoch 1/150\n",
            "1008/1008 [==============================] - 2s 2ms/step - loss: 192.1412 - accuracy: 0.3242 - val_loss: 3.8211 - val_accuracy: 0.4016\n",
            "Epoch 2/150\n",
            "1008/1008 [==============================] - 2s 2ms/step - loss: 3.7418 - accuracy: 0.3403 - val_loss: 2.5113 - val_accuracy: 0.2247\n",
            "Epoch 3/150\n",
            "1008/1008 [==============================] - 2s 2ms/step - loss: 2.4102 - accuracy: 0.2505 - val_loss: 2.7640 - val_accuracy: 0.1846\n",
            "Epoch 4/150\n",
            "1008/1008 [==============================] - 2s 2ms/step - loss: 2.0023 - accuracy: 0.2407 - val_loss: 1.0054 - val_accuracy: 0.2430\n",
            "Epoch 5/150\n",
            "1008/1008 [==============================] - 2s 2ms/step - loss: 1.9574 - accuracy: 0.2289 - val_loss: 1.0553 - val_accuracy: 0.2392\n",
            "Epoch 6/150\n",
            "1008/1008 [==============================] - 2s 2ms/step - loss: 1.5651 - accuracy: 0.2538 - val_loss: 2.5481 - val_accuracy: 0.1662\n",
            "Epoch 7/150\n",
            "1008/1008 [==============================] - 2s 2ms/step - loss: 1.3146 - accuracy: 0.2563 - val_loss: 0.6351 - val_accuracy: 0.2968\n",
            "Epoch 8/150\n",
            "1008/1008 [==============================] - 2s 2ms/step - loss: 1.3193 - accuracy: 0.2538 - val_loss: 2.0910 - val_accuracy: 0.1616\n",
            "Epoch 9/150\n",
            "1008/1008 [==============================] - 2s 2ms/step - loss: 1.6540 - accuracy: 0.2437 - val_loss: 2.6637 - val_accuracy: 0.1539\n",
            "Epoch 10/150\n",
            "1008/1008 [==============================] - 2s 2ms/step - loss: 1.3978 - accuracy: 0.2502 - val_loss: 0.5954 - val_accuracy: 0.2482\n",
            "Epoch 11/150\n",
            "1008/1008 [==============================] - 2s 2ms/step - loss: 1.2138 - accuracy: 0.2408 - val_loss: 0.6493 - val_accuracy: 0.3363\n",
            "Epoch 12/150\n",
            "1008/1008 [==============================] - 2s 2ms/step - loss: 1.3209 - accuracy: 0.2517 - val_loss: 3.2497 - val_accuracy: 0.1443\n",
            "Epoch 13/150\n",
            "1008/1008 [==============================] - 2s 2ms/step - loss: 1.3415 - accuracy: 0.2521 - val_loss: 1.3645 - val_accuracy: 0.3306\n",
            "Epoch 14/150\n",
            "1008/1008 [==============================] - 2s 2ms/step - loss: 1.2056 - accuracy: 0.2591 - val_loss: 1.5254 - val_accuracy: 0.1590\n",
            "Epoch 15/150\n",
            "1008/1008 [==============================] - 2s 2ms/step - loss: 1.3292 - accuracy: 0.2449 - val_loss: 0.5895 - val_accuracy: 0.2732\n",
            "Epoch 16/150\n",
            "1008/1008 [==============================] - 2s 2ms/step - loss: 1.1382 - accuracy: 0.2567 - val_loss: 4.2762 - val_accuracy: 0.1431\n",
            "Epoch 17/150\n",
            "1008/1008 [==============================] - 2s 2ms/step - loss: 1.3623 - accuracy: 0.2508 - val_loss: 0.6754 - val_accuracy: 0.3574\n",
            "Epoch 18/150\n",
            "1008/1008 [==============================] - 2s 2ms/step - loss: 1.1410 - accuracy: 0.2532 - val_loss: 0.6126 - val_accuracy: 0.1920\n",
            "Epoch 19/150\n",
            "1008/1008 [==============================] - 2s 2ms/step - loss: 1.1718 - accuracy: 0.2435 - val_loss: 0.7176 - val_accuracy: 0.1832\n",
            "Epoch 20/150\n",
            "1008/1008 [==============================] - 2s 2ms/step - loss: 0.9645 - accuracy: 0.2595 - val_loss: 0.9062 - val_accuracy: 0.1686\n",
            "Epoch 21/150\n",
            "1008/1008 [==============================] - 2s 2ms/step - loss: 1.3020 - accuracy: 0.2396 - val_loss: 1.6926 - val_accuracy: 0.3115\n",
            "Epoch 22/150\n",
            "1008/1008 [==============================] - 2s 2ms/step - loss: 1.1890 - accuracy: 0.2503 - val_loss: 1.0578 - val_accuracy: 0.1584\n",
            "Epoch 23/150\n",
            "1008/1008 [==============================] - 2s 2ms/step - loss: 1.2558 - accuracy: 0.2445 - val_loss: 0.8156 - val_accuracy: 0.1753\n",
            "Epoch 24/150\n",
            "1008/1008 [==============================] - 2s 2ms/step - loss: 1.0867 - accuracy: 0.2545 - val_loss: 2.4514 - val_accuracy: 0.1439\n",
            "Epoch 25/150\n",
            "1008/1008 [==============================] - 2s 2ms/step - loss: 1.3009 - accuracy: 0.2417 - val_loss: 1.0124 - val_accuracy: 0.3707\n",
            "Epoch 26/150\n",
            "1008/1008 [==============================] - 2s 2ms/step - loss: 1.2069 - accuracy: 0.2518 - val_loss: 1.9322 - val_accuracy: 0.1447\n",
            "Epoch 27/150\n",
            "1008/1008 [==============================] - 2s 2ms/step - loss: 1.1379 - accuracy: 0.2547 - val_loss: 0.8542 - val_accuracy: 0.1735\n",
            "Epoch 28/150\n",
            "1008/1008 [==============================] - 2s 2ms/step - loss: 1.1181 - accuracy: 0.2559 - val_loss: 0.5234 - val_accuracy: 0.2321\n",
            "Epoch 29/150\n",
            "1008/1008 [==============================] - 2s 2ms/step - loss: 1.2227 - accuracy: 0.2561 - val_loss: 1.0824 - val_accuracy: 0.1580\n",
            "Epoch 30/150\n",
            "1008/1008 [==============================] - 2s 2ms/step - loss: 0.9922 - accuracy: 0.2543 - val_loss: 0.7717 - val_accuracy: 0.1789\n",
            "Epoch 31/150\n",
            "1008/1008 [==============================] - 2s 2ms/step - loss: 1.0710 - accuracy: 0.2600 - val_loss: 0.8460 - val_accuracy: 0.1807\n",
            "Epoch 32/150\n",
            "1008/1008 [==============================] - 2s 2ms/step - loss: 1.0146 - accuracy: 0.2621 - val_loss: 2.4340 - val_accuracy: 0.1431\n",
            "Epoch 33/150\n",
            "1008/1008 [==============================] - 2s 2ms/step - loss: 1.2661 - accuracy: 0.2587 - val_loss: 1.0816 - val_accuracy: 0.3711\n",
            "Epoch 34/150\n",
            "1008/1008 [==============================] - 2s 2ms/step - loss: 1.2464 - accuracy: 0.2469 - val_loss: 1.3146 - val_accuracy: 0.3800\n",
            "Epoch 35/150\n",
            "1008/1008 [==============================] - 2s 2ms/step - loss: 1.1309 - accuracy: 0.2626 - val_loss: 0.6812 - val_accuracy: 0.3738\n",
            "Epoch 36/150\n",
            "1008/1008 [==============================] - 2s 2ms/step - loss: 1.0595 - accuracy: 0.2604 - val_loss: 3.9429 - val_accuracy: 0.2793\n",
            "Epoch 37/150\n",
            "1008/1008 [==============================] - 2s 2ms/step - loss: 1.2009 - accuracy: 0.2559 - val_loss: 0.5988 - val_accuracy: 0.3689\n",
            "Epoch 38/150\n",
            "1008/1008 [==============================] - 2s 2ms/step - loss: 1.1906 - accuracy: 0.2528 - val_loss: 0.7987 - val_accuracy: 0.1777\n",
            "Epoch 39/150\n",
            "1008/1008 [==============================] - 2s 2ms/step - loss: 1.1136 - accuracy: 0.2545 - val_loss: 0.4447 - val_accuracy: 0.3272\n",
            "Epoch 40/150\n",
            "1008/1008 [==============================] - 2s 2ms/step - loss: 1.1941 - accuracy: 0.2546 - val_loss: 0.5639 - val_accuracy: 0.3879\n",
            "Epoch 41/150\n",
            "1008/1008 [==============================] - 2s 2ms/step - loss: 1.1684 - accuracy: 0.2583 - val_loss: 1.0593 - val_accuracy: 0.1644\n",
            "Epoch 42/150\n",
            "1008/1008 [==============================] - 2s 2ms/step - loss: 1.1380 - accuracy: 0.2589 - val_loss: 0.9693 - val_accuracy: 0.3508\n",
            "Epoch 43/150\n",
            "1008/1008 [==============================] - 2s 2ms/step - loss: 1.0665 - accuracy: 0.2527 - val_loss: 0.5069 - val_accuracy: 0.2587\n",
            "Epoch 44/150\n",
            "1008/1008 [==============================] - 2s 2ms/step - loss: 1.0383 - accuracy: 0.2594 - val_loss: 0.8312 - val_accuracy: 0.3855\n",
            "Epoch 45/150\n",
            "1008/1008 [==============================] - 2s 2ms/step - loss: 0.9268 - accuracy: 0.2692 - val_loss: 0.5064 - val_accuracy: 0.2656\n",
            "Epoch 46/150\n",
            "1008/1008 [==============================] - 2s 2ms/step - loss: 0.9654 - accuracy: 0.2691 - val_loss: 1.2790 - val_accuracy: 0.3617\n",
            "Epoch 47/150\n",
            "1008/1008 [==============================] - 2s 2ms/step - loss: 0.9495 - accuracy: 0.2648 - val_loss: 1.0420 - val_accuracy: 0.3752\n",
            "Epoch 48/150\n",
            "1008/1008 [==============================] - 2s 2ms/step - loss: 1.0927 - accuracy: 0.2571 - val_loss: 0.5463 - val_accuracy: 0.2140\n",
            "Epoch 49/150\n",
            "1008/1008 [==============================] - 2s 2ms/step - loss: 0.9853 - accuracy: 0.2675 - val_loss: 0.5059 - val_accuracy: 0.3784\n",
            "Epoch 50/150\n",
            "1008/1008 [==============================] - 2s 2ms/step - loss: 1.0922 - accuracy: 0.2557 - val_loss: 0.5126 - val_accuracy: 0.3883\n",
            "Epoch 51/150\n",
            "1008/1008 [==============================] - 2s 2ms/step - loss: 1.1050 - accuracy: 0.2622 - val_loss: 1.3197 - val_accuracy: 0.1447\n",
            "Epoch 52/150\n",
            "1008/1008 [==============================] - 2s 2ms/step - loss: 1.0148 - accuracy: 0.2536 - val_loss: 2.9284 - val_accuracy: 0.1431\n",
            "Epoch 53/150\n",
            "1008/1008 [==============================] - 2s 2ms/step - loss: 1.2423 - accuracy: 0.2568 - val_loss: 1.2195 - val_accuracy: 0.3310\n",
            "Epoch 54/150\n",
            "1008/1008 [==============================] - 2s 2ms/step - loss: 1.3593 - accuracy: 0.2449 - val_loss: 0.5273 - val_accuracy: 0.3758\n",
            "Epoch 55/150\n",
            "1008/1008 [==============================] - 2s 2ms/step - loss: 1.1888 - accuracy: 0.2564 - val_loss: 3.6673 - val_accuracy: 0.1431\n",
            "Epoch 56/150\n",
            "1008/1008 [==============================] - 2s 2ms/step - loss: 1.1459 - accuracy: 0.2538 - val_loss: 2.6302 - val_accuracy: 0.1431\n",
            "Epoch 57/150\n",
            "1008/1008 [==============================] - 2s 2ms/step - loss: 1.1523 - accuracy: 0.2583 - val_loss: 1.5520 - val_accuracy: 0.3028\n",
            "Epoch 58/150\n",
            "1008/1008 [==============================] - 2s 2ms/step - loss: 1.0856 - accuracy: 0.2549 - val_loss: 0.6776 - val_accuracy: 0.4010\n",
            "Epoch 59/150\n",
            "1008/1008 [==============================] - 2s 2ms/step - loss: 1.1557 - accuracy: 0.2558 - val_loss: 0.8642 - val_accuracy: 0.3796\n",
            "Epoch 60/150\n",
            "1008/1008 [==============================] - 2s 2ms/step - loss: 1.1990 - accuracy: 0.2554 - val_loss: 2.9044 - val_accuracy: 0.1431\n",
            "Epoch 61/150\n",
            "1008/1008 [==============================] - 2s 2ms/step - loss: 1.1191 - accuracy: 0.2518 - val_loss: 0.8830 - val_accuracy: 0.4050\n",
            "Epoch 62/150\n",
            "1008/1008 [==============================] - 2s 2ms/step - loss: 1.1423 - accuracy: 0.2600 - val_loss: 0.8294 - val_accuracy: 0.3927\n",
            "Epoch 63/150\n",
            "1008/1008 [==============================] - 2s 2ms/step - loss: 1.0957 - accuracy: 0.2536 - val_loss: 0.7784 - val_accuracy: 0.3901\n",
            "Epoch 64/150\n",
            "1008/1008 [==============================] - 2s 2ms/step - loss: 0.9708 - accuracy: 0.2723 - val_loss: 1.0296 - val_accuracy: 0.3996\n",
            "Epoch 65/150\n",
            "1008/1008 [==============================] - 2s 2ms/step - loss: 1.0591 - accuracy: 0.2657 - val_loss: 0.8002 - val_accuracy: 0.3812\n",
            "Epoch 66/150\n",
            "1008/1008 [==============================] - 2s 2ms/step - loss: 1.0635 - accuracy: 0.2617 - val_loss: 0.9517 - val_accuracy: 0.1920\n",
            "Epoch 67/150\n",
            "1008/1008 [==============================] - 2s 2ms/step - loss: 1.1353 - accuracy: 0.2601 - val_loss: 0.8204 - val_accuracy: 0.3786\n",
            "Epoch 68/150\n",
            "1008/1008 [==============================] - 2s 2ms/step - loss: 1.0913 - accuracy: 0.2656 - val_loss: 3.6354 - val_accuracy: 0.1431\n",
            "Epoch 69/150\n",
            "1008/1008 [==============================] - 2s 2ms/step - loss: 1.1693 - accuracy: 0.2599 - val_loss: 0.9892 - val_accuracy: 0.4064\n",
            "Epoch 70/150\n",
            "1008/1008 [==============================] - 2s 2ms/step - loss: 1.0264 - accuracy: 0.2622 - val_loss: 0.7326 - val_accuracy: 0.1876\n",
            "Epoch 71/150\n",
            "1008/1008 [==============================] - 2s 2ms/step - loss: 1.0032 - accuracy: 0.2671 - val_loss: 0.6767 - val_accuracy: 0.2257\n",
            "Epoch 72/150\n",
            "1008/1008 [==============================] - 2s 2ms/step - loss: 1.1254 - accuracy: 0.2630 - val_loss: 0.6698 - val_accuracy: 0.1938\n",
            "Epoch 73/150\n",
            "1008/1008 [==============================] - 2s 2ms/step - loss: 1.0788 - accuracy: 0.2682 - val_loss: 1.0061 - val_accuracy: 0.1646\n",
            "Epoch 74/150\n",
            "1008/1008 [==============================] - 2s 2ms/step - loss: 0.8947 - accuracy: 0.2681 - val_loss: 0.8474 - val_accuracy: 0.3627\n",
            "Epoch 75/150\n",
            "1008/1008 [==============================] - 2s 2ms/step - loss: 0.9053 - accuracy: 0.2705 - val_loss: 1.1863 - val_accuracy: 0.3576\n",
            "Epoch 76/150\n",
            "1008/1008 [==============================] - 2s 2ms/step - loss: 1.1848 - accuracy: 0.2533 - val_loss: 0.5246 - val_accuracy: 0.3711\n",
            "Epoch 77/150\n",
            "1008/1008 [==============================] - 2s 2ms/step - loss: 0.9297 - accuracy: 0.2709 - val_loss: 0.4167 - val_accuracy: 0.3510\n",
            "Epoch 78/150\n",
            "1008/1008 [==============================] - 2s 2ms/step - loss: 1.1686 - accuracy: 0.2576 - val_loss: 0.7576 - val_accuracy: 0.3589\n",
            "Epoch 79/150\n",
            "1008/1008 [==============================] - 2s 2ms/step - loss: 1.0010 - accuracy: 0.2594 - val_loss: 0.4317 - val_accuracy: 0.3794\n",
            "Epoch 80/150\n",
            "1008/1008 [==============================] - 2s 2ms/step - loss: 1.0325 - accuracy: 0.2588 - val_loss: 0.5701 - val_accuracy: 0.4010\n",
            "Epoch 81/150\n",
            "1008/1008 [==============================] - 2s 2ms/step - loss: 1.1921 - accuracy: 0.2640 - val_loss: 2.5799 - val_accuracy: 0.1431\n",
            "Epoch 82/150\n",
            "1008/1008 [==============================] - 2s 2ms/step - loss: 0.9616 - accuracy: 0.2600 - val_loss: 1.4919 - val_accuracy: 0.3286\n",
            "Epoch 83/150\n",
            "1008/1008 [==============================] - 2s 2ms/step - loss: 1.1240 - accuracy: 0.2592 - val_loss: 1.1261 - val_accuracy: 0.3562\n",
            "Epoch 84/150\n",
            "1008/1008 [==============================] - 2s 2ms/step - loss: 1.0626 - accuracy: 0.2582 - val_loss: 1.8231 - val_accuracy: 0.1431\n",
            "Epoch 85/150\n",
            "1008/1008 [==============================] - 2s 2ms/step - loss: 1.0542 - accuracy: 0.2604 - val_loss: 1.4278 - val_accuracy: 0.1431\n",
            "Epoch 86/150\n",
            "1008/1008 [==============================] - 2s 2ms/step - loss: 0.9947 - accuracy: 0.2590 - val_loss: 0.4268 - val_accuracy: 0.3534\n",
            "Epoch 87/150\n",
            "1008/1008 [==============================] - 2s 2ms/step - loss: 1.0874 - accuracy: 0.2673 - val_loss: 1.1809 - val_accuracy: 0.1447\n",
            "Epoch 88/150\n",
            "1008/1008 [==============================] - 2s 2ms/step - loss: 1.1192 - accuracy: 0.2590 - val_loss: 2.0764 - val_accuracy: 0.1431\n",
            "Epoch 89/150\n",
            "1008/1008 [==============================] - 2s 2ms/step - loss: 1.0843 - accuracy: 0.2678 - val_loss: 0.5563 - val_accuracy: 0.3705\n",
            "Epoch 90/150\n",
            "1008/1008 [==============================] - 2s 2ms/step - loss: 0.8899 - accuracy: 0.2741 - val_loss: 1.1818 - val_accuracy: 0.3538\n",
            "Epoch 91/150\n",
            "1008/1008 [==============================] - 2s 2ms/step - loss: 1.1146 - accuracy: 0.2685 - val_loss: 0.6250 - val_accuracy: 0.2265\n",
            "Epoch 92/150\n",
            "1008/1008 [==============================] - 2s 2ms/step - loss: 1.0509 - accuracy: 0.2755 - val_loss: 2.1271 - val_accuracy: 0.1431\n",
            "Epoch 93/150\n",
            "1008/1008 [==============================] - 2s 2ms/step - loss: 1.0160 - accuracy: 0.2597 - val_loss: 4.2043 - val_accuracy: 0.1431\n",
            "Epoch 94/150\n",
            "1008/1008 [==============================] - 2s 2ms/step - loss: 1.5832 - accuracy: 0.2360 - val_loss: 1.0713 - val_accuracy: 0.1503\n",
            "Epoch 95/150\n",
            "1008/1008 [==============================] - 2s 2ms/step - loss: 0.9607 - accuracy: 0.2713 - val_loss: 1.7461 - val_accuracy: 0.3115\n",
            "Epoch 96/150\n",
            "1008/1008 [==============================] - 2s 2ms/step - loss: 1.0026 - accuracy: 0.2660 - val_loss: 1.2249 - val_accuracy: 0.3165\n",
            "Epoch 97/150\n",
            "1008/1008 [==============================] - 2s 2ms/step - loss: 1.1715 - accuracy: 0.2616 - val_loss: 0.5293 - val_accuracy: 0.2376\n",
            "Epoch 98/150\n",
            "1008/1008 [==============================] - 2s 2ms/step - loss: 0.9507 - accuracy: 0.2763 - val_loss: 0.5895 - val_accuracy: 0.2089\n",
            "Epoch 99/150\n",
            "1008/1008 [==============================] - 2s 2ms/step - loss: 1.0805 - accuracy: 0.2723 - val_loss: 0.8461 - val_accuracy: 0.1660\n",
            "Epoch 100/150\n",
            "1008/1008 [==============================] - 2s 2ms/step - loss: 1.1093 - accuracy: 0.2514 - val_loss: 0.4313 - val_accuracy: 0.3508\n",
            "Epoch 101/150\n",
            "1008/1008 [==============================] - 2s 2ms/step - loss: 1.1323 - accuracy: 0.2714 - val_loss: 2.5680 - val_accuracy: 0.1431\n",
            "Epoch 102/150\n",
            "1008/1008 [==============================] - 2s 2ms/step - loss: 1.1175 - accuracy: 0.2665 - val_loss: 0.4151 - val_accuracy: 0.3619\n",
            "Epoch 103/150\n",
            "1008/1008 [==============================] - 2s 2ms/step - loss: 1.1250 - accuracy: 0.2561 - val_loss: 0.5605 - val_accuracy: 0.2660\n",
            "Epoch 104/150\n",
            "1008/1008 [==============================] - 2s 2ms/step - loss: 0.8765 - accuracy: 0.2756 - val_loss: 0.4976 - val_accuracy: 0.2640\n",
            "Epoch 105/150\n",
            "1008/1008 [==============================] - 2s 2ms/step - loss: 1.2567 - accuracy: 0.2624 - val_loss: 0.9983 - val_accuracy: 0.1596\n",
            "Epoch 106/150\n",
            "1008/1008 [==============================] - 2s 2ms/step - loss: 1.0468 - accuracy: 0.2592 - val_loss: 0.5951 - val_accuracy: 0.3143\n",
            "Epoch 107/150\n",
            "1008/1008 [==============================] - 2s 2ms/step - loss: 0.9228 - accuracy: 0.2635 - val_loss: 1.7393 - val_accuracy: 0.2992\n",
            "Epoch 108/150\n",
            "1008/1008 [==============================] - 2s 2ms/step - loss: 1.3510 - accuracy: 0.2551 - val_loss: 0.9371 - val_accuracy: 0.1469\n",
            "Epoch 109/150\n",
            "1008/1008 [==============================] - 2s 2ms/step - loss: 0.9584 - accuracy: 0.2619 - val_loss: 0.6921 - val_accuracy: 0.4040\n",
            "Epoch 110/150\n",
            "1008/1008 [==============================] - 2s 2ms/step - loss: 0.9374 - accuracy: 0.2685 - val_loss: 1.3678 - val_accuracy: 0.3101\n",
            "Epoch 111/150\n",
            "1008/1008 [==============================] - 2s 2ms/step - loss: 1.1097 - accuracy: 0.2608 - val_loss: 1.1234 - val_accuracy: 0.3820\n",
            "Epoch 112/150\n",
            "1008/1008 [==============================] - 2s 2ms/step - loss: 1.1172 - accuracy: 0.2611 - val_loss: 2.3552 - val_accuracy: 0.1431\n",
            "Epoch 113/150\n",
            "1008/1008 [==============================] - 2s 2ms/step - loss: 0.8884 - accuracy: 0.2787 - val_loss: 1.5293 - val_accuracy: 0.3240\n",
            "Epoch 114/150\n",
            "1008/1008 [==============================] - 2s 2ms/step - loss: 1.0079 - accuracy: 0.2667 - val_loss: 0.6835 - val_accuracy: 0.4118\n",
            "Epoch 115/150\n",
            "1008/1008 [==============================] - 2s 2ms/step - loss: 1.1297 - accuracy: 0.2531 - val_loss: 0.7388 - val_accuracy: 0.1846\n",
            "Epoch 116/150\n",
            "1008/1008 [==============================] - 2s 2ms/step - loss: 1.1194 - accuracy: 0.2516 - val_loss: 0.5327 - val_accuracy: 0.2285\n",
            "Epoch 117/150\n",
            "1008/1008 [==============================] - 2s 2ms/step - loss: 0.9067 - accuracy: 0.2696 - val_loss: 0.5177 - val_accuracy: 0.2553\n",
            "Epoch 118/150\n",
            "1008/1008 [==============================] - 2s 2ms/step - loss: 1.0351 - accuracy: 0.2693 - val_loss: 1.2961 - val_accuracy: 0.1431\n",
            "Epoch 119/150\n",
            "1008/1008 [==============================] - 2s 2ms/step - loss: 0.8665 - accuracy: 0.2737 - val_loss: 1.5293 - val_accuracy: 0.3208\n",
            "Epoch 120/150\n",
            "1008/1008 [==============================] - 2s 2ms/step - loss: 1.0095 - accuracy: 0.2649 - val_loss: 0.4530 - val_accuracy: 0.3879\n",
            "Epoch 121/150\n",
            "1008/1008 [==============================] - 2s 2ms/step - loss: 1.1589 - accuracy: 0.2650 - val_loss: 1.5761 - val_accuracy: 0.1431\n",
            "Epoch 122/150\n",
            "1008/1008 [==============================] - 2s 2ms/step - loss: 0.9977 - accuracy: 0.2628 - val_loss: 1.0068 - val_accuracy: 0.1660\n",
            "Epoch 123/150\n",
            "1008/1008 [==============================] - 2s 2ms/step - loss: 0.8853 - accuracy: 0.2772 - val_loss: 0.4930 - val_accuracy: 0.3996\n",
            "Epoch 124/150\n",
            "1008/1008 [==============================] - 2s 2ms/step - loss: 0.8739 - accuracy: 0.2632 - val_loss: 0.8250 - val_accuracy: 0.3855\n",
            "Epoch 125/150\n",
            "1008/1008 [==============================] - 2s 2ms/step - loss: 0.9521 - accuracy: 0.2744 - val_loss: 0.7995 - val_accuracy: 0.2033\n",
            "Epoch 126/150\n",
            "1008/1008 [==============================] - 2s 2ms/step - loss: 0.8464 - accuracy: 0.2750 - val_loss: 0.4211 - val_accuracy: 0.3734\n",
            "Epoch 127/150\n",
            "1008/1008 [==============================] - 2s 2ms/step - loss: 1.1658 - accuracy: 0.2671 - val_loss: 1.0934 - val_accuracy: 0.3611\n",
            "Epoch 128/150\n",
            "1008/1008 [==============================] - 2s 2ms/step - loss: 0.9377 - accuracy: 0.2618 - val_loss: 0.4367 - val_accuracy: 0.3873\n",
            "Epoch 129/150\n",
            "1008/1008 [==============================] - 2s 2ms/step - loss: 0.9053 - accuracy: 0.2725 - val_loss: 0.6512 - val_accuracy: 0.2053\n",
            "Epoch 130/150\n",
            "1008/1008 [==============================] - 2s 2ms/step - loss: 1.0316 - accuracy: 0.2643 - val_loss: 0.4315 - val_accuracy: 0.3824\n",
            "Epoch 131/150\n",
            "1008/1008 [==============================] - 2s 2ms/step - loss: 0.9541 - accuracy: 0.2689 - val_loss: 0.5316 - val_accuracy: 0.3975\n",
            "Epoch 132/150\n",
            "1008/1008 [==============================] - 2s 2ms/step - loss: 0.9553 - accuracy: 0.2708 - val_loss: 0.8610 - val_accuracy: 0.3865\n",
            "Epoch 133/150\n",
            "1008/1008 [==============================] - 2s 2ms/step - loss: 0.9437 - accuracy: 0.2731 - val_loss: 0.4110 - val_accuracy: 0.3732\n",
            "Epoch 134/150\n",
            "1008/1008 [==============================] - 2s 2ms/step - loss: 0.8619 - accuracy: 0.2754 - val_loss: 0.9379 - val_accuracy: 0.3863\n",
            "Epoch 135/150\n",
            "1008/1008 [==============================] - 2s 2ms/step - loss: 0.9951 - accuracy: 0.2643 - val_loss: 0.4168 - val_accuracy: 0.3548\n",
            "Epoch 136/150\n",
            "1008/1008 [==============================] - 2s 2ms/step - loss: 0.9545 - accuracy: 0.2672 - val_loss: 0.9583 - val_accuracy: 0.3464\n",
            "Epoch 137/150\n",
            "1008/1008 [==============================] - 2s 2ms/step - loss: 0.9719 - accuracy: 0.2700 - val_loss: 1.1365 - val_accuracy: 0.1449\n",
            "Epoch 138/150\n",
            "1008/1008 [==============================] - 2s 2ms/step - loss: 0.9268 - accuracy: 0.2650 - val_loss: 1.0121 - val_accuracy: 0.3419\n",
            "Epoch 139/150\n",
            "1008/1008 [==============================] - 2s 2ms/step - loss: 0.9805 - accuracy: 0.2602 - val_loss: 0.5674 - val_accuracy: 0.3992\n",
            "Epoch 140/150\n",
            "1008/1008 [==============================] - 2s 2ms/step - loss: 0.8820 - accuracy: 0.2773 - val_loss: 1.0008 - val_accuracy: 0.1499\n",
            "Epoch 141/150\n",
            "1008/1008 [==============================] - 2s 2ms/step - loss: 0.9228 - accuracy: 0.2748 - val_loss: 0.8901 - val_accuracy: 0.3887\n",
            "Epoch 142/150\n",
            "1008/1008 [==============================] - 2s 2ms/step - loss: 0.9641 - accuracy: 0.2608 - val_loss: 1.1595 - val_accuracy: 0.3292\n",
            "Epoch 143/150\n",
            "1008/1008 [==============================] - 2s 2ms/step - loss: 0.9705 - accuracy: 0.2689 - val_loss: 0.9460 - val_accuracy: 0.1487\n",
            "Epoch 144/150\n",
            "1008/1008 [==============================] - 2s 2ms/step - loss: 1.0682 - accuracy: 0.2622 - val_loss: 0.4111 - val_accuracy: 0.3609\n",
            "Epoch 145/150\n",
            "1008/1008 [==============================] - 2s 2ms/step - loss: 0.8779 - accuracy: 0.2722 - val_loss: 1.1696 - val_accuracy: 0.3593\n",
            "Epoch 146/150\n",
            "1008/1008 [==============================] - 2s 2ms/step - loss: 0.9070 - accuracy: 0.2760 - val_loss: 0.8034 - val_accuracy: 0.1713\n",
            "Epoch 147/150\n",
            "1008/1008 [==============================] - 2s 2ms/step - loss: 1.0222 - accuracy: 0.2587 - val_loss: 0.8794 - val_accuracy: 0.3667\n",
            "Epoch 148/150\n",
            "1008/1008 [==============================] - 2s 2ms/step - loss: 0.9794 - accuracy: 0.2680 - val_loss: 0.4753 - val_accuracy: 0.3840\n",
            "Epoch 149/150\n",
            "1008/1008 [==============================] - 2s 2ms/step - loss: 0.8515 - accuracy: 0.2805 - val_loss: 3.1479 - val_accuracy: 0.2793\n",
            "Epoch 150/150\n",
            "1008/1008 [==============================] - 2s 2ms/step - loss: 0.9430 - accuracy: 0.2763 - val_loss: 1.3487 - val_accuracy: 0.1437\n"
          ],
          "name": "stdout"
        }
      ]
    },
    {
      "cell_type": "code",
      "metadata": {
        "colab": {
          "base_uri": "https://localhost:8080/"
        },
        "id": "bXc-aQLzDPC2",
        "outputId": "9e807ab5-8481-456f-a5e7-f99dd11aca54"
      },
      "source": [
        "# evaluate the model\n",
        "scores = model.evaluate(X, y)\n",
        "print(\"%s: %.2f%%\" % (model.metrics_names[1], scores[1]*100))"
      ],
      "execution_count": null,
      "outputs": [
        {
          "output_type": "stream",
          "text": [
            "470/470 [==============================] - 0s 1ms/step - loss: 1.2070 - accuracy: 0.1871\n",
            "accuracy: 18.71%\n"
          ],
          "name": "stdout"
        }
      ]
    },
    {
      "cell_type": "code",
      "metadata": {
        "colab": {
          "base_uri": "https://localhost:8080/"
        },
        "id": "gws7nqFl1F5Z",
        "outputId": "f276b8e4-0072-4120-fb8f-d2b6b854b464"
      },
      "source": [
        " #Visualize training history\n",
        "\n",
        "# list all data in history\n",
        "model.history.history.keys()\n"
      ],
      "execution_count": null,
      "outputs": [
        {
          "output_type": "execute_result",
          "data": {
            "text/plain": [
              "dict_keys([])"
            ]
          },
          "metadata": {
            "tags": []
          },
          "execution_count": 120
        }
      ]
    },
    {
      "cell_type": "code",
      "metadata": {
        "id": "umYEeiy010kU"
      },
      "source": [
        "import matplotlib.pyplot as plt"
      ],
      "execution_count": null,
      "outputs": []
    },
    {
      "cell_type": "code",
      "metadata": {
        "colab": {
          "base_uri": "https://localhost:8080/",
          "height": 1000
        },
        "id": "jKapAMsH1-UV",
        "outputId": "43b1676d-4b45-414e-8c3e-1dd3763b3205"
      },
      "source": [
        "# summarize history for accuracy\n",
        "plt.plot(trainhist.history['accuracy'])\n",
        "plt.plot(trainhist.history['val_accuracy'])\n",
        "plt.title('model accuracy')\n",
        "plt.ylabel('accuracy')\n",
        "plt.xlabel('epoch')\n",
        "plt.legend(['train', 'test'], loc='upper left')\n",
        "plt.show()\n",
        "# summarize history for loss\n",
        "plt.plot(trainhist.history['loss'])\n",
        "plt.plot(trainhist.history['val_loss'])\n",
        "plt.title('model loss')\n",
        "plt.ylabel('loss')\n",
        "plt.xlabel('epoch')\n",
        "plt.legend(['train','test'], loc='upper left')\n",
        "plt.show()"
      ],
      "execution_count": null,
      "outputs": [
        {
          "output_type": "display_data",
          "data": {
            "image/png": "[encoded data removed]",
            "text/plain": [
              "<Figure size 720x720 with 1 Axes>"
            ]
          },
          "metadata": {
            "tags": [],
            "needs_background": "light"
          }
        },
        {
          "output_type": "display_data",
          "data": {
            "image/png": "[encoded data removed]",
            "text/plain": [
              "<Figure size 720x720 with 1 Axes>"
            ]
          },
          "metadata": {
            "tags": [],
            "needs_background": "light"
          }
        }
      ]
    },
    {
      "cell_type": "markdown",
      "metadata": {
        "id": "SrAa1dyN33z_"
      },
      "source": [
        "#Hypertuning the nueral network"
      ]
    },
    {
      "cell_type": "code",
      "metadata": {
        "id": "V4YQLlC73qgA"
      },
      "source": [
        "# Importing the necessary packages\n",
        "import pandas as pd\n",
        "import numpy as np\n",
        "import keras\n",
        "from sklearn.preprocessing import StandardScaler"
      ],
      "execution_count": null,
      "outputs": []
    },
    {
      "cell_type": "code",
      "metadata": {
        "id": "QcMFhBMq4TJO"
      },
      "source": [
        "Xh =gas_turb.iloc[:,:7]\n",
        "yh =gas_turb.iloc[:,11:]"
      ],
      "execution_count": null,
      "outputs": []
    },
    {
      "cell_type": "code",
      "metadata": {
        "id": "LjPsouvK4sAB"
      },
      "source": [
        "from sklearn.preprocessing import StandardScaler"
      ],
      "execution_count": null,
      "outputs": []
    },
    {
      "cell_type": "code",
      "metadata": {
        "id": "LfiB7vuJ4iSp"
      },
      "source": [
        "# Standardization\n",
        "a = StandardScaler()\n",
        "a.fit(Xh)\n",
        "X_standardized = a.transform(Xh)"
      ],
      "execution_count": null,
      "outputs": []
    },
    {
      "cell_type": "markdown",
      "metadata": {
        "id": "eNhnApfx4648"
      },
      "source": [
        "#Tuning of Hyperparameters :- Batch Size and Epochs"
      ]
    },
    {
      "cell_type": "code",
      "metadata": {
        "id": "A2K1OUtt5DWw"
      },
      "source": [
        "# Importing the necessary packages\n",
        "from sklearn.model_selection import GridSearchCV, KFold\n",
        "from keras.models import Sequential\n",
        "from keras.layers import Dense\n",
        "from keras.wrappers.scikit_learn import KerasClassifier\n",
        "from keras.optimizers import Adam"
      ],
      "execution_count": null,
      "outputs": []
    },
    {
      "cell_type": "code",
      "metadata": {
        "id": "cD_pg6gF5L8F"
      },
      "source": [
        "# create model\n",
        "def create_model():\n",
        "    model = Sequential()\n",
        "    model.add(Dense(12, input_dim=7,kernel_initializer='uniform', activation='relu'))\n",
        "    model.add(Dense(8,kernel_initializer='uniform', activation='relu'))\n",
        "    model.add(Dense(1,kernel_initializer='uniform', activation='sigmoid'))\n",
        "    \n",
        "    adam=Adam(lr=0.01)\n",
        "    model.compile(loss='binary_crossentropy', optimizer=adam, metrics=['accuracy'])\n",
        "    return model"
      ],
      "execution_count": null,
      "outputs": []
    },
    {
      "cell_type": "code",
      "metadata": {
        "colab": {
          "base_uri": "https://localhost:8080/"
        },
        "id": "gxFD-pri5cgX",
        "outputId": "632c1515-4c74-473a-baae-44f3f6281011"
      },
      "source": [
        "# Create the model\n",
        "model = KerasClassifier(build_fn = create_model,verbose = 0)\n",
        "# Define the grid search parameters\n",
        "batch_size = [10,20,40]\n",
        "epochs = [10,20,50]\n",
        "# Make a dictionary of the grid search parameters\n",
        "param_grid = dict(batch_size = batch_size,epochs = epochs)\n",
        "# Build and fit the GridSearchCV\n",
        "grid = GridSearchCV(estimator = model,param_grid = param_grid,cv = KFold(),verbose = 10)\n",
        "grid_result =grid.fit(X_standardized,yh)"
      ],
      "execution_count": null,
      "outputs": [
        {
          "output_type": "stream",
          "text": [
            "Fitting 5 folds for each of 9 candidates, totalling 45 fits\n",
            "[CV] batch_size=10, epochs=10 ........................................\n"
          ],
          "name": "stdout"
        },
        {
          "output_type": "stream",
          "text": [
            "[Parallel(n_jobs=1)]: Using backend SequentialBackend with 1 concurrent workers.\n"
          ],
          "name": "stderr"
        },
        {
          "output_type": "stream",
          "text": [
            "[CV] ............ batch_size=10, epochs=10, score=0.993, total=  12.8s\n",
            "[CV] batch_size=10, epochs=10 ........................................\n"
          ],
          "name": "stdout"
        },
        {
          "output_type": "stream",
          "text": [
            "[Parallel(n_jobs=1)]: Done   1 out of   1 | elapsed:   12.8s remaining:    0.0s\n"
          ],
          "name": "stderr"
        },
        {
          "output_type": "stream",
          "text": [
            "[CV] ............ batch_size=10, epochs=10, score=0.998, total=  12.4s\n",
            "[CV] batch_size=10, epochs=10 ........................................\n"
          ],
          "name": "stdout"
        },
        {
          "output_type": "stream",
          "text": [
            "[Parallel(n_jobs=1)]: Done   2 out of   2 | elapsed:   25.2s remaining:    0.0s\n"
          ],
          "name": "stderr"
        },
        {
          "output_type": "stream",
          "text": [
            "[CV] ............ batch_size=10, epochs=10, score=0.994, total=  12.4s\n",
            "[CV] batch_size=10, epochs=10 ........................................\n"
          ],
          "name": "stdout"
        },
        {
          "output_type": "stream",
          "text": [
            "[Parallel(n_jobs=1)]: Done   3 out of   3 | elapsed:   37.6s remaining:    0.0s\n"
          ],
          "name": "stderr"
        },
        {
          "output_type": "stream",
          "text": [
            "[CV] ............ batch_size=10, epochs=10, score=0.998, total=  12.4s\n",
            "[CV] batch_size=10, epochs=10 ........................................\n"
          ],
          "name": "stdout"
        },
        {
          "output_type": "stream",
          "text": [
            "[Parallel(n_jobs=1)]: Done   4 out of   4 | elapsed:   50.1s remaining:    0.0s\n"
          ],
          "name": "stderr"
        },
        {
          "output_type": "stream",
          "text": [
            "[CV] ............ batch_size=10, epochs=10, score=0.997, total=  12.4s\n",
            "[CV] batch_size=10, epochs=20 ........................................\n"
          ],
          "name": "stdout"
        },
        {
          "output_type": "stream",
          "text": [
            "[Parallel(n_jobs=1)]: Done   5 out of   5 | elapsed:  1.0min remaining:    0.0s\n"
          ],
          "name": "stderr"
        },
        {
          "output_type": "stream",
          "text": [
            "[CV] ............ batch_size=10, epochs=20, score=0.995, total=  23.8s\n",
            "[CV] batch_size=10, epochs=20 ........................................\n"
          ],
          "name": "stdout"
        },
        {
          "output_type": "stream",
          "text": [
            "[Parallel(n_jobs=1)]: Done   6 out of   6 | elapsed:  1.4min remaining:    0.0s\n"
          ],
          "name": "stderr"
        },
        {
          "output_type": "stream",
          "text": [
            "[CV] ............ batch_size=10, epochs=20, score=0.998, total=  23.6s\n",
            "[CV] batch_size=10, epochs=20 ........................................\n"
          ],
          "name": "stdout"
        },
        {
          "output_type": "stream",
          "text": [
            "[Parallel(n_jobs=1)]: Done   7 out of   7 | elapsed:  1.8min remaining:    0.0s\n"
          ],
          "name": "stderr"
        },
        {
          "output_type": "stream",
          "text": [
            "[CV] ............ batch_size=10, epochs=20, score=0.997, total=  23.6s\n",
            "[CV] batch_size=10, epochs=20 ........................................\n"
          ],
          "name": "stdout"
        },
        {
          "output_type": "stream",
          "text": [
            "[Parallel(n_jobs=1)]: Done   8 out of   8 | elapsed:  2.2min remaining:    0.0s\n"
          ],
          "name": "stderr"
        },
        {
          "output_type": "stream",
          "text": [
            "[CV] ............ batch_size=10, epochs=20, score=0.998, total=  23.5s\n",
            "[CV] batch_size=10, epochs=20 ........................................\n"
          ],
          "name": "stdout"
        },
        {
          "output_type": "stream",
          "text": [
            "[Parallel(n_jobs=1)]: Done   9 out of   9 | elapsed:  2.6min remaining:    0.0s\n"
          ],
          "name": "stderr"
        },
        {
          "output_type": "stream",
          "text": [
            "[CV] ............ batch_size=10, epochs=20, score=0.993, total=  23.7s\n",
            "[CV] batch_size=10, epochs=50 ........................................\n",
            "[CV] ............ batch_size=10, epochs=50, score=0.996, total=  57.3s\n",
            "[CV] batch_size=10, epochs=50 ........................................\n",
            "[CV] ............ batch_size=10, epochs=50, score=0.999, total=  58.3s\n",
            "[CV] batch_size=10, epochs=50 ........................................\n",
            "[CV] ............ batch_size=10, epochs=50, score=0.996, total=  59.9s\n",
            "[CV] batch_size=10, epochs=50 ........................................\n",
            "[CV] ............ batch_size=10, epochs=50, score=0.997, total=  59.4s\n",
            "[CV] batch_size=10, epochs=50 ........................................\n",
            "[CV] ............ batch_size=10, epochs=50, score=0.998, total=  59.8s\n",
            "[CV] batch_size=20, epochs=10 ........................................\n",
            "[CV] ............ batch_size=20, epochs=10, score=0.997, total=   6.6s\n",
            "[CV] batch_size=20, epochs=10 ........................................\n",
            "[CV] ............ batch_size=20, epochs=10, score=0.999, total=   6.5s\n",
            "[CV] batch_size=20, epochs=10 ........................................\n",
            "[CV] ............ batch_size=20, epochs=10, score=0.996, total=   6.6s\n",
            "[CV] batch_size=20, epochs=10 ........................................\n",
            "[CV] ............ batch_size=20, epochs=10, score=0.996, total=   6.7s\n",
            "[CV] batch_size=20, epochs=10 ........................................\n",
            "[CV] ............ batch_size=20, epochs=10, score=0.994, total=   6.6s\n",
            "[CV] batch_size=20, epochs=20 ........................................\n",
            "[CV] ............ batch_size=20, epochs=20, score=0.992, total=  13.0s\n",
            "[CV] batch_size=20, epochs=20 ........................................\n",
            "[CV] ............ batch_size=20, epochs=20, score=0.999, total=  13.0s\n",
            "[CV] batch_size=20, epochs=20 ........................................\n",
            "[CV] ............ batch_size=20, epochs=20, score=0.998, total=  13.0s\n",
            "[CV] batch_size=20, epochs=20 ........................................\n",
            "[CV] ............ batch_size=20, epochs=20, score=0.997, total=  13.5s\n",
            "[CV] batch_size=20, epochs=20 ........................................\n",
            "[CV] ............ batch_size=20, epochs=20, score=0.996, total=  13.3s\n",
            "[CV] batch_size=20, epochs=50 ........................................\n",
            "[CV] ............ batch_size=20, epochs=50, score=0.995, total=  32.8s\n",
            "[CV] batch_size=20, epochs=50 ........................................\n",
            "[CV] ............ batch_size=20, epochs=50, score=0.998, total=  31.6s\n",
            "[CV] batch_size=20, epochs=50 ........................................\n",
            "[CV] ............ batch_size=20, epochs=50, score=0.996, total=  31.2s\n",
            "[CV] batch_size=20, epochs=50 ........................................\n",
            "[CV] ............ batch_size=20, epochs=50, score=0.998, total=  30.1s\n",
            "[CV] batch_size=20, epochs=50 ........................................\n",
            "[CV] ............ batch_size=20, epochs=50, score=0.995, total=  30.2s\n",
            "[CV] batch_size=40, epochs=10 ........................................\n",
            "[CV] ............ batch_size=40, epochs=10, score=0.997, total=   3.7s\n",
            "[CV] batch_size=40, epochs=10 ........................................\n",
            "[CV] ............ batch_size=40, epochs=10, score=0.999, total=   3.7s\n",
            "[CV] batch_size=40, epochs=10 ........................................\n",
            "[CV] ............ batch_size=40, epochs=10, score=0.996, total=   3.6s\n",
            "[CV] batch_size=40, epochs=10 ........................................\n",
            "[CV] ............ batch_size=40, epochs=10, score=0.997, total=   3.6s\n",
            "[CV] batch_size=40, epochs=10 ........................................\n",
            "[CV] ............ batch_size=40, epochs=10, score=0.996, total=   4.1s\n",
            "[CV] batch_size=40, epochs=20 ........................................\n",
            "[CV] ............ batch_size=40, epochs=20, score=0.996, total=   6.7s\n",
            "[CV] batch_size=40, epochs=20 ........................................\n",
            "[CV] ............ batch_size=40, epochs=20, score=0.999, total=   6.7s\n",
            "[CV] batch_size=40, epochs=20 ........................................\n",
            "[CV] ............ batch_size=40, epochs=20, score=0.998, total=   6.8s\n",
            "[CV] batch_size=40, epochs=20 ........................................\n",
            "[CV] ............ batch_size=40, epochs=20, score=0.998, total=   6.5s\n",
            "[CV] batch_size=40, epochs=20 ........................................\n",
            "[CV] ............ batch_size=40, epochs=20, score=0.997, total=   6.6s\n",
            "[CV] batch_size=40, epochs=50 ........................................\n",
            "[CV] ............ batch_size=40, epochs=50, score=0.996, total=  15.4s\n",
            "[CV] batch_size=40, epochs=50 ........................................\n",
            "[CV] ............ batch_size=40, epochs=50, score=0.998, total=  15.5s\n",
            "[CV] batch_size=40, epochs=50 ........................................\n",
            "[CV] ............ batch_size=40, epochs=50, score=0.997, total=  15.6s\n",
            "[CV] batch_size=40, epochs=50 ........................................\n",
            "[CV] ............ batch_size=40, epochs=50, score=0.998, total=  15.6s\n",
            "[CV] batch_size=40, epochs=50 ........................................\n",
            "[CV] ............ batch_size=40, epochs=50, score=0.995, total=  15.2s\n"
          ],
          "name": "stdout"
        },
        {
          "output_type": "stream",
          "text": [
            "[Parallel(n_jobs=1)]: Done  45 out of  45 | elapsed: 14.3min finished\n"
          ],
          "name": "stderr"
        }
      ]
    },
    {
      "cell_type": "code",
      "metadata": {
        "colab": {
          "base_uri": "https://localhost:8080/"
        },
        "id": "2H7KV75rquzA",
        "outputId": "d9d029a4-2362-475b-85d7-71b271c088c7"
      },
      "source": [
        "# Summarize the results\n",
        "print('Best : {}, using {}'.format(grid_result.best_score_,grid_result.best_params_))\n",
        "means = grid_result.cv_results_['mean_test_score']\n",
        "stds = grid_result.cv_results_['std_test_score']\n",
        "params = grid_result.cv_results_['params']\n",
        "for mean, stdev, param in zip(means, stds, params):\n",
        "  print('{},{} with: {}'.format(mean, stdev, param))"
      ],
      "execution_count": null,
      "outputs": [
        {
          "output_type": "stream",
          "text": [
            "Best : 0.9977391839027405, using {'batch_size': 40, 'epochs': 20}\n",
            "0.9961434483528138,0.00206642413780941 with: {'batch_size': 10, 'epochs': 10}\n",
            "0.9961431622505188,0.0017922106088152164 with: {'batch_size': 10, 'epochs': 20}\n",
            "0.9972737789154053,0.0010595949608615866 with: {'batch_size': 10, 'epochs': 50}\n",
            "0.9966751575469971,0.0016427070251023314 with: {'batch_size': 20, 'epochs': 10}\n",
            "0.9963428497314453,0.002322382509027068 with: {'batch_size': 20, 'epochs': 20}\n",
            "0.9962762355804443,0.0015077871142873118 with: {'batch_size': 20, 'epochs': 50}\n",
            "0.9968747138977051,0.0013399815884099096 with: {'batch_size': 40, 'epochs': 10}\n",
            "0.9977391839027405,0.0009727160104413448 with: {'batch_size': 40, 'epochs': 20}\n",
            "0.9968081593513489,0.0012373831123624495 with: {'batch_size': 40, 'epochs': 50}\n"
          ],
          "name": "stdout"
        }
      ]
    },
    {
      "cell_type": "markdown",
      "metadata": {
        "id": "uvYpTu5F4heM"
      },
      "source": [
        "Tuning of Hyperparameters:- Learning rate and Drop out rate"
      ]
    },
    {
      "cell_type": "code",
      "metadata": {
        "colab": {
          "base_uri": "https://localhost:8080/"
        },
        "id": "UhK6Hcxl4lAh",
        "outputId": "878c25c3-077a-4e08-d4de-467518c4fe1d"
      },
      "source": [
        "from keras.layers import Dropout\n",
        "\n",
        "# Defining the model\n",
        "\n",
        "def create_model(learning_rate,dropout_rate):\n",
        "    model = Sequential()\n",
        "    model.add(Dense(8,input_dim = 7,kernel_initializer = 'normal',activation = 'relu'))\n",
        "    model.add(Dropout(dropout_rate))\n",
        "    model.add(Dense(4,input_dim =7 ,kernel_initializer = 'normal',activation = 'relu'))\n",
        "    model.add(Dropout(dropout_rate))\n",
        "    model.add(Dense(1,activation = 'sigmoid'))\n",
        "    \n",
        "    adam = Adam(lr = learning_rate)\n",
        "    model.compile(loss = 'binary_crossentropy',optimizer = adam,metrics = ['accuracy'])\n",
        "    return model\n",
        "\n",
        "# Create the model\n",
        "\n",
        "model = KerasClassifier(build_fn = create_model,verbose = 0,batch_size = 40,epochs = 10)\n",
        "\n",
        "# Define the grid search parameters\n",
        "\n",
        "learning_rate = [0.001,0.01]\n",
        "dropout_rate = [0.0,0.1]\n",
        "\n",
        "# Make a dictionary of the grid search parameters\n",
        "\n",
        "param_grids = dict(learning_rate = learning_rate,dropout_rate = dropout_rate)\n",
        "\n",
        "# Build and fit the GridSearchCV\n",
        "\n",
        "grid = GridSearchCV(estimator = model,param_grid = param_grids,cv = KFold(),verbose = 10)\n",
        "grid_result = grid.fit(X_standardized,yh)\n"
      ],
      "execution_count": null,
      "outputs": [
        {
          "output_type": "stream",
          "text": [
            "Fitting 5 folds for each of 4 candidates, totalling 20 fits\n",
            "[CV] dropout_rate=0.0, learning_rate=0.001 ...........................\n"
          ],
          "name": "stdout"
        },
        {
          "output_type": "stream",
          "text": [
            "[Parallel(n_jobs=1)]: Using backend SequentialBackend with 1 concurrent workers.\n"
          ],
          "name": "stderr"
        },
        {
          "output_type": "stream",
          "text": [
            "[CV]  dropout_rate=0.0, learning_rate=0.001, score=0.996, total=   4.1s\n",
            "[CV] dropout_rate=0.0, learning_rate=0.001 ...........................\n"
          ],
          "name": "stdout"
        },
        {
          "output_type": "stream",
          "text": [
            "[Parallel(n_jobs=1)]: Done   1 out of   1 | elapsed:    4.1s remaining:    0.0s\n"
          ],
          "name": "stderr"
        },
        {
          "output_type": "stream",
          "text": [
            "[CV]  dropout_rate=0.0, learning_rate=0.001, score=0.998, total=   3.4s\n",
            "[CV] dropout_rate=0.0, learning_rate=0.001 ...........................\n"
          ],
          "name": "stdout"
        },
        {
          "output_type": "stream",
          "text": [
            "[Parallel(n_jobs=1)]: Done   2 out of   2 | elapsed:    7.5s remaining:    0.0s\n"
          ],
          "name": "stderr"
        },
        {
          "output_type": "stream",
          "text": [
            "[CV]  dropout_rate=0.0, learning_rate=0.001, score=0.998, total=   3.5s\n",
            "[CV] dropout_rate=0.0, learning_rate=0.001 ...........................\n"
          ],
          "name": "stdout"
        },
        {
          "output_type": "stream",
          "text": [
            "[Parallel(n_jobs=1)]: Done   3 out of   3 | elapsed:   11.0s remaining:    0.0s\n"
          ],
          "name": "stderr"
        },
        {
          "output_type": "stream",
          "text": [
            "[CV]  dropout_rate=0.0, learning_rate=0.001, score=0.997, total=   3.5s\n",
            "[CV] dropout_rate=0.0, learning_rate=0.001 ...........................\n"
          ],
          "name": "stdout"
        },
        {
          "output_type": "stream",
          "text": [
            "[Parallel(n_jobs=1)]: Done   4 out of   4 | elapsed:   14.5s remaining:    0.0s\n"
          ],
          "name": "stderr"
        },
        {
          "output_type": "stream",
          "text": [
            "[CV]  dropout_rate=0.0, learning_rate=0.001, score=0.996, total=   3.5s\n",
            "[CV] dropout_rate=0.0, learning_rate=0.01 ............................\n"
          ],
          "name": "stdout"
        },
        {
          "output_type": "stream",
          "text": [
            "[Parallel(n_jobs=1)]: Done   5 out of   5 | elapsed:   18.0s remaining:    0.0s\n"
          ],
          "name": "stderr"
        },
        {
          "output_type": "stream",
          "text": [
            "[CV]  dropout_rate=0.0, learning_rate=0.01, score=0.996, total=   3.4s\n",
            "[CV] dropout_rate=0.0, learning_rate=0.01 ............................\n"
          ],
          "name": "stdout"
        },
        {
          "output_type": "stream",
          "text": [
            "[Parallel(n_jobs=1)]: Done   6 out of   6 | elapsed:   21.5s remaining:    0.0s\n"
          ],
          "name": "stderr"
        },
        {
          "output_type": "stream",
          "text": [
            "[CV]  dropout_rate=0.0, learning_rate=0.01, score=0.997, total=   3.5s\n",
            "[CV] dropout_rate=0.0, learning_rate=0.01 ............................\n"
          ],
          "name": "stdout"
        },
        {
          "output_type": "stream",
          "text": [
            "[Parallel(n_jobs=1)]: Done   7 out of   7 | elapsed:   25.0s remaining:    0.0s\n"
          ],
          "name": "stderr"
        },
        {
          "output_type": "stream",
          "text": [
            "[CV]  dropout_rate=0.0, learning_rate=0.01, score=0.997, total=   3.6s\n",
            "[CV] dropout_rate=0.0, learning_rate=0.01 ............................\n"
          ],
          "name": "stdout"
        },
        {
          "output_type": "stream",
          "text": [
            "[Parallel(n_jobs=1)]: Done   8 out of   8 | elapsed:   28.6s remaining:    0.0s\n"
          ],
          "name": "stderr"
        },
        {
          "output_type": "stream",
          "text": [
            "[CV]  dropout_rate=0.0, learning_rate=0.01, score=0.995, total=   3.6s\n",
            "[CV] dropout_rate=0.0, learning_rate=0.01 ............................\n"
          ],
          "name": "stdout"
        },
        {
          "output_type": "stream",
          "text": [
            "[Parallel(n_jobs=1)]: Done   9 out of   9 | elapsed:   32.2s remaining:    0.0s\n"
          ],
          "name": "stderr"
        },
        {
          "output_type": "stream",
          "text": [
            "[CV]  dropout_rate=0.0, learning_rate=0.01, score=0.994, total=   3.5s\n",
            "[CV] dropout_rate=0.1, learning_rate=0.001 ...........................\n",
            "[CV]  dropout_rate=0.1, learning_rate=0.001, score=0.997, total=   3.9s\n",
            "[CV] dropout_rate=0.1, learning_rate=0.001 ...........................\n",
            "[CV]  dropout_rate=0.1, learning_rate=0.001, score=0.999, total=   3.4s\n",
            "[CV] dropout_rate=0.1, learning_rate=0.001 ...........................\n",
            "[CV]  dropout_rate=0.1, learning_rate=0.001, score=0.998, total=   3.4s\n",
            "[CV] dropout_rate=0.1, learning_rate=0.001 ...........................\n",
            "[CV]  dropout_rate=0.1, learning_rate=0.001, score=0.997, total=   3.4s\n",
            "[CV] dropout_rate=0.1, learning_rate=0.001 ...........................\n",
            "[CV]  dropout_rate=0.1, learning_rate=0.001, score=0.996, total=   3.4s\n",
            "[CV] dropout_rate=0.1, learning_rate=0.01 ............................\n",
            "[CV]  dropout_rate=0.1, learning_rate=0.01, score=0.996, total=   3.5s\n",
            "[CV] dropout_rate=0.1, learning_rate=0.01 ............................\n",
            "[CV]  dropout_rate=0.1, learning_rate=0.01, score=0.998, total=   3.4s\n",
            "[CV] dropout_rate=0.1, learning_rate=0.01 ............................\n",
            "[CV]  dropout_rate=0.1, learning_rate=0.01, score=0.998, total=   3.4s\n",
            "[CV] dropout_rate=0.1, learning_rate=0.01 ............................\n",
            "[CV]  dropout_rate=0.1, learning_rate=0.01, score=0.997, total=   3.4s\n",
            "[CV] dropout_rate=0.1, learning_rate=0.01 ............................\n",
            "[CV]  dropout_rate=0.1, learning_rate=0.01, score=0.995, total=   3.8s\n"
          ],
          "name": "stdout"
        },
        {
          "output_type": "stream",
          "text": [
            "[Parallel(n_jobs=1)]: Done  20 out of  20 | elapsed:  1.2min finished\n"
          ],
          "name": "stderr"
        }
      ]
    },
    {
      "cell_type": "code",
      "metadata": {
        "colab": {
          "base_uri": "https://localhost:8080/"
        },
        "id": "_wh2vUuW5V49",
        "outputId": "0096bc40-b8f7-4167-8488-be0da2521ffa"
      },
      "source": [
        "# Summarize the results\n",
        "print('Best : {}, using {}'.format(grid_result.best_score_,grid_result.best_params_))\n",
        "means = grid_result.cv_results_['mean_test_score']\n",
        "stds = grid_result.cv_results_['std_test_score']\n",
        "params = grid_result.cv_results_['params']\n",
        "for mean, stdev, param in zip(means, stds, params):\n",
        "  print('{},{} with: {}'.format(mean, stdev, param))"
      ],
      "execution_count": null,
      "outputs": [
        {
          "output_type": "stream",
          "text": [
            "Best : 0.9972071766853332, using {'dropout_rate': 0.1, 'learning_rate': 0.001}\n",
            "0.9971406936645508,0.0009774944150352097 with: {'dropout_rate': 0.0, 'learning_rate': 0.001}\n",
            "0.9960102677345276,0.0010518939022685085 with: {'dropout_rate': 0.0, 'learning_rate': 0.01}\n",
            "0.9972071766853332,0.0009071490208533425 with: {'dropout_rate': 0.1, 'learning_rate': 0.001}\n",
            "0.9969411492347717,0.0011973447916521311 with: {'dropout_rate': 0.1, 'learning_rate': 0.01}\n"
          ],
          "name": "stdout"
        }
      ]
    },
    {
      "cell_type": "markdown",
      "metadata": {
        "id": "Xs-F0A7f5ama"
      },
      "source": [
        "Tuning of Hyperparameters:- Activation Function and Kernel Initializer"
      ]
    },
    {
      "cell_type": "code",
      "metadata": {
        "colab": {
          "base_uri": "https://localhost:8080/"
        },
        "id": "KDyDHF9K5dbl",
        "outputId": "b70fe746-5475-490c-8a54-a1cf5cbc2fa3"
      },
      "source": [
        "# Defining the model\n",
        "\n",
        "def create_model(activation_function,init):\n",
        "    model = Sequential()\n",
        "    model.add(Dense(8,input_dim = 7,kernel_initializer = init,activation = activation_function))\n",
        "    model.add(Dropout(0.1))\n",
        "    model.add(Dense(4,input_dim = 7,kernel_initializer = init,activation = activation_function))\n",
        "    model.add(Dropout(0.1))\n",
        "    model.add(Dense(1,activation = 'sigmoid'))\n",
        "    \n",
        "    adam = Adam(lr = 0.001)\n",
        "    model.compile(loss = 'binary_crossentropy',optimizer = adam,metrics = ['accuracy'])\n",
        "    return model\n",
        "\n",
        "# Create the model\n",
        "\n",
        "model = KerasClassifier(build_fn = create_model,verbose = 0,batch_size = 40,epochs = 10)\n",
        "\n",
        "# Define the grid search parameters\n",
        "activation_function = ['softmax','relu','tanh','linear']\n",
        "init = ['uniform','normal','zero']\n",
        "\n",
        "# Make a dictionary of the grid search parameters\n",
        "param_grids = dict(activation_function = activation_function,init = init)\n",
        "\n",
        "# Build and fit the GridSearchCV\n",
        "\n",
        "grid = GridSearchCV(estimator = model,param_grid = param_grids,cv = KFold(),verbose = 10)\n",
        "grid_result = grid.fit(X_standardized,yh)\n"
      ],
      "execution_count": null,
      "outputs": [
        {
          "output_type": "stream",
          "text": [
            "Fitting 5 folds for each of 12 candidates, totalling 60 fits\n",
            "[CV] activation_function=softmax, init=uniform .......................\n"
          ],
          "name": "stdout"
        },
        {
          "output_type": "stream",
          "text": [
            "[Parallel(n_jobs=1)]: Using backend SequentialBackend with 1 concurrent workers.\n"
          ],
          "name": "stderr"
        },
        {
          "output_type": "stream",
          "text": [
            "[CV]  activation_function=softmax, init=uniform, score=0.994, total=   3.6s\n",
            "[CV] activation_function=softmax, init=uniform .......................\n"
          ],
          "name": "stdout"
        },
        {
          "output_type": "stream",
          "text": [
            "[Parallel(n_jobs=1)]: Done   1 out of   1 | elapsed:    3.6s remaining:    0.0s\n"
          ],
          "name": "stderr"
        },
        {
          "output_type": "stream",
          "text": [
            "[CV]  activation_function=softmax, init=uniform, score=0.995, total=   3.6s\n",
            "[CV] activation_function=softmax, init=uniform .......................\n"
          ],
          "name": "stdout"
        },
        {
          "output_type": "stream",
          "text": [
            "[Parallel(n_jobs=1)]: Done   2 out of   2 | elapsed:    7.2s remaining:    0.0s\n"
          ],
          "name": "stderr"
        },
        {
          "output_type": "stream",
          "text": [
            "[CV]  activation_function=softmax, init=uniform, score=0.997, total=   3.5s\n",
            "[CV] activation_function=softmax, init=uniform .......................\n"
          ],
          "name": "stdout"
        },
        {
          "output_type": "stream",
          "text": [
            "[Parallel(n_jobs=1)]: Done   3 out of   3 | elapsed:   10.7s remaining:    0.0s\n"
          ],
          "name": "stderr"
        },
        {
          "output_type": "stream",
          "text": [
            "[CV]  activation_function=softmax, init=uniform, score=0.996, total=   3.5s\n",
            "[CV] activation_function=softmax, init=uniform .......................\n"
          ],
          "name": "stdout"
        },
        {
          "output_type": "stream",
          "text": [
            "[Parallel(n_jobs=1)]: Done   4 out of   4 | elapsed:   14.2s remaining:    0.0s\n"
          ],
          "name": "stderr"
        },
        {
          "output_type": "stream",
          "text": [
            "[CV]  activation_function=softmax, init=uniform, score=0.995, total=   3.5s\n",
            "[CV] activation_function=softmax, init=normal ........................\n"
          ],
          "name": "stdout"
        },
        {
          "output_type": "stream",
          "text": [
            "[Parallel(n_jobs=1)]: Done   5 out of   5 | elapsed:   17.7s remaining:    0.0s\n"
          ],
          "name": "stderr"
        },
        {
          "output_type": "stream",
          "text": [
            "[CV]  activation_function=softmax, init=normal, score=0.990, total=   3.5s\n",
            "[CV] activation_function=softmax, init=normal ........................\n"
          ],
          "name": "stdout"
        },
        {
          "output_type": "stream",
          "text": [
            "[Parallel(n_jobs=1)]: Done   6 out of   6 | elapsed:   21.2s remaining:    0.0s\n"
          ],
          "name": "stderr"
        },
        {
          "output_type": "stream",
          "text": [
            "[CV]  activation_function=softmax, init=normal, score=0.996, total=   3.6s\n",
            "[CV] activation_function=softmax, init=normal ........................\n"
          ],
          "name": "stdout"
        },
        {
          "output_type": "stream",
          "text": [
            "[Parallel(n_jobs=1)]: Done   7 out of   7 | elapsed:   24.8s remaining:    0.0s\n"
          ],
          "name": "stderr"
        },
        {
          "output_type": "stream",
          "text": [
            "[CV]  activation_function=softmax, init=normal, score=0.997, total=   3.5s\n",
            "[CV] activation_function=softmax, init=normal ........................\n"
          ],
          "name": "stdout"
        },
        {
          "output_type": "stream",
          "text": [
            "[Parallel(n_jobs=1)]: Done   8 out of   8 | elapsed:   28.3s remaining:    0.0s\n"
          ],
          "name": "stderr"
        },
        {
          "output_type": "stream",
          "text": [
            "[CV]  activation_function=softmax, init=normal, score=0.996, total=   3.9s\n",
            "[CV] activation_function=softmax, init=normal ........................\n"
          ],
          "name": "stdout"
        },
        {
          "output_type": "stream",
          "text": [
            "[Parallel(n_jobs=1)]: Done   9 out of   9 | elapsed:   32.2s remaining:    0.0s\n"
          ],
          "name": "stderr"
        },
        {
          "output_type": "stream",
          "text": [
            "[CV]  activation_function=softmax, init=normal, score=0.994, total=   3.5s\n",
            "[CV] activation_function=softmax, init=zero ..........................\n",
            "[CV]  activation_function=softmax, init=zero, score=0.994, total=   3.5s\n",
            "[CV] activation_function=softmax, init=zero ..........................\n",
            "[CV]  activation_function=softmax, init=zero, score=0.996, total=   3.6s\n",
            "[CV] activation_function=softmax, init=zero ..........................\n",
            "[CV]  activation_function=softmax, init=zero, score=0.997, total=   3.6s\n",
            "[CV] activation_function=softmax, init=zero ..........................\n",
            "[CV]  activation_function=softmax, init=zero, score=0.996, total=   3.5s\n",
            "[CV] activation_function=softmax, init=zero ..........................\n",
            "[CV]  activation_function=softmax, init=zero, score=0.994, total=   3.5s\n",
            "[CV] activation_function=relu, init=uniform ..........................\n",
            "[CV]  activation_function=relu, init=uniform, score=0.996, total=   3.5s\n",
            "[CV] activation_function=relu, init=uniform ..........................\n",
            "[CV]  activation_function=relu, init=uniform, score=0.999, total=   3.5s\n",
            "[CV] activation_function=relu, init=uniform ..........................\n",
            "[CV]  activation_function=relu, init=uniform, score=0.997, total=   3.4s\n",
            "[CV] activation_function=relu, init=uniform ..........................\n",
            "[CV]  activation_function=relu, init=uniform, score=0.997, total=   3.8s\n",
            "[CV] activation_function=relu, init=uniform ..........................\n",
            "[CV]  activation_function=relu, init=uniform, score=0.996, total=   3.4s\n",
            "[CV] activation_function=relu, init=normal ...........................\n",
            "[CV]  activation_function=relu, init=normal, score=0.996, total=   3.4s\n",
            "[CV] activation_function=relu, init=normal ...........................\n",
            "[CV]  activation_function=relu, init=normal, score=0.998, total=   3.4s\n",
            "[CV] activation_function=relu, init=normal ...........................\n",
            "[CV]  activation_function=relu, init=normal, score=0.998, total=   3.4s\n",
            "[CV] activation_function=relu, init=normal ...........................\n",
            "[CV]  activation_function=relu, init=normal, score=0.997, total=   3.5s\n",
            "[CV] activation_function=relu, init=normal ...........................\n",
            "[CV]  activation_function=relu, init=normal, score=0.996, total=   3.5s\n",
            "[CV] activation_function=relu, init=zero .............................\n",
            "[CV] . activation_function=relu, init=zero, score=0.711, total=   3.4s\n",
            "[CV] activation_function=relu, init=zero .............................\n",
            "[CV] . activation_function=relu, init=zero, score=0.757, total=   3.4s\n",
            "[CV] activation_function=relu, init=zero .............................\n",
            "[CV] . activation_function=relu, init=zero, score=0.829, total=   3.5s\n",
            "[CV] activation_function=relu, init=zero .............................\n",
            "[CV] . activation_function=relu, init=zero, score=0.751, total=   3.8s\n",
            "[CV] activation_function=relu, init=zero .............................\n",
            "[CV] . activation_function=relu, init=zero, score=0.647, total=   3.4s\n",
            "[CV] activation_function=tanh, init=uniform ..........................\n",
            "[CV]  activation_function=tanh, init=uniform, score=0.997, total=   3.3s\n",
            "[CV] activation_function=tanh, init=uniform ..........................\n",
            "[CV]  activation_function=tanh, init=uniform, score=0.999, total=   3.4s\n",
            "[CV] activation_function=tanh, init=uniform ..........................\n",
            "[CV]  activation_function=tanh, init=uniform, score=0.998, total=   3.4s\n",
            "[CV] activation_function=tanh, init=uniform ..........................\n",
            "[CV]  activation_function=tanh, init=uniform, score=0.998, total=   3.4s\n",
            "[CV] activation_function=tanh, init=uniform ..........................\n",
            "[CV]  activation_function=tanh, init=uniform, score=0.996, total=   3.4s\n",
            "[CV] activation_function=tanh, init=normal ...........................\n",
            "[CV]  activation_function=tanh, init=normal, score=0.997, total=   3.4s\n",
            "[CV] activation_function=tanh, init=normal ...........................\n",
            "[CV]  activation_function=tanh, init=normal, score=0.999, total=   3.4s\n",
            "[CV] activation_function=tanh, init=normal ...........................\n",
            "[CV]  activation_function=tanh, init=normal, score=0.999, total=   3.7s\n",
            "[CV] activation_function=tanh, init=normal ...........................\n",
            "[CV]  activation_function=tanh, init=normal, score=0.998, total=   3.4s\n",
            "[CV] activation_function=tanh, init=normal ...........................\n",
            "[CV]  activation_function=tanh, init=normal, score=0.996, total=   3.4s\n",
            "[CV] activation_function=tanh, init=zero .............................\n",
            "[CV] . activation_function=tanh, init=zero, score=0.711, total=   3.3s\n",
            "[CV] activation_function=tanh, init=zero .............................\n",
            "[CV] . activation_function=tanh, init=zero, score=0.757, total=   3.3s\n",
            "[CV] activation_function=tanh, init=zero .............................\n",
            "[CV] . activation_function=tanh, init=zero, score=0.829, total=   3.4s\n",
            "[CV] activation_function=tanh, init=zero .............................\n",
            "[CV] . activation_function=tanh, init=zero, score=0.751, total=   3.3s\n",
            "[CV] activation_function=tanh, init=zero .............................\n",
            "[CV] . activation_function=tanh, init=zero, score=0.647, total=   3.4s\n",
            "[CV] activation_function=linear, init=uniform ........................\n",
            "[CV]  activation_function=linear, init=uniform, score=0.997, total=   3.4s\n",
            "[CV] activation_function=linear, init=uniform ........................\n",
            "[CV]  activation_function=linear, init=uniform, score=0.999, total=   3.4s\n",
            "[CV] activation_function=linear, init=uniform ........................\n",
            "[CV]  activation_function=linear, init=uniform, score=0.997, total=   3.8s\n",
            "[CV] activation_function=linear, init=uniform ........................\n",
            "[CV]  activation_function=linear, init=uniform, score=0.997, total=   3.4s\n",
            "[CV] activation_function=linear, init=uniform ........................\n",
            "[CV]  activation_function=linear, init=uniform, score=0.996, total=   3.4s\n",
            "[CV] activation_function=linear, init=normal .........................\n",
            "[CV]  activation_function=linear, init=normal, score=0.997, total=   3.4s\n",
            "[CV] activation_function=linear, init=normal .........................\n",
            "[CV]  activation_function=linear, init=normal, score=0.999, total=   3.4s\n",
            "[CV] activation_function=linear, init=normal .........................\n",
            "[CV]  activation_function=linear, init=normal, score=0.998, total=   3.3s\n",
            "[CV] activation_function=linear, init=normal .........................\n",
            "[CV]  activation_function=linear, init=normal, score=0.997, total=   3.4s\n",
            "[CV] activation_function=linear, init=normal .........................\n",
            "[CV]  activation_function=linear, init=normal, score=0.996, total=   3.4s\n",
            "[CV] activation_function=linear, init=zero ...........................\n",
            "[CV]  activation_function=linear, init=zero, score=0.711, total=   3.3s\n",
            "[CV] activation_function=linear, init=zero ...........................\n",
            "[CV]  activation_function=linear, init=zero, score=0.757, total=   3.3s\n",
            "[CV] activation_function=linear, init=zero ...........................\n",
            "[CV]  activation_function=linear, init=zero, score=0.829, total=   3.3s\n",
            "[CV] activation_function=linear, init=zero ...........................\n",
            "[CV]  activation_function=linear, init=zero, score=0.751, total=   3.8s\n",
            "[CV] activation_function=linear, init=zero ...........................\n",
            "[CV]  activation_function=linear, init=zero, score=0.647, total=   3.4s\n"
          ],
          "name": "stdout"
        },
        {
          "output_type": "stream",
          "text": [
            "[Parallel(n_jobs=1)]: Done  60 out of  60 | elapsed:  3.5min finished\n"
          ],
          "name": "stderr"
        }
      ]
    },
    {
      "cell_type": "code",
      "metadata": {
        "colab": {
          "base_uri": "https://localhost:8080/"
        },
        "id": "RVXmEOVJ40qj",
        "outputId": "963875c2-4474-4e57-b9f4-01216656c98c"
      },
      "source": [
        "# Summarize the results\n",
        "print('Best : {}, using {}'.format(grid_result.best_score_,grid_result.best_params_))\n",
        "means = grid_result.cv_results_['mean_test_score']\n",
        "stds = grid_result.cv_results_['std_test_score']\n",
        "params = grid_result.cv_results_['params']\n",
        "for mean, stdev, param in zip(means, stds, params):\n",
        "  print('{},{} with: {}'.format(mean, stdev, param))"
      ],
      "execution_count": null,
      "outputs": [
        {
          "output_type": "stream",
          "text": [
            "Best : 0.9975396037101746, using {'activation_function': 'tanh', 'init': 'normal'}\n",
            "0.9955449104309082,0.0012368243708372887 with: {'activation_function': 'softmax', 'init': 'uniform'}\n",
            "0.9946139812469482,0.0026795332835841167 with: {'activation_function': 'softmax', 'init': 'normal'}\n",
            "0.9952788591384888,0.0012513896725874472 with: {'activation_function': 'softmax', 'init': 'zero'}\n",
            "0.9971407294273377,0.0009310553099329507 with: {'activation_function': 'relu', 'init': 'uniform'}\n",
            "0.9970741868019104,0.0008518096302247438 with: {'activation_function': 'relu', 'init': 'normal'}\n",
            "0.7390058159828186,0.05940332234183723 with: {'activation_function': 'relu', 'init': 'zero'}\n",
            "0.9974731087684632,0.0011823645736258948 with: {'activation_function': 'tanh', 'init': 'uniform'}\n",
            "0.9975396037101746,0.0012371985508930674 with: {'activation_function': 'tanh', 'init': 'normal'}\n",
            "0.7390058159828186,0.05940332234183723 with: {'activation_function': 'tanh', 'init': 'zero'}\n",
            "0.9972071766853332,0.0009998674306711988 with: {'activation_function': 'linear', 'init': 'uniform'}\n",
            "0.997473132610321,0.0012008219888675921 with: {'activation_function': 'linear', 'init': 'normal'}\n",
            "0.7390058159828186,0.05940332234183723 with: {'activation_function': 'linear', 'init': 'zero'}\n"
          ],
          "name": "stdout"
        }
      ]
    },
    {
      "cell_type": "markdown",
      "metadata": {
        "id": "9nNzKOjz7kXj"
      },
      "source": [
        "Tuning of Hyperparameter :-Number of Neurons in activation layer"
      ]
    },
    {
      "cell_type": "code",
      "metadata": {
        "colab": {
          "base_uri": "https://localhost:8080/"
        },
        "id": "8JTGm4pn7h6Z",
        "outputId": "191083fe-8de0-492e-d44a-48a477983c2a"
      },
      "source": [
        "# Defining the model\n",
        "\n",
        "def create_model(neuron1,neuron2):\n",
        "    model = Sequential()\n",
        "    model.add(Dense(neuron1,input_dim = 7,kernel_initializer = 'uniform',activation = 'tanh'))\n",
        "    model.add(Dropout(0.1))\n",
        "    model.add(Dense(neuron2,input_dim = neuron1,kernel_initializer = 'uniform',activation = 'tanh'))\n",
        "    model.add(Dropout(0.1))\n",
        "    model.add(Dense(1,activation = 'tanh'))\n",
        "    \n",
        "    adam = Adam(lr = 0.001)\n",
        "    model.compile(loss = 'binary_crossentropy',optimizer = adam,metrics = ['accuracy'])\n",
        "    return model\n",
        "\n",
        "# Create the model\n",
        "\n",
        "model = KerasClassifier(build_fn = create_model,verbose = 0,batch_size = 40,epochs = 10)\n",
        "\n",
        "# Define the grid search parameters\n",
        "\n",
        "neuron1 = [4,8,16]\n",
        "neuron2 = [2,4,8]\n",
        "\n",
        "# Make a dictionary of the grid search parameters\n",
        "\n",
        "param_grids = dict(neuron1 = neuron1,neuron2 = neuron2)\n",
        "\n",
        "# Build and fit the GridSearchCV\n",
        "\n",
        "grid = GridSearchCV(estimator = model,param_grid = param_grids,cv = KFold(),verbose = 10)\n",
        "grid_result = grid.fit(X_standardized,yh)\n"
      ],
      "execution_count": null,
      "outputs": [
        {
          "output_type": "stream",
          "text": [
            "Fitting 5 folds for each of 9 candidates, totalling 45 fits\n",
            "[CV] neuron1=4, neuron2=2 ............................................\n"
          ],
          "name": "stdout"
        },
        {
          "output_type": "stream",
          "text": [
            "[Parallel(n_jobs=1)]: Using backend SequentialBackend with 1 concurrent workers.\n"
          ],
          "name": "stderr"
        },
        {
          "output_type": "stream",
          "text": [
            "[CV] ................ neuron1=4, neuron2=2, score=0.990, total=   3.5s\n",
            "[CV] neuron1=4, neuron2=2 ............................................\n"
          ],
          "name": "stdout"
        },
        {
          "output_type": "stream",
          "text": [
            "[Parallel(n_jobs=1)]: Done   1 out of   1 | elapsed:    3.5s remaining:    0.0s\n"
          ],
          "name": "stderr"
        },
        {
          "output_type": "stream",
          "text": [
            "[CV] ................ neuron1=4, neuron2=2, score=0.992, total=   3.5s\n",
            "[CV] neuron1=4, neuron2=2 ............................................\n"
          ],
          "name": "stdout"
        },
        {
          "output_type": "stream",
          "text": [
            "[Parallel(n_jobs=1)]: Done   2 out of   2 | elapsed:    7.0s remaining:    0.0s\n"
          ],
          "name": "stderr"
        },
        {
          "output_type": "stream",
          "text": [
            "[CV] ................ neuron1=4, neuron2=2, score=0.986, total=   3.5s\n",
            "[CV] neuron1=4, neuron2=2 ............................................\n"
          ],
          "name": "stdout"
        },
        {
          "output_type": "stream",
          "text": [
            "[Parallel(n_jobs=1)]: Done   3 out of   3 | elapsed:   10.5s remaining:    0.0s\n"
          ],
          "name": "stderr"
        },
        {
          "output_type": "stream",
          "text": [
            "[CV] ................ neuron1=4, neuron2=2, score=0.995, total=   3.5s\n",
            "[CV] neuron1=4, neuron2=2 ............................................\n"
          ],
          "name": "stdout"
        },
        {
          "output_type": "stream",
          "text": [
            "[Parallel(n_jobs=1)]: Done   4 out of   4 | elapsed:   14.0s remaining:    0.0s\n"
          ],
          "name": "stderr"
        },
        {
          "output_type": "stream",
          "text": [
            "[CV] ................ neuron1=4, neuron2=2, score=0.986, total=   3.5s\n",
            "[CV] neuron1=4, neuron2=4 ............................................\n"
          ],
          "name": "stdout"
        },
        {
          "output_type": "stream",
          "text": [
            "[Parallel(n_jobs=1)]: Done   5 out of   5 | elapsed:   17.5s remaining:    0.0s\n"
          ],
          "name": "stderr"
        },
        {
          "output_type": "stream",
          "text": [
            "[CV] ................ neuron1=4, neuron2=4, score=0.993, total=   3.4s\n",
            "[CV] neuron1=4, neuron2=4 ............................................\n"
          ],
          "name": "stdout"
        },
        {
          "output_type": "stream",
          "text": [
            "[Parallel(n_jobs=1)]: Done   6 out of   6 | elapsed:   20.9s remaining:    0.0s\n"
          ],
          "name": "stderr"
        },
        {
          "output_type": "stream",
          "text": [
            "[CV] ................ neuron1=4, neuron2=4, score=0.995, total=   3.4s\n",
            "[CV] neuron1=4, neuron2=4 ............................................\n"
          ],
          "name": "stdout"
        },
        {
          "output_type": "stream",
          "text": [
            "[Parallel(n_jobs=1)]: Done   7 out of   7 | elapsed:   24.3s remaining:    0.0s\n"
          ],
          "name": "stderr"
        },
        {
          "output_type": "stream",
          "text": [
            "[CV] ................ neuron1=4, neuron2=4, score=0.997, total=   3.8s\n",
            "[CV] neuron1=4, neuron2=4 ............................................\n"
          ],
          "name": "stdout"
        },
        {
          "output_type": "stream",
          "text": [
            "[Parallel(n_jobs=1)]: Done   8 out of   8 | elapsed:   28.1s remaining:    0.0s\n"
          ],
          "name": "stderr"
        },
        {
          "output_type": "stream",
          "text": [
            "[CV] ................ neuron1=4, neuron2=4, score=0.994, total=   3.4s\n",
            "[CV] neuron1=4, neuron2=4 ............................................\n"
          ],
          "name": "stdout"
        },
        {
          "output_type": "stream",
          "text": [
            "[Parallel(n_jobs=1)]: Done   9 out of   9 | elapsed:   31.6s remaining:    0.0s\n"
          ],
          "name": "stderr"
        },
        {
          "output_type": "stream",
          "text": [
            "[CV] ................ neuron1=4, neuron2=4, score=0.995, total=   3.5s\n",
            "[CV] neuron1=4, neuron2=8 ............................................\n",
            "[CV] ................ neuron1=4, neuron2=8, score=0.995, total=   3.4s\n",
            "[CV] neuron1=4, neuron2=8 ............................................\n",
            "[CV] ................ neuron1=4, neuron2=8, score=0.997, total=   3.4s\n",
            "[CV] neuron1=4, neuron2=8 ............................................\n",
            "[CV] ................ neuron1=4, neuron2=8, score=0.998, total=   3.4s\n",
            "[CV] neuron1=4, neuron2=8 ............................................\n",
            "[CV] ................ neuron1=4, neuron2=8, score=0.997, total=   3.4s\n",
            "[CV] neuron1=4, neuron2=8 ............................................\n",
            "[CV] ................ neuron1=4, neuron2=8, score=0.995, total=   3.4s\n",
            "[CV] neuron1=8, neuron2=2 ............................................\n",
            "[CV] ................ neuron1=8, neuron2=2, score=0.989, total=   3.4s\n",
            "[CV] neuron1=8, neuron2=2 ............................................\n",
            "[CV] ................ neuron1=8, neuron2=2, score=0.991, total=   3.8s\n",
            "[CV] neuron1=8, neuron2=2 ............................................\n",
            "[CV] ................ neuron1=8, neuron2=2, score=0.994, total=   3.4s\n",
            "[CV] neuron1=8, neuron2=2 ............................................\n",
            "[CV] ................ neuron1=8, neuron2=2, score=0.995, total=   3.4s\n",
            "[CV] neuron1=8, neuron2=2 ............................................\n",
            "[CV] ................ neuron1=8, neuron2=2, score=0.984, total=   3.4s\n",
            "[CV] neuron1=8, neuron2=4 ............................................\n",
            "[CV] ................ neuron1=8, neuron2=4, score=0.993, total=   3.5s\n",
            "[CV] neuron1=8, neuron2=4 ............................................\n",
            "[CV] ................ neuron1=8, neuron2=4, score=0.995, total=   3.4s\n",
            "[CV] neuron1=8, neuron2=4 ............................................\n",
            "[CV] ................ neuron1=8, neuron2=4, score=0.992, total=   3.5s\n",
            "[CV] neuron1=8, neuron2=4 ............................................\n",
            "[CV] ................ neuron1=8, neuron2=4, score=0.997, total=   3.4s\n",
            "[CV] neuron1=8, neuron2=4 ............................................\n",
            "[CV] ................ neuron1=8, neuron2=4, score=0.994, total=   3.5s\n",
            "[CV] neuron1=8, neuron2=8 ............................................\n",
            "[CV] ................ neuron1=8, neuron2=8, score=0.995, total=   3.8s\n",
            "[CV] neuron1=8, neuron2=8 ............................................\n",
            "[CV] ................ neuron1=8, neuron2=8, score=0.994, total=   3.5s\n",
            "[CV] neuron1=8, neuron2=8 ............................................\n",
            "[CV] ................ neuron1=8, neuron2=8, score=0.996, total=   3.4s\n",
            "[CV] neuron1=8, neuron2=8 ............................................\n",
            "[CV] ................ neuron1=8, neuron2=8, score=0.997, total=   3.5s\n",
            "[CV] neuron1=8, neuron2=8 ............................................\n",
            "[CV] ................ neuron1=8, neuron2=8, score=0.996, total=   3.4s\n",
            "[CV] neuron1=16, neuron2=2 ...........................................\n",
            "[CV] ............... neuron1=16, neuron2=2, score=0.992, total=   3.4s\n",
            "[CV] neuron1=16, neuron2=2 ...........................................\n",
            "[CV] ............... neuron1=16, neuron2=2, score=0.993, total=   3.5s\n",
            "[CV] neuron1=16, neuron2=2 ...........................................\n",
            "[CV] ............... neuron1=16, neuron2=2, score=0.996, total=   3.5s\n",
            "[CV] neuron1=16, neuron2=2 ...........................................\n",
            "[CV] ............... neuron1=16, neuron2=2, score=0.996, total=   3.4s\n",
            "[CV] neuron1=16, neuron2=2 ...........................................\n",
            "[CV] ............... neuron1=16, neuron2=2, score=0.993, total=   3.4s\n",
            "[CV] neuron1=16, neuron2=4 ...........................................\n",
            "[CV] ............... neuron1=16, neuron2=4, score=0.995, total=   3.9s\n",
            "[CV] neuron1=16, neuron2=4 ...........................................\n",
            "[CV] ............... neuron1=16, neuron2=4, score=0.997, total=   3.4s\n",
            "[CV] neuron1=16, neuron2=4 ...........................................\n",
            "[CV] ............... neuron1=16, neuron2=4, score=0.997, total=   3.5s\n",
            "[CV] neuron1=16, neuron2=4 ...........................................\n",
            "[CV] ............... neuron1=16, neuron2=4, score=0.997, total=   3.4s\n",
            "[CV] neuron1=16, neuron2=4 ...........................................\n",
            "[CV] ............... neuron1=16, neuron2=4, score=0.994, total=   3.4s\n",
            "[CV] neuron1=16, neuron2=8 ...........................................\n",
            "[CV] ............... neuron1=16, neuron2=8, score=0.992, total=   3.4s\n",
            "[CV] neuron1=16, neuron2=8 ...........................................\n",
            "[CV] ............... neuron1=16, neuron2=8, score=0.997, total=   3.5s\n",
            "[CV] neuron1=16, neuron2=8 ...........................................\n",
            "[CV] ............... neuron1=16, neuron2=8, score=0.998, total=   3.5s\n",
            "[CV] neuron1=16, neuron2=8 ...........................................\n",
            "[CV] ............... neuron1=16, neuron2=8, score=0.997, total=   3.4s\n",
            "[CV] neuron1=16, neuron2=8 ...........................................\n",
            "[CV] ............... neuron1=16, neuron2=8, score=0.994, total=   3.8s\n"
          ],
          "name": "stdout"
        },
        {
          "output_type": "stream",
          "text": [
            "[Parallel(n_jobs=1)]: Done  45 out of  45 | elapsed:  2.6min finished\n"
          ],
          "name": "stderr"
        }
      ]
    },
    {
      "cell_type": "code",
      "metadata": {
        "colab": {
          "base_uri": "https://localhost:8080/"
        },
        "id": "UcASqy0A7_le",
        "outputId": "631786be-7c98-439f-d3c7-9b88d7b29d12"
      },
      "source": [
        "# Summarize the results\n",
        "print('Best : {}, using {}'.format(grid_result.best_score_,grid_result.best_params_))\n",
        "means = grid_result.cv_results_['mean_test_score']\n",
        "stds = grid_result.cv_results_['std_test_score']\n",
        "params = grid_result.cv_results_['params']\n",
        "for mean, stdev, param in zip(means, stds, params):\n",
        "  print('{},{} with: {}'.format(mean, stdev, param))"
      ],
      "execution_count": null,
      "outputs": [
        {
          "output_type": "stream",
          "text": [
            "Best : 0.996409273147583, using {'neuron1': 4, 'neuron2': 8}\n",
            "0.9897596836090088,0.003503009476142888 with: {'neuron1': 4, 'neuron2': 2}\n",
            "0.9950129628181458,0.00131307045022848 with: {'neuron1': 4, 'neuron2': 4}\n",
            "0.996409273147583,0.0011008925143488834 with: {'neuron1': 4, 'neuron2': 8}\n",
            "0.9906904578208924,0.003974359975712753 with: {'neuron1': 8, 'neuron2': 2}\n",
            "0.9942815065383911,0.0015650348470861459 with: {'neuron1': 8, 'neuron2': 4}\n",
            "0.9955449342727661,0.0010428079203300643 with: {'neuron1': 8, 'neuron2': 8}\n",
            "0.9941484451293945,0.0018042022534286608 with: {'neuron1': 16, 'neuron2': 2}\n",
            "0.9958107829093933,0.0011052610341465304 with: {'neuron1': 16, 'neuron2': 4}\n",
            "0.9954783082008362,0.002231452419751069 with: {'neuron1': 16, 'neuron2': 8}\n"
          ],
          "name": "stdout"
        }
      ]
    },
    {
      "cell_type": "markdown",
      "metadata": {
        "id": "AnTvNKXj8EG2"
      },
      "source": [
        "#### Training model with optimum values of Hyperparameters"
      ]
    },
    {
      "cell_type": "code",
      "metadata": {
        "colab": {
          "base_uri": "https://localhost:8080/"
        },
        "id": "GNHrlzW38GEj",
        "outputId": "14472373-d6e9-4ba1-dd0f-e2eed6d1a2ad"
      },
      "source": [
        "from sklearn.metrics import classification_report, accuracy_score\n",
        "\n",
        "# Defining the model\n",
        "\n",
        "def create_model():\n",
        "    model = Sequential()\n",
        "    model.add(Dense(8,input_dim = 7,kernel_initializer = 'normal',activation = 'tanh'))\n",
        "    model.add(Dropout(0.1))\n",
        "    model.add(Dense(4,input_dim = 7,kernel_initializer = 'normal',activation = 'tanh'))\n",
        "    model.add(Dropout(0.1))\n",
        "    model.add(Dense(1,activation = 'tanh'))\n",
        "    \n",
        "    adam = Adam(lr = 0.001) #sgd = SGD(lr=learning_rate, momentum=momentum, decay=decay_rate, nesterov=False)\n",
        "    model.compile(loss ='mae',optimizer = adam,metrics = ['accuracy'])\n",
        "    return model\n",
        "\n",
        "# Create the model\n",
        "\n",
        "model = KerasClassifier(build_fn = create_model,verbose = 0,batch_size = 40,epochs = 20)\n",
        "\n",
        "# Fitting the model\n",
        "\n",
        "model.fit(X_standardized,yh)\n",
        "\n",
        "# Predicting using trained model\n",
        "\n",
        "y_predict = model.predict(X_standardized)\n",
        "\n",
        "# Printing the metrics\n",
        "print(accuracy_score(yh,y_predict))"
      ],
      "execution_count": null,
      "outputs": [
        {
          "output_type": "stream",
          "text": [
            "/usr/local/lib/python3.7/dist-packages/tensorflow/python/keras/engine/sequential.py:450: UserWarning: `model.predict_classes()` is deprecated and will be removed after 2021-01-01. Please use instead:* `np.argmax(model.predict(x), axis=-1)`,   if your model does multi-class classification   (e.g. if it uses a `softmax` last-layer activation).* `(model.predict(x) > 0.5).astype(\"int32\")`,   if your model does binary classification   (e.g. if it uses a `sigmoid` last-layer activation).\n",
            "  warnings.warn('`model.predict_classes()` is deprecated and '\n"
          ],
          "name": "stderr"
        },
        {
          "output_type": "stream",
          "text": [
            "0.9340381674313452\n"
          ],
          "name": "stdout"
        }
      ]
    },
    {
      "cell_type": "code",
      "metadata": {
        "id": "Oyd9dVvT9o_2"
      },
      "source": [
        "gas_turb[\"y\"]=yh\n",
        "gas_turb[\"y_pred\"]=y_predict"
      ],
      "execution_count": null,
      "outputs": []
    },
    {
      "cell_type": "code",
      "metadata": {
        "colab": {
          "base_uri": "https://localhost:8080/",
          "height": 399
        },
        "id": "JTiRIKyE-EV2",
        "outputId": "3686931c-744f-4691-ac4e-41292fdfd6c6"
      },
      "source": [
        "gas_turb"
      ],
      "execution_count": null,
      "outputs": [
        {
          "output_type": "execute_result",
          "data": {
            "text/html": [
              "<div>\n",
              "<style scoped>\n",
              "    .dataframe tbody tr th:only-of-type {\n",
              "        vertical-align: middle;\n",
              "    }\n",
              "\n",
              "    .dataframe tbody tr th {\n",
              "        vertical-align: top;\n",
              "    }\n",
              "\n",
              "    .dataframe thead th {\n",
              "        text-align: right;\n",
              "    }\n",
              "</style>\n",
              "<table border=\"1\" class=\"dataframe\">\n",
              "  <thead>\n",
              "    <tr style=\"text-align: right;\">\n",
              "      <th></th>\n",
              "      <th>AT</th>\n",
              "      <th>AP</th>\n",
              "      <th>AH</th>\n",
              "      <th>AFDP</th>\n",
              "      <th>GTEP</th>\n",
              "      <th>TIT</th>\n",
              "      <th>TAT</th>\n",
              "      <th>TEY</th>\n",
              "      <th>CDP</th>\n",
              "      <th>CO</th>\n",
              "      <th>NOX</th>\n",
              "      <th>class</th>\n",
              "      <th>y</th>\n",
              "      <th>y_pred</th>\n",
              "    </tr>\n",
              "  </thead>\n",
              "  <tbody>\n",
              "    <tr>\n",
              "      <th>0</th>\n",
              "      <td>6.8594</td>\n",
              "      <td>1007.9</td>\n",
              "      <td>96.799</td>\n",
              "      <td>3.5000</td>\n",
              "      <td>19.663</td>\n",
              "      <td>1059.2</td>\n",
              "      <td>550.00</td>\n",
              "      <td>114.70</td>\n",
              "      <td>10.605</td>\n",
              "      <td>3.1547</td>\n",
              "      <td>82.722</td>\n",
              "      <td>0</td>\n",
              "      <td>0</td>\n",
              "      <td>0</td>\n",
              "    </tr>\n",
              "    <tr>\n",
              "      <th>1</th>\n",
              "      <td>6.7850</td>\n",
              "      <td>1008.4</td>\n",
              "      <td>97.118</td>\n",
              "      <td>3.4998</td>\n",
              "      <td>19.728</td>\n",
              "      <td>1059.3</td>\n",
              "      <td>550.00</td>\n",
              "      <td>114.72</td>\n",
              "      <td>10.598</td>\n",
              "      <td>3.2363</td>\n",
              "      <td>82.776</td>\n",
              "      <td>0</td>\n",
              "      <td>0</td>\n",
              "      <td>0</td>\n",
              "    </tr>\n",
              "    <tr>\n",
              "      <th>2</th>\n",
              "      <td>6.8977</td>\n",
              "      <td>1008.8</td>\n",
              "      <td>95.939</td>\n",
              "      <td>3.4824</td>\n",
              "      <td>19.779</td>\n",
              "      <td>1059.4</td>\n",
              "      <td>549.87</td>\n",
              "      <td>114.71</td>\n",
              "      <td>10.601</td>\n",
              "      <td>3.2012</td>\n",
              "      <td>82.468</td>\n",
              "      <td>0</td>\n",
              "      <td>0</td>\n",
              "      <td>0</td>\n",
              "    </tr>\n",
              "    <tr>\n",
              "      <th>3</th>\n",
              "      <td>7.0569</td>\n",
              "      <td>1009.2</td>\n",
              "      <td>95.249</td>\n",
              "      <td>3.4805</td>\n",
              "      <td>19.792</td>\n",
              "      <td>1059.6</td>\n",
              "      <td>549.99</td>\n",
              "      <td>114.72</td>\n",
              "      <td>10.606</td>\n",
              "      <td>3.1923</td>\n",
              "      <td>82.670</td>\n",
              "      <td>0</td>\n",
              "      <td>0</td>\n",
              "      <td>0</td>\n",
              "    </tr>\n",
              "    <tr>\n",
              "      <th>4</th>\n",
              "      <td>7.3978</td>\n",
              "      <td>1009.7</td>\n",
              "      <td>95.150</td>\n",
              "      <td>3.4976</td>\n",
              "      <td>19.765</td>\n",
              "      <td>1059.7</td>\n",
              "      <td>549.98</td>\n",
              "      <td>114.72</td>\n",
              "      <td>10.612</td>\n",
              "      <td>3.2484</td>\n",
              "      <td>82.311</td>\n",
              "      <td>0</td>\n",
              "      <td>0</td>\n",
              "      <td>0</td>\n",
              "    </tr>\n",
              "    <tr>\n",
              "      <th>...</th>\n",
              "      <td>...</td>\n",
              "      <td>...</td>\n",
              "      <td>...</td>\n",
              "      <td>...</td>\n",
              "      <td>...</td>\n",
              "      <td>...</td>\n",
              "      <td>...</td>\n",
              "      <td>...</td>\n",
              "      <td>...</td>\n",
              "      <td>...</td>\n",
              "      <td>...</td>\n",
              "      <td>...</td>\n",
              "      <td>...</td>\n",
              "      <td>...</td>\n",
              "    </tr>\n",
              "    <tr>\n",
              "      <th>15034</th>\n",
              "      <td>9.0301</td>\n",
              "      <td>1005.6</td>\n",
              "      <td>98.460</td>\n",
              "      <td>3.5421</td>\n",
              "      <td>19.164</td>\n",
              "      <td>1049.7</td>\n",
              "      <td>546.21</td>\n",
              "      <td>111.61</td>\n",
              "      <td>10.400</td>\n",
              "      <td>4.5186</td>\n",
              "      <td>79.559</td>\n",
              "      <td>0</td>\n",
              "      <td>0</td>\n",
              "      <td>0</td>\n",
              "    </tr>\n",
              "    <tr>\n",
              "      <th>15035</th>\n",
              "      <td>7.8879</td>\n",
              "      <td>1005.9</td>\n",
              "      <td>99.093</td>\n",
              "      <td>3.5059</td>\n",
              "      <td>19.414</td>\n",
              "      <td>1046.3</td>\n",
              "      <td>543.22</td>\n",
              "      <td>111.78</td>\n",
              "      <td>10.433</td>\n",
              "      <td>4.8470</td>\n",
              "      <td>79.917</td>\n",
              "      <td>0</td>\n",
              "      <td>0</td>\n",
              "      <td>0</td>\n",
              "    </tr>\n",
              "    <tr>\n",
              "      <th>15036</th>\n",
              "      <td>7.2647</td>\n",
              "      <td>1006.3</td>\n",
              "      <td>99.496</td>\n",
              "      <td>3.4770</td>\n",
              "      <td>19.530</td>\n",
              "      <td>1037.7</td>\n",
              "      <td>537.32</td>\n",
              "      <td>110.19</td>\n",
              "      <td>10.483</td>\n",
              "      <td>7.9632</td>\n",
              "      <td>90.912</td>\n",
              "      <td>0</td>\n",
              "      <td>0</td>\n",
              "      <td>0</td>\n",
              "    </tr>\n",
              "    <tr>\n",
              "      <th>15037</th>\n",
              "      <td>7.0060</td>\n",
              "      <td>1006.8</td>\n",
              "      <td>99.008</td>\n",
              "      <td>3.4486</td>\n",
              "      <td>19.377</td>\n",
              "      <td>1043.2</td>\n",
              "      <td>541.24</td>\n",
              "      <td>110.74</td>\n",
              "      <td>10.533</td>\n",
              "      <td>6.2494</td>\n",
              "      <td>93.227</td>\n",
              "      <td>0</td>\n",
              "      <td>0</td>\n",
              "      <td>0</td>\n",
              "    </tr>\n",
              "    <tr>\n",
              "      <th>15038</th>\n",
              "      <td>6.9279</td>\n",
              "      <td>1007.2</td>\n",
              "      <td>97.533</td>\n",
              "      <td>3.4275</td>\n",
              "      <td>19.306</td>\n",
              "      <td>1049.9</td>\n",
              "      <td>545.85</td>\n",
              "      <td>111.58</td>\n",
              "      <td>10.583</td>\n",
              "      <td>4.9816</td>\n",
              "      <td>92.498</td>\n",
              "      <td>0</td>\n",
              "      <td>0</td>\n",
              "      <td>0</td>\n",
              "    </tr>\n",
              "  </tbody>\n",
              "</table>\n",
              "<p>15039 rows × 14 columns</p>\n",
              "</div>"
            ],
            "text/plain": [
              "           AT      AP      AH    AFDP    GTEP  ...      CO     NOX  class  y  y_pred\n",
              "0      6.8594  1007.9  96.799  3.5000  19.663  ...  3.1547  82.722      0  0       0\n",
              "1      6.7850  1008.4  97.118  3.4998  19.728  ...  3.2363  82.776      0  0       0\n",
              "2      6.8977  1008.8  95.939  3.4824  19.779  ...  3.2012  82.468      0  0       0\n",
              "3      7.0569  1009.2  95.249  3.4805  19.792  ...  3.1923  82.670      0  0       0\n",
              "4      7.3978  1009.7  95.150  3.4976  19.765  ...  3.2484  82.311      0  0       0\n",
              "...       ...     ...     ...     ...     ...  ...     ...     ...    ... ..     ...\n",
              "15034  9.0301  1005.6  98.460  3.5421  19.164  ...  4.5186  79.559      0  0       0\n",
              "15035  7.8879  1005.9  99.093  3.5059  19.414  ...  4.8470  79.917      0  0       0\n",
              "15036  7.2647  1006.3  99.496  3.4770  19.530  ...  7.9632  90.912      0  0       0\n",
              "15037  7.0060  1006.8  99.008  3.4486  19.377  ...  6.2494  93.227      0  0       0\n",
              "15038  6.9279  1007.2  97.533  3.4275  19.306  ...  4.9816  92.498      0  0       0\n",
              "\n",
              "[15039 rows x 14 columns]"
            ]
          },
          "metadata": {
            "tags": []
          },
          "execution_count": 145
        }
      ]
    }
  ]
}