{
  "nbformat": 4,
  "nbformat_minor": 0,
  "metadata": {
    "kernelspec": {
      "display_name": "Python 3",
      "language": "python",
      "name": "python3"
    },
    "language_info": {
      "codemirror_mode": {
        "name": "ipython",
        "version": 3
      },
      "file_extension": ".py",
      "mimetype": "text/x-python",
      "name": "python",
      "nbconvert_exporter": "python",
      "pygments_lexer": "ipython3",
      "version": "3.7.4"
    },
    "colab": {
      "name": "Coke  forecast .ipynb",
      "provenance": [],
      "collapsed_sections": []
    }
  },
  "cells": [
    {
      "cell_type": "code",
      "metadata": {
        "id": "u2aQvbTwP5P6"
      },
      "source": [
        ""
      ],
      "execution_count": null,
      "outputs": []
    },
    {
      "cell_type": "markdown",
      "metadata": {
        "id": "vas0lrIW8fe8"
      },
      "source": [
        "#### Line plot"
      ]
    },
    {
      "cell_type": "code",
      "metadata": {
        "id": "yHmqrlbd8fe-"
      },
      "source": [
        "# create a line plot\n",
        "from pandas import read_csv\n",
        "from matplotlib import pyplot\n",
        "import pandas as pd"
      ],
      "execution_count": null,
      "outputs": []
    },
    {
      "cell_type": "code",
      "metadata": {
        "colab": {
          "resources": {
            "http://localhost:8080/nbextensions/google.colab/files.js": {
              "data": "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",
              "ok": true,
              "headers": [
                [
                  "content-type",
                  "application/javascript"
                ]
              ],
              "status": 200,
              "status_text": ""
            }
          },
          "base_uri": "https://localhost:8080/",
          "height": 74
        },
        "id": "XMon_hEN80BH",
        "outputId": "d7b19332-f138-4ccf-c87d-d71c96df8f31"
      },
      "source": [
        "from google.colab import files\n",
        "uploaded=files.upload()"
      ],
      "execution_count": null,
      "outputs": [
        {
          "output_type": "display_data",
          "data": {
            "text/html": [
              "\n",
              "     <input type=\"file\" id=\"files-44d8843b-8ffb-42e4-ae07-e95be77a61b2\" name=\"files[]\" multiple disabled\n",
              "        style=\"border:none\" />\n",
              "     <output id=\"result-44d8843b-8ffb-42e4-ae07-e95be77a61b2\">\n",
              "      Upload widget is only available when the cell has been executed in the\n",
              "      current browser session. Please rerun this cell to enable.\n",
              "      </output>\n",
              "      <script src=\"/nbextensions/google.colab/files.js\"></script> "
            ],
            "text/plain": [
              "<IPython.core.display.HTML object>"
            ]
          },
          "metadata": {
            "tags": []
          }
        },
        {
          "output_type": "stream",
          "text": [
            "Saving coke.csv to coke (2).csv\n"
          ],
          "name": "stdout"
        }
      ]
    },
    {
      "cell_type": "code",
      "metadata": {
        "id": "VcF0Zxrg8fe-",
        "colab": {
          "base_uri": "https://localhost:8080/"
        },
        "outputId": "64f6ad6c-faf7-4077-ecf9-d3304535f8ad"
      },
      "source": [
        "series = read_csv('coke.csv')\n",
        "\n",
        "series[\"year\"]='19'+series[\"Quarter\"].str[-2:]\n",
        "series[\"qtr\"]=series[\"Quarter\"].str[1:2]\n",
        "series.head\n"
      ],
      "execution_count": null,
      "outputs": [
        {
          "output_type": "execute_result",
          "data": {
            "text/plain": [
              "<bound method NDFrame.head of    Quarter        Sales  year qtr\n",
              "0    Q1_86  1734.827000  1986   1\n",
              "1    Q2_86  2244.960999  1986   2\n",
              "2    Q3_86  2533.804993  1986   3\n",
              "3    Q4_86  2154.962997  1986   4\n",
              "4    Q1_87  1547.818996  1987   1\n",
              "5    Q2_87  2104.411995  1987   2\n",
              "6    Q3_87  2014.362999  1987   3\n",
              "7    Q4_87  1991.746998  1987   4\n",
              "8    Q1_88  1869.049999  1988   1\n",
              "9    Q2_88  2313.631996  1988   2\n",
              "10   Q3_88  2128.320000  1988   3\n",
              "11   Q4_88  2026.828999  1988   4\n",
              "12   Q1_89  1910.603996  1989   1\n",
              "13   Q2_89  2331.164993  1989   2\n",
              "14   Q3_89  2206.549995  1989   3\n",
              "15   Q4_89  2173.967995  1989   4\n",
              "16   Q1_90  2148.278000  1990   1\n",
              "17   Q2_90  2739.307999  1990   2\n",
              "18   Q3_90  2792.753998  1990   3\n",
              "19   Q4_90  2556.009995  1990   4\n",
              "20   Q1_91  2480.973999  1991   1\n",
              "21   Q2_91  3039.522995  1991   2\n",
              "22   Q3_91  3172.115997  1991   3\n",
              "23   Q4_91  2879.000999  1991   4\n",
              "24   Q1_92  2772.000000  1992   1\n",
              "25   Q2_92  3550.000000  1992   2\n",
              "26   Q3_92  3508.000000  1992   3\n",
              "27   Q4_92  3243.859993  1992   4\n",
              "28   Q1_93  3056.000000  1993   1\n",
              "29   Q2_93  3899.000000  1993   2\n",
              "30   Q3_93  3629.000000  1993   3\n",
              "31   Q4_93  3373.000000  1993   4\n",
              "32   Q1_94  3352.000000  1994   1\n",
              "33   Q2_94  4342.000000  1994   2\n",
              "34   Q3_94  4461.000000  1994   3\n",
              "35   Q4_94  4017.000000  1994   4\n",
              "36   Q1_95  3854.000000  1995   1\n",
              "37   Q2_95  4936.000000  1995   2\n",
              "38   Q3_95  4895.000000  1995   3\n",
              "39   Q4_95  4333.000000  1995   4\n",
              "40   Q1_96  4194.000000  1996   1\n",
              "41   Q2_96  5253.000000  1996   2>"
            ]
          },
          "metadata": {
            "tags": []
          },
          "execution_count": 68
        }
      ]
    },
    {
      "cell_type": "code",
      "metadata": {
        "id": "J6_Ie7iw5BoA"
      },
      "source": [
        "series[\"period\"]=pd.to_datetime(series['year'].astype(str) + 'Q' + series['qtr'].astype(str))"
      ],
      "execution_count": null,
      "outputs": []
    },
    {
      "cell_type": "code",
      "metadata": {
        "id": "rng_U2VZBg4t"
      },
      "source": [
        "coke1=series.copy()"
      ],
      "execution_count": null,
      "outputs": []
    },
    {
      "cell_type": "code",
      "metadata": {
        "id": "k1cDmsKtBuqV"
      },
      "source": [
        "coke1=coke1.drop(columns=\"Quarter\",axis=1)\n"
      ],
      "execution_count": null,
      "outputs": []
    },
    {
      "cell_type": "code",
      "metadata": {
        "id": "JDes7L-WD1dH"
      },
      "source": [
        "coke1=coke1.drop(columns=\"year\",axis=1)"
      ],
      "execution_count": null,
      "outputs": []
    },
    {
      "cell_type": "code",
      "metadata": {
        "id": "onkeoqDJD-hQ"
      },
      "source": [
        "coke1=coke1.drop(columns='qtr',axis=1)"
      ],
      "execution_count": null,
      "outputs": []
    },
    {
      "cell_type": "code",
      "metadata": {
        "id": "MQS-jDnRENEW"
      },
      "source": [
        "first_column = coke1.pop('period')\n",
        "coke1.insert(0, 'period', first_column)"
      ],
      "execution_count": null,
      "outputs": []
    },
    {
      "cell_type": "code",
      "metadata": {
        "colab": {
          "base_uri": "https://localhost:8080/",
          "height": 1000
        },
        "id": "Ouj0gxSkFPoo",
        "outputId": "9b382ddf-23d0-4afe-88ec-528f7bfaf030"
      },
      "source": [
        "coke1"
      ],
      "execution_count": null,
      "outputs": [
        {
          "output_type": "execute_result",
          "data": {
            "text/html": [
              "<div>\n",
              "<style scoped>\n",
              "    .dataframe tbody tr th:only-of-type {\n",
              "        vertical-align: middle;\n",
              "    }\n",
              "\n",
              "    .dataframe tbody tr th {\n",
              "        vertical-align: top;\n",
              "    }\n",
              "\n",
              "    .dataframe thead th {\n",
              "        text-align: right;\n",
              "    }\n",
              "</style>\n",
              "<table border=\"1\" class=\"dataframe\">\n",
              "  <thead>\n",
              "    <tr style=\"text-align: right;\">\n",
              "      <th></th>\n",
              "      <th>period</th>\n",
              "      <th>Sales</th>\n",
              "    </tr>\n",
              "  </thead>\n",
              "  <tbody>\n",
              "    <tr>\n",
              "      <th>0</th>\n",
              "      <td>1986-01-01</td>\n",
              "      <td>1734.827000</td>\n",
              "    </tr>\n",
              "    <tr>\n",
              "      <th>1</th>\n",
              "      <td>1986-04-01</td>\n",
              "      <td>2244.960999</td>\n",
              "    </tr>\n",
              "    <tr>\n",
              "      <th>2</th>\n",
              "      <td>1986-07-01</td>\n",
              "      <td>2533.804993</td>\n",
              "    </tr>\n",
              "    <tr>\n",
              "      <th>3</th>\n",
              "      <td>1986-10-01</td>\n",
              "      <td>2154.962997</td>\n",
              "    </tr>\n",
              "    <tr>\n",
              "      <th>4</th>\n",
              "      <td>1987-01-01</td>\n",
              "      <td>1547.818996</td>\n",
              "    </tr>\n",
              "    <tr>\n",
              "      <th>5</th>\n",
              "      <td>1987-04-01</td>\n",
              "      <td>2104.411995</td>\n",
              "    </tr>\n",
              "    <tr>\n",
              "      <th>6</th>\n",
              "      <td>1987-07-01</td>\n",
              "      <td>2014.362999</td>\n",
              "    </tr>\n",
              "    <tr>\n",
              "      <th>7</th>\n",
              "      <td>1987-10-01</td>\n",
              "      <td>1991.746998</td>\n",
              "    </tr>\n",
              "    <tr>\n",
              "      <th>8</th>\n",
              "      <td>1988-01-01</td>\n",
              "      <td>1869.049999</td>\n",
              "    </tr>\n",
              "    <tr>\n",
              "      <th>9</th>\n",
              "      <td>1988-04-01</td>\n",
              "      <td>2313.631996</td>\n",
              "    </tr>\n",
              "    <tr>\n",
              "      <th>10</th>\n",
              "      <td>1988-07-01</td>\n",
              "      <td>2128.320000</td>\n",
              "    </tr>\n",
              "    <tr>\n",
              "      <th>11</th>\n",
              "      <td>1988-10-01</td>\n",
              "      <td>2026.828999</td>\n",
              "    </tr>\n",
              "    <tr>\n",
              "      <th>12</th>\n",
              "      <td>1989-01-01</td>\n",
              "      <td>1910.603996</td>\n",
              "    </tr>\n",
              "    <tr>\n",
              "      <th>13</th>\n",
              "      <td>1989-04-01</td>\n",
              "      <td>2331.164993</td>\n",
              "    </tr>\n",
              "    <tr>\n",
              "      <th>14</th>\n",
              "      <td>1989-07-01</td>\n",
              "      <td>2206.549995</td>\n",
              "    </tr>\n",
              "    <tr>\n",
              "      <th>15</th>\n",
              "      <td>1989-10-01</td>\n",
              "      <td>2173.967995</td>\n",
              "    </tr>\n",
              "    <tr>\n",
              "      <th>16</th>\n",
              "      <td>1990-01-01</td>\n",
              "      <td>2148.278000</td>\n",
              "    </tr>\n",
              "    <tr>\n",
              "      <th>17</th>\n",
              "      <td>1990-04-01</td>\n",
              "      <td>2739.307999</td>\n",
              "    </tr>\n",
              "    <tr>\n",
              "      <th>18</th>\n",
              "      <td>1990-07-01</td>\n",
              "      <td>2792.753998</td>\n",
              "    </tr>\n",
              "    <tr>\n",
              "      <th>19</th>\n",
              "      <td>1990-10-01</td>\n",
              "      <td>2556.009995</td>\n",
              "    </tr>\n",
              "    <tr>\n",
              "      <th>20</th>\n",
              "      <td>1991-01-01</td>\n",
              "      <td>2480.973999</td>\n",
              "    </tr>\n",
              "    <tr>\n",
              "      <th>21</th>\n",
              "      <td>1991-04-01</td>\n",
              "      <td>3039.522995</td>\n",
              "    </tr>\n",
              "    <tr>\n",
              "      <th>22</th>\n",
              "      <td>1991-07-01</td>\n",
              "      <td>3172.115997</td>\n",
              "    </tr>\n",
              "    <tr>\n",
              "      <th>23</th>\n",
              "      <td>1991-10-01</td>\n",
              "      <td>2879.000999</td>\n",
              "    </tr>\n",
              "    <tr>\n",
              "      <th>24</th>\n",
              "      <td>1992-01-01</td>\n",
              "      <td>2772.000000</td>\n",
              "    </tr>\n",
              "    <tr>\n",
              "      <th>25</th>\n",
              "      <td>1992-04-01</td>\n",
              "      <td>3550.000000</td>\n",
              "    </tr>\n",
              "    <tr>\n",
              "      <th>26</th>\n",
              "      <td>1992-07-01</td>\n",
              "      <td>3508.000000</td>\n",
              "    </tr>\n",
              "    <tr>\n",
              "      <th>27</th>\n",
              "      <td>1992-10-01</td>\n",
              "      <td>3243.859993</td>\n",
              "    </tr>\n",
              "    <tr>\n",
              "      <th>28</th>\n",
              "      <td>1993-01-01</td>\n",
              "      <td>3056.000000</td>\n",
              "    </tr>\n",
              "    <tr>\n",
              "      <th>29</th>\n",
              "      <td>1993-04-01</td>\n",
              "      <td>3899.000000</td>\n",
              "    </tr>\n",
              "    <tr>\n",
              "      <th>30</th>\n",
              "      <td>1993-07-01</td>\n",
              "      <td>3629.000000</td>\n",
              "    </tr>\n",
              "    <tr>\n",
              "      <th>31</th>\n",
              "      <td>1993-10-01</td>\n",
              "      <td>3373.000000</td>\n",
              "    </tr>\n",
              "    <tr>\n",
              "      <th>32</th>\n",
              "      <td>1994-01-01</td>\n",
              "      <td>3352.000000</td>\n",
              "    </tr>\n",
              "    <tr>\n",
              "      <th>33</th>\n",
              "      <td>1994-04-01</td>\n",
              "      <td>4342.000000</td>\n",
              "    </tr>\n",
              "    <tr>\n",
              "      <th>34</th>\n",
              "      <td>1994-07-01</td>\n",
              "      <td>4461.000000</td>\n",
              "    </tr>\n",
              "    <tr>\n",
              "      <th>35</th>\n",
              "      <td>1994-10-01</td>\n",
              "      <td>4017.000000</td>\n",
              "    </tr>\n",
              "    <tr>\n",
              "      <th>36</th>\n",
              "      <td>1995-01-01</td>\n",
              "      <td>3854.000000</td>\n",
              "    </tr>\n",
              "    <tr>\n",
              "      <th>37</th>\n",
              "      <td>1995-04-01</td>\n",
              "      <td>4936.000000</td>\n",
              "    </tr>\n",
              "    <tr>\n",
              "      <th>38</th>\n",
              "      <td>1995-07-01</td>\n",
              "      <td>4895.000000</td>\n",
              "    </tr>\n",
              "    <tr>\n",
              "      <th>39</th>\n",
              "      <td>1995-10-01</td>\n",
              "      <td>4333.000000</td>\n",
              "    </tr>\n",
              "    <tr>\n",
              "      <th>40</th>\n",
              "      <td>1996-01-01</td>\n",
              "      <td>4194.000000</td>\n",
              "    </tr>\n",
              "    <tr>\n",
              "      <th>41</th>\n",
              "      <td>1996-04-01</td>\n",
              "      <td>5253.000000</td>\n",
              "    </tr>\n",
              "  </tbody>\n",
              "</table>\n",
              "</div>"
            ],
            "text/plain": [
              "       period        Sales\n",
              "0  1986-01-01  1734.827000\n",
              "1  1986-04-01  2244.960999\n",
              "2  1986-07-01  2533.804993\n",
              "3  1986-10-01  2154.962997\n",
              "4  1987-01-01  1547.818996\n",
              "5  1987-04-01  2104.411995\n",
              "6  1987-07-01  2014.362999\n",
              "7  1987-10-01  1991.746998\n",
              "8  1988-01-01  1869.049999\n",
              "9  1988-04-01  2313.631996\n",
              "10 1988-07-01  2128.320000\n",
              "11 1988-10-01  2026.828999\n",
              "12 1989-01-01  1910.603996\n",
              "13 1989-04-01  2331.164993\n",
              "14 1989-07-01  2206.549995\n",
              "15 1989-10-01  2173.967995\n",
              "16 1990-01-01  2148.278000\n",
              "17 1990-04-01  2739.307999\n",
              "18 1990-07-01  2792.753998\n",
              "19 1990-10-01  2556.009995\n",
              "20 1991-01-01  2480.973999\n",
              "21 1991-04-01  3039.522995\n",
              "22 1991-07-01  3172.115997\n",
              "23 1991-10-01  2879.000999\n",
              "24 1992-01-01  2772.000000\n",
              "25 1992-04-01  3550.000000\n",
              "26 1992-07-01  3508.000000\n",
              "27 1992-10-01  3243.859993\n",
              "28 1993-01-01  3056.000000\n",
              "29 1993-04-01  3899.000000\n",
              "30 1993-07-01  3629.000000\n",
              "31 1993-10-01  3373.000000\n",
              "32 1994-01-01  3352.000000\n",
              "33 1994-04-01  4342.000000\n",
              "34 1994-07-01  4461.000000\n",
              "35 1994-10-01  4017.000000\n",
              "36 1995-01-01  3854.000000\n",
              "37 1995-04-01  4936.000000\n",
              "38 1995-07-01  4895.000000\n",
              "39 1995-10-01  4333.000000\n",
              "40 1996-01-01  4194.000000\n",
              "41 1996-04-01  5253.000000"
            ]
          },
          "metadata": {
            "tags": []
          },
          "execution_count": 75
        }
      ]
    },
    {
      "cell_type": "markdown",
      "metadata": {
        "id": "SUkfQy4T8ffB"
      },
      "source": [
        "#### Histogram and Density Plots"
      ]
    },
    {
      "cell_type": "code",
      "metadata": {
        "id": "HezTfwJn8ffB"
      },
      "source": [
        "# create a histogram plot\n",
        "from pandas import read_csv\n",
        "from matplotlib import pyplot"
      ],
      "execution_count": null,
      "outputs": []
    },
    {
      "cell_type": "code",
      "metadata": {
        "id": "cyhPY1XC8ffB",
        "colab": {
          "base_uri": "https://localhost:8080/",
          "height": 281
        },
        "outputId": "dd7faabc-4ac7-4f18-d2fa-6b787d8f7a91"
      },
      "source": [
        "\n",
        "coke1.hist()\n",
        "pyplot.show()"
      ],
      "execution_count": null,
      "outputs": [
        {
          "output_type": "display_data",
          "data": {
            "image/png": "[encoded data removed]",
            "text/plain": [
              "<Figure size 432x288 with 1 Axes>"
            ]
          },
          "metadata": {
            "tags": [],
            "needs_background": "light"
          }
        }
      ]
    },
    {
      "cell_type": "code",
      "metadata": {
        "id": "FfBMBnDA8ffB",
        "colab": {
          "base_uri": "https://localhost:8080/",
          "height": 265
        },
        "outputId": "0d841f38-6718-4a3f-e378-7ddb9e8fdefe"
      },
      "source": [
        "# create a density plot\n",
        "from pandas import read_csv\n",
        "from matplotlib import pyplot\n",
        "\n",
        "coke1[\"Sales\"].plot(kind='kde')\n",
        "pyplot.show()"
      ],
      "execution_count": null,
      "outputs": [
        {
          "output_type": "display_data",
          "data": {
            "image/png": "[encoded data removed]",
            "text/plain": [
              "<Figure size 432x288 with 1 Axes>"
            ]
          },
          "metadata": {
            "tags": [],
            "needs_background": "light"
          }
        }
      ]
    },
    {
      "cell_type": "markdown",
      "metadata": {
        "id": "2f9CbKgn8ffD"
      },
      "source": [
        "#### Box and Whisker Plots by Interval"
      ]
    },
    {
      "cell_type": "code",
      "metadata": {
        "id": "y9AC0WMLmfMT"
      },
      "source": [
        "import pandas as pd\n",
        "import datetime\n"
      ],
      "execution_count": null,
      "outputs": []
    },
    {
      "cell_type": "code",
      "metadata": {
        "id": "tRjyzXD18ffD"
      },
      "source": [
        "# create a boxplot of yearly data\n",
        "from pandas import read_csv\n",
        "from pandas import DataFrame\n",
        "from pandas import Grouper\n",
        "from matplotlib import pyplot\n",
        "\n",
        "groups = coke1.groupby(Grouper(key='period',freq='Y')).mean()\n",
        "years = DataFrame()\n",
        "years=groups"
      ],
      "execution_count": null,
      "outputs": []
    },
    {
      "cell_type": "code",
      "metadata": {
        "colab": {
          "base_uri": "https://localhost:8080/"
        },
        "id": "8Yefu6KK5vmC",
        "outputId": "d60f1c1d-622a-45ce-d202-312a7274a8c7"
      },
      "source": [
        "years.shape"
      ],
      "execution_count": null,
      "outputs": [
        {
          "output_type": "execute_result",
          "data": {
            "text/plain": [
              "(11, 1)"
            ]
          },
          "metadata": {
            "tags": []
          },
          "execution_count": 81
        }
      ]
    },
    {
      "cell_type": "code",
      "metadata": {
        "colab": {
          "base_uri": "https://localhost:8080/",
          "height": 282
        },
        "id": "QondusMlohzY",
        "outputId": "69310acb-5245-4778-fedc-c8624a82165e"
      },
      "source": [
        "import seaborn as sns\n",
        "sns.boxplot(data=years)"
      ],
      "execution_count": null,
      "outputs": [
        {
          "output_type": "execute_result",
          "data": {
            "text/plain": [
              "<matplotlib.axes._subplots.AxesSubplot at 0x7f335996ce10>"
            ]
          },
          "metadata": {
            "tags": []
          },
          "execution_count": 82
        },
        {
          "output_type": "display_data",
          "data": {
            "image/png": "[encoded data removed]",
            "text/plain": [
              "<Figure size 432x288 with 1 Axes>"
            ]
          },
          "metadata": {
            "tags": [],
            "needs_background": "light"
          }
        }
      ]
    },
    {
      "cell_type": "code",
      "metadata": {
        "colab": {
          "base_uri": "https://localhost:8080/"
        },
        "id": "Fh0YPPHTyVzG",
        "outputId": "c0ceb36e-b991-4ca6-962a-bbfa933cc001"
      },
      "source": [
        "coke1.columns"
      ],
      "execution_count": null,
      "outputs": [
        {
          "output_type": "execute_result",
          "data": {
            "text/plain": [
              "Index(['period', 'Sales'], dtype='object')"
            ]
          },
          "metadata": {
            "tags": []
          },
          "execution_count": 83
        }
      ]
    },
    {
      "cell_type": "markdown",
      "metadata": {
        "id": "Z01gFxeo8ffD"
      },
      "source": [
        "#### Lag plot"
      ]
    },
    {
      "cell_type": "code",
      "metadata": {
        "id": "SuyOTlLe8ffD",
        "colab": {
          "base_uri": "https://localhost:8080/",
          "height": 279
        },
        "outputId": "55276f3b-4713-419f-d619-6a156cc1ae47"
      },
      "source": [
        "# create a scatter plot\n",
        "from pandas import read_csv\n",
        "from matplotlib import pyplot\n",
        "from pandas.plotting import lag_plot\n",
        "\n",
        "lag_plot(coke1[\"Sales\"])\n",
        "pyplot.show()"
      ],
      "execution_count": null,
      "outputs": [
        {
          "output_type": "display_data",
          "data": {
            "image/png": "[encoded data removed]",
            "text/plain": [
              "<Figure size 432x288 with 1 Axes>"
            ]
          },
          "metadata": {
            "tags": [],
            "needs_background": "light"
          }
        }
      ]
    },
    {
      "cell_type": "code",
      "metadata": {
        "id": "i1RrXyvO8ffD",
        "colab": {
          "base_uri": "https://localhost:8080/",
          "height": 281
        },
        "outputId": "cf8a5fa8-8b5f-4c39-a8c6-95cd15ad773d"
      },
      "source": [
        "# create an autocorrelation plot\n",
        "from pandas import read_csv\n",
        "from matplotlib import pyplot\n",
        "from statsmodels.graphics.tsaplots import plot_acf\n",
        "plot_acf(coke1[\"Sales\"],lags=30)\n",
        "pyplot.show()"
      ],
      "execution_count": null,
      "outputs": [
        {
          "output_type": "display_data",
          "data": {
            "image/png": "[encoded data removed]",
            "text/plain": [
              "<Figure size 432x288 with 1 Axes>"
            ]
          },
          "metadata": {
            "tags": [],
            "needs_background": "light"
          }
        }
      ]
    },
    {
      "cell_type": "code",
      "metadata": {
        "id": "QRwjAvgD8ffG",
        "colab": {
          "base_uri": "https://localhost:8080/"
        },
        "outputId": "2bb54e35-e13b-4434-9302-45686e1b4547"
      },
      "source": [
        "upsampled = groups.resample('M').mean()\n",
        "print(upsampled)"
      ],
      "execution_count": null,
      "outputs": [
        {
          "output_type": "stream",
          "text": [
            "                  Sales\n",
            "period                 \n",
            "1986-12-31  2167.138997\n",
            "1987-01-31          NaN\n",
            "1987-02-28          NaN\n",
            "1987-03-31          NaN\n",
            "1987-04-30          NaN\n",
            "...                 ...\n",
            "1996-08-31          NaN\n",
            "1996-09-30          NaN\n",
            "1996-10-31          NaN\n",
            "1996-11-30          NaN\n",
            "1996-12-31  4723.500000\n",
            "\n",
            "[121 rows x 1 columns]\n"
          ],
          "name": "stdout"
        }
      ]
    },
    {
      "cell_type": "markdown",
      "metadata": {
        "id": "YKPI2qiN7xux"
      },
      "source": [
        "##### interpolate the missing value"
      ]
    },
    {
      "cell_type": "code",
      "metadata": {
        "colab": {
          "base_uri": "https://localhost:8080/",
          "height": 878
        },
        "id": "fQwHdSXyNFiG",
        "outputId": "bb61c7eb-d873-446f-e7fe-de788420c345"
      },
      "source": [
        "interpolated = upsampled.interpolate(method='linear')\n",
        "print(interpolated.head(32))\n",
        "interpolated.plot()\n",
        "pyplot.show()"
      ],
      "execution_count": null,
      "outputs": [
        {
          "output_type": "stream",
          "text": [
            "                  Sales\n",
            "period                 \n",
            "1986-12-31  2167.138997\n",
            "1987-01-31  2146.092851\n",
            "1987-02-28  2125.046705\n",
            "1987-03-31  2104.000560\n",
            "1987-04-30  2082.954414\n",
            "1987-05-31  2061.908268\n",
            "1987-06-30  2040.862122\n",
            "1987-07-31  2019.815976\n",
            "1987-08-31  1998.769830\n",
            "1987-09-30  1977.723685\n",
            "1987-10-31  1956.677539\n",
            "1987-11-30  1935.631393\n",
            "1987-12-31  1914.585247\n",
            "1988-01-31  1928.741289\n",
            "1988-02-29  1942.897331\n",
            "1988-03-31  1957.053372\n",
            "1988-04-30  1971.209414\n",
            "1988-05-31  1985.365456\n",
            "1988-06-30  1999.521498\n",
            "1988-07-31  2013.677540\n",
            "1988-08-31  2027.833581\n",
            "1988-09-30  2041.989623\n",
            "1988-10-31  2056.145665\n",
            "1988-11-30  2070.301707\n",
            "1988-12-31  2084.457748\n",
            "1989-01-31  2090.383915\n",
            "1989-02-28  2096.310081\n",
            "1989-03-31  2102.236248\n",
            "1989-04-30  2108.162414\n",
            "1989-05-31  2114.088580\n",
            "1989-06-30  2120.014747\n",
            "1989-07-31  2125.940913\n"
          ],
          "name": "stdout"
        },
        {
          "output_type": "display_data",
          "data": {
            "image/png": "[encoded data removed]",
            "text/plain": [
              "<Figure size 432x288 with 1 Axes>"
            ]
          },
          "metadata": {
            "tags": [],
            "needs_background": "light"
          }
        }
      ]
    },
    {
      "cell_type": "markdown",
      "metadata": {
        "id": "n74zKFj__vWz"
      },
      "source": [
        "#### Downsampling Data"
      ]
    },
    {
      "cell_type": "code",
      "metadata": {
        "colab": {
          "base_uri": "https://localhost:8080/"
        },
        "id": "qmp_oqvk_wxZ",
        "outputId": "08b58917-28f5-4251-c6b6-2f7e65c3f501"
      },
      "source": [
        "# downsample to quarterly intervals\n",
        "from pandas import read_csv\n",
        "from pandas import datetime\n",
        "from matplotlib import pyplot"
      ],
      "execution_count": null,
      "outputs": [
        {
          "output_type": "stream",
          "text": [
            "/usr/local/lib/python3.7/dist-packages/ipykernel_launcher.py:3: FutureWarning: The pandas.datetime class is deprecated and will be removed from pandas in a future version. Import from datetime module instead.\n",
            "  This is separate from the ipykernel package so we can avoid doing imports until\n"
          ],
          "name": "stderr"
        }
      ]
    },
    {
      "cell_type": "code",
      "metadata": {
        "id": "twe3Xu-8_5F8"
      },
      "source": [
        "resample = groups.resample('Q')\n",
        "quarterly_mean_sales = resample.mean()"
      ],
      "execution_count": null,
      "outputs": []
    },
    {
      "cell_type": "code",
      "metadata": {
        "colab": {
          "base_uri": "https://localhost:8080/",
          "height": 225
        },
        "id": "eQ537faLAKay",
        "outputId": "f4c92ac4-ffb4-4d9c-e82b-e08a08eeb251"
      },
      "source": [
        "quarterly_mean_sales.head()"
      ],
      "execution_count": null,
      "outputs": [
        {
          "output_type": "execute_result",
          "data": {
            "text/html": [
              "<div>\n",
              "<style scoped>\n",
              "    .dataframe tbody tr th:only-of-type {\n",
              "        vertical-align: middle;\n",
              "    }\n",
              "\n",
              "    .dataframe tbody tr th {\n",
              "        vertical-align: top;\n",
              "    }\n",
              "\n",
              "    .dataframe thead th {\n",
              "        text-align: right;\n",
              "    }\n",
              "</style>\n",
              "<table border=\"1\" class=\"dataframe\">\n",
              "  <thead>\n",
              "    <tr style=\"text-align: right;\">\n",
              "      <th></th>\n",
              "      <th>Sales</th>\n",
              "    </tr>\n",
              "    <tr>\n",
              "      <th>period</th>\n",
              "      <th></th>\n",
              "    </tr>\n",
              "  </thead>\n",
              "  <tbody>\n",
              "    <tr>\n",
              "      <th>1986-12-31</th>\n",
              "      <td>2167.138997</td>\n",
              "    </tr>\n",
              "    <tr>\n",
              "      <th>1987-03-31</th>\n",
              "      <td>NaN</td>\n",
              "    </tr>\n",
              "    <tr>\n",
              "      <th>1987-06-30</th>\n",
              "      <td>NaN</td>\n",
              "    </tr>\n",
              "    <tr>\n",
              "      <th>1987-09-30</th>\n",
              "      <td>NaN</td>\n",
              "    </tr>\n",
              "    <tr>\n",
              "      <th>1987-12-31</th>\n",
              "      <td>1914.585247</td>\n",
              "    </tr>\n",
              "  </tbody>\n",
              "</table>\n",
              "</div>"
            ],
            "text/plain": [
              "                  Sales\n",
              "period                 \n",
              "1986-12-31  2167.138997\n",
              "1987-03-31          NaN\n",
              "1987-06-30          NaN\n",
              "1987-09-30          NaN\n",
              "1987-12-31  1914.585247"
            ]
          },
          "metadata": {
            "tags": []
          },
          "execution_count": 90
        }
      ]
    },
    {
      "cell_type": "markdown",
      "metadata": {
        "id": "-sdH2_njA736"
      },
      "source": [
        "# Tranformations"
      ]
    },
    {
      "cell_type": "code",
      "metadata": {
        "id": "OJH9mrXTA9Jx"
      },
      "source": [
        "# load and plot a time series\n",
        "from pandas import read_csv\n",
        "from matplotlib import pyplot"
      ],
      "execution_count": null,
      "outputs": []
    },
    {
      "cell_type": "code",
      "metadata": {
        "colab": {
          "base_uri": "https://localhost:8080/"
        },
        "id": "dwBadPSdEoxv",
        "outputId": "a0523745-aba7-4095-ecc9-b325f216f162"
      },
      "source": [
        "coke1.dtypes"
      ],
      "execution_count": null,
      "outputs": [
        {
          "output_type": "execute_result",
          "data": {
            "text/plain": [
              "period    datetime64[ns]\n",
              "Sales            float64\n",
              "dtype: object"
            ]
          },
          "metadata": {
            "tags": []
          },
          "execution_count": 92
        }
      ]
    },
    {
      "cell_type": "code",
      "metadata": {
        "colab": {
          "base_uri": "https://localhost:8080/",
          "height": 282
        },
        "id": "_fCG1S35A4Ag",
        "outputId": "02d292ab-de26-4d35-e49d-48fcc886fe14"
      },
      "source": [
        "# line plot\n",
        "pyplot.subplot()\n",
        "pyplot.plot('period','Sales',data=coke1)\n"
      ],
      "execution_count": null,
      "outputs": [
        {
          "output_type": "execute_result",
          "data": {
            "text/plain": [
              "[<matplotlib.lines.Line2D at 0x7f3357457a50>]"
            ]
          },
          "metadata": {
            "tags": []
          },
          "execution_count": 93
        },
        {
          "output_type": "display_data",
          "data": {
            "image/png": "[encoded data removed]",
            "text/plain": [
              "<Figure size 432x288 with 1 Axes>"
            ]
          },
          "metadata": {
            "tags": [],
            "needs_background": "light"
          }
        }
      ]
    },
    {
      "cell_type": "code",
      "metadata": {
        "colab": {
          "base_uri": "https://localhost:8080/",
          "height": 147
        },
        "id": "Am1L65SaFz_v",
        "outputId": "c3ebfabf-ac1f-4134-cb80-b7305db9b8a6"
      },
      "source": [
        "# histogram\n",
        "pyplot.subplot(212)\n",
        "pyplot.hist('Sales',data=coke1)\n",
        "pyplot.show()"
      ],
      "execution_count": null,
      "outputs": [
        {
          "output_type": "display_data",
          "data": {
            "image/png": "[encoded data removed]",
            "text/plain": [
              "<Figure size 432x288 with 1 Axes>"
            ]
          },
          "metadata": {
            "tags": [],
            "needs_background": "light"
          }
        }
      ]
    },
    {
      "cell_type": "markdown",
      "metadata": {
        "id": "1X_olN3OGtmP"
      },
      "source": [
        "#### Square Root Transform"
      ]
    },
    {
      "cell_type": "code",
      "metadata": {
        "id": "xqJ3OH_TGuob"
      },
      "source": [
        "from pandas import read_csv\n",
        "from pandas import DataFrame\n",
        "from numpy import sqrt\n",
        "from matplotlib import pyplot"
      ],
      "execution_count": null,
      "outputs": []
    },
    {
      "cell_type": "code",
      "metadata": {
        "colab": {
          "base_uri": "https://localhost:8080/",
          "height": 265
        },
        "id": "0kUj64uWK8CY",
        "outputId": "638fe67b-ae71-48d8-da3e-6db9fe58d8c1"
      },
      "source": [
        "# line plot\n",
        "pyplot.subplot(211)\n",
        "pyplot.plot(sqrt(coke1[\"Sales\"]))\n",
        "# histogram\n",
        "pyplot.subplot(212)\n",
        "pyplot.hist(sqrt(coke1[\"Sales\"]))\n",
        "pyplot.show()"
      ],
      "execution_count": null,
      "outputs": [
        {
          "output_type": "display_data",
          "data": {
            "image/png": "[encoded data removed]",
            "text/plain": [
              "<Figure size 432x288 with 2 Axes>"
            ]
          },
          "metadata": {
            "tags": [],
            "needs_background": "light"
          }
        }
      ]
    },
    {
      "cell_type": "markdown",
      "metadata": {
        "id": "s65Ire1-Lk6y"
      },
      "source": [
        "#### Log Transform"
      ]
    },
    {
      "cell_type": "code",
      "metadata": {
        "colab": {
          "base_uri": "https://localhost:8080/",
          "height": 165
        },
        "id": "bUDxE8mXLjGO",
        "outputId": "e17797a4-756b-48d6-e183-c393a63e0680"
      },
      "source": [
        "from numpy import log\n",
        "\n",
        "\n",
        "# line plot\n",
        "pyplot.subplot(211)\n",
        "pyplot.plot(log(coke1['Sales']))\n",
        "\n"
      ],
      "execution_count": null,
      "outputs": [
        {
          "output_type": "execute_result",
          "data": {
            "text/plain": [
              "[<matplotlib.lines.Line2D at 0x7f3357261310>]"
            ]
          },
          "metadata": {
            "tags": []
          },
          "execution_count": 97
        },
        {
          "output_type": "display_data",
          "data": {
            "image/png": "[encoded data removed]",
            "text/plain": [
              "<Figure size 432x288 with 1 Axes>"
            ]
          },
          "metadata": {
            "tags": [],
            "needs_background": "light"
          }
        }
      ]
    },
    {
      "cell_type": "code",
      "metadata": {
        "colab": {
          "base_uri": "https://localhost:8080/",
          "height": 147
        },
        "id": "RWMTi339U2tL",
        "outputId": "a801f332-f048-47b0-c70c-7213e20a3061"
      },
      "source": [
        "pyplot.subplot(212)\n",
        "pyplot.hist(log(coke1['Sales']))\n",
        "pyplot.show()"
      ],
      "execution_count": null,
      "outputs": [
        {
          "output_type": "display_data",
          "data": {
            "image/png": "[encoded data removed]",
            "text/plain": [
              "<Figure size 432x288 with 1 Axes>"
            ]
          },
          "metadata": {
            "tags": [],
            "needs_background": "light"
          }
        }
      ]
    },
    {
      "cell_type": "code",
      "metadata": {
        "colab": {
          "base_uri": "https://localhost:8080/",
          "height": 402
        },
        "id": "gVEThur5M2-l",
        "outputId": "e8cf858d-47a7-4819-b2b4-6287ac05e999"
      },
      "source": [
        "print(quarterly_mean_sales.head())\n",
        "quarterly_mean_sales.plot()\n",
        "pyplot.show()"
      ],
      "execution_count": null,
      "outputs": [
        {
          "output_type": "stream",
          "text": [
            "                  Sales\n",
            "period                 \n",
            "1986-12-31  2167.138997\n",
            "1987-03-31          NaN\n",
            "1987-06-30          NaN\n",
            "1987-09-30          NaN\n",
            "1987-12-31  1914.585247\n"
          ],
          "name": "stdout"
        },
        {
          "output_type": "display_data",
          "data": {
            "image/png": "[encoded data removed]",
            "text/plain": [
              "<Figure size 432x288 with 1 Axes>"
            ]
          },
          "metadata": {
            "tags": [],
            "needs_background": "light"
          }
        }
      ]
    },
    {
      "cell_type": "markdown",
      "metadata": {
        "id": "qYhyDv-rPWNt"
      },
      "source": [
        "Forecasting - Data driven"
      ]
    },
    {
      "cell_type": "code",
      "metadata": {
        "id": "OL6b6gvOPZ0j"
      },
      "source": [
        "import pandas as pd\n",
        "import numpy as np\n",
        "import matplotlib.pyplot as plt\n",
        "import seaborn as sns\n",
        "from statsmodels.tsa.seasonal import seasonal_decompose\n",
        "from statsmodels.tsa.holtwinters import SimpleExpSmoothing # SES\n",
        "from statsmodels.tsa.holtwinters import Holt # Holts Exponential Smoothing\n",
        "from statsmodels.tsa.holtwinters import ExponentialSmoothing "
      ],
      "execution_count": null,
      "outputs": []
    },
    {
      "cell_type": "code",
      "metadata": {
        "colab": {
          "base_uri": "https://localhost:8080/",
          "height": 282
        },
        "id": "pjUrK0XsPhck",
        "outputId": "0811bdaf-db69-4ba3-d28f-1017775b33c3"
      },
      "source": [
        "coke1.Sales.plot()"
      ],
      "execution_count": null,
      "outputs": [
        {
          "output_type": "execute_result",
          "data": {
            "text/plain": [
              "<matplotlib.axes._subplots.AxesSubplot at 0x7f335716bf50>"
            ]
          },
          "metadata": {
            "tags": []
          },
          "execution_count": 100
        },
        {
          "output_type": "display_data",
          "data": {
            "image/png": "[encoded data removed]",
            "text/plain": [
              "<Figure size 432x288 with 1 Axes>"
            ]
          },
          "metadata": {
            "tags": [],
            "needs_background": "light"
          }
        }
      ]
    },
    {
      "cell_type": "markdown",
      "metadata": {
        "id": "Tz7WjDyfPyUn"
      },
      "source": [
        "\n",
        "\n",
        "##Splitting data"
      ]
    },
    {
      "cell_type": "code",
      "metadata": {
        "colab": {
          "base_uri": "https://localhost:8080/"
        },
        "id": "smfwi5CGQEf0",
        "outputId": "99685a17-185f-4590-8a8b-02b73ac00b59"
      },
      "source": [
        "coke1.shape"
      ],
      "execution_count": null,
      "outputs": [
        {
          "output_type": "execute_result",
          "data": {
            "text/plain": [
              "(42, 2)"
            ]
          },
          "metadata": {
            "tags": []
          },
          "execution_count": 101
        }
      ]
    },
    {
      "cell_type": "code",
      "metadata": {
        "id": "zPb74HTFPr47"
      },
      "source": [
        "Train = coke1.head(30)\n",
        "Test = coke1.tail(12)"
      ],
      "execution_count": null,
      "outputs": []
    },
    {
      "cell_type": "markdown",
      "metadata": {
        "id": "eFyKsjEIQTXa"
      },
      "source": [
        "# Moving Average "
      ]
    },
    {
      "cell_type": "code",
      "metadata": {
        "colab": {
          "base_uri": "https://localhost:8080/",
          "height": 282
        },
        "id": "-zxUhlBrPsB6",
        "outputId": "e2e62f86-df25-406a-9bed-db8c858b2cfe"
      },
      "source": [
        "plt.figure(figsize=(12,4))\n",
        "coke.Sales.plot(label=\"org\")\n",
        "for i in range(2,24,6):\n",
        "    coke1[\"Sales\"].rolling(i).mean().plot(label=str(i))\n",
        "plt.legend(loc='best')"
      ],
      "execution_count": null,
      "outputs": [
        {
          "output_type": "execute_result",
          "data": {
            "text/plain": [
              "<matplotlib.legend.Legend at 0x7f3357270790>"
            ]
          },
          "metadata": {
            "tags": []
          },
          "execution_count": 103
        },
        {
          "output_type": "display_data",
          "data": {
            "image/png": "[encoded data removed]",
            "text/plain": [
              "<Figure size 864x288 with 1 Axes>"
            ]
          },
          "metadata": {
            "tags": [],
            "needs_background": "light"
          }
        }
      ]
    },
    {
      "cell_type": "markdown",
      "metadata": {
        "id": "0nvfXTc0OiBm"
      },
      "source": [
        "# Time series decomposition plot \n"
      ]
    },
    {
      "cell_type": "code",
      "metadata": {
        "colab": {
          "base_uri": "https://localhost:8080/"
        },
        "id": "fwoHj44XSEJu",
        "outputId": "bd23e4ce-51d1-4624-ab97-1d44152528fd"
      },
      "source": [
        "coke1.dtypes"
      ],
      "execution_count": null,
      "outputs": [
        {
          "output_type": "execute_result",
          "data": {
            "text/plain": [
              "period    datetime64[ns]\n",
              "Sales            float64\n",
              "dtype: object"
            ]
          },
          "metadata": {
            "tags": []
          },
          "execution_count": 104
        }
      ]
    },
    {
      "cell_type": "code",
      "metadata": {
        "id": "2El4aeuFXVKd"
      },
      "source": [
        "from statsmodels.tsa.seasonal import seasonal_decompose\n"
      ],
      "execution_count": null,
      "outputs": []
    },
    {
      "cell_type": "code",
      "metadata": {
        "id": "SJwGTjS-OiBm",
        "colab": {
          "base_uri": "https://localhost:8080/",
          "height": 297
        },
        "outputId": "28173a25-b2a9-48cc-f4e7-57f5eabcb496"
      },
      "source": [
        "decompose_ts_add = seasonal_decompose(coke1.Sales,freq = True)\n",
        "decompose_ts_add.plot()\n",
        "plt.show()\n"
      ],
      "execution_count": null,
      "outputs": [
        {
          "output_type": "display_data",
          "data": {
            "image/png": "[encoded data removed]",
            "text/plain": [
              "<Figure size 432x288 with 4 Axes>"
            ]
          },
          "metadata": {
            "tags": [],
            "needs_background": "light"
          }
        }
      ]
    },
    {
      "cell_type": "markdown",
      "metadata": {
        "id": "ko9DSi_0OiBm"
      },
      "source": [
        "# ACF plots and PACF plots\n"
      ]
    },
    {
      "cell_type": "code",
      "metadata": {
        "id": "2_9ngXGwOiBm",
        "colab": {
          "base_uri": "https://localhost:8080/",
          "height": 545
        },
        "outputId": "61a4ecfb-2556-478d-fa50-6a2a3fc2dd2c"
      },
      "source": [
        "import statsmodels.graphics.tsaplots as tsa_plots\n",
        "tsa_plots.plot_acf(coke1.Sales,lags=12)\n",
        "tsa_plots.plot_pacf(coke1.Sales,lags=12)\n",
        "plt.show()\n"
      ],
      "execution_count": null,
      "outputs": [
        {
          "output_type": "display_data",
          "data": {
            "image/png": "[encoded data removed]",
            "text/plain": [
              "<Figure size 432x288 with 1 Axes>"
            ]
          },
          "metadata": {
            "tags": [],
            "needs_background": "light"
          }
        },
        {
          "output_type": "display_data",
          "data": {
            "image/png": "[encoded data removed]",
            "text/plain": [
              "<Figure size 432x288 with 1 Axes>"
            ]
          },
          "metadata": {
            "tags": [],
            "needs_background": "light"
          }
        }
      ]
    },
    {
      "cell_type": "markdown",
      "metadata": {
        "id": "zzOBwEB0sOWX"
      },
      "source": [
        "Evaluation Metric MAPE"
      ]
    },
    {
      "cell_type": "markdown",
      "metadata": {
        "id": "A_dNT5l2sZFX"
      },
      "source": [
        "Simple Exponential Method"
      ]
    },
    {
      "cell_type": "code",
      "metadata": {
        "id": "rISLSWheMxSd"
      },
      "source": [
        "def MAPE(pred,org):\n",
        "    temp = np.abs((pred-org)/org)*100\n",
        "    return np.mean(temp)"
      ],
      "execution_count": null,
      "outputs": []
    },
    {
      "cell_type": "code",
      "metadata": {
        "colab": {
          "base_uri": "https://localhost:8080/"
        },
        "id": "Son9fb89PseH",
        "outputId": "d13a6dfb-a94d-43db-87b9-0109514ae101"
      },
      "source": [
        "ses_model = SimpleExpSmoothing(Train[\"Sales\"]).fit(smoothing_level=0.2)\n",
        "pred_ses = ses_model.predict(start = Test.index[0],end = Test.index[-1])\n",
        "MAPE(pred_ses,Test.Sales) "
      ],
      "execution_count": null,
      "outputs": [
        {
          "output_type": "execute_result",
          "data": {
            "text/plain": [
              "22.046761695405966"
            ]
          },
          "metadata": {
            "tags": []
          },
          "execution_count": 109
        }
      ]
    },
    {
      "cell_type": "markdown",
      "metadata": {
        "id": "KwkvhffztSEq"
      },
      "source": [
        "### Holt method "
      ]
    },
    {
      "cell_type": "code",
      "metadata": {
        "colab": {
          "base_uri": "https://localhost:8080/"
        },
        "id": "Q2jhNJ9fPsi9",
        "outputId": "34f85eae-025b-4fb3-c692-f31021651c3c"
      },
      "source": [
        "# Holt method \n",
        "hw_model = Holt(Train[\"Sales\"]).fit(smoothing_level=0.8, smoothing_slope=0.2)\n",
        "pred_hw = hw_model.predict(start = Test.index[0],end = Test.index[-1])\n",
        "MAPE(pred_hw,Test.Sales) "
      ],
      "execution_count": null,
      "outputs": [
        {
          "output_type": "execute_result",
          "data": {
            "text/plain": [
              "11.213841510532538"
            ]
          },
          "metadata": {
            "tags": []
          },
          "execution_count": 110
        }
      ]
    },
    {
      "cell_type": "markdown",
      "metadata": {
        "id": "iBFVhYn7uYjF"
      },
      "source": [
        "Holts winter exponential smoothing with additive seasonality and additive trend"
      ]
    },
    {
      "cell_type": "code",
      "metadata": {
        "colab": {
          "base_uri": "https://localhost:8080/"
        },
        "id": "YryDPTrCPsl2",
        "outputId": "de2683d4-e643-40a8-82a3-9ace2f10d7c5"
      },
      "source": [
        "hwe_model_add_add = ExponentialSmoothing(Train[\"Sales\"],seasonal=\"add\",trend=\"add\",seasonal_periods=12).fit() #add the trend to the model\n",
        "pred_hwe_add_add = hwe_model_add_add.predict(start = Test.index[0],end = Test.index[-1])\n",
        "MAPE(pred_hwe_add_add,Test.Sales) "
      ],
      "execution_count": null,
      "outputs": [
        {
          "output_type": "stream",
          "text": [
            "/usr/local/lib/python3.7/dist-packages/statsmodels/tsa/holtwinters.py:712: ConvergenceWarning: Optimization failed to converge. Check mle_retvals.\n",
            "  ConvergenceWarning)\n"
          ],
          "name": "stderr"
        },
        {
          "output_type": "execute_result",
          "data": {
            "text/plain": [
              "8.817871631625444"
            ]
          },
          "metadata": {
            "tags": []
          },
          "execution_count": 111
        }
      ]
    },
    {
      "cell_type": "markdown",
      "metadata": {
        "id": "9mssh69uvIMB"
      },
      "source": [
        "Holts winter exponential smoothing with multiplicative seasonality and additive trend"
      ]
    },
    {
      "cell_type": "code",
      "metadata": {
        "colab": {
          "base_uri": "https://localhost:8080/"
        },
        "id": "VsPLnnkFvGGq",
        "outputId": "4369d966-e8e2-46c7-afda-b5373b361573"
      },
      "source": [
        "hwe_model_mul_add = ExponentialSmoothing(Train[\"Sales\"],seasonal=\"mul\",trend=\"add\",seasonal_periods=12).fit() \n",
        "pred_hwe_mul_add = hwe_model_mul_add.predict(start = Test.index[0],end = Test.index[-1])\n",
        "MAPE(pred_hwe_mul_add,Test.Sales)"
      ],
      "execution_count": null,
      "outputs": [
        {
          "output_type": "execute_result",
          "data": {
            "text/plain": [
              "7.597154167859881"
            ]
          },
          "metadata": {
            "tags": []
          },
          "execution_count": 112
        }
      ]
    },
    {
      "cell_type": "markdown",
      "metadata": {
        "id": "Cv7h-jPjveTA"
      },
      "source": [
        "## Final Model by combining train and test"
      ]
    },
    {
      "cell_type": "code",
      "metadata": {
        "colab": {
          "base_uri": "https://localhost:8080/"
        },
        "id": "iD4UyNpbvgAG",
        "outputId": "9cf1ea2e-8e7c-40bc-a06d-e464f2663f00"
      },
      "source": [
        "hwe_model_add_add = ExponentialSmoothing(coke[\"Sales\"],seasonal=\"add\",trend=\"add\",seasonal_periods=12).fit()"
      ],
      "execution_count": null,
      "outputs": [
        {
          "output_type": "stream",
          "text": [
            "/usr/local/lib/python3.7/dist-packages/statsmodels/tsa/holtwinters.py:712: ConvergenceWarning: Optimization failed to converge. Check mle_retvals.\n",
            "  ConvergenceWarning)\n"
          ],
          "name": "stderr"
        }
      ]
    },
    {
      "cell_type": "code",
      "metadata": {
        "colab": {
          "base_uri": "https://localhost:8080/"
        },
        "id": "Iz0ALEfTv6tV",
        "outputId": "af1178b5-54b8-46e9-ca33-e8a7c5ccd5e9"
      },
      "source": [
        "hwe_model_add_add.forecast(12)"
      ],
      "execution_count": null,
      "outputs": [
        {
          "output_type": "execute_result",
          "data": {
            "text/plain": [
              "42    4944.457509\n",
              "43    4760.832656\n",
              "44    4794.901408\n",
              "45    5679.629101\n",
              "46    5708.259478\n",
              "47    5275.627658\n",
              "48    5156.192199\n",
              "49    6126.080565\n",
              "50    5998.853126\n",
              "51    5520.545419\n",
              "52    5453.831512\n",
              "53    6368.090979\n",
              "dtype: float64"
            ]
          },
          "metadata": {
            "tags": []
          },
          "execution_count": 114
        }
      ]
    },
    {
      "cell_type": "markdown",
      "metadata": {
        "id": "IVJGWu4LzPkF"
      },
      "source": [
        "Forecasting_Model based methods"
      ]
    },
    {
      "cell_type": "code",
      "metadata": {
        "id": "opODLBLZzOzG"
      },
      "source": [
        "import numpy as np\n",
        "import pandas as pd\n",
        "import matplotlib.pyplot as plt\n",
        "import seaborn as sns"
      ],
      "execution_count": null,
      "outputs": []
    },
    {
      "cell_type": "code",
      "metadata": {
        "colab": {
          "base_uri": "https://localhost:8080/",
          "height": 282
        },
        "id": "l_WbaDvx46h9",
        "outputId": "e81a91b0-ffb8-4e5e-e76c-c52996f41701"
      },
      "source": [
        "\n",
        "coke1.Sales.plot()"
      ],
      "execution_count": null,
      "outputs": [
        {
          "output_type": "execute_result",
          "data": {
            "text/plain": [
              "<matplotlib.axes._subplots.AxesSubplot at 0x7f335719e2d0>"
            ]
          },
          "metadata": {
            "tags": []
          },
          "execution_count": 116
        },
        {
          "output_type": "display_data",
          "data": {
            "image/png": "[encoded data removed]",
            "text/plain": [
              "<Figure size 432x288 with 1 Axes>"
            ]
          },
          "metadata": {
            "tags": [],
            "needs_background": "light"
          }
        }
      ]
    },
    {
      "cell_type": "code",
      "metadata": {
        "colab": {
          "base_uri": "https://localhost:8080/",
          "height": 1000
        },
        "id": "alL07t5iV0Zw",
        "outputId": "6938e6ac-a04f-4ba2-d949-9976d08a4ff3"
      },
      "source": [
        "coke1"
      ],
      "execution_count": null,
      "outputs": [
        {
          "output_type": "execute_result",
          "data": {
            "text/html": [
              "<div>\n",
              "<style scoped>\n",
              "    .dataframe tbody tr th:only-of-type {\n",
              "        vertical-align: middle;\n",
              "    }\n",
              "\n",
              "    .dataframe tbody tr th {\n",
              "        vertical-align: top;\n",
              "    }\n",
              "\n",
              "    .dataframe thead th {\n",
              "        text-align: right;\n",
              "    }\n",
              "</style>\n",
              "<table border=\"1\" class=\"dataframe\">\n",
              "  <thead>\n",
              "    <tr style=\"text-align: right;\">\n",
              "      <th></th>\n",
              "      <th>period</th>\n",
              "      <th>Sales</th>\n",
              "    </tr>\n",
              "  </thead>\n",
              "  <tbody>\n",
              "    <tr>\n",
              "      <th>0</th>\n",
              "      <td>1986-01-01</td>\n",
              "      <td>1734.827000</td>\n",
              "    </tr>\n",
              "    <tr>\n",
              "      <th>1</th>\n",
              "      <td>1986-04-01</td>\n",
              "      <td>2244.960999</td>\n",
              "    </tr>\n",
              "    <tr>\n",
              "      <th>2</th>\n",
              "      <td>1986-07-01</td>\n",
              "      <td>2533.804993</td>\n",
              "    </tr>\n",
              "    <tr>\n",
              "      <th>3</th>\n",
              "      <td>1986-10-01</td>\n",
              "      <td>2154.962997</td>\n",
              "    </tr>\n",
              "    <tr>\n",
              "      <th>4</th>\n",
              "      <td>1987-01-01</td>\n",
              "      <td>1547.818996</td>\n",
              "    </tr>\n",
              "    <tr>\n",
              "      <th>5</th>\n",
              "      <td>1987-04-01</td>\n",
              "      <td>2104.411995</td>\n",
              "    </tr>\n",
              "    <tr>\n",
              "      <th>6</th>\n",
              "      <td>1987-07-01</td>\n",
              "      <td>2014.362999</td>\n",
              "    </tr>\n",
              "    <tr>\n",
              "      <th>7</th>\n",
              "      <td>1987-10-01</td>\n",
              "      <td>1991.746998</td>\n",
              "    </tr>\n",
              "    <tr>\n",
              "      <th>8</th>\n",
              "      <td>1988-01-01</td>\n",
              "      <td>1869.049999</td>\n",
              "    </tr>\n",
              "    <tr>\n",
              "      <th>9</th>\n",
              "      <td>1988-04-01</td>\n",
              "      <td>2313.631996</td>\n",
              "    </tr>\n",
              "    <tr>\n",
              "      <th>10</th>\n",
              "      <td>1988-07-01</td>\n",
              "      <td>2128.320000</td>\n",
              "    </tr>\n",
              "    <tr>\n",
              "      <th>11</th>\n",
              "      <td>1988-10-01</td>\n",
              "      <td>2026.828999</td>\n",
              "    </tr>\n",
              "    <tr>\n",
              "      <th>12</th>\n",
              "      <td>1989-01-01</td>\n",
              "      <td>1910.603996</td>\n",
              "    </tr>\n",
              "    <tr>\n",
              "      <th>13</th>\n",
              "      <td>1989-04-01</td>\n",
              "      <td>2331.164993</td>\n",
              "    </tr>\n",
              "    <tr>\n",
              "      <th>14</th>\n",
              "      <td>1989-07-01</td>\n",
              "      <td>2206.549995</td>\n",
              "    </tr>\n",
              "    <tr>\n",
              "      <th>15</th>\n",
              "      <td>1989-10-01</td>\n",
              "      <td>2173.967995</td>\n",
              "    </tr>\n",
              "    <tr>\n",
              "      <th>16</th>\n",
              "      <td>1990-01-01</td>\n",
              "      <td>2148.278000</td>\n",
              "    </tr>\n",
              "    <tr>\n",
              "      <th>17</th>\n",
              "      <td>1990-04-01</td>\n",
              "      <td>2739.307999</td>\n",
              "    </tr>\n",
              "    <tr>\n",
              "      <th>18</th>\n",
              "      <td>1990-07-01</td>\n",
              "      <td>2792.753998</td>\n",
              "    </tr>\n",
              "    <tr>\n",
              "      <th>19</th>\n",
              "      <td>1990-10-01</td>\n",
              "      <td>2556.009995</td>\n",
              "    </tr>\n",
              "    <tr>\n",
              "      <th>20</th>\n",
              "      <td>1991-01-01</td>\n",
              "      <td>2480.973999</td>\n",
              "    </tr>\n",
              "    <tr>\n",
              "      <th>21</th>\n",
              "      <td>1991-04-01</td>\n",
              "      <td>3039.522995</td>\n",
              "    </tr>\n",
              "    <tr>\n",
              "      <th>22</th>\n",
              "      <td>1991-07-01</td>\n",
              "      <td>3172.115997</td>\n",
              "    </tr>\n",
              "    <tr>\n",
              "      <th>23</th>\n",
              "      <td>1991-10-01</td>\n",
              "      <td>2879.000999</td>\n",
              "    </tr>\n",
              "    <tr>\n",
              "      <th>24</th>\n",
              "      <td>1992-01-01</td>\n",
              "      <td>2772.000000</td>\n",
              "    </tr>\n",
              "    <tr>\n",
              "      <th>25</th>\n",
              "      <td>1992-04-01</td>\n",
              "      <td>3550.000000</td>\n",
              "    </tr>\n",
              "    <tr>\n",
              "      <th>26</th>\n",
              "      <td>1992-07-01</td>\n",
              "      <td>3508.000000</td>\n",
              "    </tr>\n",
              "    <tr>\n",
              "      <th>27</th>\n",
              "      <td>1992-10-01</td>\n",
              "      <td>3243.859993</td>\n",
              "    </tr>\n",
              "    <tr>\n",
              "      <th>28</th>\n",
              "      <td>1993-01-01</td>\n",
              "      <td>3056.000000</td>\n",
              "    </tr>\n",
              "    <tr>\n",
              "      <th>29</th>\n",
              "      <td>1993-04-01</td>\n",
              "      <td>3899.000000</td>\n",
              "    </tr>\n",
              "    <tr>\n",
              "      <th>30</th>\n",
              "      <td>1993-07-01</td>\n",
              "      <td>3629.000000</td>\n",
              "    </tr>\n",
              "    <tr>\n",
              "      <th>31</th>\n",
              "      <td>1993-10-01</td>\n",
              "      <td>3373.000000</td>\n",
              "    </tr>\n",
              "    <tr>\n",
              "      <th>32</th>\n",
              "      <td>1994-01-01</td>\n",
              "      <td>3352.000000</td>\n",
              "    </tr>\n",
              "    <tr>\n",
              "      <th>33</th>\n",
              "      <td>1994-04-01</td>\n",
              "      <td>4342.000000</td>\n",
              "    </tr>\n",
              "    <tr>\n",
              "      <th>34</th>\n",
              "      <td>1994-07-01</td>\n",
              "      <td>4461.000000</td>\n",
              "    </tr>\n",
              "    <tr>\n",
              "      <th>35</th>\n",
              "      <td>1994-10-01</td>\n",
              "      <td>4017.000000</td>\n",
              "    </tr>\n",
              "    <tr>\n",
              "      <th>36</th>\n",
              "      <td>1995-01-01</td>\n",
              "      <td>3854.000000</td>\n",
              "    </tr>\n",
              "    <tr>\n",
              "      <th>37</th>\n",
              "      <td>1995-04-01</td>\n",
              "      <td>4936.000000</td>\n",
              "    </tr>\n",
              "    <tr>\n",
              "      <th>38</th>\n",
              "      <td>1995-07-01</td>\n",
              "      <td>4895.000000</td>\n",
              "    </tr>\n",
              "    <tr>\n",
              "      <th>39</th>\n",
              "      <td>1995-10-01</td>\n",
              "      <td>4333.000000</td>\n",
              "    </tr>\n",
              "    <tr>\n",
              "      <th>40</th>\n",
              "      <td>1996-01-01</td>\n",
              "      <td>4194.000000</td>\n",
              "    </tr>\n",
              "    <tr>\n",
              "      <th>41</th>\n",
              "      <td>1996-04-01</td>\n",
              "      <td>5253.000000</td>\n",
              "    </tr>\n",
              "  </tbody>\n",
              "</table>\n",
              "</div>"
            ],
            "text/plain": [
              "       period        Sales\n",
              "0  1986-01-01  1734.827000\n",
              "1  1986-04-01  2244.960999\n",
              "2  1986-07-01  2533.804993\n",
              "3  1986-10-01  2154.962997\n",
              "4  1987-01-01  1547.818996\n",
              "5  1987-04-01  2104.411995\n",
              "6  1987-07-01  2014.362999\n",
              "7  1987-10-01  1991.746998\n",
              "8  1988-01-01  1869.049999\n",
              "9  1988-04-01  2313.631996\n",
              "10 1988-07-01  2128.320000\n",
              "11 1988-10-01  2026.828999\n",
              "12 1989-01-01  1910.603996\n",
              "13 1989-04-01  2331.164993\n",
              "14 1989-07-01  2206.549995\n",
              "15 1989-10-01  2173.967995\n",
              "16 1990-01-01  2148.278000\n",
              "17 1990-04-01  2739.307999\n",
              "18 1990-07-01  2792.753998\n",
              "19 1990-10-01  2556.009995\n",
              "20 1991-01-01  2480.973999\n",
              "21 1991-04-01  3039.522995\n",
              "22 1991-07-01  3172.115997\n",
              "23 1991-10-01  2879.000999\n",
              "24 1992-01-01  2772.000000\n",
              "25 1992-04-01  3550.000000\n",
              "26 1992-07-01  3508.000000\n",
              "27 1992-10-01  3243.859993\n",
              "28 1993-01-01  3056.000000\n",
              "29 1993-04-01  3899.000000\n",
              "30 1993-07-01  3629.000000\n",
              "31 1993-10-01  3373.000000\n",
              "32 1994-01-01  3352.000000\n",
              "33 1994-04-01  4342.000000\n",
              "34 1994-07-01  4461.000000\n",
              "35 1994-10-01  4017.000000\n",
              "36 1995-01-01  3854.000000\n",
              "37 1995-04-01  4936.000000\n",
              "38 1995-07-01  4895.000000\n",
              "39 1995-10-01  4333.000000\n",
              "40 1996-01-01  4194.000000\n",
              "41 1996-04-01  5253.000000"
            ]
          },
          "metadata": {
            "tags": []
          },
          "execution_count": 126
        }
      ]
    },
    {
      "cell_type": "code",
      "metadata": {
        "id": "oLC3wtqK6e9J"
      },
      "source": [
        "\n",
        "\n",
        "coke1['t'] = coke1.index +1\n"
      ],
      "execution_count": null,
      "outputs": []
    },
    {
      "cell_type": "code",
      "metadata": {
        "id": "BapAS7Ex_EZA"
      },
      "source": [
        "coke1['log(Sales)']=np.log(coke1.iloc[:,1])"
      ],
      "execution_count": null,
      "outputs": []
    },
    {
      "cell_type": "code",
      "metadata": {
        "id": "GIIvoQxK_tAT"
      },
      "source": [
        "coke1['t-square']=coke1.iloc[:,2]*coke1.iloc[:,2]"
      ],
      "execution_count": null,
      "outputs": []
    },
    {
      "cell_type": "code",
      "metadata": {
        "colab": {
          "base_uri": "https://localhost:8080/",
          "height": 195
        },
        "id": "4koVT4eCVj3i",
        "outputId": "f5382be1-48d9-4489-97f1-82412f8f09fe"
      },
      "source": [
        "coke1.head()"
      ],
      "execution_count": null,
      "outputs": [
        {
          "output_type": "execute_result",
          "data": {
            "text/html": [
              "<div>\n",
              "<style scoped>\n",
              "    .dataframe tbody tr th:only-of-type {\n",
              "        vertical-align: middle;\n",
              "    }\n",
              "\n",
              "    .dataframe tbody tr th {\n",
              "        vertical-align: top;\n",
              "    }\n",
              "\n",
              "    .dataframe thead th {\n",
              "        text-align: right;\n",
              "    }\n",
              "</style>\n",
              "<table border=\"1\" class=\"dataframe\">\n",
              "  <thead>\n",
              "    <tr style=\"text-align: right;\">\n",
              "      <th></th>\n",
              "      <th>period</th>\n",
              "      <th>Sales</th>\n",
              "      <th>t</th>\n",
              "      <th>log(Sales)</th>\n",
              "    </tr>\n",
              "  </thead>\n",
              "  <tbody>\n",
              "    <tr>\n",
              "      <th>0</th>\n",
              "      <td>1986-01-01</td>\n",
              "      <td>1734.827000</td>\n",
              "      <td>1</td>\n",
              "      <td>7.458663</td>\n",
              "    </tr>\n",
              "    <tr>\n",
              "      <th>1</th>\n",
              "      <td>1986-04-01</td>\n",
              "      <td>2244.960999</td>\n",
              "      <td>2</td>\n",
              "      <td>7.716443</td>\n",
              "    </tr>\n",
              "    <tr>\n",
              "      <th>2</th>\n",
              "      <td>1986-07-01</td>\n",
              "      <td>2533.804993</td>\n",
              "      <td>3</td>\n",
              "      <td>7.837477</td>\n",
              "    </tr>\n",
              "    <tr>\n",
              "      <th>3</th>\n",
              "      <td>1986-10-01</td>\n",
              "      <td>2154.962997</td>\n",
              "      <td>4</td>\n",
              "      <td>7.675529</td>\n",
              "    </tr>\n",
              "    <tr>\n",
              "      <th>4</th>\n",
              "      <td>1987-01-01</td>\n",
              "      <td>1547.818996</td>\n",
              "      <td>5</td>\n",
              "      <td>7.344602</td>\n",
              "    </tr>\n",
              "  </tbody>\n",
              "</table>\n",
              "</div>"
            ],
            "text/plain": [
              "      period        Sales  t  log(Sales)\n",
              "0 1986-01-01  1734.827000  1    7.458663\n",
              "1 1986-04-01  2244.960999  2    7.716443\n",
              "2 1986-07-01  2533.804993  3    7.837477\n",
              "3 1986-10-01  2154.962997  4    7.675529\n",
              "4 1987-01-01  1547.818996  5    7.344602"
            ]
          },
          "metadata": {
            "tags": []
          },
          "execution_count": 129
        }
      ]
    },
    {
      "cell_type": "code",
      "metadata": {
        "id": "5U3DCbo7FkEp"
      },
      "source": [
        "coke1[\"Date\"] = pd.to_datetime(coke1.period,format=\"%b-%y\")\n",
        "#look for c standard format codes\n",
        "\n",
        "# Extracting Day, weekday name, month name, year from the Date column using \n",
        "# Date functions from pandas \n",
        "\n",
        "coke1[\"month\"] = coke1.Date.dt.strftime(\"%b\") # month extraction\n",
        "coke1[\"year\"] = coke1.Date.dt.strftime(\"%Y\") # year extraction\n",
        "\n"
      ],
      "execution_count": null,
      "outputs": []
    },
    {
      "cell_type": "code",
      "metadata": {
        "id": "vnNdzSOFKzyV"
      },
      "source": [
        "enc_data=pd.get_dummies(coke['month'])"
      ],
      "execution_count": null,
      "outputs": []
    },
    {
      "cell_type": "code",
      "metadata": {
        "colab": {
          "base_uri": "https://localhost:8080/",
          "height": 1000
        },
        "id": "Ahkzzh8sOqT-",
        "outputId": "803d6a0f-3a6d-4154-88b7-e3a4698a3e9b"
      },
      "source": [
        "enc_data\n"
      ],
      "execution_count": null,
      "outputs": [
        {
          "output_type": "execute_result",
          "data": {
            "text/html": [
              "<div>\n",
              "<style scoped>\n",
              "    .dataframe tbody tr th:only-of-type {\n",
              "        vertical-align: middle;\n",
              "    }\n",
              "\n",
              "    .dataframe tbody tr th {\n",
              "        vertical-align: top;\n",
              "    }\n",
              "\n",
              "    .dataframe thead th {\n",
              "        text-align: right;\n",
              "    }\n",
              "</style>\n",
              "<table border=\"1\" class=\"dataframe\">\n",
              "  <thead>\n",
              "    <tr style=\"text-align: right;\">\n",
              "      <th></th>\n",
              "      <th>Apr</th>\n",
              "      <th>Jan</th>\n",
              "      <th>Jul</th>\n",
              "      <th>Oct</th>\n",
              "    </tr>\n",
              "  </thead>\n",
              "  <tbody>\n",
              "    <tr>\n",
              "      <th>0</th>\n",
              "      <td>0</td>\n",
              "      <td>1</td>\n",
              "      <td>0</td>\n",
              "      <td>0</td>\n",
              "    </tr>\n",
              "    <tr>\n",
              "      <th>1</th>\n",
              "      <td>1</td>\n",
              "      <td>0</td>\n",
              "      <td>0</td>\n",
              "      <td>0</td>\n",
              "    </tr>\n",
              "    <tr>\n",
              "      <th>2</th>\n",
              "      <td>0</td>\n",
              "      <td>0</td>\n",
              "      <td>1</td>\n",
              "      <td>0</td>\n",
              "    </tr>\n",
              "    <tr>\n",
              "      <th>3</th>\n",
              "      <td>0</td>\n",
              "      <td>0</td>\n",
              "      <td>0</td>\n",
              "      <td>1</td>\n",
              "    </tr>\n",
              "    <tr>\n",
              "      <th>4</th>\n",
              "      <td>0</td>\n",
              "      <td>1</td>\n",
              "      <td>0</td>\n",
              "      <td>0</td>\n",
              "    </tr>\n",
              "    <tr>\n",
              "      <th>5</th>\n",
              "      <td>1</td>\n",
              "      <td>0</td>\n",
              "      <td>0</td>\n",
              "      <td>0</td>\n",
              "    </tr>\n",
              "    <tr>\n",
              "      <th>6</th>\n",
              "      <td>0</td>\n",
              "      <td>0</td>\n",
              "      <td>1</td>\n",
              "      <td>0</td>\n",
              "    </tr>\n",
              "    <tr>\n",
              "      <th>7</th>\n",
              "      <td>0</td>\n",
              "      <td>0</td>\n",
              "      <td>0</td>\n",
              "      <td>1</td>\n",
              "    </tr>\n",
              "    <tr>\n",
              "      <th>8</th>\n",
              "      <td>0</td>\n",
              "      <td>1</td>\n",
              "      <td>0</td>\n",
              "      <td>0</td>\n",
              "    </tr>\n",
              "    <tr>\n",
              "      <th>9</th>\n",
              "      <td>1</td>\n",
              "      <td>0</td>\n",
              "      <td>0</td>\n",
              "      <td>0</td>\n",
              "    </tr>\n",
              "    <tr>\n",
              "      <th>10</th>\n",
              "      <td>0</td>\n",
              "      <td>0</td>\n",
              "      <td>1</td>\n",
              "      <td>0</td>\n",
              "    </tr>\n",
              "    <tr>\n",
              "      <th>11</th>\n",
              "      <td>0</td>\n",
              "      <td>0</td>\n",
              "      <td>0</td>\n",
              "      <td>1</td>\n",
              "    </tr>\n",
              "    <tr>\n",
              "      <th>12</th>\n",
              "      <td>0</td>\n",
              "      <td>1</td>\n",
              "      <td>0</td>\n",
              "      <td>0</td>\n",
              "    </tr>\n",
              "    <tr>\n",
              "      <th>13</th>\n",
              "      <td>1</td>\n",
              "      <td>0</td>\n",
              "      <td>0</td>\n",
              "      <td>0</td>\n",
              "    </tr>\n",
              "    <tr>\n",
              "      <th>14</th>\n",
              "      <td>0</td>\n",
              "      <td>0</td>\n",
              "      <td>1</td>\n",
              "      <td>0</td>\n",
              "    </tr>\n",
              "    <tr>\n",
              "      <th>15</th>\n",
              "      <td>0</td>\n",
              "      <td>0</td>\n",
              "      <td>0</td>\n",
              "      <td>1</td>\n",
              "    </tr>\n",
              "    <tr>\n",
              "      <th>16</th>\n",
              "      <td>0</td>\n",
              "      <td>1</td>\n",
              "      <td>0</td>\n",
              "      <td>0</td>\n",
              "    </tr>\n",
              "    <tr>\n",
              "      <th>17</th>\n",
              "      <td>1</td>\n",
              "      <td>0</td>\n",
              "      <td>0</td>\n",
              "      <td>0</td>\n",
              "    </tr>\n",
              "    <tr>\n",
              "      <th>18</th>\n",
              "      <td>0</td>\n",
              "      <td>0</td>\n",
              "      <td>1</td>\n",
              "      <td>0</td>\n",
              "    </tr>\n",
              "    <tr>\n",
              "      <th>19</th>\n",
              "      <td>0</td>\n",
              "      <td>0</td>\n",
              "      <td>0</td>\n",
              "      <td>1</td>\n",
              "    </tr>\n",
              "    <tr>\n",
              "      <th>20</th>\n",
              "      <td>0</td>\n",
              "      <td>1</td>\n",
              "      <td>0</td>\n",
              "      <td>0</td>\n",
              "    </tr>\n",
              "    <tr>\n",
              "      <th>21</th>\n",
              "      <td>1</td>\n",
              "      <td>0</td>\n",
              "      <td>0</td>\n",
              "      <td>0</td>\n",
              "    </tr>\n",
              "    <tr>\n",
              "      <th>22</th>\n",
              "      <td>0</td>\n",
              "      <td>0</td>\n",
              "      <td>1</td>\n",
              "      <td>0</td>\n",
              "    </tr>\n",
              "    <tr>\n",
              "      <th>23</th>\n",
              "      <td>0</td>\n",
              "      <td>0</td>\n",
              "      <td>0</td>\n",
              "      <td>1</td>\n",
              "    </tr>\n",
              "    <tr>\n",
              "      <th>24</th>\n",
              "      <td>0</td>\n",
              "      <td>1</td>\n",
              "      <td>0</td>\n",
              "      <td>0</td>\n",
              "    </tr>\n",
              "    <tr>\n",
              "      <th>25</th>\n",
              "      <td>1</td>\n",
              "      <td>0</td>\n",
              "      <td>0</td>\n",
              "      <td>0</td>\n",
              "    </tr>\n",
              "    <tr>\n",
              "      <th>26</th>\n",
              "      <td>0</td>\n",
              "      <td>0</td>\n",
              "      <td>1</td>\n",
              "      <td>0</td>\n",
              "    </tr>\n",
              "    <tr>\n",
              "      <th>27</th>\n",
              "      <td>0</td>\n",
              "      <td>0</td>\n",
              "      <td>0</td>\n",
              "      <td>1</td>\n",
              "    </tr>\n",
              "    <tr>\n",
              "      <th>28</th>\n",
              "      <td>0</td>\n",
              "      <td>1</td>\n",
              "      <td>0</td>\n",
              "      <td>0</td>\n",
              "    </tr>\n",
              "    <tr>\n",
              "      <th>29</th>\n",
              "      <td>1</td>\n",
              "      <td>0</td>\n",
              "      <td>0</td>\n",
              "      <td>0</td>\n",
              "    </tr>\n",
              "    <tr>\n",
              "      <th>30</th>\n",
              "      <td>0</td>\n",
              "      <td>0</td>\n",
              "      <td>1</td>\n",
              "      <td>0</td>\n",
              "    </tr>\n",
              "    <tr>\n",
              "      <th>31</th>\n",
              "      <td>0</td>\n",
              "      <td>0</td>\n",
              "      <td>0</td>\n",
              "      <td>1</td>\n",
              "    </tr>\n",
              "    <tr>\n",
              "      <th>32</th>\n",
              "      <td>0</td>\n",
              "      <td>1</td>\n",
              "      <td>0</td>\n",
              "      <td>0</td>\n",
              "    </tr>\n",
              "    <tr>\n",
              "      <th>33</th>\n",
              "      <td>1</td>\n",
              "      <td>0</td>\n",
              "      <td>0</td>\n",
              "      <td>0</td>\n",
              "    </tr>\n",
              "    <tr>\n",
              "      <th>34</th>\n",
              "      <td>0</td>\n",
              "      <td>0</td>\n",
              "      <td>1</td>\n",
              "      <td>0</td>\n",
              "    </tr>\n",
              "    <tr>\n",
              "      <th>35</th>\n",
              "      <td>0</td>\n",
              "      <td>0</td>\n",
              "      <td>0</td>\n",
              "      <td>1</td>\n",
              "    </tr>\n",
              "    <tr>\n",
              "      <th>36</th>\n",
              "      <td>0</td>\n",
              "      <td>1</td>\n",
              "      <td>0</td>\n",
              "      <td>0</td>\n",
              "    </tr>\n",
              "    <tr>\n",
              "      <th>37</th>\n",
              "      <td>1</td>\n",
              "      <td>0</td>\n",
              "      <td>0</td>\n",
              "      <td>0</td>\n",
              "    </tr>\n",
              "    <tr>\n",
              "      <th>38</th>\n",
              "      <td>0</td>\n",
              "      <td>0</td>\n",
              "      <td>1</td>\n",
              "      <td>0</td>\n",
              "    </tr>\n",
              "    <tr>\n",
              "      <th>39</th>\n",
              "      <td>0</td>\n",
              "      <td>0</td>\n",
              "      <td>0</td>\n",
              "      <td>1</td>\n",
              "    </tr>\n",
              "    <tr>\n",
              "      <th>40</th>\n",
              "      <td>0</td>\n",
              "      <td>1</td>\n",
              "      <td>0</td>\n",
              "      <td>0</td>\n",
              "    </tr>\n",
              "    <tr>\n",
              "      <th>41</th>\n",
              "      <td>1</td>\n",
              "      <td>0</td>\n",
              "      <td>0</td>\n",
              "      <td>0</td>\n",
              "    </tr>\n",
              "  </tbody>\n",
              "</table>\n",
              "</div>"
            ],
            "text/plain": [
              "    Apr  Jan  Jul  Oct\n",
              "0     0    1    0    0\n",
              "1     1    0    0    0\n",
              "2     0    0    1    0\n",
              "3     0    0    0    1\n",
              "4     0    1    0    0\n",
              "5     1    0    0    0\n",
              "6     0    0    1    0\n",
              "7     0    0    0    1\n",
              "8     0    1    0    0\n",
              "9     1    0    0    0\n",
              "10    0    0    1    0\n",
              "11    0    0    0    1\n",
              "12    0    1    0    0\n",
              "13    1    0    0    0\n",
              "14    0    0    1    0\n",
              "15    0    0    0    1\n",
              "16    0    1    0    0\n",
              "17    1    0    0    0\n",
              "18    0    0    1    0\n",
              "19    0    0    0    1\n",
              "20    0    1    0    0\n",
              "21    1    0    0    0\n",
              "22    0    0    1    0\n",
              "23    0    0    0    1\n",
              "24    0    1    0    0\n",
              "25    1    0    0    0\n",
              "26    0    0    1    0\n",
              "27    0    0    0    1\n",
              "28    0    1    0    0\n",
              "29    1    0    0    0\n",
              "30    0    0    1    0\n",
              "31    0    0    0    1\n",
              "32    0    1    0    0\n",
              "33    1    0    0    0\n",
              "34    0    0    1    0\n",
              "35    0    0    0    1\n",
              "36    0    1    0    0\n",
              "37    1    0    0    0\n",
              "38    0    0    1    0\n",
              "39    0    0    0    1\n",
              "40    0    1    0    0\n",
              "41    1    0    0    0"
            ]
          },
          "metadata": {
            "tags": []
          },
          "execution_count": 132
        }
      ]
    },
    {
      "cell_type": "code",
      "metadata": {
        "id": "5x5pKSJFO_0M"
      },
      "source": [
        "seriesmodel=coke1.iloc[:,0:].join(enc_data)"
      ],
      "execution_count": null,
      "outputs": []
    },
    {
      "cell_type": "code",
      "metadata": {
        "id": "kaJ7g5RtVwwG",
        "colab": {
          "base_uri": "https://localhost:8080/",
          "height": 1000
        },
        "outputId": "17471896-0c9a-4148-a6b4-71489eb27fb0"
      },
      "source": [
        "seriesmodel"
      ],
      "execution_count": null,
      "outputs": [
        {
          "output_type": "execute_result",
          "data": {
            "text/html": [
              "<div>\n",
              "<style scoped>\n",
              "    .dataframe tbody tr th:only-of-type {\n",
              "        vertical-align: middle;\n",
              "    }\n",
              "\n",
              "    .dataframe tbody tr th {\n",
              "        vertical-align: top;\n",
              "    }\n",
              "\n",
              "    .dataframe thead th {\n",
              "        text-align: right;\n",
              "    }\n",
              "</style>\n",
              "<table border=\"1\" class=\"dataframe\">\n",
              "  <thead>\n",
              "    <tr style=\"text-align: right;\">\n",
              "      <th></th>\n",
              "      <th>period</th>\n",
              "      <th>Sales</th>\n",
              "      <th>t</th>\n",
              "      <th>log(Sales)</th>\n",
              "      <th>Date</th>\n",
              "      <th>month</th>\n",
              "      <th>year</th>\n",
              "      <th>t-square</th>\n",
              "      <th>Apr</th>\n",
              "      <th>Jan</th>\n",
              "      <th>Jul</th>\n",
              "      <th>Oct</th>\n",
              "    </tr>\n",
              "  </thead>\n",
              "  <tbody>\n",
              "    <tr>\n",
              "      <th>0</th>\n",
              "      <td>1986-01-01</td>\n",
              "      <td>1734.827000</td>\n",
              "      <td>1</td>\n",
              "      <td>7.458663</td>\n",
              "      <td>1986-01-01</td>\n",
              "      <td>Jan</td>\n",
              "      <td>1986</td>\n",
              "      <td>1</td>\n",
              "      <td>0</td>\n",
              "      <td>1</td>\n",
              "      <td>0</td>\n",
              "      <td>0</td>\n",
              "    </tr>\n",
              "    <tr>\n",
              "      <th>1</th>\n",
              "      <td>1986-04-01</td>\n",
              "      <td>2244.960999</td>\n",
              "      <td>2</td>\n",
              "      <td>7.716443</td>\n",
              "      <td>1986-04-01</td>\n",
              "      <td>Apr</td>\n",
              "      <td>1986</td>\n",
              "      <td>4</td>\n",
              "      <td>1</td>\n",
              "      <td>0</td>\n",
              "      <td>0</td>\n",
              "      <td>0</td>\n",
              "    </tr>\n",
              "    <tr>\n",
              "      <th>2</th>\n",
              "      <td>1986-07-01</td>\n",
              "      <td>2533.804993</td>\n",
              "      <td>3</td>\n",
              "      <td>7.837477</td>\n",
              "      <td>1986-07-01</td>\n",
              "      <td>Jul</td>\n",
              "      <td>1986</td>\n",
              "      <td>9</td>\n",
              "      <td>0</td>\n",
              "      <td>0</td>\n",
              "      <td>1</td>\n",
              "      <td>0</td>\n",
              "    </tr>\n",
              "    <tr>\n",
              "      <th>3</th>\n",
              "      <td>1986-10-01</td>\n",
              "      <td>2154.962997</td>\n",
              "      <td>4</td>\n",
              "      <td>7.675529</td>\n",
              "      <td>1986-10-01</td>\n",
              "      <td>Oct</td>\n",
              "      <td>1986</td>\n",
              "      <td>16</td>\n",
              "      <td>0</td>\n",
              "      <td>0</td>\n",
              "      <td>0</td>\n",
              "      <td>1</td>\n",
              "    </tr>\n",
              "    <tr>\n",
              "      <th>4</th>\n",
              "      <td>1987-01-01</td>\n",
              "      <td>1547.818996</td>\n",
              "      <td>5</td>\n",
              "      <td>7.344602</td>\n",
              "      <td>1987-01-01</td>\n",
              "      <td>Jan</td>\n",
              "      <td>1987</td>\n",
              "      <td>25</td>\n",
              "      <td>0</td>\n",
              "      <td>1</td>\n",
              "      <td>0</td>\n",
              "      <td>0</td>\n",
              "    </tr>\n",
              "    <tr>\n",
              "      <th>5</th>\n",
              "      <td>1987-04-01</td>\n",
              "      <td>2104.411995</td>\n",
              "      <td>6</td>\n",
              "      <td>7.651791</td>\n",
              "      <td>1987-04-01</td>\n",
              "      <td>Apr</td>\n",
              "      <td>1987</td>\n",
              "      <td>36</td>\n",
              "      <td>1</td>\n",
              "      <td>0</td>\n",
              "      <td>0</td>\n",
              "      <td>0</td>\n",
              "    </tr>\n",
              "    <tr>\n",
              "      <th>6</th>\n",
              "      <td>1987-07-01</td>\n",
              "      <td>2014.362999</td>\n",
              "      <td>7</td>\n",
              "      <td>7.608058</td>\n",
              "      <td>1987-07-01</td>\n",
              "      <td>Jul</td>\n",
              "      <td>1987</td>\n",
              "      <td>49</td>\n",
              "      <td>0</td>\n",
              "      <td>0</td>\n",
              "      <td>1</td>\n",
              "      <td>0</td>\n",
              "    </tr>\n",
              "    <tr>\n",
              "      <th>7</th>\n",
              "      <td>1987-10-01</td>\n",
              "      <td>1991.746998</td>\n",
              "      <td>8</td>\n",
              "      <td>7.596767</td>\n",
              "      <td>1987-10-01</td>\n",
              "      <td>Oct</td>\n",
              "      <td>1987</td>\n",
              "      <td>64</td>\n",
              "      <td>0</td>\n",
              "      <td>0</td>\n",
              "      <td>0</td>\n",
              "      <td>1</td>\n",
              "    </tr>\n",
              "    <tr>\n",
              "      <th>8</th>\n",
              "      <td>1988-01-01</td>\n",
              "      <td>1869.049999</td>\n",
              "      <td>9</td>\n",
              "      <td>7.533186</td>\n",
              "      <td>1988-01-01</td>\n",
              "      <td>Jan</td>\n",
              "      <td>1988</td>\n",
              "      <td>81</td>\n",
              "      <td>0</td>\n",
              "      <td>1</td>\n",
              "      <td>0</td>\n",
              "      <td>0</td>\n",
              "    </tr>\n",
              "    <tr>\n",
              "      <th>9</th>\n",
              "      <td>1988-04-01</td>\n",
              "      <td>2313.631996</td>\n",
              "      <td>10</td>\n",
              "      <td>7.746574</td>\n",
              "      <td>1988-04-01</td>\n",
              "      <td>Apr</td>\n",
              "      <td>1988</td>\n",
              "      <td>100</td>\n",
              "      <td>1</td>\n",
              "      <td>0</td>\n",
              "      <td>0</td>\n",
              "      <td>0</td>\n",
              "    </tr>\n",
              "    <tr>\n",
              "      <th>10</th>\n",
              "      <td>1988-07-01</td>\n",
              "      <td>2128.320000</td>\n",
              "      <td>11</td>\n",
              "      <td>7.663088</td>\n",
              "      <td>1988-07-01</td>\n",
              "      <td>Jul</td>\n",
              "      <td>1988</td>\n",
              "      <td>121</td>\n",
              "      <td>0</td>\n",
              "      <td>0</td>\n",
              "      <td>1</td>\n",
              "      <td>0</td>\n",
              "    </tr>\n",
              "    <tr>\n",
              "      <th>11</th>\n",
              "      <td>1988-10-01</td>\n",
              "      <td>2026.828999</td>\n",
              "      <td>12</td>\n",
              "      <td>7.614228</td>\n",
              "      <td>1988-10-01</td>\n",
              "      <td>Oct</td>\n",
              "      <td>1988</td>\n",
              "      <td>144</td>\n",
              "      <td>0</td>\n",
              "      <td>0</td>\n",
              "      <td>0</td>\n",
              "      <td>1</td>\n",
              "    </tr>\n",
              "    <tr>\n",
              "      <th>12</th>\n",
              "      <td>1989-01-01</td>\n",
              "      <td>1910.603996</td>\n",
              "      <td>13</td>\n",
              "      <td>7.555175</td>\n",
              "      <td>1989-01-01</td>\n",
              "      <td>Jan</td>\n",
              "      <td>1989</td>\n",
              "      <td>169</td>\n",
              "      <td>0</td>\n",
              "      <td>1</td>\n",
              "      <td>0</td>\n",
              "      <td>0</td>\n",
              "    </tr>\n",
              "    <tr>\n",
              "      <th>13</th>\n",
              "      <td>1989-04-01</td>\n",
              "      <td>2331.164993</td>\n",
              "      <td>14</td>\n",
              "      <td>7.754123</td>\n",
              "      <td>1989-04-01</td>\n",
              "      <td>Apr</td>\n",
              "      <td>1989</td>\n",
              "      <td>196</td>\n",
              "      <td>1</td>\n",
              "      <td>0</td>\n",
              "      <td>0</td>\n",
              "      <td>0</td>\n",
              "    </tr>\n",
              "    <tr>\n",
              "      <th>14</th>\n",
              "      <td>1989-07-01</td>\n",
              "      <td>2206.549995</td>\n",
              "      <td>15</td>\n",
              "      <td>7.699185</td>\n",
              "      <td>1989-07-01</td>\n",
              "      <td>Jul</td>\n",
              "      <td>1989</td>\n",
              "      <td>225</td>\n",
              "      <td>0</td>\n",
              "      <td>0</td>\n",
              "      <td>1</td>\n",
              "      <td>0</td>\n",
              "    </tr>\n",
              "    <tr>\n",
              "      <th>15</th>\n",
              "      <td>1989-10-01</td>\n",
              "      <td>2173.967995</td>\n",
              "      <td>16</td>\n",
              "      <td>7.684309</td>\n",
              "      <td>1989-10-01</td>\n",
              "      <td>Oct</td>\n",
              "      <td>1989</td>\n",
              "      <td>256</td>\n",
              "      <td>0</td>\n",
              "      <td>0</td>\n",
              "      <td>0</td>\n",
              "      <td>1</td>\n",
              "    </tr>\n",
              "    <tr>\n",
              "      <th>16</th>\n",
              "      <td>1990-01-01</td>\n",
              "      <td>2148.278000</td>\n",
              "      <td>17</td>\n",
              "      <td>7.672422</td>\n",
              "      <td>1990-01-01</td>\n",
              "      <td>Jan</td>\n",
              "      <td>1990</td>\n",
              "      <td>289</td>\n",
              "      <td>0</td>\n",
              "      <td>1</td>\n",
              "      <td>0</td>\n",
              "      <td>0</td>\n",
              "    </tr>\n",
              "    <tr>\n",
              "      <th>17</th>\n",
              "      <td>1990-04-01</td>\n",
              "      <td>2739.307999</td>\n",
              "      <td>18</td>\n",
              "      <td>7.915461</td>\n",
              "      <td>1990-04-01</td>\n",
              "      <td>Apr</td>\n",
              "      <td>1990</td>\n",
              "      <td>324</td>\n",
              "      <td>1</td>\n",
              "      <td>0</td>\n",
              "      <td>0</td>\n",
              "      <td>0</td>\n",
              "    </tr>\n",
              "    <tr>\n",
              "      <th>18</th>\n",
              "      <td>1990-07-01</td>\n",
              "      <td>2792.753998</td>\n",
              "      <td>19</td>\n",
              "      <td>7.934783</td>\n",
              "      <td>1990-07-01</td>\n",
              "      <td>Jul</td>\n",
              "      <td>1990</td>\n",
              "      <td>361</td>\n",
              "      <td>0</td>\n",
              "      <td>0</td>\n",
              "      <td>1</td>\n",
              "      <td>0</td>\n",
              "    </tr>\n",
              "    <tr>\n",
              "      <th>19</th>\n",
              "      <td>1990-10-01</td>\n",
              "      <td>2556.009995</td>\n",
              "      <td>20</td>\n",
              "      <td>7.846203</td>\n",
              "      <td>1990-10-01</td>\n",
              "      <td>Oct</td>\n",
              "      <td>1990</td>\n",
              "      <td>400</td>\n",
              "      <td>0</td>\n",
              "      <td>0</td>\n",
              "      <td>0</td>\n",
              "      <td>1</td>\n",
              "    </tr>\n",
              "    <tr>\n",
              "      <th>20</th>\n",
              "      <td>1991-01-01</td>\n",
              "      <td>2480.973999</td>\n",
              "      <td>21</td>\n",
              "      <td>7.816407</td>\n",
              "      <td>1991-01-01</td>\n",
              "      <td>Jan</td>\n",
              "      <td>1991</td>\n",
              "      <td>441</td>\n",
              "      <td>0</td>\n",
              "      <td>1</td>\n",
              "      <td>0</td>\n",
              "      <td>0</td>\n",
              "    </tr>\n",
              "    <tr>\n",
              "      <th>21</th>\n",
              "      <td>1991-04-01</td>\n",
              "      <td>3039.522995</td>\n",
              "      <td>22</td>\n",
              "      <td>8.019456</td>\n",
              "      <td>1991-04-01</td>\n",
              "      <td>Apr</td>\n",
              "      <td>1991</td>\n",
              "      <td>484</td>\n",
              "      <td>1</td>\n",
              "      <td>0</td>\n",
              "      <td>0</td>\n",
              "      <td>0</td>\n",
              "    </tr>\n",
              "    <tr>\n",
              "      <th>22</th>\n",
              "      <td>1991-07-01</td>\n",
              "      <td>3172.115997</td>\n",
              "      <td>23</td>\n",
              "      <td>8.062154</td>\n",
              "      <td>1991-07-01</td>\n",
              "      <td>Jul</td>\n",
              "      <td>1991</td>\n",
              "      <td>529</td>\n",
              "      <td>0</td>\n",
              "      <td>0</td>\n",
              "      <td>1</td>\n",
              "      <td>0</td>\n",
              "    </tr>\n",
              "    <tr>\n",
              "      <th>23</th>\n",
              "      <td>1991-10-01</td>\n",
              "      <td>2879.000999</td>\n",
              "      <td>24</td>\n",
              "      <td>7.965199</td>\n",
              "      <td>1991-10-01</td>\n",
              "      <td>Oct</td>\n",
              "      <td>1991</td>\n",
              "      <td>576</td>\n",
              "      <td>0</td>\n",
              "      <td>0</td>\n",
              "      <td>0</td>\n",
              "      <td>1</td>\n",
              "    </tr>\n",
              "    <tr>\n",
              "      <th>24</th>\n",
              "      <td>1992-01-01</td>\n",
              "      <td>2772.000000</td>\n",
              "      <td>25</td>\n",
              "      <td>7.927324</td>\n",
              "      <td>1992-01-01</td>\n",
              "      <td>Jan</td>\n",
              "      <td>1992</td>\n",
              "      <td>625</td>\n",
              "      <td>0</td>\n",
              "      <td>1</td>\n",
              "      <td>0</td>\n",
              "      <td>0</td>\n",
              "    </tr>\n",
              "    <tr>\n",
              "      <th>25</th>\n",
              "      <td>1992-04-01</td>\n",
              "      <td>3550.000000</td>\n",
              "      <td>26</td>\n",
              "      <td>8.174703</td>\n",
              "      <td>1992-04-01</td>\n",
              "      <td>Apr</td>\n",
              "      <td>1992</td>\n",
              "      <td>676</td>\n",
              "      <td>1</td>\n",
              "      <td>0</td>\n",
              "      <td>0</td>\n",
              "      <td>0</td>\n",
              "    </tr>\n",
              "    <tr>\n",
              "      <th>26</th>\n",
              "      <td>1992-07-01</td>\n",
              "      <td>3508.000000</td>\n",
              "      <td>27</td>\n",
              "      <td>8.162801</td>\n",
              "      <td>1992-07-01</td>\n",
              "      <td>Jul</td>\n",
              "      <td>1992</td>\n",
              "      <td>729</td>\n",
              "      <td>0</td>\n",
              "      <td>0</td>\n",
              "      <td>1</td>\n",
              "      <td>0</td>\n",
              "    </tr>\n",
              "    <tr>\n",
              "      <th>27</th>\n",
              "      <td>1992-10-01</td>\n",
              "      <td>3243.859993</td>\n",
              "      <td>28</td>\n",
              "      <td>8.084519</td>\n",
              "      <td>1992-10-01</td>\n",
              "      <td>Oct</td>\n",
              "      <td>1992</td>\n",
              "      <td>784</td>\n",
              "      <td>0</td>\n",
              "      <td>0</td>\n",
              "      <td>0</td>\n",
              "      <td>1</td>\n",
              "    </tr>\n",
              "    <tr>\n",
              "      <th>28</th>\n",
              "      <td>1993-01-01</td>\n",
              "      <td>3056.000000</td>\n",
              "      <td>29</td>\n",
              "      <td>8.024862</td>\n",
              "      <td>1993-01-01</td>\n",
              "      <td>Jan</td>\n",
              "      <td>1993</td>\n",
              "      <td>841</td>\n",
              "      <td>0</td>\n",
              "      <td>1</td>\n",
              "      <td>0</td>\n",
              "      <td>0</td>\n",
              "    </tr>\n",
              "    <tr>\n",
              "      <th>29</th>\n",
              "      <td>1993-04-01</td>\n",
              "      <td>3899.000000</td>\n",
              "      <td>30</td>\n",
              "      <td>8.268475</td>\n",
              "      <td>1993-04-01</td>\n",
              "      <td>Apr</td>\n",
              "      <td>1993</td>\n",
              "      <td>900</td>\n",
              "      <td>1</td>\n",
              "      <td>0</td>\n",
              "      <td>0</td>\n",
              "      <td>0</td>\n",
              "    </tr>\n",
              "    <tr>\n",
              "      <th>30</th>\n",
              "      <td>1993-07-01</td>\n",
              "      <td>3629.000000</td>\n",
              "      <td>31</td>\n",
              "      <td>8.196712</td>\n",
              "      <td>1993-07-01</td>\n",
              "      <td>Jul</td>\n",
              "      <td>1993</td>\n",
              "      <td>961</td>\n",
              "      <td>0</td>\n",
              "      <td>0</td>\n",
              "      <td>1</td>\n",
              "      <td>0</td>\n",
              "    </tr>\n",
              "    <tr>\n",
              "      <th>31</th>\n",
              "      <td>1993-10-01</td>\n",
              "      <td>3373.000000</td>\n",
              "      <td>32</td>\n",
              "      <td>8.123558</td>\n",
              "      <td>1993-10-01</td>\n",
              "      <td>Oct</td>\n",
              "      <td>1993</td>\n",
              "      <td>1024</td>\n",
              "      <td>0</td>\n",
              "      <td>0</td>\n",
              "      <td>0</td>\n",
              "      <td>1</td>\n",
              "    </tr>\n",
              "    <tr>\n",
              "      <th>32</th>\n",
              "      <td>1994-01-01</td>\n",
              "      <td>3352.000000</td>\n",
              "      <td>33</td>\n",
              "      <td>8.117312</td>\n",
              "      <td>1994-01-01</td>\n",
              "      <td>Jan</td>\n",
              "      <td>1994</td>\n",
              "      <td>1089</td>\n",
              "      <td>0</td>\n",
              "      <td>1</td>\n",
              "      <td>0</td>\n",
              "      <td>0</td>\n",
              "    </tr>\n",
              "    <tr>\n",
              "      <th>33</th>\n",
              "      <td>1994-04-01</td>\n",
              "      <td>4342.000000</td>\n",
              "      <td>34</td>\n",
              "      <td>8.376090</td>\n",
              "      <td>1994-04-01</td>\n",
              "      <td>Apr</td>\n",
              "      <td>1994</td>\n",
              "      <td>1156</td>\n",
              "      <td>1</td>\n",
              "      <td>0</td>\n",
              "      <td>0</td>\n",
              "      <td>0</td>\n",
              "    </tr>\n",
              "    <tr>\n",
              "      <th>34</th>\n",
              "      <td>1994-07-01</td>\n",
              "      <td>4461.000000</td>\n",
              "      <td>35</td>\n",
              "      <td>8.403128</td>\n",
              "      <td>1994-07-01</td>\n",
              "      <td>Jul</td>\n",
              "      <td>1994</td>\n",
              "      <td>1225</td>\n",
              "      <td>0</td>\n",
              "      <td>0</td>\n",
              "      <td>1</td>\n",
              "      <td>0</td>\n",
              "    </tr>\n",
              "    <tr>\n",
              "      <th>35</th>\n",
              "      <td>1994-10-01</td>\n",
              "      <td>4017.000000</td>\n",
              "      <td>36</td>\n",
              "      <td>8.298291</td>\n",
              "      <td>1994-10-01</td>\n",
              "      <td>Oct</td>\n",
              "      <td>1994</td>\n",
              "      <td>1296</td>\n",
              "      <td>0</td>\n",
              "      <td>0</td>\n",
              "      <td>0</td>\n",
              "      <td>1</td>\n",
              "    </tr>\n",
              "    <tr>\n",
              "      <th>36</th>\n",
              "      <td>1995-01-01</td>\n",
              "      <td>3854.000000</td>\n",
              "      <td>37</td>\n",
              "      <td>8.256867</td>\n",
              "      <td>1995-01-01</td>\n",
              "      <td>Jan</td>\n",
              "      <td>1995</td>\n",
              "      <td>1369</td>\n",
              "      <td>0</td>\n",
              "      <td>1</td>\n",
              "      <td>0</td>\n",
              "      <td>0</td>\n",
              "    </tr>\n",
              "    <tr>\n",
              "      <th>37</th>\n",
              "      <td>1995-04-01</td>\n",
              "      <td>4936.000000</td>\n",
              "      <td>38</td>\n",
              "      <td>8.504311</td>\n",
              "      <td>1995-04-01</td>\n",
              "      <td>Apr</td>\n",
              "      <td>1995</td>\n",
              "      <td>1444</td>\n",
              "      <td>1</td>\n",
              "      <td>0</td>\n",
              "      <td>0</td>\n",
              "      <td>0</td>\n",
              "    </tr>\n",
              "    <tr>\n",
              "      <th>38</th>\n",
              "      <td>1995-07-01</td>\n",
              "      <td>4895.000000</td>\n",
              "      <td>39</td>\n",
              "      <td>8.495970</td>\n",
              "      <td>1995-07-01</td>\n",
              "      <td>Jul</td>\n",
              "      <td>1995</td>\n",
              "      <td>1521</td>\n",
              "      <td>0</td>\n",
              "      <td>0</td>\n",
              "      <td>1</td>\n",
              "      <td>0</td>\n",
              "    </tr>\n",
              "    <tr>\n",
              "      <th>39</th>\n",
              "      <td>1995-10-01</td>\n",
              "      <td>4333.000000</td>\n",
              "      <td>40</td>\n",
              "      <td>8.374015</td>\n",
              "      <td>1995-10-01</td>\n",
              "      <td>Oct</td>\n",
              "      <td>1995</td>\n",
              "      <td>1600</td>\n",
              "      <td>0</td>\n",
              "      <td>0</td>\n",
              "      <td>0</td>\n",
              "      <td>1</td>\n",
              "    </tr>\n",
              "    <tr>\n",
              "      <th>40</th>\n",
              "      <td>1996-01-01</td>\n",
              "      <td>4194.000000</td>\n",
              "      <td>41</td>\n",
              "      <td>8.341410</td>\n",
              "      <td>1996-01-01</td>\n",
              "      <td>Jan</td>\n",
              "      <td>1996</td>\n",
              "      <td>1681</td>\n",
              "      <td>0</td>\n",
              "      <td>1</td>\n",
              "      <td>0</td>\n",
              "      <td>0</td>\n",
              "    </tr>\n",
              "    <tr>\n",
              "      <th>41</th>\n",
              "      <td>1996-04-01</td>\n",
              "      <td>5253.000000</td>\n",
              "      <td>42</td>\n",
              "      <td>8.566555</td>\n",
              "      <td>1996-04-01</td>\n",
              "      <td>Apr</td>\n",
              "      <td>1996</td>\n",
              "      <td>1764</td>\n",
              "      <td>1</td>\n",
              "      <td>0</td>\n",
              "      <td>0</td>\n",
              "      <td>0</td>\n",
              "    </tr>\n",
              "  </tbody>\n",
              "</table>\n",
              "</div>"
            ],
            "text/plain": [
              "       period        Sales   t  log(Sales)  ... Apr Jan Jul  Oct\n",
              "0  1986-01-01  1734.827000   1    7.458663  ...   0   1   0    0\n",
              "1  1986-04-01  2244.960999   2    7.716443  ...   1   0   0    0\n",
              "2  1986-07-01  2533.804993   3    7.837477  ...   0   0   1    0\n",
              "3  1986-10-01  2154.962997   4    7.675529  ...   0   0   0    1\n",
              "4  1987-01-01  1547.818996   5    7.344602  ...   0   1   0    0\n",
              "5  1987-04-01  2104.411995   6    7.651791  ...   1   0   0    0\n",
              "6  1987-07-01  2014.362999   7    7.608058  ...   0   0   1    0\n",
              "7  1987-10-01  1991.746998   8    7.596767  ...   0   0   0    1\n",
              "8  1988-01-01  1869.049999   9    7.533186  ...   0   1   0    0\n",
              "9  1988-04-01  2313.631996  10    7.746574  ...   1   0   0    0\n",
              "10 1988-07-01  2128.320000  11    7.663088  ...   0   0   1    0\n",
              "11 1988-10-01  2026.828999  12    7.614228  ...   0   0   0    1\n",
              "12 1989-01-01  1910.603996  13    7.555175  ...   0   1   0    0\n",
              "13 1989-04-01  2331.164993  14    7.754123  ...   1   0   0    0\n",
              "14 1989-07-01  2206.549995  15    7.699185  ...   0   0   1    0\n",
              "15 1989-10-01  2173.967995  16    7.684309  ...   0   0   0    1\n",
              "16 1990-01-01  2148.278000  17    7.672422  ...   0   1   0    0\n",
              "17 1990-04-01  2739.307999  18    7.915461  ...   1   0   0    0\n",
              "18 1990-07-01  2792.753998  19    7.934783  ...   0   0   1    0\n",
              "19 1990-10-01  2556.009995  20    7.846203  ...   0   0   0    1\n",
              "20 1991-01-01  2480.973999  21    7.816407  ...   0   1   0    0\n",
              "21 1991-04-01  3039.522995  22    8.019456  ...   1   0   0    0\n",
              "22 1991-07-01  3172.115997  23    8.062154  ...   0   0   1    0\n",
              "23 1991-10-01  2879.000999  24    7.965199  ...   0   0   0    1\n",
              "24 1992-01-01  2772.000000  25    7.927324  ...   0   1   0    0\n",
              "25 1992-04-01  3550.000000  26    8.174703  ...   1   0   0    0\n",
              "26 1992-07-01  3508.000000  27    8.162801  ...   0   0   1    0\n",
              "27 1992-10-01  3243.859993  28    8.084519  ...   0   0   0    1\n",
              "28 1993-01-01  3056.000000  29    8.024862  ...   0   1   0    0\n",
              "29 1993-04-01  3899.000000  30    8.268475  ...   1   0   0    0\n",
              "30 1993-07-01  3629.000000  31    8.196712  ...   0   0   1    0\n",
              "31 1993-10-01  3373.000000  32    8.123558  ...   0   0   0    1\n",
              "32 1994-01-01  3352.000000  33    8.117312  ...   0   1   0    0\n",
              "33 1994-04-01  4342.000000  34    8.376090  ...   1   0   0    0\n",
              "34 1994-07-01  4461.000000  35    8.403128  ...   0   0   1    0\n",
              "35 1994-10-01  4017.000000  36    8.298291  ...   0   0   0    1\n",
              "36 1995-01-01  3854.000000  37    8.256867  ...   0   1   0    0\n",
              "37 1995-04-01  4936.000000  38    8.504311  ...   1   0   0    0\n",
              "38 1995-07-01  4895.000000  39    8.495970  ...   0   0   1    0\n",
              "39 1995-10-01  4333.000000  40    8.374015  ...   0   0   0    1\n",
              "40 1996-01-01  4194.000000  41    8.341410  ...   0   1   0    0\n",
              "41 1996-04-01  5253.000000  42    8.566555  ...   1   0   0    0\n",
              "\n",
              "[42 rows x 12 columns]"
            ]
          },
          "metadata": {
            "tags": []
          },
          "execution_count": 150
        }
      ]
    },
    {
      "cell_type": "code",
      "metadata": {
        "colab": {
          "base_uri": "https://localhost:8080/"
        },
        "id": "pgHZT4tJPcU4",
        "outputId": "9dfbec08-d910-4b60-d936-1ee5102764ad"
      },
      "source": [
        "seriesmodel.shape"
      ],
      "execution_count": null,
      "outputs": [
        {
          "output_type": "execute_result",
          "data": {
            "text/plain": [
              "(42, 12)"
            ]
          },
          "metadata": {
            "tags": []
          },
          "execution_count": 151
        }
      ]
    },
    {
      "cell_type": "code",
      "metadata": {
        "colab": {
          "base_uri": "https://localhost:8080/",
          "height": 514
        },
        "id": "uM4jiZIQQpro",
        "outputId": "92882983-7cd1-4c25-e426-8ad61f0ddb12"
      },
      "source": [
        "plt.figure(figsize=(12,8))\n",
        "heatmap_y_month = pd.pivot_table(data=seriesmodel,values=\"Sales\",index=\"year\",columns=\"month\",aggfunc=\"mean\",fill_value=0)\n",
        "sns.heatmap(heatmap_y_month,annot=True,fmt=\"g\") #fmt is format of the grid values\n"
      ],
      "execution_count": null,
      "outputs": [
        {
          "output_type": "execute_result",
          "data": {
            "text/plain": [
              "<matplotlib.axes._subplots.AxesSubplot at 0x7f3356eb25d0>"
            ]
          },
          "metadata": {
            "tags": []
          },
          "execution_count": 152
        },
        {
          "output_type": "display_data",
          "data": {
            "image/png": "[encoded data removed]",
            "text/plain": [
              "<Figure size 864x576 with 2 Axes>"
            ]
          },
          "metadata": {
            "tags": [],
            "needs_background": "light"
          }
        }
      ]
    },
    {
      "cell_type": "code",
      "metadata": {
        "colab": {
          "base_uri": "https://localhost:8080/",
          "height": 406
        },
        "id": "NMrfb9nTQ31y",
        "outputId": "a18a65c0-1e42-41ee-8cab-5ca22e8ddac8"
      },
      "source": [
        "# Boxplot for ever\n",
        "plt.figure(figsize=(8,6))\n",
        "plt.subplot(211)\n",
        "sns.boxplot(x=\"month\",y=\"Sales\",data=seriesmodel)\n",
        "plt.subplot(212)\n",
        "sns.boxplot(x=\"year\",y=\"Sales\",data=seriesmodel)"
      ],
      "execution_count": null,
      "outputs": [
        {
          "output_type": "execute_result",
          "data": {
            "text/plain": [
              "<matplotlib.axes._subplots.AxesSubplot at 0x7f33571214d0>"
            ]
          },
          "metadata": {
            "tags": []
          },
          "execution_count": 153
        },
        {
          "output_type": "display_data",
          "data": {
            "image/png": "[encoded data removed]",
            "text/plain": [
              "<Figure size 576x432 with 2 Axes>"
            ]
          },
          "metadata": {
            "tags": [],
            "needs_background": "light"
          }
        }
      ]
    },
    {
      "cell_type": "code",
      "metadata": {
        "colab": {
          "base_uri": "https://localhost:8080/",
          "height": 242
        },
        "id": "grj2cfV9RRsz",
        "outputId": "85b80a2b-8921-4c7c-8db6-ba1e924f1b3c"
      },
      "source": [
        "plt.figure(figsize=(12,3))\n",
        "sns.lineplot(x=\"year\",y=\"Sales\",data=seriesmodel)"
      ],
      "execution_count": null,
      "outputs": [
        {
          "output_type": "execute_result",
          "data": {
            "text/plain": [
              "<matplotlib.axes._subplots.AxesSubplot at 0x7f33572f79d0>"
            ]
          },
          "metadata": {
            "tags": []
          },
          "execution_count": 154
        },
        {
          "output_type": "display_data",
          "data": {
            "image/png": "[encoded data removed]",
            "text/plain": [
              "<Figure size 864x216 with 1 Axes>"
            ]
          },
          "metadata": {
            "tags": [],
            "needs_background": "light"
          }
        }
      ]
    },
    {
      "cell_type": "markdown",
      "metadata": {
        "id": "TNBthUBgRgJe"
      },
      "source": [
        "Splitting data"
      ]
    },
    {
      "cell_type": "code",
      "metadata": {
        "id": "iibenn7SRSP8"
      },
      "source": [
        "Train = seriesmodel.head(30)\n",
        "Test = seriesmodel.tail(12)"
      ],
      "execution_count": null,
      "outputs": []
    },
    {
      "cell_type": "code",
      "metadata": {
        "colab": {
          "base_uri": "https://localhost:8080/",
          "height": 935
        },
        "id": "8ThIsNOJiOCj",
        "outputId": "68315db2-f6fa-4ceb-e110-1c0afff7417a"
      },
      "source": [
        "Train"
      ],
      "execution_count": null,
      "outputs": [
        {
          "output_type": "execute_result",
          "data": {
            "text/html": [
              "<div>\n",
              "<style scoped>\n",
              "    .dataframe tbody tr th:only-of-type {\n",
              "        vertical-align: middle;\n",
              "    }\n",
              "\n",
              "    .dataframe tbody tr th {\n",
              "        vertical-align: top;\n",
              "    }\n",
              "\n",
              "    .dataframe thead th {\n",
              "        text-align: right;\n",
              "    }\n",
              "</style>\n",
              "<table border=\"1\" class=\"dataframe\">\n",
              "  <thead>\n",
              "    <tr style=\"text-align: right;\">\n",
              "      <th></th>\n",
              "      <th>period</th>\n",
              "      <th>Sales</th>\n",
              "      <th>t</th>\n",
              "      <th>log(Sales)</th>\n",
              "      <th>Date</th>\n",
              "      <th>month</th>\n",
              "      <th>year</th>\n",
              "      <th>t-square</th>\n",
              "      <th>Apr</th>\n",
              "      <th>Jan</th>\n",
              "      <th>Jul</th>\n",
              "      <th>Oct</th>\n",
              "    </tr>\n",
              "  </thead>\n",
              "  <tbody>\n",
              "    <tr>\n",
              "      <th>0</th>\n",
              "      <td>1986-01-01</td>\n",
              "      <td>1734.827000</td>\n",
              "      <td>1</td>\n",
              "      <td>7.458663</td>\n",
              "      <td>1986-01-01</td>\n",
              "      <td>Jan</td>\n",
              "      <td>1986</td>\n",
              "      <td>1</td>\n",
              "      <td>0</td>\n",
              "      <td>1</td>\n",
              "      <td>0</td>\n",
              "      <td>0</td>\n",
              "    </tr>\n",
              "    <tr>\n",
              "      <th>1</th>\n",
              "      <td>1986-04-01</td>\n",
              "      <td>2244.960999</td>\n",
              "      <td>2</td>\n",
              "      <td>7.716443</td>\n",
              "      <td>1986-04-01</td>\n",
              "      <td>Apr</td>\n",
              "      <td>1986</td>\n",
              "      <td>4</td>\n",
              "      <td>1</td>\n",
              "      <td>0</td>\n",
              "      <td>0</td>\n",
              "      <td>0</td>\n",
              "    </tr>\n",
              "    <tr>\n",
              "      <th>2</th>\n",
              "      <td>1986-07-01</td>\n",
              "      <td>2533.804993</td>\n",
              "      <td>3</td>\n",
              "      <td>7.837477</td>\n",
              "      <td>1986-07-01</td>\n",
              "      <td>Jul</td>\n",
              "      <td>1986</td>\n",
              "      <td>9</td>\n",
              "      <td>0</td>\n",
              "      <td>0</td>\n",
              "      <td>1</td>\n",
              "      <td>0</td>\n",
              "    </tr>\n",
              "    <tr>\n",
              "      <th>3</th>\n",
              "      <td>1986-10-01</td>\n",
              "      <td>2154.962997</td>\n",
              "      <td>4</td>\n",
              "      <td>7.675529</td>\n",
              "      <td>1986-10-01</td>\n",
              "      <td>Oct</td>\n",
              "      <td>1986</td>\n",
              "      <td>16</td>\n",
              "      <td>0</td>\n",
              "      <td>0</td>\n",
              "      <td>0</td>\n",
              "      <td>1</td>\n",
              "    </tr>\n",
              "    <tr>\n",
              "      <th>4</th>\n",
              "      <td>1987-01-01</td>\n",
              "      <td>1547.818996</td>\n",
              "      <td>5</td>\n",
              "      <td>7.344602</td>\n",
              "      <td>1987-01-01</td>\n",
              "      <td>Jan</td>\n",
              "      <td>1987</td>\n",
              "      <td>25</td>\n",
              "      <td>0</td>\n",
              "      <td>1</td>\n",
              "      <td>0</td>\n",
              "      <td>0</td>\n",
              "    </tr>\n",
              "    <tr>\n",
              "      <th>5</th>\n",
              "      <td>1987-04-01</td>\n",
              "      <td>2104.411995</td>\n",
              "      <td>6</td>\n",
              "      <td>7.651791</td>\n",
              "      <td>1987-04-01</td>\n",
              "      <td>Apr</td>\n",
              "      <td>1987</td>\n",
              "      <td>36</td>\n",
              "      <td>1</td>\n",
              "      <td>0</td>\n",
              "      <td>0</td>\n",
              "      <td>0</td>\n",
              "    </tr>\n",
              "    <tr>\n",
              "      <th>6</th>\n",
              "      <td>1987-07-01</td>\n",
              "      <td>2014.362999</td>\n",
              "      <td>7</td>\n",
              "      <td>7.608058</td>\n",
              "      <td>1987-07-01</td>\n",
              "      <td>Jul</td>\n",
              "      <td>1987</td>\n",
              "      <td>49</td>\n",
              "      <td>0</td>\n",
              "      <td>0</td>\n",
              "      <td>1</td>\n",
              "      <td>0</td>\n",
              "    </tr>\n",
              "    <tr>\n",
              "      <th>7</th>\n",
              "      <td>1987-10-01</td>\n",
              "      <td>1991.746998</td>\n",
              "      <td>8</td>\n",
              "      <td>7.596767</td>\n",
              "      <td>1987-10-01</td>\n",
              "      <td>Oct</td>\n",
              "      <td>1987</td>\n",
              "      <td>64</td>\n",
              "      <td>0</td>\n",
              "      <td>0</td>\n",
              "      <td>0</td>\n",
              "      <td>1</td>\n",
              "    </tr>\n",
              "    <tr>\n",
              "      <th>8</th>\n",
              "      <td>1988-01-01</td>\n",
              "      <td>1869.049999</td>\n",
              "      <td>9</td>\n",
              "      <td>7.533186</td>\n",
              "      <td>1988-01-01</td>\n",
              "      <td>Jan</td>\n",
              "      <td>1988</td>\n",
              "      <td>81</td>\n",
              "      <td>0</td>\n",
              "      <td>1</td>\n",
              "      <td>0</td>\n",
              "      <td>0</td>\n",
              "    </tr>\n",
              "    <tr>\n",
              "      <th>9</th>\n",
              "      <td>1988-04-01</td>\n",
              "      <td>2313.631996</td>\n",
              "      <td>10</td>\n",
              "      <td>7.746574</td>\n",
              "      <td>1988-04-01</td>\n",
              "      <td>Apr</td>\n",
              "      <td>1988</td>\n",
              "      <td>100</td>\n",
              "      <td>1</td>\n",
              "      <td>0</td>\n",
              "      <td>0</td>\n",
              "      <td>0</td>\n",
              "    </tr>\n",
              "    <tr>\n",
              "      <th>10</th>\n",
              "      <td>1988-07-01</td>\n",
              "      <td>2128.320000</td>\n",
              "      <td>11</td>\n",
              "      <td>7.663088</td>\n",
              "      <td>1988-07-01</td>\n",
              "      <td>Jul</td>\n",
              "      <td>1988</td>\n",
              "      <td>121</td>\n",
              "      <td>0</td>\n",
              "      <td>0</td>\n",
              "      <td>1</td>\n",
              "      <td>0</td>\n",
              "    </tr>\n",
              "    <tr>\n",
              "      <th>11</th>\n",
              "      <td>1988-10-01</td>\n",
              "      <td>2026.828999</td>\n",
              "      <td>12</td>\n",
              "      <td>7.614228</td>\n",
              "      <td>1988-10-01</td>\n",
              "      <td>Oct</td>\n",
              "      <td>1988</td>\n",
              "      <td>144</td>\n",
              "      <td>0</td>\n",
              "      <td>0</td>\n",
              "      <td>0</td>\n",
              "      <td>1</td>\n",
              "    </tr>\n",
              "    <tr>\n",
              "      <th>12</th>\n",
              "      <td>1989-01-01</td>\n",
              "      <td>1910.603996</td>\n",
              "      <td>13</td>\n",
              "      <td>7.555175</td>\n",
              "      <td>1989-01-01</td>\n",
              "      <td>Jan</td>\n",
              "      <td>1989</td>\n",
              "      <td>169</td>\n",
              "      <td>0</td>\n",
              "      <td>1</td>\n",
              "      <td>0</td>\n",
              "      <td>0</td>\n",
              "    </tr>\n",
              "    <tr>\n",
              "      <th>13</th>\n",
              "      <td>1989-04-01</td>\n",
              "      <td>2331.164993</td>\n",
              "      <td>14</td>\n",
              "      <td>7.754123</td>\n",
              "      <td>1989-04-01</td>\n",
              "      <td>Apr</td>\n",
              "      <td>1989</td>\n",
              "      <td>196</td>\n",
              "      <td>1</td>\n",
              "      <td>0</td>\n",
              "      <td>0</td>\n",
              "      <td>0</td>\n",
              "    </tr>\n",
              "    <tr>\n",
              "      <th>14</th>\n",
              "      <td>1989-07-01</td>\n",
              "      <td>2206.549995</td>\n",
              "      <td>15</td>\n",
              "      <td>7.699185</td>\n",
              "      <td>1989-07-01</td>\n",
              "      <td>Jul</td>\n",
              "      <td>1989</td>\n",
              "      <td>225</td>\n",
              "      <td>0</td>\n",
              "      <td>0</td>\n",
              "      <td>1</td>\n",
              "      <td>0</td>\n",
              "    </tr>\n",
              "    <tr>\n",
              "      <th>15</th>\n",
              "      <td>1989-10-01</td>\n",
              "      <td>2173.967995</td>\n",
              "      <td>16</td>\n",
              "      <td>7.684309</td>\n",
              "      <td>1989-10-01</td>\n",
              "      <td>Oct</td>\n",
              "      <td>1989</td>\n",
              "      <td>256</td>\n",
              "      <td>0</td>\n",
              "      <td>0</td>\n",
              "      <td>0</td>\n",
              "      <td>1</td>\n",
              "    </tr>\n",
              "    <tr>\n",
              "      <th>16</th>\n",
              "      <td>1990-01-01</td>\n",
              "      <td>2148.278000</td>\n",
              "      <td>17</td>\n",
              "      <td>7.672422</td>\n",
              "      <td>1990-01-01</td>\n",
              "      <td>Jan</td>\n",
              "      <td>1990</td>\n",
              "      <td>289</td>\n",
              "      <td>0</td>\n",
              "      <td>1</td>\n",
              "      <td>0</td>\n",
              "      <td>0</td>\n",
              "    </tr>\n",
              "    <tr>\n",
              "      <th>17</th>\n",
              "      <td>1990-04-01</td>\n",
              "      <td>2739.307999</td>\n",
              "      <td>18</td>\n",
              "      <td>7.915461</td>\n",
              "      <td>1990-04-01</td>\n",
              "      <td>Apr</td>\n",
              "      <td>1990</td>\n",
              "      <td>324</td>\n",
              "      <td>1</td>\n",
              "      <td>0</td>\n",
              "      <td>0</td>\n",
              "      <td>0</td>\n",
              "    </tr>\n",
              "    <tr>\n",
              "      <th>18</th>\n",
              "      <td>1990-07-01</td>\n",
              "      <td>2792.753998</td>\n",
              "      <td>19</td>\n",
              "      <td>7.934783</td>\n",
              "      <td>1990-07-01</td>\n",
              "      <td>Jul</td>\n",
              "      <td>1990</td>\n",
              "      <td>361</td>\n",
              "      <td>0</td>\n",
              "      <td>0</td>\n",
              "      <td>1</td>\n",
              "      <td>0</td>\n",
              "    </tr>\n",
              "    <tr>\n",
              "      <th>19</th>\n",
              "      <td>1990-10-01</td>\n",
              "      <td>2556.009995</td>\n",
              "      <td>20</td>\n",
              "      <td>7.846203</td>\n",
              "      <td>1990-10-01</td>\n",
              "      <td>Oct</td>\n",
              "      <td>1990</td>\n",
              "      <td>400</td>\n",
              "      <td>0</td>\n",
              "      <td>0</td>\n",
              "      <td>0</td>\n",
              "      <td>1</td>\n",
              "    </tr>\n",
              "    <tr>\n",
              "      <th>20</th>\n",
              "      <td>1991-01-01</td>\n",
              "      <td>2480.973999</td>\n",
              "      <td>21</td>\n",
              "      <td>7.816407</td>\n",
              "      <td>1991-01-01</td>\n",
              "      <td>Jan</td>\n",
              "      <td>1991</td>\n",
              "      <td>441</td>\n",
              "      <td>0</td>\n",
              "      <td>1</td>\n",
              "      <td>0</td>\n",
              "      <td>0</td>\n",
              "    </tr>\n",
              "    <tr>\n",
              "      <th>21</th>\n",
              "      <td>1991-04-01</td>\n",
              "      <td>3039.522995</td>\n",
              "      <td>22</td>\n",
              "      <td>8.019456</td>\n",
              "      <td>1991-04-01</td>\n",
              "      <td>Apr</td>\n",
              "      <td>1991</td>\n",
              "      <td>484</td>\n",
              "      <td>1</td>\n",
              "      <td>0</td>\n",
              "      <td>0</td>\n",
              "      <td>0</td>\n",
              "    </tr>\n",
              "    <tr>\n",
              "      <th>22</th>\n",
              "      <td>1991-07-01</td>\n",
              "      <td>3172.115997</td>\n",
              "      <td>23</td>\n",
              "      <td>8.062154</td>\n",
              "      <td>1991-07-01</td>\n",
              "      <td>Jul</td>\n",
              "      <td>1991</td>\n",
              "      <td>529</td>\n",
              "      <td>0</td>\n",
              "      <td>0</td>\n",
              "      <td>1</td>\n",
              "      <td>0</td>\n",
              "    </tr>\n",
              "    <tr>\n",
              "      <th>23</th>\n",
              "      <td>1991-10-01</td>\n",
              "      <td>2879.000999</td>\n",
              "      <td>24</td>\n",
              "      <td>7.965199</td>\n",
              "      <td>1991-10-01</td>\n",
              "      <td>Oct</td>\n",
              "      <td>1991</td>\n",
              "      <td>576</td>\n",
              "      <td>0</td>\n",
              "      <td>0</td>\n",
              "      <td>0</td>\n",
              "      <td>1</td>\n",
              "    </tr>\n",
              "    <tr>\n",
              "      <th>24</th>\n",
              "      <td>1992-01-01</td>\n",
              "      <td>2772.000000</td>\n",
              "      <td>25</td>\n",
              "      <td>7.927324</td>\n",
              "      <td>1992-01-01</td>\n",
              "      <td>Jan</td>\n",
              "      <td>1992</td>\n",
              "      <td>625</td>\n",
              "      <td>0</td>\n",
              "      <td>1</td>\n",
              "      <td>0</td>\n",
              "      <td>0</td>\n",
              "    </tr>\n",
              "    <tr>\n",
              "      <th>25</th>\n",
              "      <td>1992-04-01</td>\n",
              "      <td>3550.000000</td>\n",
              "      <td>26</td>\n",
              "      <td>8.174703</td>\n",
              "      <td>1992-04-01</td>\n",
              "      <td>Apr</td>\n",
              "      <td>1992</td>\n",
              "      <td>676</td>\n",
              "      <td>1</td>\n",
              "      <td>0</td>\n",
              "      <td>0</td>\n",
              "      <td>0</td>\n",
              "    </tr>\n",
              "    <tr>\n",
              "      <th>26</th>\n",
              "      <td>1992-07-01</td>\n",
              "      <td>3508.000000</td>\n",
              "      <td>27</td>\n",
              "      <td>8.162801</td>\n",
              "      <td>1992-07-01</td>\n",
              "      <td>Jul</td>\n",
              "      <td>1992</td>\n",
              "      <td>729</td>\n",
              "      <td>0</td>\n",
              "      <td>0</td>\n",
              "      <td>1</td>\n",
              "      <td>0</td>\n",
              "    </tr>\n",
              "    <tr>\n",
              "      <th>27</th>\n",
              "      <td>1992-10-01</td>\n",
              "      <td>3243.859993</td>\n",
              "      <td>28</td>\n",
              "      <td>8.084519</td>\n",
              "      <td>1992-10-01</td>\n",
              "      <td>Oct</td>\n",
              "      <td>1992</td>\n",
              "      <td>784</td>\n",
              "      <td>0</td>\n",
              "      <td>0</td>\n",
              "      <td>0</td>\n",
              "      <td>1</td>\n",
              "    </tr>\n",
              "    <tr>\n",
              "      <th>28</th>\n",
              "      <td>1993-01-01</td>\n",
              "      <td>3056.000000</td>\n",
              "      <td>29</td>\n",
              "      <td>8.024862</td>\n",
              "      <td>1993-01-01</td>\n",
              "      <td>Jan</td>\n",
              "      <td>1993</td>\n",
              "      <td>841</td>\n",
              "      <td>0</td>\n",
              "      <td>1</td>\n",
              "      <td>0</td>\n",
              "      <td>0</td>\n",
              "    </tr>\n",
              "    <tr>\n",
              "      <th>29</th>\n",
              "      <td>1993-04-01</td>\n",
              "      <td>3899.000000</td>\n",
              "      <td>30</td>\n",
              "      <td>8.268475</td>\n",
              "      <td>1993-04-01</td>\n",
              "      <td>Apr</td>\n",
              "      <td>1993</td>\n",
              "      <td>900</td>\n",
              "      <td>1</td>\n",
              "      <td>0</td>\n",
              "      <td>0</td>\n",
              "      <td>0</td>\n",
              "    </tr>\n",
              "  </tbody>\n",
              "</table>\n",
              "</div>"
            ],
            "text/plain": [
              "       period        Sales   t  log(Sales)  ... Apr Jan Jul  Oct\n",
              "0  1986-01-01  1734.827000   1    7.458663  ...   0   1   0    0\n",
              "1  1986-04-01  2244.960999   2    7.716443  ...   1   0   0    0\n",
              "2  1986-07-01  2533.804993   3    7.837477  ...   0   0   1    0\n",
              "3  1986-10-01  2154.962997   4    7.675529  ...   0   0   0    1\n",
              "4  1987-01-01  1547.818996   5    7.344602  ...   0   1   0    0\n",
              "5  1987-04-01  2104.411995   6    7.651791  ...   1   0   0    0\n",
              "6  1987-07-01  2014.362999   7    7.608058  ...   0   0   1    0\n",
              "7  1987-10-01  1991.746998   8    7.596767  ...   0   0   0    1\n",
              "8  1988-01-01  1869.049999   9    7.533186  ...   0   1   0    0\n",
              "9  1988-04-01  2313.631996  10    7.746574  ...   1   0   0    0\n",
              "10 1988-07-01  2128.320000  11    7.663088  ...   0   0   1    0\n",
              "11 1988-10-01  2026.828999  12    7.614228  ...   0   0   0    1\n",
              "12 1989-01-01  1910.603996  13    7.555175  ...   0   1   0    0\n",
              "13 1989-04-01  2331.164993  14    7.754123  ...   1   0   0    0\n",
              "14 1989-07-01  2206.549995  15    7.699185  ...   0   0   1    0\n",
              "15 1989-10-01  2173.967995  16    7.684309  ...   0   0   0    1\n",
              "16 1990-01-01  2148.278000  17    7.672422  ...   0   1   0    0\n",
              "17 1990-04-01  2739.307999  18    7.915461  ...   1   0   0    0\n",
              "18 1990-07-01  2792.753998  19    7.934783  ...   0   0   1    0\n",
              "19 1990-10-01  2556.009995  20    7.846203  ...   0   0   0    1\n",
              "20 1991-01-01  2480.973999  21    7.816407  ...   0   1   0    0\n",
              "21 1991-04-01  3039.522995  22    8.019456  ...   1   0   0    0\n",
              "22 1991-07-01  3172.115997  23    8.062154  ...   0   0   1    0\n",
              "23 1991-10-01  2879.000999  24    7.965199  ...   0   0   0    1\n",
              "24 1992-01-01  2772.000000  25    7.927324  ...   0   1   0    0\n",
              "25 1992-04-01  3550.000000  26    8.174703  ...   1   0   0    0\n",
              "26 1992-07-01  3508.000000  27    8.162801  ...   0   0   1    0\n",
              "27 1992-10-01  3243.859993  28    8.084519  ...   0   0   0    1\n",
              "28 1993-01-01  3056.000000  29    8.024862  ...   0   1   0    0\n",
              "29 1993-04-01  3899.000000  30    8.268475  ...   1   0   0    0\n",
              "\n",
              "[30 rows x 12 columns]"
            ]
          },
          "metadata": {
            "tags": []
          },
          "execution_count": 156
        }
      ]
    },
    {
      "cell_type": "code",
      "metadata": {
        "colab": {
          "base_uri": "https://localhost:8080/"
        },
        "id": "AJx8eqHqRSU_",
        "outputId": "a397a4e9-3317-4068-d48f-b500698222df"
      },
      "source": [
        "#Linear Model\n",
        "import statsmodels.formula.api as smf \n",
        "\n",
        "linear_model = smf.ols('Sales~t',data=Train).fit()\n",
        "pred_linear =  pd.Series(linear_model.predict(pd.DataFrame(Test['t'])))\n",
        "rmse_linear = np.sqrt(np.mean((np.array(Test['Sales'])-np.array(pred_linear))**2))\n",
        "rmse_linear"
      ],
      "execution_count": null,
      "outputs": [
        {
          "output_type": "execute_result",
          "data": {
            "text/plain": [
              "714.0144483281364"
            ]
          },
          "metadata": {
            "tags": []
          },
          "execution_count": 157
        }
      ]
    },
    {
      "cell_type": "code",
      "metadata": {
        "colab": {
          "base_uri": "https://localhost:8080/"
        },
        "id": "EQjabDjURSZD",
        "outputId": "0fefac39-0c86-46b2-8435-c4a102e6120a"
      },
      "source": [
        "#Exponential\n",
        "\n",
        "Exp = smf.ols('log(Sales)~t',data=Train).fit()\n",
        "pred_Exp = pd.Series(Exp.predict(pd.DataFrame(Test['t'])))\n",
        "rmse_Exp = np.sqrt(np.mean((np.array(Test['Sales'])-np.array(np.exp(pred_Exp)))**2))\n",
        "rmse_Exp\n"
      ],
      "execution_count": null,
      "outputs": [
        {
          "output_type": "execute_result",
          "data": {
            "text/plain": [
              "552.2821039079417"
            ]
          },
          "metadata": {
            "tags": []
          },
          "execution_count": 158
        }
      ]
    },
    {
      "cell_type": "code",
      "metadata": {
        "colab": {
          "base_uri": "https://localhost:8080/"
        },
        "id": "wun2-szDRSc7",
        "outputId": "3e4b0b8c-7721-48bf-804e-7ff096044693"
      },
      "source": [
        "#Quadratic \n",
        "\n",
        "Quad = smf.ols('Sales~t+t-square',data=Train).fit()\n",
        "pred_Quad = pd.Series(Quad.predict(Test[[\"t\",\"t-square\"]]))\n",
        "rmse_Quad = np.sqrt(np.mean((np.array(Test['Sales'])-np.array(pred_Quad))**2))\n",
        "rmse_Quad"
      ],
      "execution_count": null,
      "outputs": [
        {
          "output_type": "execute_result",
          "data": {
            "text/plain": [
              "714.0144483281364"
            ]
          },
          "metadata": {
            "tags": []
          },
          "execution_count": 159
        }
      ]
    },
    {
      "cell_type": "code",
      "metadata": {
        "colab": {
          "base_uri": "https://localhost:8080/"
        },
        "id": "sxNRt9NTS9aD",
        "outputId": "d2b39495-b06f-4f2a-e89b-7f197fd98aaf"
      },
      "source": [
        "#Additive seasonality \n",
        "\n",
        "add_sea = smf.ols('Sales~Jan+Apr+Jul+Oct',data=Train).fit()\n",
        "pred_add_sea = pd.Series(add_sea.predict(Test[['Jan','Apr','Jul','Oct']]))\n",
        "rmse_add_sea = np.sqrt(np.mean((np.array(Test['Sales'])-np.array(pred_add_sea))**2))\n",
        "rmse_add_sea"
      ],
      "execution_count": null,
      "outputs": [
        {
          "output_type": "execute_result",
          "data": {
            "text/plain": [
              "1778.0065467941292"
            ]
          },
          "metadata": {
            "tags": []
          },
          "execution_count": 161
        }
      ]
    },
    {
      "cell_type": "code",
      "metadata": {
        "colab": {
          "base_uri": "https://localhost:8080/"
        },
        "id": "5c3K9eRiThf8",
        "outputId": "491fd5de-2890-43c9-dc48-7187bcb5668b"
      },
      "source": [
        "#Additive Seasonality Quadratic \n",
        "\n",
        "add_sea_Quad = smf.ols('Sales~t+t-square+Jan+Apr+Jul+Oct',data=Train).fit()\n",
        "pred_add_sea_quad = pd.Series(add_sea_Quad.predict(Test[['Jan','Apr','Jul','Oct','t','t-square']]))\n",
        "rmse_add_sea_quad = np.sqrt(np.mean((np.array(Test['Sales'])-np.array(pred_add_sea_quad))**2))\n",
        "rmse_add_sea_quad"
      ],
      "execution_count": null,
      "outputs": [
        {
          "output_type": "execute_result",
          "data": {
            "text/plain": [
              "637.9404646964657"
            ]
          },
          "metadata": {
            "tags": []
          },
          "execution_count": 162
        }
      ]
    },
    {
      "cell_type": "code",
      "metadata": {
        "colab": {
          "base_uri": "https://localhost:8080/"
        },
        "id": "qw5kGFxsS9di",
        "outputId": "9992fbec-80ad-4094-a215-432f651e74bd"
      },
      "source": [
        "##Multiplicative Seasonality\n",
        "\n",
        "Mul_sea = smf.ols('log(Sales)~Jan+Apr+Jul+Oct',data = Train).fit()\n",
        "pred_Mult_sea = pd.Series(Mul_sea.predict(Test))\n",
        "rmse_Mult_sea = np.sqrt(np.mean((np.array(Test['Sales'])-np.array(np.exp(pred_Mult_sea)))**2))\n",
        "rmse_Mult_sea"
      ],
      "execution_count": null,
      "outputs": [
        {
          "output_type": "execute_result",
          "data": {
            "text/plain": [
              "1828.9238912138035"
            ]
          },
          "metadata": {
            "tags": []
          },
          "execution_count": 163
        }
      ]
    },
    {
      "cell_type": "code",
      "metadata": {
        "colab": {
          "base_uri": "https://localhost:8080/"
        },
        "id": "l5r9IE0zUE5L",
        "outputId": "3362a6bf-dc41-4262-8902-422533c49ffe"
      },
      "source": [
        "#Multiplicative Additive Seasonality \n",
        "\n",
        "Mul_Add_sea = smf.ols('log(Sales)~t+Jan+Apr+Jul+Oct',data = Train).fit()\n",
        "pred_Mult_add_sea = pd.Series(Mul_Add_sea.predict(Test))\n",
        "rmse_Mult_add_sea = np.sqrt(np.mean((np.array(Test['Sales'])-np.array(np.exp(pred_Mult_add_sea)))**2))\n",
        "rmse_Mult_add_sea "
      ],
      "execution_count": null,
      "outputs": [
        {
          "output_type": "execute_result",
          "data": {
            "text/plain": [
              "410.249705960836"
            ]
          },
          "metadata": {
            "tags": []
          },
          "execution_count": 164
        }
      ]
    },
    {
      "cell_type": "code",
      "metadata": {
        "id": "DKmj2KeTW6W4"
      },
      "source": [
        "pred=np.exp(pred_Mult_add_sea)"
      ],
      "execution_count": null,
      "outputs": []
    },
    {
      "cell_type": "code",
      "metadata": {
        "colab": {
          "base_uri": "https://localhost:8080/",
          "height": 265
        },
        "id": "gobpUjDoc2AE",
        "outputId": "24963a0f-e509-488d-c1b5-42ef80a95eea"
      },
      "source": [
        "# line plot of time series\n",
        "from pandas import read_csv\n",
        "from matplotlib import pyplot\n",
        "pred.plot()\n",
        "Test[\"Sales\"].plot()\n",
        "pyplot.show()\n"
      ],
      "execution_count": null,
      "outputs": [
        {
          "output_type": "display_data",
          "data": {
            "image/png": "[encoded data removed]",
            "text/plain": [
              "<Figure size 432x288 with 1 Axes>"
            ]
          },
          "metadata": {
            "tags": [],
            "needs_background": "light"
          }
        }
      ]
    },
    {
      "cell_type": "code",
      "metadata": {
        "colab": {
          "base_uri": "https://localhost:8080/",
          "height": 254
        },
        "id": "QsiB7oR6S9gs",
        "outputId": "c3e9d6a3-62c6-4cb1-cb27-84d450485223"
      },
      "source": [
        "#Compare the results \n",
        "\n",
        "data = {\"MODEL\":pd.Series([\"rmse_linear\",\"rmse_Exp\",\"rmse_Quad\",\"rmse_add_sea\",\"rmse_add_sea_quad\",\"rmse_Mult_sea\",\"rmse_Mult_add_sea\"]),\"RMSE_Values\":pd.Series([rmse_linear,rmse_Exp,rmse_Quad,rmse_add_sea,rmse_add_sea_quad,rmse_Mult_sea,rmse_Mult_add_sea])}\n",
        "table_rmse=pd.DataFrame(data)\n",
        "table_rmse.sort_values(['RMSE_Values'])"
      ],
      "execution_count": null,
      "outputs": [
        {
          "output_type": "execute_result",
          "data": {
            "text/html": [
              "<div>\n",
              "<style scoped>\n",
              "    .dataframe tbody tr th:only-of-type {\n",
              "        vertical-align: middle;\n",
              "    }\n",
              "\n",
              "    .dataframe tbody tr th {\n",
              "        vertical-align: top;\n",
              "    }\n",
              "\n",
              "    .dataframe thead th {\n",
              "        text-align: right;\n",
              "    }\n",
              "</style>\n",
              "<table border=\"1\" class=\"dataframe\">\n",
              "  <thead>\n",
              "    <tr style=\"text-align: right;\">\n",
              "      <th></th>\n",
              "      <th>MODEL</th>\n",
              "      <th>RMSE_Values</th>\n",
              "    </tr>\n",
              "  </thead>\n",
              "  <tbody>\n",
              "    <tr>\n",
              "      <th>6</th>\n",
              "      <td>rmse_Mult_add_sea</td>\n",
              "      <td>410.249706</td>\n",
              "    </tr>\n",
              "    <tr>\n",
              "      <th>1</th>\n",
              "      <td>rmse_Exp</td>\n",
              "      <td>552.282104</td>\n",
              "    </tr>\n",
              "    <tr>\n",
              "      <th>4</th>\n",
              "      <td>rmse_add_sea_quad</td>\n",
              "      <td>637.940465</td>\n",
              "    </tr>\n",
              "    <tr>\n",
              "      <th>0</th>\n",
              "      <td>rmse_linear</td>\n",
              "      <td>714.014448</td>\n",
              "    </tr>\n",
              "    <tr>\n",
              "      <th>2</th>\n",
              "      <td>rmse_Quad</td>\n",
              "      <td>714.014448</td>\n",
              "    </tr>\n",
              "    <tr>\n",
              "      <th>3</th>\n",
              "      <td>rmse_add_sea</td>\n",
              "      <td>1778.006547</td>\n",
              "    </tr>\n",
              "    <tr>\n",
              "      <th>5</th>\n",
              "      <td>rmse_Mult_sea</td>\n",
              "      <td>1828.923891</td>\n",
              "    </tr>\n",
              "  </tbody>\n",
              "</table>\n",
              "</div>"
            ],
            "text/plain": [
              "               MODEL  RMSE_Values\n",
              "6  rmse_Mult_add_sea   410.249706\n",
              "1           rmse_Exp   552.282104\n",
              "4  rmse_add_sea_quad   637.940465\n",
              "0        rmse_linear   714.014448\n",
              "2          rmse_Quad   714.014448\n",
              "3       rmse_add_sea  1778.006547\n",
              "5      rmse_Mult_sea  1828.923891"
            ]
          },
          "metadata": {
            "tags": []
          },
          "execution_count": 165
        }
      ]
    },
    {
      "cell_type": "markdown",
      "metadata": {
        "id": "z829NczTUbCN"
      },
      "source": [
        "Predict for new time period"
      ]
    },
    {
      "cell_type": "code",
      "metadata": {
        "colab": {
          "resources": {
            "http://localhost:8080/nbextensions/google.colab/files.js": {
              "data": "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",
              "ok": true,
              "headers": [
                [
                  "content-type",
                  "application/javascript"
                ]
              ],
              "status": 200,
              "status_text": ""
            }
          },
          "base_uri": "https://localhost:8080/",
          "height": 74
        },
        "id": "281NNqAhWiNH",
        "outputId": "a2f04f72-4753-4e24-acfa-2d5392c15838"
      },
      "source": [
        "from google.colab import files\n",
        "up=files.upload()"
      ],
      "execution_count": null,
      "outputs": [
        {
          "output_type": "display_data",
          "data": {
            "text/html": [
              "\n",
              "     <input type=\"file\" id=\"files-ef0ded88-b620-4e01-ae5f-784a07978d32\" name=\"files[]\" multiple disabled\n",
              "        style=\"border:none\" />\n",
              "     <output id=\"result-ef0ded88-b620-4e01-ae5f-784a07978d32\">\n",
              "      Upload widget is only available when the cell has been executed in the\n",
              "      current browser session. Please rerun this cell to enable.\n",
              "      </output>\n",
              "      <script src=\"/nbextensions/google.colab/files.js\"></script> "
            ],
            "text/plain": [
              "<IPython.core.display.HTML object>"
            ]
          },
          "metadata": {
            "tags": []
          }
        },
        {
          "output_type": "stream",
          "text": [
            "Saving Predict_new.csv to Predict_new.csv\n"
          ],
          "name": "stdout"
        }
      ]
    },
    {
      "cell_type": "code",
      "metadata": {
        "id": "1CG-G068Wn2_"
      },
      "source": [
        "predict_data = pd.read_csv(\"Predict_new.csv\")"
      ],
      "execution_count": null,
      "outputs": []
    },
    {
      "cell_type": "code",
      "metadata": {
        "id": "KrINyoHtYfJO"
      },
      "source": [
        ""
      ],
      "execution_count": null,
      "outputs": []
    },
    {
      "cell_type": "code",
      "metadata": {
        "id": "-OnB2We8S9ji"
      },
      "source": [
        "#Build the model on entire data set\n",
        "model_full = smf.ols('Sales~t+t-square+Jan+Apr+Jul+Oct',data=seriesmodel).fit()"
      ],
      "execution_count": null,
      "outputs": []
    },
    {
      "cell_type": "code",
      "metadata": {
        "colab": {
          "base_uri": "https://localhost:8080/"
        },
        "id": "G4TW-L0_S9pP",
        "outputId": "5436418a-b5bc-470a-86e5-218205efa69c"
      },
      "source": [
        "pred_new  = pd.Series(Mul_Add_sea.predict(predict_data))\n",
        "pred_new"
      ],
      "execution_count": null,
      "outputs": [
        {
          "output_type": "execute_result",
          "data": {
            "text/plain": [
              "0     10.992366\n",
              "1      9.426270\n",
              "2      9.447704\n",
              "3     11.024730\n",
              "4      9.490572\n",
              "5      9.512006\n",
              "6     10.996056\n",
              "7      9.554873\n",
              "8      9.576307\n",
              "9     10.967407\n",
              "10     9.619175\n",
              "11     9.640609\n",
              "dtype: float64"
            ]
          },
          "metadata": {
            "tags": []
          },
          "execution_count": 172
        }
      ]
    },
    {
      "cell_type": "code",
      "metadata": {
        "id": "rpQMFc1JS9ti"
      },
      "source": [
        "pred_new[\"Sales\"]=np.exp(pred_new)"
      ],
      "execution_count": null,
      "outputs": []
    },
    {
      "cell_type": "code",
      "metadata": {
        "colab": {
          "base_uri": "https://localhost:8080/"
        },
        "id": "5oA57ar0S93q",
        "outputId": "fa9bbbe0-f90e-4d04-f605-36f64547cc2a"
      },
      "source": [
        "pred_new[\"Sales\"]"
      ],
      "execution_count": null,
      "outputs": [
        {
          "output_type": "execute_result",
          "data": {
            "text/plain": [
              "0     59418.802011\n",
              "1     12410.147908\n",
              "2     12679.017471\n",
              "3     61373.309027\n",
              "4     13234.358219\n",
              "5     13521.084545\n",
              "6     59638.471606\n",
              "7     14113.307816\n",
              "8     14419.076848\n",
              "9     57954.128110\n",
              "10    15050.632166\n",
              "11    15376.708610\n",
              "dtype: float64"
            ]
          },
          "metadata": {
            "tags": []
          },
          "execution_count": 174
        }
      ]
    },
    {
      "cell_type": "markdown",
      "metadata": {
        "id": "hbz5LyKlaSUu"
      },
      "source": [
        "Forecasting Model_Arima"
      ]
    },
    {
      "cell_type": "code",
      "metadata": {
        "id": "XghIDE1qaOuT"
      },
      "source": [
        "# Import libraries\n",
        "from pandas import read_csv\n",
        "from matplotlib import pyplot\n",
        "from numpy import sqrt\n",
        "import warnings\n",
        "import itertools\n",
        "import pandas as pd\n",
        "import numpy as np\n",
        "import matplotlib.pyplot as plt\n",
        "import statsmodels.api as sm"
      ],
      "execution_count": null,
      "outputs": []
    },
    {
      "cell_type": "code",
      "metadata": {
        "id": "46jHNZsQkWA6"
      },
      "source": [
        "cokearima=coke1.copy()"
      ],
      "execution_count": null,
      "outputs": []
    },
    {
      "cell_type": "code",
      "metadata": {
        "colab": {
          "base_uri": "https://localhost:8080/",
          "height": 1000
        },
        "id": "2hPR2OkwZI_D",
        "outputId": "9ed82296-4d94-4e3c-ffd6-ee958c047ac7"
      },
      "source": [
        "ckarima=cokearima.iloc[:,0:2]\n",
        "ckarima"
      ],
      "execution_count": null,
      "outputs": [
        {
          "output_type": "execute_result",
          "data": {
            "text/html": [
              "<div>\n",
              "<style scoped>\n",
              "    .dataframe tbody tr th:only-of-type {\n",
              "        vertical-align: middle;\n",
              "    }\n",
              "\n",
              "    .dataframe tbody tr th {\n",
              "        vertical-align: top;\n",
              "    }\n",
              "\n",
              "    .dataframe thead th {\n",
              "        text-align: right;\n",
              "    }\n",
              "</style>\n",
              "<table border=\"1\" class=\"dataframe\">\n",
              "  <thead>\n",
              "    <tr style=\"text-align: right;\">\n",
              "      <th></th>\n",
              "      <th>period</th>\n",
              "      <th>Sales</th>\n",
              "    </tr>\n",
              "  </thead>\n",
              "  <tbody>\n",
              "    <tr>\n",
              "      <th>0</th>\n",
              "      <td>1986-01-01</td>\n",
              "      <td>1734.827000</td>\n",
              "    </tr>\n",
              "    <tr>\n",
              "      <th>1</th>\n",
              "      <td>1986-04-01</td>\n",
              "      <td>2244.960999</td>\n",
              "    </tr>\n",
              "    <tr>\n",
              "      <th>2</th>\n",
              "      <td>1986-07-01</td>\n",
              "      <td>2533.804993</td>\n",
              "    </tr>\n",
              "    <tr>\n",
              "      <th>3</th>\n",
              "      <td>1986-10-01</td>\n",
              "      <td>2154.962997</td>\n",
              "    </tr>\n",
              "    <tr>\n",
              "      <th>4</th>\n",
              "      <td>1987-01-01</td>\n",
              "      <td>1547.818996</td>\n",
              "    </tr>\n",
              "    <tr>\n",
              "      <th>5</th>\n",
              "      <td>1987-04-01</td>\n",
              "      <td>2104.411995</td>\n",
              "    </tr>\n",
              "    <tr>\n",
              "      <th>6</th>\n",
              "      <td>1987-07-01</td>\n",
              "      <td>2014.362999</td>\n",
              "    </tr>\n",
              "    <tr>\n",
              "      <th>7</th>\n",
              "      <td>1987-10-01</td>\n",
              "      <td>1991.746998</td>\n",
              "    </tr>\n",
              "    <tr>\n",
              "      <th>8</th>\n",
              "      <td>1988-01-01</td>\n",
              "      <td>1869.049999</td>\n",
              "    </tr>\n",
              "    <tr>\n",
              "      <th>9</th>\n",
              "      <td>1988-04-01</td>\n",
              "      <td>2313.631996</td>\n",
              "    </tr>\n",
              "    <tr>\n",
              "      <th>10</th>\n",
              "      <td>1988-07-01</td>\n",
              "      <td>2128.320000</td>\n",
              "    </tr>\n",
              "    <tr>\n",
              "      <th>11</th>\n",
              "      <td>1988-10-01</td>\n",
              "      <td>2026.828999</td>\n",
              "    </tr>\n",
              "    <tr>\n",
              "      <th>12</th>\n",
              "      <td>1989-01-01</td>\n",
              "      <td>1910.603996</td>\n",
              "    </tr>\n",
              "    <tr>\n",
              "      <th>13</th>\n",
              "      <td>1989-04-01</td>\n",
              "      <td>2331.164993</td>\n",
              "    </tr>\n",
              "    <tr>\n",
              "      <th>14</th>\n",
              "      <td>1989-07-01</td>\n",
              "      <td>2206.549995</td>\n",
              "    </tr>\n",
              "    <tr>\n",
              "      <th>15</th>\n",
              "      <td>1989-10-01</td>\n",
              "      <td>2173.967995</td>\n",
              "    </tr>\n",
              "    <tr>\n",
              "      <th>16</th>\n",
              "      <td>1990-01-01</td>\n",
              "      <td>2148.278000</td>\n",
              "    </tr>\n",
              "    <tr>\n",
              "      <th>17</th>\n",
              "      <td>1990-04-01</td>\n",
              "      <td>2739.307999</td>\n",
              "    </tr>\n",
              "    <tr>\n",
              "      <th>18</th>\n",
              "      <td>1990-07-01</td>\n",
              "      <td>2792.753998</td>\n",
              "    </tr>\n",
              "    <tr>\n",
              "      <th>19</th>\n",
              "      <td>1990-10-01</td>\n",
              "      <td>2556.009995</td>\n",
              "    </tr>\n",
              "    <tr>\n",
              "      <th>20</th>\n",
              "      <td>1991-01-01</td>\n",
              "      <td>2480.973999</td>\n",
              "    </tr>\n",
              "    <tr>\n",
              "      <th>21</th>\n",
              "      <td>1991-04-01</td>\n",
              "      <td>3039.522995</td>\n",
              "    </tr>\n",
              "    <tr>\n",
              "      <th>22</th>\n",
              "      <td>1991-07-01</td>\n",
              "      <td>3172.115997</td>\n",
              "    </tr>\n",
              "    <tr>\n",
              "      <th>23</th>\n",
              "      <td>1991-10-01</td>\n",
              "      <td>2879.000999</td>\n",
              "    </tr>\n",
              "    <tr>\n",
              "      <th>24</th>\n",
              "      <td>1992-01-01</td>\n",
              "      <td>2772.000000</td>\n",
              "    </tr>\n",
              "    <tr>\n",
              "      <th>25</th>\n",
              "      <td>1992-04-01</td>\n",
              "      <td>3550.000000</td>\n",
              "    </tr>\n",
              "    <tr>\n",
              "      <th>26</th>\n",
              "      <td>1992-07-01</td>\n",
              "      <td>3508.000000</td>\n",
              "    </tr>\n",
              "    <tr>\n",
              "      <th>27</th>\n",
              "      <td>1992-10-01</td>\n",
              "      <td>3243.859993</td>\n",
              "    </tr>\n",
              "    <tr>\n",
              "      <th>28</th>\n",
              "      <td>1993-01-01</td>\n",
              "      <td>3056.000000</td>\n",
              "    </tr>\n",
              "    <tr>\n",
              "      <th>29</th>\n",
              "      <td>1993-04-01</td>\n",
              "      <td>3899.000000</td>\n",
              "    </tr>\n",
              "    <tr>\n",
              "      <th>30</th>\n",
              "      <td>1993-07-01</td>\n",
              "      <td>3629.000000</td>\n",
              "    </tr>\n",
              "    <tr>\n",
              "      <th>31</th>\n",
              "      <td>1993-10-01</td>\n",
              "      <td>3373.000000</td>\n",
              "    </tr>\n",
              "    <tr>\n",
              "      <th>32</th>\n",
              "      <td>1994-01-01</td>\n",
              "      <td>3352.000000</td>\n",
              "    </tr>\n",
              "    <tr>\n",
              "      <th>33</th>\n",
              "      <td>1994-04-01</td>\n",
              "      <td>4342.000000</td>\n",
              "    </tr>\n",
              "    <tr>\n",
              "      <th>34</th>\n",
              "      <td>1994-07-01</td>\n",
              "      <td>4461.000000</td>\n",
              "    </tr>\n",
              "    <tr>\n",
              "      <th>35</th>\n",
              "      <td>1994-10-01</td>\n",
              "      <td>4017.000000</td>\n",
              "    </tr>\n",
              "    <tr>\n",
              "      <th>36</th>\n",
              "      <td>1995-01-01</td>\n",
              "      <td>3854.000000</td>\n",
              "    </tr>\n",
              "    <tr>\n",
              "      <th>37</th>\n",
              "      <td>1995-04-01</td>\n",
              "      <td>4936.000000</td>\n",
              "    </tr>\n",
              "    <tr>\n",
              "      <th>38</th>\n",
              "      <td>1995-07-01</td>\n",
              "      <td>4895.000000</td>\n",
              "    </tr>\n",
              "    <tr>\n",
              "      <th>39</th>\n",
              "      <td>1995-10-01</td>\n",
              "      <td>4333.000000</td>\n",
              "    </tr>\n",
              "    <tr>\n",
              "      <th>40</th>\n",
              "      <td>1996-01-01</td>\n",
              "      <td>4194.000000</td>\n",
              "    </tr>\n",
              "    <tr>\n",
              "      <th>41</th>\n",
              "      <td>1996-04-01</td>\n",
              "      <td>5253.000000</td>\n",
              "    </tr>\n",
              "  </tbody>\n",
              "</table>\n",
              "</div>"
            ],
            "text/plain": [
              "       period        Sales\n",
              "0  1986-01-01  1734.827000\n",
              "1  1986-04-01  2244.960999\n",
              "2  1986-07-01  2533.804993\n",
              "3  1986-10-01  2154.962997\n",
              "4  1987-01-01  1547.818996\n",
              "5  1987-04-01  2104.411995\n",
              "6  1987-07-01  2014.362999\n",
              "7  1987-10-01  1991.746998\n",
              "8  1988-01-01  1869.049999\n",
              "9  1988-04-01  2313.631996\n",
              "10 1988-07-01  2128.320000\n",
              "11 1988-10-01  2026.828999\n",
              "12 1989-01-01  1910.603996\n",
              "13 1989-04-01  2331.164993\n",
              "14 1989-07-01  2206.549995\n",
              "15 1989-10-01  2173.967995\n",
              "16 1990-01-01  2148.278000\n",
              "17 1990-04-01  2739.307999\n",
              "18 1990-07-01  2792.753998\n",
              "19 1990-10-01  2556.009995\n",
              "20 1991-01-01  2480.973999\n",
              "21 1991-04-01  3039.522995\n",
              "22 1991-07-01  3172.115997\n",
              "23 1991-10-01  2879.000999\n",
              "24 1992-01-01  2772.000000\n",
              "25 1992-04-01  3550.000000\n",
              "26 1992-07-01  3508.000000\n",
              "27 1992-10-01  3243.859993\n",
              "28 1993-01-01  3056.000000\n",
              "29 1993-04-01  3899.000000\n",
              "30 1993-07-01  3629.000000\n",
              "31 1993-10-01  3373.000000\n",
              "32 1994-01-01  3352.000000\n",
              "33 1994-04-01  4342.000000\n",
              "34 1994-07-01  4461.000000\n",
              "35 1994-10-01  4017.000000\n",
              "36 1995-01-01  3854.000000\n",
              "37 1995-04-01  4936.000000\n",
              "38 1995-07-01  4895.000000\n",
              "39 1995-10-01  4333.000000\n",
              "40 1996-01-01  4194.000000\n",
              "41 1996-04-01  5253.000000"
            ]
          },
          "metadata": {
            "tags": []
          },
          "execution_count": 225
        }
      ]
    },
    {
      "cell_type": "code",
      "metadata": {
        "id": "kbVKb5KkaPUR",
        "colab": {
          "base_uri": "https://localhost:8080/",
          "height": 265
        },
        "outputId": "703bef92-861d-47d3-c029-42a075cf9b14"
      },
      "source": [
        "# line plot of time series\n",
        "from pandas import read_csv\n",
        "from matplotlib import pyplot\n",
        "ckarima[\"Sales\"].plot()\n",
        "pyplot.show()"
      ],
      "execution_count": null,
      "outputs": [
        {
          "output_type": "display_data",
          "data": {
            "image/png": "[encoded data removed]",
            "text/plain": [
              "<Figure size 432x288 with 1 Axes>"
            ]
          },
          "metadata": {
            "tags": [],
            "needs_background": "light"
          }
        }
      ]
    },
    {
      "cell_type": "code",
      "metadata": {
        "colab": {
          "base_uri": "https://localhost:8080/",
          "height": 316
        },
        "id": "wnOuvTVBaPXw",
        "outputId": "52d4039c-11b8-4d39-e6df-eed1456ffddc"
      },
      "source": [
        "ckarima.hist()"
      ],
      "execution_count": null,
      "outputs": [
        {
          "output_type": "execute_result",
          "data": {
            "text/plain": [
              "array([[<matplotlib.axes._subplots.AxesSubplot object at 0x7f334d51c990>]],\n",
              "      dtype=object)"
            ]
          },
          "metadata": {
            "tags": []
          },
          "execution_count": 227
        },
        {
          "output_type": "display_data",
          "data": {
            "image/png": "[encoded data removed]",
            "text/plain": [
              "<Figure size 432x288 with 1 Axes>"
            ]
          },
          "metadata": {
            "tags": [],
            "needs_background": "light"
          }
        }
      ]
    },
    {
      "cell_type": "code",
      "metadata": {
        "colab": {
          "base_uri": "https://localhost:8080/",
          "height": 282
        },
        "id": "8rQ6JzbfaPdv",
        "outputId": "471335c6-4661-4440-b2fe-189cc7c59fab"
      },
      "source": [
        "ckarima[\"Sales\"].plot(kind='kde')"
      ],
      "execution_count": null,
      "outputs": [
        {
          "output_type": "execute_result",
          "data": {
            "text/plain": [
              "<matplotlib.axes._subplots.AxesSubplot at 0x7f334d44afd0>"
            ]
          },
          "metadata": {
            "tags": []
          },
          "execution_count": 228
        },
        {
          "output_type": "display_data",
          "data": {
            "image/png": "[encoded data removed]",
            "text/plain": [
              "<Figure size 432x288 with 1 Axes>"
            ]
          },
          "metadata": {
            "tags": [],
            "needs_background": "light"
          }
        }
      ]
    },
    {
      "cell_type": "code",
      "metadata": {
        "id": "u1qDMyDvkuAD"
      },
      "source": [
        "ckarima[\"Sales\"]=ckarima[\"Sales\"].astype(float)\n",
        "ckarima[\"period\"] = pd.to_datetime(ckarima.period,format=\"%b-%y\")\n",
        "arima=ckarima[\"Sales\"]"
      ],
      "execution_count": null,
      "outputs": []
    },
    {
      "cell_type": "code",
      "metadata": {
        "colab": {
          "base_uri": "https://localhost:8080/"
        },
        "id": "cTo3AF1naPhA",
        "outputId": "7a8786fb-8f66-4b3f-fa11-eac289d1d982"
      },
      "source": [
        "# separate out a validation dataset\n",
        "split_point = len(arima) - 10\n",
        "dataset, validation = arima[0:split_point], arima[split_point:]\n",
        "print('Dataset %d, Validation %d' % (len(dataset), len(validation)))\n",
        "dataset.to_csv('dataset.csv', header=False)\n",
        "validation.to_csv('validation.csv', header=False)"
      ],
      "execution_count": null,
      "outputs": [
        {
          "output_type": "stream",
          "text": [
            "Dataset 32, Validation 10\n"
          ],
          "name": "stdout"
        }
      ]
    },
    {
      "cell_type": "code",
      "metadata": {
        "colab": {
          "base_uri": "https://localhost:8080/"
        },
        "id": "NZ_ao-R0hbUW",
        "outputId": "ba16ba70-e69e-4df4-fa3f-2a3fd9f97f55"
      },
      "source": [
        "dataset"
      ],
      "execution_count": null,
      "outputs": [
        {
          "output_type": "execute_result",
          "data": {
            "text/plain": [
              "0     1734.827000\n",
              "1     2244.960999\n",
              "2     2533.804993\n",
              "3     2154.962997\n",
              "4     1547.818996\n",
              "5     2104.411995\n",
              "6     2014.362999\n",
              "7     1991.746998\n",
              "8     1869.049999\n",
              "9     2313.631996\n",
              "10    2128.320000\n",
              "11    2026.828999\n",
              "12    1910.603996\n",
              "13    2331.164993\n",
              "14    2206.549995\n",
              "15    2173.967995\n",
              "16    2148.278000\n",
              "17    2739.307999\n",
              "18    2792.753998\n",
              "19    2556.009995\n",
              "20    2480.973999\n",
              "21    3039.522995\n",
              "22    3172.115997\n",
              "23    2879.000999\n",
              "24    2772.000000\n",
              "25    3550.000000\n",
              "26    3508.000000\n",
              "27    3243.859993\n",
              "28    3056.000000\n",
              "29    3899.000000\n",
              "30    3629.000000\n",
              "31    3373.000000\n",
              "Name: Sales, dtype: float64"
            ]
          },
          "metadata": {
            "tags": []
          },
          "execution_count": 235
        }
      ]
    },
    {
      "cell_type": "markdown",
      "metadata": {
        "id": "Wtv0rDGTbe1Y"
      },
      "source": [
        "Persistence/ Base model"
      ]
    },
    {
      "cell_type": "code",
      "metadata": {
        "id": "D3kKgksulv8y"
      },
      "source": [
        "# evaluate a persistence model\n",
        "from pandas import read_csv\n",
        "from sklearn.metrics import mean_squared_error\n",
        "from math import sqrt\n",
        "# load data\n",
        "train = read_csv('dataset.csv', header=None, index_col=0, parse_dates=True, squeeze=True)\n",
        "# prepare data\n",
        "X = train.values\n",
        "X = X.astype('float32')\n",
        "train_size = int(len(X) * 0.50)\n",
        "train, test = X[0:train_size], X[train_size:]"
      ],
      "execution_count": null,
      "outputs": []
    },
    {
      "cell_type": "code",
      "metadata": {
        "id": "uZBppQosmN-Y",
        "colab": {
          "base_uri": "https://localhost:8080/"
        },
        "outputId": "185a2b42-622b-4304-f241-95dd868123cb"
      },
      "source": [
        "# walk-forward validation\n",
        "history = [x for x in train]\n",
        "predictions = list()\n",
        "for i in range(len(test)):\n",
        "    yhat = history[-1]\n",
        "    predictions.append(yhat)\n",
        "    \n",
        "# observation\n",
        "    obs =test[i]\n",
        "    history.append(obs)\n",
        "   \n",
        "    print('>Predicted=%.3f, Expected=%.3f' % (yhat, obs))\n",
        "   \n",
        "# report performance\n",
        "rmse = sqrt(mean_squared_error(test, predictions))\n",
        "print('RMSE: %.3f' % rmse)"
      ],
      "execution_count": null,
      "outputs": [
        {
          "output_type": "stream",
          "text": [
            ">Predicted=2173.968, Expected=2148.278\n",
            ">Predicted=2148.278, Expected=2739.308\n",
            ">Predicted=2739.308, Expected=2792.754\n",
            ">Predicted=2792.754, Expected=2556.010\n",
            ">Predicted=2556.010, Expected=2480.974\n",
            ">Predicted=2480.974, Expected=3039.523\n",
            ">Predicted=3039.523, Expected=3172.116\n",
            ">Predicted=3172.116, Expected=2879.001\n",
            ">Predicted=2879.001, Expected=2772.000\n",
            ">Predicted=2772.000, Expected=3550.000\n",
            ">Predicted=3550.000, Expected=3508.000\n",
            ">Predicted=3508.000, Expected=3243.860\n",
            ">Predicted=3243.860, Expected=3056.000\n",
            ">Predicted=3056.000, Expected=3899.000\n",
            ">Predicted=3899.000, Expected=3629.000\n",
            ">Predicted=3629.000, Expected=3373.000\n",
            "RMSE: 387.510\n"
          ],
          "name": "stdout"
        }
      ]
    },
    {
      "cell_type": "markdown",
      "metadata": {
        "id": "Do1_oy2If1wm"
      },
      "source": [
        "ARIMA Hyperparameters"
      ]
    },
    {
      "cell_type": "code",
      "metadata": {
        "id": "Kbdk5qU0f2vW"
      },
      "source": [
        "# grid search ARIMA parameters for a time series\n",
        "\n",
        "import warnings\n",
        "from pandas import read_csv\n",
        "from statsmodels.tsa.arima_model import ARIMA\n",
        "from sklearn.metrics import mean_squared_error\n",
        "from math import sqrt\n",
        "\n",
        "\n",
        "# evaluate an ARIMA model for a given order (p,d,q) and return RMSE\n",
        "def evaluate_arima_model(X, arima_order):\n",
        "# prepare training dataset\n",
        "    X = X.astype('float32')\n",
        "    train_size = int(len(X) * 0.50)\n",
        "    train, test = X[0:train_size], X[train_size:]\n",
        "    history = [x for x in train]\n",
        "# make predictions\n",
        "    predictions = list()\n",
        "    for t in range(len(test)):\n",
        "        model = ARIMA(history, order=arima_order)\n",
        "# model_fit = model.fit(disp=0)\n",
        "        model_fit = model.fit(disp=0)\n",
        "        yhat = model_fit.forecast()[0]\n",
        "        predictions.append(yhat)\n",
        "        history.append(test[t])\n",
        "# calculate out of sample error\n",
        "    rmse = sqrt(mean_squared_error(test, predictions))\n",
        "    return rmse"
      ],
      "execution_count": null,
      "outputs": []
    },
    {
      "cell_type": "code",
      "metadata": {
        "id": "hnnCCgTwf2zK"
      },
      "source": [
        "# evaluate combinations of p, d and q values for an ARIMA model\n",
        "def evaluate_models(dataset, p_values, d_values, q_values):\n",
        "    dataset = dataset.astype('float32')\n",
        "    best_score, best_cfg = float('inf'), None\n",
        "    for p in p_values:\n",
        "        for d in d_values:\n",
        "            for q in q_values:\n",
        "                order = (p,d,q)\n",
        "                try:\n",
        "                    rmse = evaluate_arima_model(train, order)\n",
        "                    if rmse < best_score:\n",
        "                        best_score, best_cfg = rmse, order\n",
        "                    print('ARIMA%s RMSE=%.3f' % (order,rmse))\n",
        "                except:\n",
        "                    continue\n",
        "    print('Best ARIMA%s RMSE=%.3f' % (best_cfg, best_score))"
      ],
      "execution_count": null,
      "outputs": []
    },
    {
      "cell_type": "code",
      "metadata": {
        "id": "OgGSUDkPf22P"
      },
      "source": [
        "# load dataset\n",
        "train = read_csv('dataset.csv', header=None, index_col=0, parse_dates=True, squeeze=True)\n",
        "# evaluate parameters\n",
        "#p_values = range(0, 5)\n",
        "#d_values = range(0, 5)\n",
        "#q_values = range(0, 5)\n",
        "warnings.filterwarnings(\"ignore\")\n",
        "#evaluate_models(train.values, p_values, d_values, q_values)"
      ],
      "execution_count": null,
      "outputs": []
    },
    {
      "cell_type": "code",
      "metadata": {
        "id": "YPfuxHl5f25S"
      },
      "source": [
        "# save finalized model to file\n",
        "from pandas import read_csv\n",
        "from statsmodels.tsa.arima_model import ARIMA\n",
        "import numpy"
      ],
      "execution_count": null,
      "outputs": []
    },
    {
      "cell_type": "code",
      "metadata": {
        "colab": {
          "base_uri": "https://localhost:8080/",
          "height": 1000
        },
        "id": "P9t7QNK2ah0c",
        "outputId": "ef5fee8e-4f49-4ec8-cc90-74c83bc35bfe"
      },
      "source": [
        "coke"
      ],
      "execution_count": null,
      "outputs": [
        {
          "output_type": "execute_result",
          "data": {
            "text/html": [
              "<div>\n",
              "<style scoped>\n",
              "    .dataframe tbody tr th:only-of-type {\n",
              "        vertical-align: middle;\n",
              "    }\n",
              "\n",
              "    .dataframe tbody tr th {\n",
              "        vertical-align: top;\n",
              "    }\n",
              "\n",
              "    .dataframe thead th {\n",
              "        text-align: right;\n",
              "    }\n",
              "</style>\n",
              "<table border=\"1\" class=\"dataframe\">\n",
              "  <thead>\n",
              "    <tr style=\"text-align: right;\">\n",
              "      <th></th>\n",
              "      <th>period</th>\n",
              "      <th>Sales</th>\n",
              "      <th>t</th>\n",
              "      <th>log(Sales)</th>\n",
              "      <th>t-square</th>\n",
              "      <th>month</th>\n",
              "      <th>year</th>\n",
              "    </tr>\n",
              "  </thead>\n",
              "  <tbody>\n",
              "    <tr>\n",
              "      <th>0</th>\n",
              "      <td>1986-01-01</td>\n",
              "      <td>1734.827000</td>\n",
              "      <td>1</td>\n",
              "      <td>7.458663</td>\n",
              "      <td>1</td>\n",
              "      <td>Jan</td>\n",
              "      <td>1986</td>\n",
              "    </tr>\n",
              "    <tr>\n",
              "      <th>1</th>\n",
              "      <td>1986-04-01</td>\n",
              "      <td>2244.960999</td>\n",
              "      <td>2</td>\n",
              "      <td>7.716443</td>\n",
              "      <td>4</td>\n",
              "      <td>Apr</td>\n",
              "      <td>1986</td>\n",
              "    </tr>\n",
              "    <tr>\n",
              "      <th>2</th>\n",
              "      <td>1986-07-01</td>\n",
              "      <td>2533.804993</td>\n",
              "      <td>3</td>\n",
              "      <td>7.837477</td>\n",
              "      <td>9</td>\n",
              "      <td>Jul</td>\n",
              "      <td>1986</td>\n",
              "    </tr>\n",
              "    <tr>\n",
              "      <th>3</th>\n",
              "      <td>1986-10-01</td>\n",
              "      <td>2154.962997</td>\n",
              "      <td>4</td>\n",
              "      <td>7.675529</td>\n",
              "      <td>16</td>\n",
              "      <td>Oct</td>\n",
              "      <td>1986</td>\n",
              "    </tr>\n",
              "    <tr>\n",
              "      <th>4</th>\n",
              "      <td>1987-01-01</td>\n",
              "      <td>1547.818996</td>\n",
              "      <td>5</td>\n",
              "      <td>7.344602</td>\n",
              "      <td>25</td>\n",
              "      <td>Jan</td>\n",
              "      <td>1987</td>\n",
              "    </tr>\n",
              "    <tr>\n",
              "      <th>5</th>\n",
              "      <td>1987-04-01</td>\n",
              "      <td>2104.411995</td>\n",
              "      <td>6</td>\n",
              "      <td>7.651791</td>\n",
              "      <td>36</td>\n",
              "      <td>Apr</td>\n",
              "      <td>1987</td>\n",
              "    </tr>\n",
              "    <tr>\n",
              "      <th>6</th>\n",
              "      <td>1987-07-01</td>\n",
              "      <td>2014.362999</td>\n",
              "      <td>7</td>\n",
              "      <td>7.608058</td>\n",
              "      <td>49</td>\n",
              "      <td>Jul</td>\n",
              "      <td>1987</td>\n",
              "    </tr>\n",
              "    <tr>\n",
              "      <th>7</th>\n",
              "      <td>1987-10-01</td>\n",
              "      <td>1991.746998</td>\n",
              "      <td>8</td>\n",
              "      <td>7.596767</td>\n",
              "      <td>64</td>\n",
              "      <td>Oct</td>\n",
              "      <td>1987</td>\n",
              "    </tr>\n",
              "    <tr>\n",
              "      <th>8</th>\n",
              "      <td>1988-01-01</td>\n",
              "      <td>1869.049999</td>\n",
              "      <td>9</td>\n",
              "      <td>7.533186</td>\n",
              "      <td>81</td>\n",
              "      <td>Jan</td>\n",
              "      <td>1988</td>\n",
              "    </tr>\n",
              "    <tr>\n",
              "      <th>9</th>\n",
              "      <td>1988-04-01</td>\n",
              "      <td>2313.631996</td>\n",
              "      <td>10</td>\n",
              "      <td>7.746574</td>\n",
              "      <td>100</td>\n",
              "      <td>Apr</td>\n",
              "      <td>1988</td>\n",
              "    </tr>\n",
              "    <tr>\n",
              "      <th>10</th>\n",
              "      <td>1988-07-01</td>\n",
              "      <td>2128.320000</td>\n",
              "      <td>11</td>\n",
              "      <td>7.663088</td>\n",
              "      <td>121</td>\n",
              "      <td>Jul</td>\n",
              "      <td>1988</td>\n",
              "    </tr>\n",
              "    <tr>\n",
              "      <th>11</th>\n",
              "      <td>1988-10-01</td>\n",
              "      <td>2026.828999</td>\n",
              "      <td>12</td>\n",
              "      <td>7.614228</td>\n",
              "      <td>144</td>\n",
              "      <td>Oct</td>\n",
              "      <td>1988</td>\n",
              "    </tr>\n",
              "    <tr>\n",
              "      <th>12</th>\n",
              "      <td>1989-01-01</td>\n",
              "      <td>1910.603996</td>\n",
              "      <td>13</td>\n",
              "      <td>7.555175</td>\n",
              "      <td>169</td>\n",
              "      <td>Jan</td>\n",
              "      <td>1989</td>\n",
              "    </tr>\n",
              "    <tr>\n",
              "      <th>13</th>\n",
              "      <td>1989-04-01</td>\n",
              "      <td>2331.164993</td>\n",
              "      <td>14</td>\n",
              "      <td>7.754123</td>\n",
              "      <td>196</td>\n",
              "      <td>Apr</td>\n",
              "      <td>1989</td>\n",
              "    </tr>\n",
              "    <tr>\n",
              "      <th>14</th>\n",
              "      <td>1989-07-01</td>\n",
              "      <td>2206.549995</td>\n",
              "      <td>15</td>\n",
              "      <td>7.699185</td>\n",
              "      <td>225</td>\n",
              "      <td>Jul</td>\n",
              "      <td>1989</td>\n",
              "    </tr>\n",
              "    <tr>\n",
              "      <th>15</th>\n",
              "      <td>1989-10-01</td>\n",
              "      <td>2173.967995</td>\n",
              "      <td>16</td>\n",
              "      <td>7.684309</td>\n",
              "      <td>256</td>\n",
              "      <td>Oct</td>\n",
              "      <td>1989</td>\n",
              "    </tr>\n",
              "    <tr>\n",
              "      <th>16</th>\n",
              "      <td>1990-01-01</td>\n",
              "      <td>2148.278000</td>\n",
              "      <td>17</td>\n",
              "      <td>7.672422</td>\n",
              "      <td>289</td>\n",
              "      <td>Jan</td>\n",
              "      <td>1990</td>\n",
              "    </tr>\n",
              "    <tr>\n",
              "      <th>17</th>\n",
              "      <td>1990-04-01</td>\n",
              "      <td>2739.307999</td>\n",
              "      <td>18</td>\n",
              "      <td>7.915461</td>\n",
              "      <td>324</td>\n",
              "      <td>Apr</td>\n",
              "      <td>1990</td>\n",
              "    </tr>\n",
              "    <tr>\n",
              "      <th>18</th>\n",
              "      <td>1990-07-01</td>\n",
              "      <td>2792.753998</td>\n",
              "      <td>19</td>\n",
              "      <td>7.934783</td>\n",
              "      <td>361</td>\n",
              "      <td>Jul</td>\n",
              "      <td>1990</td>\n",
              "    </tr>\n",
              "    <tr>\n",
              "      <th>19</th>\n",
              "      <td>1990-10-01</td>\n",
              "      <td>2556.009995</td>\n",
              "      <td>20</td>\n",
              "      <td>7.846203</td>\n",
              "      <td>400</td>\n",
              "      <td>Oct</td>\n",
              "      <td>1990</td>\n",
              "    </tr>\n",
              "    <tr>\n",
              "      <th>20</th>\n",
              "      <td>1991-01-01</td>\n",
              "      <td>2480.973999</td>\n",
              "      <td>21</td>\n",
              "      <td>7.816407</td>\n",
              "      <td>441</td>\n",
              "      <td>Jan</td>\n",
              "      <td>1991</td>\n",
              "    </tr>\n",
              "    <tr>\n",
              "      <th>21</th>\n",
              "      <td>1991-04-01</td>\n",
              "      <td>3039.522995</td>\n",
              "      <td>22</td>\n",
              "      <td>8.019456</td>\n",
              "      <td>484</td>\n",
              "      <td>Apr</td>\n",
              "      <td>1991</td>\n",
              "    </tr>\n",
              "    <tr>\n",
              "      <th>22</th>\n",
              "      <td>1991-07-01</td>\n",
              "      <td>3172.115997</td>\n",
              "      <td>23</td>\n",
              "      <td>8.062154</td>\n",
              "      <td>529</td>\n",
              "      <td>Jul</td>\n",
              "      <td>1991</td>\n",
              "    </tr>\n",
              "    <tr>\n",
              "      <th>23</th>\n",
              "      <td>1991-10-01</td>\n",
              "      <td>2879.000999</td>\n",
              "      <td>24</td>\n",
              "      <td>7.965199</td>\n",
              "      <td>576</td>\n",
              "      <td>Oct</td>\n",
              "      <td>1991</td>\n",
              "    </tr>\n",
              "    <tr>\n",
              "      <th>24</th>\n",
              "      <td>1992-01-01</td>\n",
              "      <td>2772.000000</td>\n",
              "      <td>25</td>\n",
              "      <td>7.927324</td>\n",
              "      <td>625</td>\n",
              "      <td>Jan</td>\n",
              "      <td>1992</td>\n",
              "    </tr>\n",
              "    <tr>\n",
              "      <th>25</th>\n",
              "      <td>1992-04-01</td>\n",
              "      <td>3550.000000</td>\n",
              "      <td>26</td>\n",
              "      <td>8.174703</td>\n",
              "      <td>676</td>\n",
              "      <td>Apr</td>\n",
              "      <td>1992</td>\n",
              "    </tr>\n",
              "    <tr>\n",
              "      <th>26</th>\n",
              "      <td>1992-07-01</td>\n",
              "      <td>3508.000000</td>\n",
              "      <td>27</td>\n",
              "      <td>8.162801</td>\n",
              "      <td>729</td>\n",
              "      <td>Jul</td>\n",
              "      <td>1992</td>\n",
              "    </tr>\n",
              "    <tr>\n",
              "      <th>27</th>\n",
              "      <td>1992-10-01</td>\n",
              "      <td>3243.859993</td>\n",
              "      <td>28</td>\n",
              "      <td>8.084519</td>\n",
              "      <td>784</td>\n",
              "      <td>Oct</td>\n",
              "      <td>1992</td>\n",
              "    </tr>\n",
              "    <tr>\n",
              "      <th>28</th>\n",
              "      <td>1993-01-01</td>\n",
              "      <td>3056.000000</td>\n",
              "      <td>29</td>\n",
              "      <td>8.024862</td>\n",
              "      <td>841</td>\n",
              "      <td>Jan</td>\n",
              "      <td>1993</td>\n",
              "    </tr>\n",
              "    <tr>\n",
              "      <th>29</th>\n",
              "      <td>1993-04-01</td>\n",
              "      <td>3899.000000</td>\n",
              "      <td>30</td>\n",
              "      <td>8.268475</td>\n",
              "      <td>900</td>\n",
              "      <td>Apr</td>\n",
              "      <td>1993</td>\n",
              "    </tr>\n",
              "    <tr>\n",
              "      <th>30</th>\n",
              "      <td>1993-07-01</td>\n",
              "      <td>3629.000000</td>\n",
              "      <td>31</td>\n",
              "      <td>8.196712</td>\n",
              "      <td>961</td>\n",
              "      <td>Jul</td>\n",
              "      <td>1993</td>\n",
              "    </tr>\n",
              "    <tr>\n",
              "      <th>31</th>\n",
              "      <td>1993-10-01</td>\n",
              "      <td>3373.000000</td>\n",
              "      <td>32</td>\n",
              "      <td>8.123558</td>\n",
              "      <td>1024</td>\n",
              "      <td>Oct</td>\n",
              "      <td>1993</td>\n",
              "    </tr>\n",
              "    <tr>\n",
              "      <th>32</th>\n",
              "      <td>1994-01-01</td>\n",
              "      <td>3352.000000</td>\n",
              "      <td>33</td>\n",
              "      <td>8.117312</td>\n",
              "      <td>1089</td>\n",
              "      <td>Jan</td>\n",
              "      <td>1994</td>\n",
              "    </tr>\n",
              "    <tr>\n",
              "      <th>33</th>\n",
              "      <td>1994-04-01</td>\n",
              "      <td>4342.000000</td>\n",
              "      <td>34</td>\n",
              "      <td>8.376090</td>\n",
              "      <td>1156</td>\n",
              "      <td>Apr</td>\n",
              "      <td>1994</td>\n",
              "    </tr>\n",
              "    <tr>\n",
              "      <th>34</th>\n",
              "      <td>1994-07-01</td>\n",
              "      <td>4461.000000</td>\n",
              "      <td>35</td>\n",
              "      <td>8.403128</td>\n",
              "      <td>1225</td>\n",
              "      <td>Jul</td>\n",
              "      <td>1994</td>\n",
              "    </tr>\n",
              "    <tr>\n",
              "      <th>35</th>\n",
              "      <td>1994-10-01</td>\n",
              "      <td>4017.000000</td>\n",
              "      <td>36</td>\n",
              "      <td>8.298291</td>\n",
              "      <td>1296</td>\n",
              "      <td>Oct</td>\n",
              "      <td>1994</td>\n",
              "    </tr>\n",
              "    <tr>\n",
              "      <th>36</th>\n",
              "      <td>1995-01-01</td>\n",
              "      <td>3854.000000</td>\n",
              "      <td>37</td>\n",
              "      <td>8.256867</td>\n",
              "      <td>1369</td>\n",
              "      <td>Jan</td>\n",
              "      <td>1995</td>\n",
              "    </tr>\n",
              "    <tr>\n",
              "      <th>37</th>\n",
              "      <td>1995-04-01</td>\n",
              "      <td>4936.000000</td>\n",
              "      <td>38</td>\n",
              "      <td>8.504311</td>\n",
              "      <td>1444</td>\n",
              "      <td>Apr</td>\n",
              "      <td>1995</td>\n",
              "    </tr>\n",
              "    <tr>\n",
              "      <th>38</th>\n",
              "      <td>1995-07-01</td>\n",
              "      <td>4895.000000</td>\n",
              "      <td>39</td>\n",
              "      <td>8.495970</td>\n",
              "      <td>1521</td>\n",
              "      <td>Jul</td>\n",
              "      <td>1995</td>\n",
              "    </tr>\n",
              "    <tr>\n",
              "      <th>39</th>\n",
              "      <td>1995-10-01</td>\n",
              "      <td>4333.000000</td>\n",
              "      <td>40</td>\n",
              "      <td>8.374015</td>\n",
              "      <td>1600</td>\n",
              "      <td>Oct</td>\n",
              "      <td>1995</td>\n",
              "    </tr>\n",
              "    <tr>\n",
              "      <th>40</th>\n",
              "      <td>1996-01-01</td>\n",
              "      <td>4194.000000</td>\n",
              "      <td>41</td>\n",
              "      <td>8.341410</td>\n",
              "      <td>1681</td>\n",
              "      <td>Jan</td>\n",
              "      <td>1996</td>\n",
              "    </tr>\n",
              "    <tr>\n",
              "      <th>41</th>\n",
              "      <td>1996-04-01</td>\n",
              "      <td>5253.000000</td>\n",
              "      <td>42</td>\n",
              "      <td>8.566555</td>\n",
              "      <td>1764</td>\n",
              "      <td>Apr</td>\n",
              "      <td>1996</td>\n",
              "    </tr>\n",
              "  </tbody>\n",
              "</table>\n",
              "</div>"
            ],
            "text/plain": [
              "       period        Sales   t  log(Sales)  t-square month  year\n",
              "0  1986-01-01  1734.827000   1    7.458663         1   Jan  1986\n",
              "1  1986-04-01  2244.960999   2    7.716443         4   Apr  1986\n",
              "2  1986-07-01  2533.804993   3    7.837477         9   Jul  1986\n",
              "3  1986-10-01  2154.962997   4    7.675529        16   Oct  1986\n",
              "4  1987-01-01  1547.818996   5    7.344602        25   Jan  1987\n",
              "5  1987-04-01  2104.411995   6    7.651791        36   Apr  1987\n",
              "6  1987-07-01  2014.362999   7    7.608058        49   Jul  1987\n",
              "7  1987-10-01  1991.746998   8    7.596767        64   Oct  1987\n",
              "8  1988-01-01  1869.049999   9    7.533186        81   Jan  1988\n",
              "9  1988-04-01  2313.631996  10    7.746574       100   Apr  1988\n",
              "10 1988-07-01  2128.320000  11    7.663088       121   Jul  1988\n",
              "11 1988-10-01  2026.828999  12    7.614228       144   Oct  1988\n",
              "12 1989-01-01  1910.603996  13    7.555175       169   Jan  1989\n",
              "13 1989-04-01  2331.164993  14    7.754123       196   Apr  1989\n",
              "14 1989-07-01  2206.549995  15    7.699185       225   Jul  1989\n",
              "15 1989-10-01  2173.967995  16    7.684309       256   Oct  1989\n",
              "16 1990-01-01  2148.278000  17    7.672422       289   Jan  1990\n",
              "17 1990-04-01  2739.307999  18    7.915461       324   Apr  1990\n",
              "18 1990-07-01  2792.753998  19    7.934783       361   Jul  1990\n",
              "19 1990-10-01  2556.009995  20    7.846203       400   Oct  1990\n",
              "20 1991-01-01  2480.973999  21    7.816407       441   Jan  1991\n",
              "21 1991-04-01  3039.522995  22    8.019456       484   Apr  1991\n",
              "22 1991-07-01  3172.115997  23    8.062154       529   Jul  1991\n",
              "23 1991-10-01  2879.000999  24    7.965199       576   Oct  1991\n",
              "24 1992-01-01  2772.000000  25    7.927324       625   Jan  1992\n",
              "25 1992-04-01  3550.000000  26    8.174703       676   Apr  1992\n",
              "26 1992-07-01  3508.000000  27    8.162801       729   Jul  1992\n",
              "27 1992-10-01  3243.859993  28    8.084519       784   Oct  1992\n",
              "28 1993-01-01  3056.000000  29    8.024862       841   Jan  1993\n",
              "29 1993-04-01  3899.000000  30    8.268475       900   Apr  1993\n",
              "30 1993-07-01  3629.000000  31    8.196712       961   Jul  1993\n",
              "31 1993-10-01  3373.000000  32    8.123558      1024   Oct  1993\n",
              "32 1994-01-01  3352.000000  33    8.117312      1089   Jan  1994\n",
              "33 1994-04-01  4342.000000  34    8.376090      1156   Apr  1994\n",
              "34 1994-07-01  4461.000000  35    8.403128      1225   Jul  1994\n",
              "35 1994-10-01  4017.000000  36    8.298291      1296   Oct  1994\n",
              "36 1995-01-01  3854.000000  37    8.256867      1369   Jan  1995\n",
              "37 1995-04-01  4936.000000  38    8.504311      1444   Apr  1995\n",
              "38 1995-07-01  4895.000000  39    8.495970      1521   Jul  1995\n",
              "39 1995-10-01  4333.000000  40    8.374015      1600   Oct  1995\n",
              "40 1996-01-01  4194.000000  41    8.341410      1681   Jan  1996\n",
              "41 1996-04-01  5253.000000  42    8.566555      1764   Apr  1996"
            ]
          },
          "metadata": {
            "tags": []
          },
          "execution_count": 198
        }
      ]
    },
    {
      "cell_type": "code",
      "metadata": {
        "colab": {
          "base_uri": "https://localhost:8080/"
        },
        "id": "cS7VJMhLa4vL",
        "outputId": "719bb16c-3db7-4fa8-ecb8-307ac8786414"
      },
      "source": [
        "train"
      ],
      "execution_count": null,
      "outputs": [
        {
          "output_type": "execute_result",
          "data": {
            "text/plain": [
              "0\n",
              "0     1734.827000\n",
              "1     2244.960999\n",
              "2     2533.804993\n",
              "3     2154.962997\n",
              "4     1547.818996\n",
              "5     2104.411995\n",
              "6     2014.362999\n",
              "7     1991.746998\n",
              "8     1869.049999\n",
              "9     2313.631996\n",
              "10    2128.320000\n",
              "11    2026.828999\n",
              "12    1910.603996\n",
              "13    2331.164993\n",
              "14    2206.549995\n",
              "15    2173.967995\n",
              "16    2148.278000\n",
              "17    2739.307999\n",
              "18    2792.753998\n",
              "19    2556.009995\n",
              "20    2480.973999\n",
              "21    3039.522995\n",
              "22    3172.115997\n",
              "23    2879.000999\n",
              "24    2772.000000\n",
              "25    3550.000000\n",
              "26    3508.000000\n",
              "27    3243.859993\n",
              "28    3056.000000\n",
              "29    3899.000000\n",
              "30    3629.000000\n",
              "31    3373.000000\n",
              "Name: 1, dtype: float64"
            ]
          },
          "metadata": {
            "tags": []
          },
          "execution_count": 199
        }
      ]
    },
    {
      "cell_type": "code",
      "metadata": {
        "id": "xgZU9xW9f28e"
      },
      "source": [
        "# load data\n",
        "\n",
        "# prepare data\n",
        "X = train.values\n",
        "X = X.astype('float32')"
      ],
      "execution_count": null,
      "outputs": []
    },
    {
      "cell_type": "code",
      "metadata": {
        "colab": {
          "base_uri": "https://localhost:8080/",
          "height": 513
        },
        "id": "_8OnCxFkf2_w",
        "outputId": "f65cf0b0-6a09-44eb-c7a6-076609d8c00b"
      },
      "source": [
        "# fit model\n",
        "model = ARIMA(X, order=(3,1,0))\n",
        "model_fit = model.fit()\n",
        "forecast=model_fit.forecast(steps=10)[0]\n",
        "model_fit.plot_predict(1, 79)"
      ],
      "execution_count": null,
      "outputs": [
        {
          "output_type": "execute_result",
          "data": {
            "image/png": "[encoded data removed]",
            "text/plain": [
              "<Figure size 432x288 with 1 Axes>"
            ]
          },
          "metadata": {
            "tags": []
          },
          "execution_count": 201
        },
        {
          "output_type": "display_data",
          "data": {
            "image/png": "[encoded data removed]",
            "text/plain": [
              "<Figure size 432x288 with 1 Axes>"
            ]
          },
          "metadata": {
            "tags": [],
            "needs_background": "light"
          }
        }
      ]
    },
    {
      "cell_type": "code",
      "metadata": {
        "colab": {
          "base_uri": "https://localhost:8080/"
        },
        "id": "Uwo8kuyjf3C6",
        "outputId": "4b477dc7-6c04-4252-cbc0-f1f70b193490"
      },
      "source": [
        "#Error on the test data\n",
        "val=pd.read_csv('validation.csv',header=None)\n",
        "rmse =sqrt(mean_squared_error(val[1], forecast))\n",
        "rmse"
      ],
      "execution_count": null,
      "outputs": [
        {
          "output_type": "execute_result",
          "data": {
            "text/plain": [
              "631.6626362641357"
            ]
          },
          "metadata": {
            "tags": []
          },
          "execution_count": 209
        }
      ]
    },
    {
      "cell_type": "markdown",
      "metadata": {
        "id": "y-TZJj-4pYoo"
      },
      "source": [
        "Inference*:Comparing the root mean square error,the least rmse 387  is obtained with Persistence/ Base  Naive's model"
      ]
    },
    {
      "cell_type": "code",
      "metadata": {
        "id": "Ifl86ThLcgu4"
      },
      "source": [
        ""
      ],
      "execution_count": null,
      "outputs": []
    }
  ]
}